{
  "nbformat": 4,
  "nbformat_minor": 0,
  "metadata": {
    "colab": {
      "provenance": [],
      "gpuType": "L4",
      "machine_shape": "hm"
    },
    "kernelspec": {
      "name": "python3",
      "display_name": "Python 3"
    },
    "language_info": {
      "name": "python"
    },
    "widgets": {
      "application/vnd.jupyter.widget-state+json": {
        "31b18a4271474ab89e8a8a327ce84210": {
          "model_module": "@jupyter-widgets/controls",
          "model_name": "HBoxModel",
          "model_module_version": "1.5.0",
          "state": {
            "_dom_classes": [],
            "_model_module": "@jupyter-widgets/controls",
            "_model_module_version": "1.5.0",
            "_model_name": "HBoxModel",
            "_view_count": null,
            "_view_module": "@jupyter-widgets/controls",
            "_view_module_version": "1.5.0",
            "_view_name": "HBoxView",
            "box_style": "",
            "children": [
              "IPY_MODEL_42cdbbe7b77e469bbea83e72c6ba42e1",
              "IPY_MODEL_454e9b87012545879ae7d12224673236",
              "IPY_MODEL_d9715058ddaf4878bd9a67bc4df2cfa0"
            ],
            "layout": "IPY_MODEL_2dfc39cca07b475cb05573cd524b2203"
          }
        },
        "42cdbbe7b77e469bbea83e72c6ba42e1": {
          "model_module": "@jupyter-widgets/controls",
          "model_name": "HTMLModel",
          "model_module_version": "1.5.0",
          "state": {
            "_dom_classes": [],
            "_model_module": "@jupyter-widgets/controls",
            "_model_module_version": "1.5.0",
            "_model_name": "HTMLModel",
            "_view_count": null,
            "_view_module": "@jupyter-widgets/controls",
            "_view_module_version": "1.5.0",
            "_view_name": "HTMLView",
            "description": "",
            "description_tooltip": null,
            "layout": "IPY_MODEL_03735ea6a6094952a4aae908f620ba3e",
            "placeholder": "​",
            "style": "IPY_MODEL_9b485ee5d5d646cf97885571f4b45a5a",
            "value": "tokenizer_config.json: 100%"
          }
        },
        "454e9b87012545879ae7d12224673236": {
          "model_module": "@jupyter-widgets/controls",
          "model_name": "FloatProgressModel",
          "model_module_version": "1.5.0",
          "state": {
            "_dom_classes": [],
            "_model_module": "@jupyter-widgets/controls",
            "_model_module_version": "1.5.0",
            "_model_name": "FloatProgressModel",
            "_view_count": null,
            "_view_module": "@jupyter-widgets/controls",
            "_view_module_version": "1.5.0",
            "_view_name": "ProgressView",
            "bar_style": "success",
            "description": "",
            "description_tooltip": null,
            "layout": "IPY_MODEL_caea851c8dc648c9a35acbedfa4df5e3",
            "max": 48,
            "min": 0,
            "orientation": "horizontal",
            "style": "IPY_MODEL_b61a5d05e5e64a7898609209bbf72e80",
            "value": 48
          }
        },
        "d9715058ddaf4878bd9a67bc4df2cfa0": {
          "model_module": "@jupyter-widgets/controls",
          "model_name": "HTMLModel",
          "model_module_version": "1.5.0",
          "state": {
            "_dom_classes": [],
            "_model_module": "@jupyter-widgets/controls",
            "_model_module_version": "1.5.0",
            "_model_name": "HTMLModel",
            "_view_count": null,
            "_view_module": "@jupyter-widgets/controls",
            "_view_module_version": "1.5.0",
            "_view_name": "HTMLView",
            "description": "",
            "description_tooltip": null,
            "layout": "IPY_MODEL_7d63d15f7063411ba5c183445f107642",
            "placeholder": "​",
            "style": "IPY_MODEL_1a33f51c7dc54527953b28b4f6b537d2",
            "value": " 48.0/48.0 [00:00&lt;00:00, 4.31kB/s]"
          }
        },
        "2dfc39cca07b475cb05573cd524b2203": {
          "model_module": "@jupyter-widgets/base",
          "model_name": "LayoutModel",
          "model_module_version": "1.2.0",
          "state": {
            "_model_module": "@jupyter-widgets/base",
            "_model_module_version": "1.2.0",
            "_model_name": "LayoutModel",
            "_view_count": null,
            "_view_module": "@jupyter-widgets/base",
            "_view_module_version": "1.2.0",
            "_view_name": "LayoutView",
            "align_content": null,
            "align_items": null,
            "align_self": null,
            "border": null,
            "bottom": null,
            "display": null,
            "flex": null,
            "flex_flow": null,
            "grid_area": null,
            "grid_auto_columns": null,
            "grid_auto_flow": null,
            "grid_auto_rows": null,
            "grid_column": null,
            "grid_gap": null,
            "grid_row": null,
            "grid_template_areas": null,
            "grid_template_columns": null,
            "grid_template_rows": null,
            "height": null,
            "justify_content": null,
            "justify_items": null,
            "left": null,
            "margin": null,
            "max_height": null,
            "max_width": null,
            "min_height": null,
            "min_width": null,
            "object_fit": null,
            "object_position": null,
            "order": null,
            "overflow": null,
            "overflow_x": null,
            "overflow_y": null,
            "padding": null,
            "right": null,
            "top": null,
            "visibility": null,
            "width": null
          }
        },
        "03735ea6a6094952a4aae908f620ba3e": {
          "model_module": "@jupyter-widgets/base",
          "model_name": "LayoutModel",
          "model_module_version": "1.2.0",
          "state": {
            "_model_module": "@jupyter-widgets/base",
            "_model_module_version": "1.2.0",
            "_model_name": "LayoutModel",
            "_view_count": null,
            "_view_module": "@jupyter-widgets/base",
            "_view_module_version": "1.2.0",
            "_view_name": "LayoutView",
            "align_content": null,
            "align_items": null,
            "align_self": null,
            "border": null,
            "bottom": null,
            "display": null,
            "flex": null,
            "flex_flow": null,
            "grid_area": null,
            "grid_auto_columns": null,
            "grid_auto_flow": null,
            "grid_auto_rows": null,
            "grid_column": null,
            "grid_gap": null,
            "grid_row": null,
            "grid_template_areas": null,
            "grid_template_columns": null,
            "grid_template_rows": null,
            "height": null,
            "justify_content": null,
            "justify_items": null,
            "left": null,
            "margin": null,
            "max_height": null,
            "max_width": null,
            "min_height": null,
            "min_width": null,
            "object_fit": null,
            "object_position": null,
            "order": null,
            "overflow": null,
            "overflow_x": null,
            "overflow_y": null,
            "padding": null,
            "right": null,
            "top": null,
            "visibility": null,
            "width": null
          }
        },
        "9b485ee5d5d646cf97885571f4b45a5a": {
          "model_module": "@jupyter-widgets/controls",
          "model_name": "DescriptionStyleModel",
          "model_module_version": "1.5.0",
          "state": {
            "_model_module": "@jupyter-widgets/controls",
            "_model_module_version": "1.5.0",
            "_model_name": "DescriptionStyleModel",
            "_view_count": null,
            "_view_module": "@jupyter-widgets/base",
            "_view_module_version": "1.2.0",
            "_view_name": "StyleView",
            "description_width": ""
          }
        },
        "caea851c8dc648c9a35acbedfa4df5e3": {
          "model_module": "@jupyter-widgets/base",
          "model_name": "LayoutModel",
          "model_module_version": "1.2.0",
          "state": {
            "_model_module": "@jupyter-widgets/base",
            "_model_module_version": "1.2.0",
            "_model_name": "LayoutModel",
            "_view_count": null,
            "_view_module": "@jupyter-widgets/base",
            "_view_module_version": "1.2.0",
            "_view_name": "LayoutView",
            "align_content": null,
            "align_items": null,
            "align_self": null,
            "border": null,
            "bottom": null,
            "display": null,
            "flex": null,
            "flex_flow": null,
            "grid_area": null,
            "grid_auto_columns": null,
            "grid_auto_flow": null,
            "grid_auto_rows": null,
            "grid_column": null,
            "grid_gap": null,
            "grid_row": null,
            "grid_template_areas": null,
            "grid_template_columns": null,
            "grid_template_rows": null,
            "height": null,
            "justify_content": null,
            "justify_items": null,
            "left": null,
            "margin": null,
            "max_height": null,
            "max_width": null,
            "min_height": null,
            "min_width": null,
            "object_fit": null,
            "object_position": null,
            "order": null,
            "overflow": null,
            "overflow_x": null,
            "overflow_y": null,
            "padding": null,
            "right": null,
            "top": null,
            "visibility": null,
            "width": null
          }
        },
        "b61a5d05e5e64a7898609209bbf72e80": {
          "model_module": "@jupyter-widgets/controls",
          "model_name": "ProgressStyleModel",
          "model_module_version": "1.5.0",
          "state": {
            "_model_module": "@jupyter-widgets/controls",
            "_model_module_version": "1.5.0",
            "_model_name": "ProgressStyleModel",
            "_view_count": null,
            "_view_module": "@jupyter-widgets/base",
            "_view_module_version": "1.2.0",
            "_view_name": "StyleView",
            "bar_color": null,
            "description_width": ""
          }
        },
        "7d63d15f7063411ba5c183445f107642": {
          "model_module": "@jupyter-widgets/base",
          "model_name": "LayoutModel",
          "model_module_version": "1.2.0",
          "state": {
            "_model_module": "@jupyter-widgets/base",
            "_model_module_version": "1.2.0",
            "_model_name": "LayoutModel",
            "_view_count": null,
            "_view_module": "@jupyter-widgets/base",
            "_view_module_version": "1.2.0",
            "_view_name": "LayoutView",
            "align_content": null,
            "align_items": null,
            "align_self": null,
            "border": null,
            "bottom": null,
            "display": null,
            "flex": null,
            "flex_flow": null,
            "grid_area": null,
            "grid_auto_columns": null,
            "grid_auto_flow": null,
            "grid_auto_rows": null,
            "grid_column": null,
            "grid_gap": null,
            "grid_row": null,
            "grid_template_areas": null,
            "grid_template_columns": null,
            "grid_template_rows": null,
            "height": null,
            "justify_content": null,
            "justify_items": null,
            "left": null,
            "margin": null,
            "max_height": null,
            "max_width": null,
            "min_height": null,
            "min_width": null,
            "object_fit": null,
            "object_position": null,
            "order": null,
            "overflow": null,
            "overflow_x": null,
            "overflow_y": null,
            "padding": null,
            "right": null,
            "top": null,
            "visibility": null,
            "width": null
          }
        },
        "1a33f51c7dc54527953b28b4f6b537d2": {
          "model_module": "@jupyter-widgets/controls",
          "model_name": "DescriptionStyleModel",
          "model_module_version": "1.5.0",
          "state": {
            "_model_module": "@jupyter-widgets/controls",
            "_model_module_version": "1.5.0",
            "_model_name": "DescriptionStyleModel",
            "_view_count": null,
            "_view_module": "@jupyter-widgets/base",
            "_view_module_version": "1.2.0",
            "_view_name": "StyleView",
            "description_width": ""
          }
        },
        "bd4278beb1b040729976ea55a70352a4": {
          "model_module": "@jupyter-widgets/controls",
          "model_name": "HBoxModel",
          "model_module_version": "1.5.0",
          "state": {
            "_dom_classes": [],
            "_model_module": "@jupyter-widgets/controls",
            "_model_module_version": "1.5.0",
            "_model_name": "HBoxModel",
            "_view_count": null,
            "_view_module": "@jupyter-widgets/controls",
            "_view_module_version": "1.5.0",
            "_view_name": "HBoxView",
            "box_style": "",
            "children": [
              "IPY_MODEL_bed9434a561b47b8b45769f0b9265ca4",
              "IPY_MODEL_a349eacab84b421cb7637dc822834a35",
              "IPY_MODEL_7e6db6bea5ae4e1aa5330013ad679c92"
            ],
            "layout": "IPY_MODEL_02368f11aa76403d9b32c7def994cd2c"
          }
        },
        "bed9434a561b47b8b45769f0b9265ca4": {
          "model_module": "@jupyter-widgets/controls",
          "model_name": "HTMLModel",
          "model_module_version": "1.5.0",
          "state": {
            "_dom_classes": [],
            "_model_module": "@jupyter-widgets/controls",
            "_model_module_version": "1.5.0",
            "_model_name": "HTMLModel",
            "_view_count": null,
            "_view_module": "@jupyter-widgets/controls",
            "_view_module_version": "1.5.0",
            "_view_name": "HTMLView",
            "description": "",
            "description_tooltip": null,
            "layout": "IPY_MODEL_592d06a3fe1f4c608f1d3936e6ead6ae",
            "placeholder": "​",
            "style": "IPY_MODEL_f4b50cfdf3ed4e9f83d42d239db8511b",
            "value": "vocab.txt: 100%"
          }
        },
        "a349eacab84b421cb7637dc822834a35": {
          "model_module": "@jupyter-widgets/controls",
          "model_name": "FloatProgressModel",
          "model_module_version": "1.5.0",
          "state": {
            "_dom_classes": [],
            "_model_module": "@jupyter-widgets/controls",
            "_model_module_version": "1.5.0",
            "_model_name": "FloatProgressModel",
            "_view_count": null,
            "_view_module": "@jupyter-widgets/controls",
            "_view_module_version": "1.5.0",
            "_view_name": "ProgressView",
            "bar_style": "success",
            "description": "",
            "description_tooltip": null,
            "layout": "IPY_MODEL_a60ee32290c447d8a42051ec2e709d3b",
            "max": 231508,
            "min": 0,
            "orientation": "horizontal",
            "style": "IPY_MODEL_374924c1f0524d2dba9c25950b49960f",
            "value": 231508
          }
        },
        "7e6db6bea5ae4e1aa5330013ad679c92": {
          "model_module": "@jupyter-widgets/controls",
          "model_name": "HTMLModel",
          "model_module_version": "1.5.0",
          "state": {
            "_dom_classes": [],
            "_model_module": "@jupyter-widgets/controls",
            "_model_module_version": "1.5.0",
            "_model_name": "HTMLModel",
            "_view_count": null,
            "_view_module": "@jupyter-widgets/controls",
            "_view_module_version": "1.5.0",
            "_view_name": "HTMLView",
            "description": "",
            "description_tooltip": null,
            "layout": "IPY_MODEL_9ba905947115403198ba580c7e9474eb",
            "placeholder": "​",
            "style": "IPY_MODEL_e83c9093fce847b792d738c5fd856fc3",
            "value": " 232k/232k [00:00&lt;00:00, 11.0MB/s]"
          }
        },
        "02368f11aa76403d9b32c7def994cd2c": {
          "model_module": "@jupyter-widgets/base",
          "model_name": "LayoutModel",
          "model_module_version": "1.2.0",
          "state": {
            "_model_module": "@jupyter-widgets/base",
            "_model_module_version": "1.2.0",
            "_model_name": "LayoutModel",
            "_view_count": null,
            "_view_module": "@jupyter-widgets/base",
            "_view_module_version": "1.2.0",
            "_view_name": "LayoutView",
            "align_content": null,
            "align_items": null,
            "align_self": null,
            "border": null,
            "bottom": null,
            "display": null,
            "flex": null,
            "flex_flow": null,
            "grid_area": null,
            "grid_auto_columns": null,
            "grid_auto_flow": null,
            "grid_auto_rows": null,
            "grid_column": null,
            "grid_gap": null,
            "grid_row": null,
            "grid_template_areas": null,
            "grid_template_columns": null,
            "grid_template_rows": null,
            "height": null,
            "justify_content": null,
            "justify_items": null,
            "left": null,
            "margin": null,
            "max_height": null,
            "max_width": null,
            "min_height": null,
            "min_width": null,
            "object_fit": null,
            "object_position": null,
            "order": null,
            "overflow": null,
            "overflow_x": null,
            "overflow_y": null,
            "padding": null,
            "right": null,
            "top": null,
            "visibility": null,
            "width": null
          }
        },
        "592d06a3fe1f4c608f1d3936e6ead6ae": {
          "model_module": "@jupyter-widgets/base",
          "model_name": "LayoutModel",
          "model_module_version": "1.2.0",
          "state": {
            "_model_module": "@jupyter-widgets/base",
            "_model_module_version": "1.2.0",
            "_model_name": "LayoutModel",
            "_view_count": null,
            "_view_module": "@jupyter-widgets/base",
            "_view_module_version": "1.2.0",
            "_view_name": "LayoutView",
            "align_content": null,
            "align_items": null,
            "align_self": null,
            "border": null,
            "bottom": null,
            "display": null,
            "flex": null,
            "flex_flow": null,
            "grid_area": null,
            "grid_auto_columns": null,
            "grid_auto_flow": null,
            "grid_auto_rows": null,
            "grid_column": null,
            "grid_gap": null,
            "grid_row": null,
            "grid_template_areas": null,
            "grid_template_columns": null,
            "grid_template_rows": null,
            "height": null,
            "justify_content": null,
            "justify_items": null,
            "left": null,
            "margin": null,
            "max_height": null,
            "max_width": null,
            "min_height": null,
            "min_width": null,
            "object_fit": null,
            "object_position": null,
            "order": null,
            "overflow": null,
            "overflow_x": null,
            "overflow_y": null,
            "padding": null,
            "right": null,
            "top": null,
            "visibility": null,
            "width": null
          }
        },
        "f4b50cfdf3ed4e9f83d42d239db8511b": {
          "model_module": "@jupyter-widgets/controls",
          "model_name": "DescriptionStyleModel",
          "model_module_version": "1.5.0",
          "state": {
            "_model_module": "@jupyter-widgets/controls",
            "_model_module_version": "1.5.0",
            "_model_name": "DescriptionStyleModel",
            "_view_count": null,
            "_view_module": "@jupyter-widgets/base",
            "_view_module_version": "1.2.0",
            "_view_name": "StyleView",
            "description_width": ""
          }
        },
        "a60ee32290c447d8a42051ec2e709d3b": {
          "model_module": "@jupyter-widgets/base",
          "model_name": "LayoutModel",
          "model_module_version": "1.2.0",
          "state": {
            "_model_module": "@jupyter-widgets/base",
            "_model_module_version": "1.2.0",
            "_model_name": "LayoutModel",
            "_view_count": null,
            "_view_module": "@jupyter-widgets/base",
            "_view_module_version": "1.2.0",
            "_view_name": "LayoutView",
            "align_content": null,
            "align_items": null,
            "align_self": null,
            "border": null,
            "bottom": null,
            "display": null,
            "flex": null,
            "flex_flow": null,
            "grid_area": null,
            "grid_auto_columns": null,
            "grid_auto_flow": null,
            "grid_auto_rows": null,
            "grid_column": null,
            "grid_gap": null,
            "grid_row": null,
            "grid_template_areas": null,
            "grid_template_columns": null,
            "grid_template_rows": null,
            "height": null,
            "justify_content": null,
            "justify_items": null,
            "left": null,
            "margin": null,
            "max_height": null,
            "max_width": null,
            "min_height": null,
            "min_width": null,
            "object_fit": null,
            "object_position": null,
            "order": null,
            "overflow": null,
            "overflow_x": null,
            "overflow_y": null,
            "padding": null,
            "right": null,
            "top": null,
            "visibility": null,
            "width": null
          }
        },
        "374924c1f0524d2dba9c25950b49960f": {
          "model_module": "@jupyter-widgets/controls",
          "model_name": "ProgressStyleModel",
          "model_module_version": "1.5.0",
          "state": {
            "_model_module": "@jupyter-widgets/controls",
            "_model_module_version": "1.5.0",
            "_model_name": "ProgressStyleModel",
            "_view_count": null,
            "_view_module": "@jupyter-widgets/base",
            "_view_module_version": "1.2.0",
            "_view_name": "StyleView",
            "bar_color": null,
            "description_width": ""
          }
        },
        "9ba905947115403198ba580c7e9474eb": {
          "model_module": "@jupyter-widgets/base",
          "model_name": "LayoutModel",
          "model_module_version": "1.2.0",
          "state": {
            "_model_module": "@jupyter-widgets/base",
            "_model_module_version": "1.2.0",
            "_model_name": "LayoutModel",
            "_view_count": null,
            "_view_module": "@jupyter-widgets/base",
            "_view_module_version": "1.2.0",
            "_view_name": "LayoutView",
            "align_content": null,
            "align_items": null,
            "align_self": null,
            "border": null,
            "bottom": null,
            "display": null,
            "flex": null,
            "flex_flow": null,
            "grid_area": null,
            "grid_auto_columns": null,
            "grid_auto_flow": null,
            "grid_auto_rows": null,
            "grid_column": null,
            "grid_gap": null,
            "grid_row": null,
            "grid_template_areas": null,
            "grid_template_columns": null,
            "grid_template_rows": null,
            "height": null,
            "justify_content": null,
            "justify_items": null,
            "left": null,
            "margin": null,
            "max_height": null,
            "max_width": null,
            "min_height": null,
            "min_width": null,
            "object_fit": null,
            "object_position": null,
            "order": null,
            "overflow": null,
            "overflow_x": null,
            "overflow_y": null,
            "padding": null,
            "right": null,
            "top": null,
            "visibility": null,
            "width": null
          }
        },
        "e83c9093fce847b792d738c5fd856fc3": {
          "model_module": "@jupyter-widgets/controls",
          "model_name": "DescriptionStyleModel",
          "model_module_version": "1.5.0",
          "state": {
            "_model_module": "@jupyter-widgets/controls",
            "_model_module_version": "1.5.0",
            "_model_name": "DescriptionStyleModel",
            "_view_count": null,
            "_view_module": "@jupyter-widgets/base",
            "_view_module_version": "1.2.0",
            "_view_name": "StyleView",
            "description_width": ""
          }
        },
        "9d417fed41494f8d91c2dd17ea3bb8bf": {
          "model_module": "@jupyter-widgets/controls",
          "model_name": "HBoxModel",
          "model_module_version": "1.5.0",
          "state": {
            "_dom_classes": [],
            "_model_module": "@jupyter-widgets/controls",
            "_model_module_version": "1.5.0",
            "_model_name": "HBoxModel",
            "_view_count": null,
            "_view_module": "@jupyter-widgets/controls",
            "_view_module_version": "1.5.0",
            "_view_name": "HBoxView",
            "box_style": "",
            "children": [
              "IPY_MODEL_377788b15f6a4ece99c41ffb22fc6b3f",
              "IPY_MODEL_e047a23efc4a43378f8d9e6266608547",
              "IPY_MODEL_1f7507808f6241e6a055e6a1b3d75c37"
            ],
            "layout": "IPY_MODEL_ac67ce304402411ba413307d905b8a18"
          }
        },
        "377788b15f6a4ece99c41ffb22fc6b3f": {
          "model_module": "@jupyter-widgets/controls",
          "model_name": "HTMLModel",
          "model_module_version": "1.5.0",
          "state": {
            "_dom_classes": [],
            "_model_module": "@jupyter-widgets/controls",
            "_model_module_version": "1.5.0",
            "_model_name": "HTMLModel",
            "_view_count": null,
            "_view_module": "@jupyter-widgets/controls",
            "_view_module_version": "1.5.0",
            "_view_name": "HTMLView",
            "description": "",
            "description_tooltip": null,
            "layout": "IPY_MODEL_886a9add12824b43893fd21bdf014d5f",
            "placeholder": "​",
            "style": "IPY_MODEL_31afc6770422455987c225223b452139",
            "value": "tokenizer.json: 100%"
          }
        },
        "e047a23efc4a43378f8d9e6266608547": {
          "model_module": "@jupyter-widgets/controls",
          "model_name": "FloatProgressModel",
          "model_module_version": "1.5.0",
          "state": {
            "_dom_classes": [],
            "_model_module": "@jupyter-widgets/controls",
            "_model_module_version": "1.5.0",
            "_model_name": "FloatProgressModel",
            "_view_count": null,
            "_view_module": "@jupyter-widgets/controls",
            "_view_module_version": "1.5.0",
            "_view_name": "ProgressView",
            "bar_style": "success",
            "description": "",
            "description_tooltip": null,
            "layout": "IPY_MODEL_b7723ebd9dc940f0a374e9c2bfbd4979",
            "max": 466062,
            "min": 0,
            "orientation": "horizontal",
            "style": "IPY_MODEL_44ad3de7f1eb40b696e1aed120868e63",
            "value": 466062
          }
        },
        "1f7507808f6241e6a055e6a1b3d75c37": {
          "model_module": "@jupyter-widgets/controls",
          "model_name": "HTMLModel",
          "model_module_version": "1.5.0",
          "state": {
            "_dom_classes": [],
            "_model_module": "@jupyter-widgets/controls",
            "_model_module_version": "1.5.0",
            "_model_name": "HTMLModel",
            "_view_count": null,
            "_view_module": "@jupyter-widgets/controls",
            "_view_module_version": "1.5.0",
            "_view_name": "HTMLView",
            "description": "",
            "description_tooltip": null,
            "layout": "IPY_MODEL_5322ba320d00495cba6a9a74154c9877",
            "placeholder": "​",
            "style": "IPY_MODEL_7fd7be426ce74d2fbfeadd679deab8e8",
            "value": " 466k/466k [00:00&lt;00:00, 20.6MB/s]"
          }
        },
        "ac67ce304402411ba413307d905b8a18": {
          "model_module": "@jupyter-widgets/base",
          "model_name": "LayoutModel",
          "model_module_version": "1.2.0",
          "state": {
            "_model_module": "@jupyter-widgets/base",
            "_model_module_version": "1.2.0",
            "_model_name": "LayoutModel",
            "_view_count": null,
            "_view_module": "@jupyter-widgets/base",
            "_view_module_version": "1.2.0",
            "_view_name": "LayoutView",
            "align_content": null,
            "align_items": null,
            "align_self": null,
            "border": null,
            "bottom": null,
            "display": null,
            "flex": null,
            "flex_flow": null,
            "grid_area": null,
            "grid_auto_columns": null,
            "grid_auto_flow": null,
            "grid_auto_rows": null,
            "grid_column": null,
            "grid_gap": null,
            "grid_row": null,
            "grid_template_areas": null,
            "grid_template_columns": null,
            "grid_template_rows": null,
            "height": null,
            "justify_content": null,
            "justify_items": null,
            "left": null,
            "margin": null,
            "max_height": null,
            "max_width": null,
            "min_height": null,
            "min_width": null,
            "object_fit": null,
            "object_position": null,
            "order": null,
            "overflow": null,
            "overflow_x": null,
            "overflow_y": null,
            "padding": null,
            "right": null,
            "top": null,
            "visibility": null,
            "width": null
          }
        },
        "886a9add12824b43893fd21bdf014d5f": {
          "model_module": "@jupyter-widgets/base",
          "model_name": "LayoutModel",
          "model_module_version": "1.2.0",
          "state": {
            "_model_module": "@jupyter-widgets/base",
            "_model_module_version": "1.2.0",
            "_model_name": "LayoutModel",
            "_view_count": null,
            "_view_module": "@jupyter-widgets/base",
            "_view_module_version": "1.2.0",
            "_view_name": "LayoutView",
            "align_content": null,
            "align_items": null,
            "align_self": null,
            "border": null,
            "bottom": null,
            "display": null,
            "flex": null,
            "flex_flow": null,
            "grid_area": null,
            "grid_auto_columns": null,
            "grid_auto_flow": null,
            "grid_auto_rows": null,
            "grid_column": null,
            "grid_gap": null,
            "grid_row": null,
            "grid_template_areas": null,
            "grid_template_columns": null,
            "grid_template_rows": null,
            "height": null,
            "justify_content": null,
            "justify_items": null,
            "left": null,
            "margin": null,
            "max_height": null,
            "max_width": null,
            "min_height": null,
            "min_width": null,
            "object_fit": null,
            "object_position": null,
            "order": null,
            "overflow": null,
            "overflow_x": null,
            "overflow_y": null,
            "padding": null,
            "right": null,
            "top": null,
            "visibility": null,
            "width": null
          }
        },
        "31afc6770422455987c225223b452139": {
          "model_module": "@jupyter-widgets/controls",
          "model_name": "DescriptionStyleModel",
          "model_module_version": "1.5.0",
          "state": {
            "_model_module": "@jupyter-widgets/controls",
            "_model_module_version": "1.5.0",
            "_model_name": "DescriptionStyleModel",
            "_view_count": null,
            "_view_module": "@jupyter-widgets/base",
            "_view_module_version": "1.2.0",
            "_view_name": "StyleView",
            "description_width": ""
          }
        },
        "b7723ebd9dc940f0a374e9c2bfbd4979": {
          "model_module": "@jupyter-widgets/base",
          "model_name": "LayoutModel",
          "model_module_version": "1.2.0",
          "state": {
            "_model_module": "@jupyter-widgets/base",
            "_model_module_version": "1.2.0",
            "_model_name": "LayoutModel",
            "_view_count": null,
            "_view_module": "@jupyter-widgets/base",
            "_view_module_version": "1.2.0",
            "_view_name": "LayoutView",
            "align_content": null,
            "align_items": null,
            "align_self": null,
            "border": null,
            "bottom": null,
            "display": null,
            "flex": null,
            "flex_flow": null,
            "grid_area": null,
            "grid_auto_columns": null,
            "grid_auto_flow": null,
            "grid_auto_rows": null,
            "grid_column": null,
            "grid_gap": null,
            "grid_row": null,
            "grid_template_areas": null,
            "grid_template_columns": null,
            "grid_template_rows": null,
            "height": null,
            "justify_content": null,
            "justify_items": null,
            "left": null,
            "margin": null,
            "max_height": null,
            "max_width": null,
            "min_height": null,
            "min_width": null,
            "object_fit": null,
            "object_position": null,
            "order": null,
            "overflow": null,
            "overflow_x": null,
            "overflow_y": null,
            "padding": null,
            "right": null,
            "top": null,
            "visibility": null,
            "width": null
          }
        },
        "44ad3de7f1eb40b696e1aed120868e63": {
          "model_module": "@jupyter-widgets/controls",
          "model_name": "ProgressStyleModel",
          "model_module_version": "1.5.0",
          "state": {
            "_model_module": "@jupyter-widgets/controls",
            "_model_module_version": "1.5.0",
            "_model_name": "ProgressStyleModel",
            "_view_count": null,
            "_view_module": "@jupyter-widgets/base",
            "_view_module_version": "1.2.0",
            "_view_name": "StyleView",
            "bar_color": null,
            "description_width": ""
          }
        },
        "5322ba320d00495cba6a9a74154c9877": {
          "model_module": "@jupyter-widgets/base",
          "model_name": "LayoutModel",
          "model_module_version": "1.2.0",
          "state": {
            "_model_module": "@jupyter-widgets/base",
            "_model_module_version": "1.2.0",
            "_model_name": "LayoutModel",
            "_view_count": null,
            "_view_module": "@jupyter-widgets/base",
            "_view_module_version": "1.2.0",
            "_view_name": "LayoutView",
            "align_content": null,
            "align_items": null,
            "align_self": null,
            "border": null,
            "bottom": null,
            "display": null,
            "flex": null,
            "flex_flow": null,
            "grid_area": null,
            "grid_auto_columns": null,
            "grid_auto_flow": null,
            "grid_auto_rows": null,
            "grid_column": null,
            "grid_gap": null,
            "grid_row": null,
            "grid_template_areas": null,
            "grid_template_columns": null,
            "grid_template_rows": null,
            "height": null,
            "justify_content": null,
            "justify_items": null,
            "left": null,
            "margin": null,
            "max_height": null,
            "max_width": null,
            "min_height": null,
            "min_width": null,
            "object_fit": null,
            "object_position": null,
            "order": null,
            "overflow": null,
            "overflow_x": null,
            "overflow_y": null,
            "padding": null,
            "right": null,
            "top": null,
            "visibility": null,
            "width": null
          }
        },
        "7fd7be426ce74d2fbfeadd679deab8e8": {
          "model_module": "@jupyter-widgets/controls",
          "model_name": "DescriptionStyleModel",
          "model_module_version": "1.5.0",
          "state": {
            "_model_module": "@jupyter-widgets/controls",
            "_model_module_version": "1.5.0",
            "_model_name": "DescriptionStyleModel",
            "_view_count": null,
            "_view_module": "@jupyter-widgets/base",
            "_view_module_version": "1.2.0",
            "_view_name": "StyleView",
            "description_width": ""
          }
        },
        "19b59c8ef85149509a9dbbd099744ade": {
          "model_module": "@jupyter-widgets/controls",
          "model_name": "HBoxModel",
          "model_module_version": "1.5.0",
          "state": {
            "_dom_classes": [],
            "_model_module": "@jupyter-widgets/controls",
            "_model_module_version": "1.5.0",
            "_model_name": "HBoxModel",
            "_view_count": null,
            "_view_module": "@jupyter-widgets/controls",
            "_view_module_version": "1.5.0",
            "_view_name": "HBoxView",
            "box_style": "",
            "children": [
              "IPY_MODEL_76e5220ed5ed41ffad7b42f9d2441dd5",
              "IPY_MODEL_3dabc1c6392e438c80a966350f7c6df1",
              "IPY_MODEL_3e641e186563483cbaa7948bbb4a2187"
            ],
            "layout": "IPY_MODEL_e6e05e805c9e4d7db2f77ec856b3b7b7"
          }
        },
        "76e5220ed5ed41ffad7b42f9d2441dd5": {
          "model_module": "@jupyter-widgets/controls",
          "model_name": "HTMLModel",
          "model_module_version": "1.5.0",
          "state": {
            "_dom_classes": [],
            "_model_module": "@jupyter-widgets/controls",
            "_model_module_version": "1.5.0",
            "_model_name": "HTMLModel",
            "_view_count": null,
            "_view_module": "@jupyter-widgets/controls",
            "_view_module_version": "1.5.0",
            "_view_name": "HTMLView",
            "description": "",
            "description_tooltip": null,
            "layout": "IPY_MODEL_06b903176cf9486d8385d74c66941f6f",
            "placeholder": "​",
            "style": "IPY_MODEL_212fc081dfb749b38094fbf7b2dae574",
            "value": "config.json: 100%"
          }
        },
        "3dabc1c6392e438c80a966350f7c6df1": {
          "model_module": "@jupyter-widgets/controls",
          "model_name": "FloatProgressModel",
          "model_module_version": "1.5.0",
          "state": {
            "_dom_classes": [],
            "_model_module": "@jupyter-widgets/controls",
            "_model_module_version": "1.5.0",
            "_model_name": "FloatProgressModel",
            "_view_count": null,
            "_view_module": "@jupyter-widgets/controls",
            "_view_module_version": "1.5.0",
            "_view_name": "ProgressView",
            "bar_style": "success",
            "description": "",
            "description_tooltip": null,
            "layout": "IPY_MODEL_a72b4b831b4349379eaa3e42ecf6fb34",
            "max": 483,
            "min": 0,
            "orientation": "horizontal",
            "style": "IPY_MODEL_615cb0386ec9445296102b46e5a2b061",
            "value": 483
          }
        },
        "3e641e186563483cbaa7948bbb4a2187": {
          "model_module": "@jupyter-widgets/controls",
          "model_name": "HTMLModel",
          "model_module_version": "1.5.0",
          "state": {
            "_dom_classes": [],
            "_model_module": "@jupyter-widgets/controls",
            "_model_module_version": "1.5.0",
            "_model_name": "HTMLModel",
            "_view_count": null,
            "_view_module": "@jupyter-widgets/controls",
            "_view_module_version": "1.5.0",
            "_view_name": "HTMLView",
            "description": "",
            "description_tooltip": null,
            "layout": "IPY_MODEL_8f2c6ab801fa473da75ec147937547c2",
            "placeholder": "​",
            "style": "IPY_MODEL_21846c20448349b6994bdea93d7d3215",
            "value": " 483/483 [00:00&lt;00:00, 44.8kB/s]"
          }
        },
        "e6e05e805c9e4d7db2f77ec856b3b7b7": {
          "model_module": "@jupyter-widgets/base",
          "model_name": "LayoutModel",
          "model_module_version": "1.2.0",
          "state": {
            "_model_module": "@jupyter-widgets/base",
            "_model_module_version": "1.2.0",
            "_model_name": "LayoutModel",
            "_view_count": null,
            "_view_module": "@jupyter-widgets/base",
            "_view_module_version": "1.2.0",
            "_view_name": "LayoutView",
            "align_content": null,
            "align_items": null,
            "align_self": null,
            "border": null,
            "bottom": null,
            "display": null,
            "flex": null,
            "flex_flow": null,
            "grid_area": null,
            "grid_auto_columns": null,
            "grid_auto_flow": null,
            "grid_auto_rows": null,
            "grid_column": null,
            "grid_gap": null,
            "grid_row": null,
            "grid_template_areas": null,
            "grid_template_columns": null,
            "grid_template_rows": null,
            "height": null,
            "justify_content": null,
            "justify_items": null,
            "left": null,
            "margin": null,
            "max_height": null,
            "max_width": null,
            "min_height": null,
            "min_width": null,
            "object_fit": null,
            "object_position": null,
            "order": null,
            "overflow": null,
            "overflow_x": null,
            "overflow_y": null,
            "padding": null,
            "right": null,
            "top": null,
            "visibility": null,
            "width": null
          }
        },
        "06b903176cf9486d8385d74c66941f6f": {
          "model_module": "@jupyter-widgets/base",
          "model_name": "LayoutModel",
          "model_module_version": "1.2.0",
          "state": {
            "_model_module": "@jupyter-widgets/base",
            "_model_module_version": "1.2.0",
            "_model_name": "LayoutModel",
            "_view_count": null,
            "_view_module": "@jupyter-widgets/base",
            "_view_module_version": "1.2.0",
            "_view_name": "LayoutView",
            "align_content": null,
            "align_items": null,
            "align_self": null,
            "border": null,
            "bottom": null,
            "display": null,
            "flex": null,
            "flex_flow": null,
            "grid_area": null,
            "grid_auto_columns": null,
            "grid_auto_flow": null,
            "grid_auto_rows": null,
            "grid_column": null,
            "grid_gap": null,
            "grid_row": null,
            "grid_template_areas": null,
            "grid_template_columns": null,
            "grid_template_rows": null,
            "height": null,
            "justify_content": null,
            "justify_items": null,
            "left": null,
            "margin": null,
            "max_height": null,
            "max_width": null,
            "min_height": null,
            "min_width": null,
            "object_fit": null,
            "object_position": null,
            "order": null,
            "overflow": null,
            "overflow_x": null,
            "overflow_y": null,
            "padding": null,
            "right": null,
            "top": null,
            "visibility": null,
            "width": null
          }
        },
        "212fc081dfb749b38094fbf7b2dae574": {
          "model_module": "@jupyter-widgets/controls",
          "model_name": "DescriptionStyleModel",
          "model_module_version": "1.5.0",
          "state": {
            "_model_module": "@jupyter-widgets/controls",
            "_model_module_version": "1.5.0",
            "_model_name": "DescriptionStyleModel",
            "_view_count": null,
            "_view_module": "@jupyter-widgets/base",
            "_view_module_version": "1.2.0",
            "_view_name": "StyleView",
            "description_width": ""
          }
        },
        "a72b4b831b4349379eaa3e42ecf6fb34": {
          "model_module": "@jupyter-widgets/base",
          "model_name": "LayoutModel",
          "model_module_version": "1.2.0",
          "state": {
            "_model_module": "@jupyter-widgets/base",
            "_model_module_version": "1.2.0",
            "_model_name": "LayoutModel",
            "_view_count": null,
            "_view_module": "@jupyter-widgets/base",
            "_view_module_version": "1.2.0",
            "_view_name": "LayoutView",
            "align_content": null,
            "align_items": null,
            "align_self": null,
            "border": null,
            "bottom": null,
            "display": null,
            "flex": null,
            "flex_flow": null,
            "grid_area": null,
            "grid_auto_columns": null,
            "grid_auto_flow": null,
            "grid_auto_rows": null,
            "grid_column": null,
            "grid_gap": null,
            "grid_row": null,
            "grid_template_areas": null,
            "grid_template_columns": null,
            "grid_template_rows": null,
            "height": null,
            "justify_content": null,
            "justify_items": null,
            "left": null,
            "margin": null,
            "max_height": null,
            "max_width": null,
            "min_height": null,
            "min_width": null,
            "object_fit": null,
            "object_position": null,
            "order": null,
            "overflow": null,
            "overflow_x": null,
            "overflow_y": null,
            "padding": null,
            "right": null,
            "top": null,
            "visibility": null,
            "width": null
          }
        },
        "615cb0386ec9445296102b46e5a2b061": {
          "model_module": "@jupyter-widgets/controls",
          "model_name": "ProgressStyleModel",
          "model_module_version": "1.5.0",
          "state": {
            "_model_module": "@jupyter-widgets/controls",
            "_model_module_version": "1.5.0",
            "_model_name": "ProgressStyleModel",
            "_view_count": null,
            "_view_module": "@jupyter-widgets/base",
            "_view_module_version": "1.2.0",
            "_view_name": "StyleView",
            "bar_color": null,
            "description_width": ""
          }
        },
        "8f2c6ab801fa473da75ec147937547c2": {
          "model_module": "@jupyter-widgets/base",
          "model_name": "LayoutModel",
          "model_module_version": "1.2.0",
          "state": {
            "_model_module": "@jupyter-widgets/base",
            "_model_module_version": "1.2.0",
            "_model_name": "LayoutModel",
            "_view_count": null,
            "_view_module": "@jupyter-widgets/base",
            "_view_module_version": "1.2.0",
            "_view_name": "LayoutView",
            "align_content": null,
            "align_items": null,
            "align_self": null,
            "border": null,
            "bottom": null,
            "display": null,
            "flex": null,
            "flex_flow": null,
            "grid_area": null,
            "grid_auto_columns": null,
            "grid_auto_flow": null,
            "grid_auto_rows": null,
            "grid_column": null,
            "grid_gap": null,
            "grid_row": null,
            "grid_template_areas": null,
            "grid_template_columns": null,
            "grid_template_rows": null,
            "height": null,
            "justify_content": null,
            "justify_items": null,
            "left": null,
            "margin": null,
            "max_height": null,
            "max_width": null,
            "min_height": null,
            "min_width": null,
            "object_fit": null,
            "object_position": null,
            "order": null,
            "overflow": null,
            "overflow_x": null,
            "overflow_y": null,
            "padding": null,
            "right": null,
            "top": null,
            "visibility": null,
            "width": null
          }
        },
        "21846c20448349b6994bdea93d7d3215": {
          "model_module": "@jupyter-widgets/controls",
          "model_name": "DescriptionStyleModel",
          "model_module_version": "1.5.0",
          "state": {
            "_model_module": "@jupyter-widgets/controls",
            "_model_module_version": "1.5.0",
            "_model_name": "DescriptionStyleModel",
            "_view_count": null,
            "_view_module": "@jupyter-widgets/base",
            "_view_module_version": "1.2.0",
            "_view_name": "StyleView",
            "description_width": ""
          }
        },
        "37aea618a1d74d0abe1140e92e89ac48": {
          "model_module": "@jupyter-widgets/controls",
          "model_name": "HBoxModel",
          "model_module_version": "1.5.0",
          "state": {
            "_dom_classes": [],
            "_model_module": "@jupyter-widgets/controls",
            "_model_module_version": "1.5.0",
            "_model_name": "HBoxModel",
            "_view_count": null,
            "_view_module": "@jupyter-widgets/controls",
            "_view_module_version": "1.5.0",
            "_view_name": "HBoxView",
            "box_style": "",
            "children": [
              "IPY_MODEL_2ce6ede0c5f148efad194507657c0ca2",
              "IPY_MODEL_ed0641f7723944fe8cb70ce768a000f3",
              "IPY_MODEL_659e57c3c4ec496ca1d03963159c597d"
            ],
            "layout": "IPY_MODEL_bea61c0557594d2eaa6781e9dad06d45"
          }
        },
        "2ce6ede0c5f148efad194507657c0ca2": {
          "model_module": "@jupyter-widgets/controls",
          "model_name": "HTMLModel",
          "model_module_version": "1.5.0",
          "state": {
            "_dom_classes": [],
            "_model_module": "@jupyter-widgets/controls",
            "_model_module_version": "1.5.0",
            "_model_name": "HTMLModel",
            "_view_count": null,
            "_view_module": "@jupyter-widgets/controls",
            "_view_module_version": "1.5.0",
            "_view_name": "HTMLView",
            "description": "",
            "description_tooltip": null,
            "layout": "IPY_MODEL_038bff721c9342fe8bce3a347a94f0e5",
            "placeholder": "​",
            "style": "IPY_MODEL_e9f15dc4fabe45ccab875c62be6ab15a",
            "value": "model.safetensors: 100%"
          }
        },
        "ed0641f7723944fe8cb70ce768a000f3": {
          "model_module": "@jupyter-widgets/controls",
          "model_name": "FloatProgressModel",
          "model_module_version": "1.5.0",
          "state": {
            "_dom_classes": [],
            "_model_module": "@jupyter-widgets/controls",
            "_model_module_version": "1.5.0",
            "_model_name": "FloatProgressModel",
            "_view_count": null,
            "_view_module": "@jupyter-widgets/controls",
            "_view_module_version": "1.5.0",
            "_view_name": "ProgressView",
            "bar_style": "success",
            "description": "",
            "description_tooltip": null,
            "layout": "IPY_MODEL_2f8a3bbec24147cba90ab14ae254470a",
            "max": 267954768,
            "min": 0,
            "orientation": "horizontal",
            "style": "IPY_MODEL_9c17b36069a545f08bc20e935494c55c",
            "value": 267954768
          }
        },
        "659e57c3c4ec496ca1d03963159c597d": {
          "model_module": "@jupyter-widgets/controls",
          "model_name": "HTMLModel",
          "model_module_version": "1.5.0",
          "state": {
            "_dom_classes": [],
            "_model_module": "@jupyter-widgets/controls",
            "_model_module_version": "1.5.0",
            "_model_name": "HTMLModel",
            "_view_count": null,
            "_view_module": "@jupyter-widgets/controls",
            "_view_module_version": "1.5.0",
            "_view_name": "HTMLView",
            "description": "",
            "description_tooltip": null,
            "layout": "IPY_MODEL_ce7d6119d14449b8bd4c5fb7117cb6c2",
            "placeholder": "​",
            "style": "IPY_MODEL_217353db2bcc4a9684f74a021de08bed",
            "value": " 268M/268M [00:00&lt;00:00, 494MB/s]"
          }
        },
        "bea61c0557594d2eaa6781e9dad06d45": {
          "model_module": "@jupyter-widgets/base",
          "model_name": "LayoutModel",
          "model_module_version": "1.2.0",
          "state": {
            "_model_module": "@jupyter-widgets/base",
            "_model_module_version": "1.2.0",
            "_model_name": "LayoutModel",
            "_view_count": null,
            "_view_module": "@jupyter-widgets/base",
            "_view_module_version": "1.2.0",
            "_view_name": "LayoutView",
            "align_content": null,
            "align_items": null,
            "align_self": null,
            "border": null,
            "bottom": null,
            "display": null,
            "flex": null,
            "flex_flow": null,
            "grid_area": null,
            "grid_auto_columns": null,
            "grid_auto_flow": null,
            "grid_auto_rows": null,
            "grid_column": null,
            "grid_gap": null,
            "grid_row": null,
            "grid_template_areas": null,
            "grid_template_columns": null,
            "grid_template_rows": null,
            "height": null,
            "justify_content": null,
            "justify_items": null,
            "left": null,
            "margin": null,
            "max_height": null,
            "max_width": null,
            "min_height": null,
            "min_width": null,
            "object_fit": null,
            "object_position": null,
            "order": null,
            "overflow": null,
            "overflow_x": null,
            "overflow_y": null,
            "padding": null,
            "right": null,
            "top": null,
            "visibility": null,
            "width": null
          }
        },
        "038bff721c9342fe8bce3a347a94f0e5": {
          "model_module": "@jupyter-widgets/base",
          "model_name": "LayoutModel",
          "model_module_version": "1.2.0",
          "state": {
            "_model_module": "@jupyter-widgets/base",
            "_model_module_version": "1.2.0",
            "_model_name": "LayoutModel",
            "_view_count": null,
            "_view_module": "@jupyter-widgets/base",
            "_view_module_version": "1.2.0",
            "_view_name": "LayoutView",
            "align_content": null,
            "align_items": null,
            "align_self": null,
            "border": null,
            "bottom": null,
            "display": null,
            "flex": null,
            "flex_flow": null,
            "grid_area": null,
            "grid_auto_columns": null,
            "grid_auto_flow": null,
            "grid_auto_rows": null,
            "grid_column": null,
            "grid_gap": null,
            "grid_row": null,
            "grid_template_areas": null,
            "grid_template_columns": null,
            "grid_template_rows": null,
            "height": null,
            "justify_content": null,
            "justify_items": null,
            "left": null,
            "margin": null,
            "max_height": null,
            "max_width": null,
            "min_height": null,
            "min_width": null,
            "object_fit": null,
            "object_position": null,
            "order": null,
            "overflow": null,
            "overflow_x": null,
            "overflow_y": null,
            "padding": null,
            "right": null,
            "top": null,
            "visibility": null,
            "width": null
          }
        },
        "e9f15dc4fabe45ccab875c62be6ab15a": {
          "model_module": "@jupyter-widgets/controls",
          "model_name": "DescriptionStyleModel",
          "model_module_version": "1.5.0",
          "state": {
            "_model_module": "@jupyter-widgets/controls",
            "_model_module_version": "1.5.0",
            "_model_name": "DescriptionStyleModel",
            "_view_count": null,
            "_view_module": "@jupyter-widgets/base",
            "_view_module_version": "1.2.0",
            "_view_name": "StyleView",
            "description_width": ""
          }
        },
        "2f8a3bbec24147cba90ab14ae254470a": {
          "model_module": "@jupyter-widgets/base",
          "model_name": "LayoutModel",
          "model_module_version": "1.2.0",
          "state": {
            "_model_module": "@jupyter-widgets/base",
            "_model_module_version": "1.2.0",
            "_model_name": "LayoutModel",
            "_view_count": null,
            "_view_module": "@jupyter-widgets/base",
            "_view_module_version": "1.2.0",
            "_view_name": "LayoutView",
            "align_content": null,
            "align_items": null,
            "align_self": null,
            "border": null,
            "bottom": null,
            "display": null,
            "flex": null,
            "flex_flow": null,
            "grid_area": null,
            "grid_auto_columns": null,
            "grid_auto_flow": null,
            "grid_auto_rows": null,
            "grid_column": null,
            "grid_gap": null,
            "grid_row": null,
            "grid_template_areas": null,
            "grid_template_columns": null,
            "grid_template_rows": null,
            "height": null,
            "justify_content": null,
            "justify_items": null,
            "left": null,
            "margin": null,
            "max_height": null,
            "max_width": null,
            "min_height": null,
            "min_width": null,
            "object_fit": null,
            "object_position": null,
            "order": null,
            "overflow": null,
            "overflow_x": null,
            "overflow_y": null,
            "padding": null,
            "right": null,
            "top": null,
            "visibility": null,
            "width": null
          }
        },
        "9c17b36069a545f08bc20e935494c55c": {
          "model_module": "@jupyter-widgets/controls",
          "model_name": "ProgressStyleModel",
          "model_module_version": "1.5.0",
          "state": {
            "_model_module": "@jupyter-widgets/controls",
            "_model_module_version": "1.5.0",
            "_model_name": "ProgressStyleModel",
            "_view_count": null,
            "_view_module": "@jupyter-widgets/base",
            "_view_module_version": "1.2.0",
            "_view_name": "StyleView",
            "bar_color": null,
            "description_width": ""
          }
        },
        "ce7d6119d14449b8bd4c5fb7117cb6c2": {
          "model_module": "@jupyter-widgets/base",
          "model_name": "LayoutModel",
          "model_module_version": "1.2.0",
          "state": {
            "_model_module": "@jupyter-widgets/base",
            "_model_module_version": "1.2.0",
            "_model_name": "LayoutModel",
            "_view_count": null,
            "_view_module": "@jupyter-widgets/base",
            "_view_module_version": "1.2.0",
            "_view_name": "LayoutView",
            "align_content": null,
            "align_items": null,
            "align_self": null,
            "border": null,
            "bottom": null,
            "display": null,
            "flex": null,
            "flex_flow": null,
            "grid_area": null,
            "grid_auto_columns": null,
            "grid_auto_flow": null,
            "grid_auto_rows": null,
            "grid_column": null,
            "grid_gap": null,
            "grid_row": null,
            "grid_template_areas": null,
            "grid_template_columns": null,
            "grid_template_rows": null,
            "height": null,
            "justify_content": null,
            "justify_items": null,
            "left": null,
            "margin": null,
            "max_height": null,
            "max_width": null,
            "min_height": null,
            "min_width": null,
            "object_fit": null,
            "object_position": null,
            "order": null,
            "overflow": null,
            "overflow_x": null,
            "overflow_y": null,
            "padding": null,
            "right": null,
            "top": null,
            "visibility": null,
            "width": null
          }
        },
        "217353db2bcc4a9684f74a021de08bed": {
          "model_module": "@jupyter-widgets/controls",
          "model_name": "DescriptionStyleModel",
          "model_module_version": "1.5.0",
          "state": {
            "_model_module": "@jupyter-widgets/controls",
            "_model_module_version": "1.5.0",
            "_model_name": "DescriptionStyleModel",
            "_view_count": null,
            "_view_module": "@jupyter-widgets/base",
            "_view_module_version": "1.2.0",
            "_view_name": "StyleView",
            "description_width": ""
          }
        }
      }
    },
    "accelerator": "GPU"
  },
  "cells": [
    {
      "cell_type": "markdown",
      "source": [
        "# Utils"
      ],
      "metadata": {
        "id": "ovzKXaaIKM_0"
      }
    },
    {
      "cell_type": "code",
      "execution_count": 1,
      "metadata": {
        "id": "OUxabdS43t3M",
        "colab": {
          "base_uri": "https://localhost:8080/"
        },
        "outputId": "0a410df0-5599-4a96-c081-7fdacda822c6"
      },
      "outputs": [
        {
          "output_type": "stream",
          "name": "stdout",
          "text": [
            "Collecting einops\n",
            "  Downloading einops-0.8.0-py3-none-any.whl (43 kB)\n",
            "\u001b[?25l     \u001b[90m━━━━━━━━━━━━━━━━━━━━━━━━━━━━━━━━━━━━━━━━\u001b[0m \u001b[32m0.0/43.2 kB\u001b[0m \u001b[31m?\u001b[0m eta \u001b[36m-:--:--\u001b[0m\r\u001b[2K     \u001b[90m━━━━━━━━━━━━━━━━━━━━━━━━━━━━━━━━━━━━━━━━\u001b[0m \u001b[32m43.2/43.2 kB\u001b[0m \u001b[31m1.4 MB/s\u001b[0m eta \u001b[36m0:00:00\u001b[0m\n",
            "\u001b[?25hInstalling collected packages: einops\n",
            "Successfully installed einops-0.8.0\n",
            "Collecting wandb\n",
            "  Downloading wandb-0.16.6-py3-none-any.whl (2.2 MB)\n",
            "\u001b[2K     \u001b[90m━━━━━━━━━━━━━━━━━━━━━━━━━━━━━━━━━━━━━━━━\u001b[0m \u001b[32m2.2/2.2 MB\u001b[0m \u001b[31m18.2 MB/s\u001b[0m eta \u001b[36m0:00:00\u001b[0m\n",
            "\u001b[?25hRequirement already satisfied: Click!=8.0.0,>=7.1 in /usr/local/lib/python3.10/dist-packages (from wandb) (8.1.7)\n",
            "Collecting GitPython!=3.1.29,>=1.0.0 (from wandb)\n",
            "  Downloading GitPython-3.1.43-py3-none-any.whl (207 kB)\n",
            "\u001b[2K     \u001b[90m━━━━━━━━━━━━━━━━━━━━━━━━━━━━━━━━━━━━━━━━\u001b[0m \u001b[32m207.3/207.3 kB\u001b[0m \u001b[31m20.5 MB/s\u001b[0m eta \u001b[36m0:00:00\u001b[0m\n",
            "\u001b[?25hRequirement already satisfied: requests<3,>=2.0.0 in /usr/local/lib/python3.10/dist-packages (from wandb) (2.31.0)\n",
            "Requirement already satisfied: psutil>=5.0.0 in /usr/local/lib/python3.10/dist-packages (from wandb) (5.9.5)\n",
            "Collecting sentry-sdk>=1.0.0 (from wandb)\n",
            "  Downloading sentry_sdk-2.1.1-py2.py3-none-any.whl (277 kB)\n",
            "\u001b[2K     \u001b[90m━━━━━━━━━━━━━━━━━━━━━━━━━━━━━━━━━━━━━━━━\u001b[0m \u001b[32m277.3/277.3 kB\u001b[0m \u001b[31m27.9 MB/s\u001b[0m eta \u001b[36m0:00:00\u001b[0m\n",
            "\u001b[?25hCollecting docker-pycreds>=0.4.0 (from wandb)\n",
            "  Downloading docker_pycreds-0.4.0-py2.py3-none-any.whl (9.0 kB)\n",
            "Requirement already satisfied: PyYAML in /usr/local/lib/python3.10/dist-packages (from wandb) (6.0.1)\n",
            "Collecting setproctitle (from wandb)\n",
            "  Downloading setproctitle-1.3.3-cp310-cp310-manylinux_2_5_x86_64.manylinux1_x86_64.manylinux_2_17_x86_64.manylinux2014_x86_64.whl (30 kB)\n",
            "Requirement already satisfied: setuptools in /usr/local/lib/python3.10/dist-packages (from wandb) (67.7.2)\n",
            "Requirement already satisfied: appdirs>=1.4.3 in /usr/local/lib/python3.10/dist-packages (from wandb) (1.4.4)\n",
            "Requirement already satisfied: protobuf!=4.21.0,<5,>=3.19.0 in /usr/local/lib/python3.10/dist-packages (from wandb) (3.20.3)\n",
            "Requirement already satisfied: six>=1.4.0 in /usr/local/lib/python3.10/dist-packages (from docker-pycreds>=0.4.0->wandb) (1.16.0)\n",
            "Collecting gitdb<5,>=4.0.1 (from GitPython!=3.1.29,>=1.0.0->wandb)\n",
            "  Downloading gitdb-4.0.11-py3-none-any.whl (62 kB)\n",
            "\u001b[2K     \u001b[90m━━━━━━━━━━━━━━━━━━━━━━━━━━━━━━━━━━━━━━━━\u001b[0m \u001b[32m62.7/62.7 kB\u001b[0m \u001b[31m8.9 MB/s\u001b[0m eta \u001b[36m0:00:00\u001b[0m\n",
            "\u001b[?25hRequirement already satisfied: charset-normalizer<4,>=2 in /usr/local/lib/python3.10/dist-packages (from requests<3,>=2.0.0->wandb) (3.3.2)\n",
            "Requirement already satisfied: idna<4,>=2.5 in /usr/local/lib/python3.10/dist-packages (from requests<3,>=2.0.0->wandb) (3.7)\n",
            "Requirement already satisfied: urllib3<3,>=1.21.1 in /usr/local/lib/python3.10/dist-packages (from requests<3,>=2.0.0->wandb) (2.0.7)\n",
            "Requirement already satisfied: certifi>=2017.4.17 in /usr/local/lib/python3.10/dist-packages (from requests<3,>=2.0.0->wandb) (2024.2.2)\n",
            "Collecting smmap<6,>=3.0.1 (from gitdb<5,>=4.0.1->GitPython!=3.1.29,>=1.0.0->wandb)\n",
            "  Downloading smmap-5.0.1-py3-none-any.whl (24 kB)\n",
            "Installing collected packages: smmap, setproctitle, sentry-sdk, docker-pycreds, gitdb, GitPython, wandb\n",
            "Successfully installed GitPython-3.1.43 docker-pycreds-0.4.0 gitdb-4.0.11 sentry-sdk-2.1.1 setproctitle-1.3.3 smmap-5.0.1 wandb-0.16.6\n"
          ]
        }
      ],
      "source": [
        "!pip install einops\n",
        "!pip install wandb\n",
        "import torch\n",
        "import einops\n",
        "import torch\n",
        "from torch import nn\n",
        "\n",
        "from einops import rearrange, repeat\n",
        "from einops.layers.torch import Rearrange\n",
        "import torchvision\n",
        "import torchvision.transforms as transforms\n",
        "import wandb\n"
      ]
    },
    {
      "cell_type": "code",
      "source": [
        "import urllib.request\n",
        "from pathlib import Path\n",
        "import torch\n",
        "import matplotlib.pyplot as plt\n",
        "plt.rcParams[\"savefig.bbox\"] = 'tight'\n",
        "\n",
        "from torchvision.transforms import v2\n",
        "from torchvision.io import read_image\n",
        "\n",
        "torch.manual_seed(1)\n",
        "\n",
        "import matplotlib.pyplot as plt\n",
        "import torch\n",
        "from torchvision.utils import draw_bounding_boxes, draw_segmentation_masks\n",
        "from torchvision import tv_tensors\n",
        "from torchvision.transforms.v2 import functional as F\n",
        "\n",
        "\n",
        "def plot(imgs, row_title=None, **imshow_kwargs):\n",
        "    if not isinstance(imgs[0], list):\n",
        "        # Make a 2d grid even if there's just 1 row\n",
        "        imgs = [imgs]\n",
        "\n",
        "    num_rows = len(imgs)\n",
        "    num_cols = len(imgs[0])\n",
        "    _, axs = plt.subplots(nrows=num_rows, ncols=num_cols, squeeze=False)\n",
        "    for row_idx, row in enumerate(imgs):\n",
        "        for col_idx, img in enumerate(row):\n",
        "            boxes = None\n",
        "            masks = None\n",
        "            if isinstance(img, tuple):\n",
        "                img, target = img\n",
        "                if isinstance(target, dict):\n",
        "                    boxes = target.get(\"boxes\")\n",
        "                    masks = target.get(\"masks\")\n",
        "                elif isinstance(target, tv_tensors.BoundingBoxes):\n",
        "                    boxes = target\n",
        "                else:\n",
        "                    raise ValueError(f\"Unexpected target type: {type(target)}\")\n",
        "            img = F.to_image(img)\n",
        "            if img.dtype.is_floating_point and img.min() < 0:\n",
        "                # Poor man's re-normalization for the colors to be OK-ish. This\n",
        "                # is useful for images coming out of Normalize()\n",
        "                img -= img.min()\n",
        "                img /= img.max()\n",
        "\n",
        "            img = F.to_dtype(img, torch.uint8, scale=True)\n",
        "            if boxes is not None:\n",
        "                img = draw_bounding_boxes(img, boxes, colors=\"yellow\", width=3)\n",
        "            if masks is not None:\n",
        "                img = draw_segmentation_masks(img, masks.to(torch.bool), colors=[\"green\"] * masks.shape[0], alpha=.65)\n",
        "\n",
        "            ax = axs[row_idx, col_idx]\n",
        "            ax.imshow(img.permute(1, 2, 0).numpy(), **imshow_kwargs)\n",
        "            ax.set(xticklabels=[], yticklabels=[], xticks=[], yticks=[])\n",
        "\n",
        "    if row_title is not None:\n",
        "        for row_idx in range(num_rows):\n",
        "            axs[row_idx, 0].set(ylabel=row_title[row_idx])\n",
        "\n",
        "    plt.tight_layout()"
      ],
      "metadata": {
        "id": "pn1QU5_eKO0v"
      },
      "execution_count": 2,
      "outputs": []
    },
    {
      "cell_type": "markdown",
      "source": [
        "# Dataset"
      ],
      "metadata": {
        "id": "jUb3p-qCLthN"
      }
    },
    {
      "cell_type": "code",
      "source": [
        "from google.colab import userdata\n",
        "import os\n",
        "\n",
        "os.environ[\"KAGGLE_KEY\"] = userdata.get('KAGGLE_KEY')\n",
        "os.environ[\"KAGGLE_USERNAME\"] = userdata.get('KAGGLE_USERNAME')\n"
      ],
      "metadata": {
        "id": "Hjk5hMkHMx7B"
      },
      "execution_count": 3,
      "outputs": []
    },
    {
      "cell_type": "code",
      "source": [
        "!kaggle datasets download -d praneshmukhopadhyay/youtubers-saying-things\n",
        "\n",
        "! unzip \"youtubers-saying-things.zip\"\n"
      ],
      "metadata": {
        "colab": {
          "base_uri": "https://localhost:8080/"
        },
        "id": "YOV8_o3qM0P5",
        "outputId": "5188e626-0ec6-47a8-c11d-84c7db549345"
      },
      "execution_count": 4,
      "outputs": [
        {
          "output_type": "stream",
          "name": "stdout",
          "text": [
            "Dataset URL: https://www.kaggle.com/datasets/praneshmukhopadhyay/youtubers-saying-things\n",
            "License(s): CC0-1.0\n",
            "Downloading youtubers-saying-things.zip to /content\n",
            " 82% 9.00M/11.0M [00:01<00:00, 9.79MB/s]\n",
            "100% 11.0M/11.0M [00:01<00:00, 7.20MB/s]\n",
            "Archive:  youtubers-saying-things.zip\n",
            "  inflating: data.csv                \n"
          ]
        }
      ]
    },
    {
      "cell_type": "code",
      "source": [
        "!rm -rf images\n",
        "!mkdir images"
      ],
      "metadata": {
        "id": "9k0bdlsFNWs5"
      },
      "execution_count": 5,
      "outputs": []
    },
    {
      "cell_type": "code",
      "source": [
        "from tqdm import tqdm\n",
        "import csv\n",
        "sample = None\n",
        "from urllib.error import HTTPError\n",
        "\n",
        "\n",
        "def path_to_img(path):\n",
        "    img = read_image(path)\n",
        "    plot([img])\n",
        "\n",
        "def row_to_img(row, path):\n",
        "    imgURL = f\"https://i.ytimg.com/vi/{row[0]}/hqdefault.jpg\"\n",
        "    # print(imgURL)\n",
        "    urllib.request.urlretrieve(imgURL, path)\n",
        "    img = read_image(path)\n",
        "    # transform = torchvision.transforms.CenterCrop(size=(224, 224))\n",
        "    # out = transform(img)\n",
        "    # return out\n",
        "    return img\n",
        "import sys\n",
        "csv.field_size_limit(sys.maxsize)\n",
        "\n",
        "def load_images():\n",
        "  with open('data.csv', newline='') as f:\n",
        "      reader = csv.reader(f)\n",
        "      index = 0\n",
        "      ids = []\n",
        "      for row in tqdm(reader):\n",
        "          index+=1\n",
        "          if (index==1):\n",
        "            continue\n",
        "          sample =row\n",
        "          dct = {}\n",
        "          path = f\"./images/{index}.jpg\"\n",
        "          try:\n",
        "            row_to_img(row, path)\n",
        "            dct['image'], dct['title'] = path, row[3]\n",
        "            ids.append(dct)\n",
        "          except HTTPError:\n",
        "            print(f\"No Id for {index}\")\n",
        "            index-=1\n",
        "\n",
        "          if (index>2500):\n",
        "            break\n",
        "  return ids"
      ],
      "metadata": {
        "id": "wEciUYWUNExS"
      },
      "execution_count": 6,
      "outputs": []
    },
    {
      "cell_type": "code",
      "source": [],
      "metadata": {
        "id": "nlgGfpDA9jXw"
      },
      "execution_count": 6,
      "outputs": []
    },
    {
      "cell_type": "code",
      "source": [
        "ids = load_images()"
      ],
      "metadata": {
        "colab": {
          "base_uri": "https://localhost:8080/",
          "height": 339
        },
        "id": "ns-PPYbrgTUa",
        "outputId": "5173639d-350f-463f-86b6-3a74d33c2dfd"
      },
      "execution_count": 7,
      "outputs": [
        {
          "output_type": "stream",
          "name": "stderr",
          "text": [
            "334it [00:08, 42.97it/s]"
          ]
        },
        {
          "output_type": "stream",
          "name": "stdout",
          "text": [
            "No Id for 331\n"
          ]
        },
        {
          "output_type": "stream",
          "name": "stderr",
          "text": [
            "1949it [00:44, 43.88it/s]"
          ]
        },
        {
          "output_type": "stream",
          "name": "stdout",
          "text": [
            "No Id for 1936\n"
          ]
        },
        {
          "output_type": "stream",
          "name": "stderr",
          "text": [
            "\n"
          ]
        },
        {
          "output_type": "error",
          "ename": "KeyboardInterrupt",
          "evalue": "",
          "traceback": [
            "\u001b[0;31m---------------------------------------------------------------------------\u001b[0m",
            "\u001b[0;31mKeyboardInterrupt\u001b[0m                         Traceback (most recent call last)",
            "\u001b[0;32m<ipython-input-7-d2c6e7efe257>\u001b[0m in \u001b[0;36m<cell line: 1>\u001b[0;34m()\u001b[0m\n\u001b[0;32m----> 1\u001b[0;31m \u001b[0mids\u001b[0m \u001b[0;34m=\u001b[0m \u001b[0mload_images\u001b[0m\u001b[0;34m(\u001b[0m\u001b[0;34m)\u001b[0m\u001b[0;34m\u001b[0m\u001b[0;34m\u001b[0m\u001b[0m\n\u001b[0m",
            "\u001b[0;32m<ipython-input-6-2b8c851cc674>\u001b[0m in \u001b[0;36mload_images\u001b[0;34m()\u001b[0m\n\u001b[1;32m     34\u001b[0m           \u001b[0mpath\u001b[0m \u001b[0;34m=\u001b[0m \u001b[0;34mf\"./images/{index}.jpg\"\u001b[0m\u001b[0;34m\u001b[0m\u001b[0;34m\u001b[0m\u001b[0m\n\u001b[1;32m     35\u001b[0m           \u001b[0;32mtry\u001b[0m\u001b[0;34m:\u001b[0m\u001b[0;34m\u001b[0m\u001b[0;34m\u001b[0m\u001b[0m\n\u001b[0;32m---> 36\u001b[0;31m             \u001b[0mrow_to_img\u001b[0m\u001b[0;34m(\u001b[0m\u001b[0mrow\u001b[0m\u001b[0;34m,\u001b[0m \u001b[0mpath\u001b[0m\u001b[0;34m)\u001b[0m\u001b[0;34m\u001b[0m\u001b[0;34m\u001b[0m\u001b[0m\n\u001b[0m\u001b[1;32m     37\u001b[0m             \u001b[0mdct\u001b[0m\u001b[0;34m[\u001b[0m\u001b[0;34m'image'\u001b[0m\u001b[0;34m]\u001b[0m\u001b[0;34m,\u001b[0m \u001b[0mdct\u001b[0m\u001b[0;34m[\u001b[0m\u001b[0;34m'title'\u001b[0m\u001b[0;34m]\u001b[0m \u001b[0;34m=\u001b[0m \u001b[0mpath\u001b[0m\u001b[0;34m,\u001b[0m \u001b[0mrow\u001b[0m\u001b[0;34m[\u001b[0m\u001b[0;36m3\u001b[0m\u001b[0;34m]\u001b[0m\u001b[0;34m\u001b[0m\u001b[0;34m\u001b[0m\u001b[0m\n\u001b[1;32m     38\u001b[0m             \u001b[0mids\u001b[0m\u001b[0;34m.\u001b[0m\u001b[0mappend\u001b[0m\u001b[0;34m(\u001b[0m\u001b[0mdct\u001b[0m\u001b[0;34m)\u001b[0m\u001b[0;34m\u001b[0m\u001b[0;34m\u001b[0m\u001b[0m\n",
            "\u001b[0;32m<ipython-input-6-2b8c851cc674>\u001b[0m in \u001b[0;36mrow_to_img\u001b[0;34m(row, path)\u001b[0m\n\u001b[1;32m     12\u001b[0m     \u001b[0mimgURL\u001b[0m \u001b[0;34m=\u001b[0m \u001b[0;34mf\"https://i.ytimg.com/vi/{row[0]}/hqdefault.jpg\"\u001b[0m\u001b[0;34m\u001b[0m\u001b[0;34m\u001b[0m\u001b[0m\n\u001b[1;32m     13\u001b[0m     \u001b[0;31m# print(imgURL)\u001b[0m\u001b[0;34m\u001b[0m\u001b[0;34m\u001b[0m\u001b[0m\n\u001b[0;32m---> 14\u001b[0;31m     \u001b[0murllib\u001b[0m\u001b[0;34m.\u001b[0m\u001b[0mrequest\u001b[0m\u001b[0;34m.\u001b[0m\u001b[0murlretrieve\u001b[0m\u001b[0;34m(\u001b[0m\u001b[0mimgURL\u001b[0m\u001b[0;34m,\u001b[0m \u001b[0mpath\u001b[0m\u001b[0;34m)\u001b[0m\u001b[0;34m\u001b[0m\u001b[0;34m\u001b[0m\u001b[0m\n\u001b[0m\u001b[1;32m     15\u001b[0m     \u001b[0mimg\u001b[0m \u001b[0;34m=\u001b[0m \u001b[0mread_image\u001b[0m\u001b[0;34m(\u001b[0m\u001b[0mpath\u001b[0m\u001b[0;34m)\u001b[0m\u001b[0;34m\u001b[0m\u001b[0;34m\u001b[0m\u001b[0m\n\u001b[1;32m     16\u001b[0m     \u001b[0;31m# transform = torchvision.transforms.CenterCrop(size=(224, 224))\u001b[0m\u001b[0;34m\u001b[0m\u001b[0;34m\u001b[0m\u001b[0m\n",
            "\u001b[0;32m/usr/lib/python3.10/urllib/request.py\u001b[0m in \u001b[0;36murlretrieve\u001b[0;34m(url, filename, reporthook, data)\u001b[0m\n\u001b[1;32m    239\u001b[0m     \u001b[0murl_type\u001b[0m\u001b[0;34m,\u001b[0m \u001b[0mpath\u001b[0m \u001b[0;34m=\u001b[0m \u001b[0m_splittype\u001b[0m\u001b[0;34m(\u001b[0m\u001b[0murl\u001b[0m\u001b[0;34m)\u001b[0m\u001b[0;34m\u001b[0m\u001b[0;34m\u001b[0m\u001b[0m\n\u001b[1;32m    240\u001b[0m \u001b[0;34m\u001b[0m\u001b[0m\n\u001b[0;32m--> 241\u001b[0;31m     \u001b[0;32mwith\u001b[0m \u001b[0mcontextlib\u001b[0m\u001b[0;34m.\u001b[0m\u001b[0mclosing\u001b[0m\u001b[0;34m(\u001b[0m\u001b[0murlopen\u001b[0m\u001b[0;34m(\u001b[0m\u001b[0murl\u001b[0m\u001b[0;34m,\u001b[0m \u001b[0mdata\u001b[0m\u001b[0;34m)\u001b[0m\u001b[0;34m)\u001b[0m \u001b[0;32mas\u001b[0m \u001b[0mfp\u001b[0m\u001b[0;34m:\u001b[0m\u001b[0;34m\u001b[0m\u001b[0;34m\u001b[0m\u001b[0m\n\u001b[0m\u001b[1;32m    242\u001b[0m         \u001b[0mheaders\u001b[0m \u001b[0;34m=\u001b[0m \u001b[0mfp\u001b[0m\u001b[0;34m.\u001b[0m\u001b[0minfo\u001b[0m\u001b[0;34m(\u001b[0m\u001b[0;34m)\u001b[0m\u001b[0;34m\u001b[0m\u001b[0;34m\u001b[0m\u001b[0m\n\u001b[1;32m    243\u001b[0m \u001b[0;34m\u001b[0m\u001b[0m\n",
            "\u001b[0;32m/usr/lib/python3.10/urllib/request.py\u001b[0m in \u001b[0;36murlopen\u001b[0;34m(url, data, timeout, cafile, capath, cadefault, context)\u001b[0m\n\u001b[1;32m    214\u001b[0m     \u001b[0;32melse\u001b[0m\u001b[0;34m:\u001b[0m\u001b[0;34m\u001b[0m\u001b[0;34m\u001b[0m\u001b[0m\n\u001b[1;32m    215\u001b[0m         \u001b[0mopener\u001b[0m \u001b[0;34m=\u001b[0m \u001b[0m_opener\u001b[0m\u001b[0;34m\u001b[0m\u001b[0;34m\u001b[0m\u001b[0m\n\u001b[0;32m--> 216\u001b[0;31m     \u001b[0;32mreturn\u001b[0m \u001b[0mopener\u001b[0m\u001b[0;34m.\u001b[0m\u001b[0mopen\u001b[0m\u001b[0;34m(\u001b[0m\u001b[0murl\u001b[0m\u001b[0;34m,\u001b[0m \u001b[0mdata\u001b[0m\u001b[0;34m,\u001b[0m \u001b[0mtimeout\u001b[0m\u001b[0;34m)\u001b[0m\u001b[0;34m\u001b[0m\u001b[0;34m\u001b[0m\u001b[0m\n\u001b[0m\u001b[1;32m    217\u001b[0m \u001b[0;34m\u001b[0m\u001b[0m\n\u001b[1;32m    218\u001b[0m \u001b[0;32mdef\u001b[0m \u001b[0minstall_opener\u001b[0m\u001b[0;34m(\u001b[0m\u001b[0mopener\u001b[0m\u001b[0;34m)\u001b[0m\u001b[0;34m:\u001b[0m\u001b[0;34m\u001b[0m\u001b[0;34m\u001b[0m\u001b[0m\n",
            "\u001b[0;32m/usr/lib/python3.10/urllib/request.py\u001b[0m in \u001b[0;36mopen\u001b[0;34m(self, fullurl, data, timeout)\u001b[0m\n\u001b[1;32m    517\u001b[0m \u001b[0;34m\u001b[0m\u001b[0m\n\u001b[1;32m    518\u001b[0m         \u001b[0msys\u001b[0m\u001b[0;34m.\u001b[0m\u001b[0maudit\u001b[0m\u001b[0;34m(\u001b[0m\u001b[0;34m'urllib.Request'\u001b[0m\u001b[0;34m,\u001b[0m \u001b[0mreq\u001b[0m\u001b[0;34m.\u001b[0m\u001b[0mfull_url\u001b[0m\u001b[0;34m,\u001b[0m \u001b[0mreq\u001b[0m\u001b[0;34m.\u001b[0m\u001b[0mdata\u001b[0m\u001b[0;34m,\u001b[0m \u001b[0mreq\u001b[0m\u001b[0;34m.\u001b[0m\u001b[0mheaders\u001b[0m\u001b[0;34m,\u001b[0m \u001b[0mreq\u001b[0m\u001b[0;34m.\u001b[0m\u001b[0mget_method\u001b[0m\u001b[0;34m(\u001b[0m\u001b[0;34m)\u001b[0m\u001b[0;34m)\u001b[0m\u001b[0;34m\u001b[0m\u001b[0;34m\u001b[0m\u001b[0m\n\u001b[0;32m--> 519\u001b[0;31m         \u001b[0mresponse\u001b[0m \u001b[0;34m=\u001b[0m \u001b[0mself\u001b[0m\u001b[0;34m.\u001b[0m\u001b[0m_open\u001b[0m\u001b[0;34m(\u001b[0m\u001b[0mreq\u001b[0m\u001b[0;34m,\u001b[0m \u001b[0mdata\u001b[0m\u001b[0;34m)\u001b[0m\u001b[0;34m\u001b[0m\u001b[0;34m\u001b[0m\u001b[0m\n\u001b[0m\u001b[1;32m    520\u001b[0m \u001b[0;34m\u001b[0m\u001b[0m\n\u001b[1;32m    521\u001b[0m         \u001b[0;31m# post-process response\u001b[0m\u001b[0;34m\u001b[0m\u001b[0;34m\u001b[0m\u001b[0m\n",
            "\u001b[0;32m/usr/lib/python3.10/urllib/request.py\u001b[0m in \u001b[0;36m_open\u001b[0;34m(self, req, data)\u001b[0m\n\u001b[1;32m    534\u001b[0m \u001b[0;34m\u001b[0m\u001b[0m\n\u001b[1;32m    535\u001b[0m         \u001b[0mprotocol\u001b[0m \u001b[0;34m=\u001b[0m \u001b[0mreq\u001b[0m\u001b[0;34m.\u001b[0m\u001b[0mtype\u001b[0m\u001b[0;34m\u001b[0m\u001b[0;34m\u001b[0m\u001b[0m\n\u001b[0;32m--> 536\u001b[0;31m         result = self._call_chain(self.handle_open, protocol, protocol +\n\u001b[0m\u001b[1;32m    537\u001b[0m                                   '_open', req)\n\u001b[1;32m    538\u001b[0m         \u001b[0;32mif\u001b[0m \u001b[0mresult\u001b[0m\u001b[0;34m:\u001b[0m\u001b[0;34m\u001b[0m\u001b[0;34m\u001b[0m\u001b[0m\n",
            "\u001b[0;32m/usr/lib/python3.10/urllib/request.py\u001b[0m in \u001b[0;36m_call_chain\u001b[0;34m(self, chain, kind, meth_name, *args)\u001b[0m\n\u001b[1;32m    494\u001b[0m         \u001b[0;32mfor\u001b[0m \u001b[0mhandler\u001b[0m \u001b[0;32min\u001b[0m \u001b[0mhandlers\u001b[0m\u001b[0;34m:\u001b[0m\u001b[0;34m\u001b[0m\u001b[0;34m\u001b[0m\u001b[0m\n\u001b[1;32m    495\u001b[0m             \u001b[0mfunc\u001b[0m \u001b[0;34m=\u001b[0m \u001b[0mgetattr\u001b[0m\u001b[0;34m(\u001b[0m\u001b[0mhandler\u001b[0m\u001b[0;34m,\u001b[0m \u001b[0mmeth_name\u001b[0m\u001b[0;34m)\u001b[0m\u001b[0;34m\u001b[0m\u001b[0;34m\u001b[0m\u001b[0m\n\u001b[0;32m--> 496\u001b[0;31m             \u001b[0mresult\u001b[0m \u001b[0;34m=\u001b[0m \u001b[0mfunc\u001b[0m\u001b[0;34m(\u001b[0m\u001b[0;34m*\u001b[0m\u001b[0margs\u001b[0m\u001b[0;34m)\u001b[0m\u001b[0;34m\u001b[0m\u001b[0;34m\u001b[0m\u001b[0m\n\u001b[0m\u001b[1;32m    497\u001b[0m             \u001b[0;32mif\u001b[0m \u001b[0mresult\u001b[0m \u001b[0;32mis\u001b[0m \u001b[0;32mnot\u001b[0m \u001b[0;32mNone\u001b[0m\u001b[0;34m:\u001b[0m\u001b[0;34m\u001b[0m\u001b[0;34m\u001b[0m\u001b[0m\n\u001b[1;32m    498\u001b[0m                 \u001b[0;32mreturn\u001b[0m \u001b[0mresult\u001b[0m\u001b[0;34m\u001b[0m\u001b[0;34m\u001b[0m\u001b[0m\n",
            "\u001b[0;32m/usr/lib/python3.10/urllib/request.py\u001b[0m in \u001b[0;36mhttps_open\u001b[0;34m(self, req)\u001b[0m\n\u001b[1;32m   1389\u001b[0m \u001b[0;34m\u001b[0m\u001b[0m\n\u001b[1;32m   1390\u001b[0m         \u001b[0;32mdef\u001b[0m \u001b[0mhttps_open\u001b[0m\u001b[0;34m(\u001b[0m\u001b[0mself\u001b[0m\u001b[0;34m,\u001b[0m \u001b[0mreq\u001b[0m\u001b[0;34m)\u001b[0m\u001b[0;34m:\u001b[0m\u001b[0;34m\u001b[0m\u001b[0;34m\u001b[0m\u001b[0m\n\u001b[0;32m-> 1391\u001b[0;31m             return self.do_open(http.client.HTTPSConnection, req,\n\u001b[0m\u001b[1;32m   1392\u001b[0m                 context=self._context, check_hostname=self._check_hostname)\n\u001b[1;32m   1393\u001b[0m \u001b[0;34m\u001b[0m\u001b[0m\n",
            "\u001b[0;32m/usr/lib/python3.10/urllib/request.py\u001b[0m in \u001b[0;36mdo_open\u001b[0;34m(self, http_class, req, **http_conn_args)\u001b[0m\n\u001b[1;32m   1346\u001b[0m         \u001b[0;32mtry\u001b[0m\u001b[0;34m:\u001b[0m\u001b[0;34m\u001b[0m\u001b[0;34m\u001b[0m\u001b[0m\n\u001b[1;32m   1347\u001b[0m             \u001b[0;32mtry\u001b[0m\u001b[0;34m:\u001b[0m\u001b[0;34m\u001b[0m\u001b[0;34m\u001b[0m\u001b[0m\n\u001b[0;32m-> 1348\u001b[0;31m                 h.request(req.get_method(), req.selector, req.data, headers,\n\u001b[0m\u001b[1;32m   1349\u001b[0m                           encode_chunked=req.has_header('Transfer-encoding'))\n\u001b[1;32m   1350\u001b[0m             \u001b[0;32mexcept\u001b[0m \u001b[0mOSError\u001b[0m \u001b[0;32mas\u001b[0m \u001b[0merr\u001b[0m\u001b[0;34m:\u001b[0m \u001b[0;31m# timeout error\u001b[0m\u001b[0;34m\u001b[0m\u001b[0;34m\u001b[0m\u001b[0m\n",
            "\u001b[0;32m/usr/lib/python3.10/http/client.py\u001b[0m in \u001b[0;36mrequest\u001b[0;34m(self, method, url, body, headers, encode_chunked)\u001b[0m\n\u001b[1;32m   1281\u001b[0m                 encode_chunked=False):\n\u001b[1;32m   1282\u001b[0m         \u001b[0;34m\"\"\"Send a complete request to the server.\"\"\"\u001b[0m\u001b[0;34m\u001b[0m\u001b[0;34m\u001b[0m\u001b[0m\n\u001b[0;32m-> 1283\u001b[0;31m         \u001b[0mself\u001b[0m\u001b[0;34m.\u001b[0m\u001b[0m_send_request\u001b[0m\u001b[0;34m(\u001b[0m\u001b[0mmethod\u001b[0m\u001b[0;34m,\u001b[0m \u001b[0murl\u001b[0m\u001b[0;34m,\u001b[0m \u001b[0mbody\u001b[0m\u001b[0;34m,\u001b[0m \u001b[0mheaders\u001b[0m\u001b[0;34m,\u001b[0m \u001b[0mencode_chunked\u001b[0m\u001b[0;34m)\u001b[0m\u001b[0;34m\u001b[0m\u001b[0;34m\u001b[0m\u001b[0m\n\u001b[0m\u001b[1;32m   1284\u001b[0m \u001b[0;34m\u001b[0m\u001b[0m\n\u001b[1;32m   1285\u001b[0m     \u001b[0;32mdef\u001b[0m \u001b[0m_send_request\u001b[0m\u001b[0;34m(\u001b[0m\u001b[0mself\u001b[0m\u001b[0;34m,\u001b[0m \u001b[0mmethod\u001b[0m\u001b[0;34m,\u001b[0m \u001b[0murl\u001b[0m\u001b[0;34m,\u001b[0m \u001b[0mbody\u001b[0m\u001b[0;34m,\u001b[0m \u001b[0mheaders\u001b[0m\u001b[0;34m,\u001b[0m \u001b[0mencode_chunked\u001b[0m\u001b[0;34m)\u001b[0m\u001b[0;34m:\u001b[0m\u001b[0;34m\u001b[0m\u001b[0;34m\u001b[0m\u001b[0m\n",
            "\u001b[0;32m/usr/lib/python3.10/http/client.py\u001b[0m in \u001b[0;36m_send_request\u001b[0;34m(self, method, url, body, headers, encode_chunked)\u001b[0m\n\u001b[1;32m   1327\u001b[0m             \u001b[0;31m# default charset of iso-8859-1.\u001b[0m\u001b[0;34m\u001b[0m\u001b[0;34m\u001b[0m\u001b[0m\n\u001b[1;32m   1328\u001b[0m             \u001b[0mbody\u001b[0m \u001b[0;34m=\u001b[0m \u001b[0m_encode\u001b[0m\u001b[0;34m(\u001b[0m\u001b[0mbody\u001b[0m\u001b[0;34m,\u001b[0m \u001b[0;34m'body'\u001b[0m\u001b[0;34m)\u001b[0m\u001b[0;34m\u001b[0m\u001b[0;34m\u001b[0m\u001b[0m\n\u001b[0;32m-> 1329\u001b[0;31m         \u001b[0mself\u001b[0m\u001b[0;34m.\u001b[0m\u001b[0mendheaders\u001b[0m\u001b[0;34m(\u001b[0m\u001b[0mbody\u001b[0m\u001b[0;34m,\u001b[0m \u001b[0mencode_chunked\u001b[0m\u001b[0;34m=\u001b[0m\u001b[0mencode_chunked\u001b[0m\u001b[0;34m)\u001b[0m\u001b[0;34m\u001b[0m\u001b[0;34m\u001b[0m\u001b[0m\n\u001b[0m\u001b[1;32m   1330\u001b[0m \u001b[0;34m\u001b[0m\u001b[0m\n\u001b[1;32m   1331\u001b[0m     \u001b[0;32mdef\u001b[0m \u001b[0mgetresponse\u001b[0m\u001b[0;34m(\u001b[0m\u001b[0mself\u001b[0m\u001b[0;34m)\u001b[0m\u001b[0;34m:\u001b[0m\u001b[0;34m\u001b[0m\u001b[0;34m\u001b[0m\u001b[0m\n",
            "\u001b[0;32m/usr/lib/python3.10/http/client.py\u001b[0m in \u001b[0;36mendheaders\u001b[0;34m(self, message_body, encode_chunked)\u001b[0m\n\u001b[1;32m   1276\u001b[0m         \u001b[0;32melse\u001b[0m\u001b[0;34m:\u001b[0m\u001b[0;34m\u001b[0m\u001b[0;34m\u001b[0m\u001b[0m\n\u001b[1;32m   1277\u001b[0m             \u001b[0;32mraise\u001b[0m \u001b[0mCannotSendHeader\u001b[0m\u001b[0;34m(\u001b[0m\u001b[0;34m)\u001b[0m\u001b[0;34m\u001b[0m\u001b[0;34m\u001b[0m\u001b[0m\n\u001b[0;32m-> 1278\u001b[0;31m         \u001b[0mself\u001b[0m\u001b[0;34m.\u001b[0m\u001b[0m_send_output\u001b[0m\u001b[0;34m(\u001b[0m\u001b[0mmessage_body\u001b[0m\u001b[0;34m,\u001b[0m \u001b[0mencode_chunked\u001b[0m\u001b[0;34m=\u001b[0m\u001b[0mencode_chunked\u001b[0m\u001b[0;34m)\u001b[0m\u001b[0;34m\u001b[0m\u001b[0;34m\u001b[0m\u001b[0m\n\u001b[0m\u001b[1;32m   1279\u001b[0m \u001b[0;34m\u001b[0m\u001b[0m\n\u001b[1;32m   1280\u001b[0m     def request(self, method, url, body=None, headers={}, *,\n",
            "\u001b[0;32m/usr/lib/python3.10/http/client.py\u001b[0m in \u001b[0;36m_send_output\u001b[0;34m(self, message_body, encode_chunked)\u001b[0m\n\u001b[1;32m   1036\u001b[0m         \u001b[0mmsg\u001b[0m \u001b[0;34m=\u001b[0m \u001b[0;34mb\"\\r\\n\"\u001b[0m\u001b[0;34m.\u001b[0m\u001b[0mjoin\u001b[0m\u001b[0;34m(\u001b[0m\u001b[0mself\u001b[0m\u001b[0;34m.\u001b[0m\u001b[0m_buffer\u001b[0m\u001b[0;34m)\u001b[0m\u001b[0;34m\u001b[0m\u001b[0;34m\u001b[0m\u001b[0m\n\u001b[1;32m   1037\u001b[0m         \u001b[0;32mdel\u001b[0m \u001b[0mself\u001b[0m\u001b[0;34m.\u001b[0m\u001b[0m_buffer\u001b[0m\u001b[0;34m[\u001b[0m\u001b[0;34m:\u001b[0m\u001b[0;34m]\u001b[0m\u001b[0;34m\u001b[0m\u001b[0;34m\u001b[0m\u001b[0m\n\u001b[0;32m-> 1038\u001b[0;31m         \u001b[0mself\u001b[0m\u001b[0;34m.\u001b[0m\u001b[0msend\u001b[0m\u001b[0;34m(\u001b[0m\u001b[0mmsg\u001b[0m\u001b[0;34m)\u001b[0m\u001b[0;34m\u001b[0m\u001b[0;34m\u001b[0m\u001b[0m\n\u001b[0m\u001b[1;32m   1039\u001b[0m \u001b[0;34m\u001b[0m\u001b[0m\n\u001b[1;32m   1040\u001b[0m         \u001b[0;32mif\u001b[0m \u001b[0mmessage_body\u001b[0m \u001b[0;32mis\u001b[0m \u001b[0;32mnot\u001b[0m \u001b[0;32mNone\u001b[0m\u001b[0;34m:\u001b[0m\u001b[0;34m\u001b[0m\u001b[0;34m\u001b[0m\u001b[0m\n",
            "\u001b[0;32m/usr/lib/python3.10/http/client.py\u001b[0m in \u001b[0;36msend\u001b[0;34m(self, data)\u001b[0m\n\u001b[1;32m    974\u001b[0m         \u001b[0;32mif\u001b[0m \u001b[0mself\u001b[0m\u001b[0;34m.\u001b[0m\u001b[0msock\u001b[0m \u001b[0;32mis\u001b[0m \u001b[0;32mNone\u001b[0m\u001b[0;34m:\u001b[0m\u001b[0;34m\u001b[0m\u001b[0;34m\u001b[0m\u001b[0m\n\u001b[1;32m    975\u001b[0m             \u001b[0;32mif\u001b[0m \u001b[0mself\u001b[0m\u001b[0;34m.\u001b[0m\u001b[0mauto_open\u001b[0m\u001b[0;34m:\u001b[0m\u001b[0;34m\u001b[0m\u001b[0;34m\u001b[0m\u001b[0m\n\u001b[0;32m--> 976\u001b[0;31m                 \u001b[0mself\u001b[0m\u001b[0;34m.\u001b[0m\u001b[0mconnect\u001b[0m\u001b[0;34m(\u001b[0m\u001b[0;34m)\u001b[0m\u001b[0;34m\u001b[0m\u001b[0;34m\u001b[0m\u001b[0m\n\u001b[0m\u001b[1;32m    977\u001b[0m             \u001b[0;32melse\u001b[0m\u001b[0;34m:\u001b[0m\u001b[0;34m\u001b[0m\u001b[0;34m\u001b[0m\u001b[0m\n\u001b[1;32m    978\u001b[0m                 \u001b[0;32mraise\u001b[0m \u001b[0mNotConnected\u001b[0m\u001b[0;34m(\u001b[0m\u001b[0;34m)\u001b[0m\u001b[0;34m\u001b[0m\u001b[0;34m\u001b[0m\u001b[0m\n",
            "\u001b[0;32m/usr/lib/python3.10/http/client.py\u001b[0m in \u001b[0;36mconnect\u001b[0;34m(self)\u001b[0m\n\u001b[1;32m   1453\u001b[0m                 \u001b[0mserver_hostname\u001b[0m \u001b[0;34m=\u001b[0m \u001b[0mself\u001b[0m\u001b[0;34m.\u001b[0m\u001b[0mhost\u001b[0m\u001b[0;34m\u001b[0m\u001b[0;34m\u001b[0m\u001b[0m\n\u001b[1;32m   1454\u001b[0m \u001b[0;34m\u001b[0m\u001b[0m\n\u001b[0;32m-> 1455\u001b[0;31m             self.sock = self._context.wrap_socket(self.sock,\n\u001b[0m\u001b[1;32m   1456\u001b[0m                                                   server_hostname=server_hostname)\n\u001b[1;32m   1457\u001b[0m \u001b[0;34m\u001b[0m\u001b[0m\n",
            "\u001b[0;32m/usr/lib/python3.10/ssl.py\u001b[0m in \u001b[0;36mwrap_socket\u001b[0;34m(self, sock, server_side, do_handshake_on_connect, suppress_ragged_eofs, server_hostname, session)\u001b[0m\n\u001b[1;32m    511\u001b[0m         \u001b[0;31m# SSLSocket class handles server_hostname encoding before it calls\u001b[0m\u001b[0;34m\u001b[0m\u001b[0;34m\u001b[0m\u001b[0m\n\u001b[1;32m    512\u001b[0m         \u001b[0;31m# ctx._wrap_socket()\u001b[0m\u001b[0;34m\u001b[0m\u001b[0;34m\u001b[0m\u001b[0m\n\u001b[0;32m--> 513\u001b[0;31m         return self.sslsocket_class._create(\n\u001b[0m\u001b[1;32m    514\u001b[0m             \u001b[0msock\u001b[0m\u001b[0;34m=\u001b[0m\u001b[0msock\u001b[0m\u001b[0;34m,\u001b[0m\u001b[0;34m\u001b[0m\u001b[0;34m\u001b[0m\u001b[0m\n\u001b[1;32m    515\u001b[0m             \u001b[0mserver_side\u001b[0m\u001b[0;34m=\u001b[0m\u001b[0mserver_side\u001b[0m\u001b[0;34m,\u001b[0m\u001b[0;34m\u001b[0m\u001b[0;34m\u001b[0m\u001b[0m\n",
            "\u001b[0;32m/usr/lib/python3.10/ssl.py\u001b[0m in \u001b[0;36m_create\u001b[0;34m(cls, sock, server_side, do_handshake_on_connect, suppress_ragged_eofs, server_hostname, context, session)\u001b[0m\n\u001b[1;32m   1098\u001b[0m                         \u001b[0;31m# non-blocking\u001b[0m\u001b[0;34m\u001b[0m\u001b[0;34m\u001b[0m\u001b[0m\n\u001b[1;32m   1099\u001b[0m                         \u001b[0;32mraise\u001b[0m \u001b[0mValueError\u001b[0m\u001b[0;34m(\u001b[0m\u001b[0;34m\"do_handshake_on_connect should not be specified for non-blocking sockets\"\u001b[0m\u001b[0;34m)\u001b[0m\u001b[0;34m\u001b[0m\u001b[0;34m\u001b[0m\u001b[0m\n\u001b[0;32m-> 1100\u001b[0;31m                     \u001b[0mself\u001b[0m\u001b[0;34m.\u001b[0m\u001b[0mdo_handshake\u001b[0m\u001b[0;34m(\u001b[0m\u001b[0;34m)\u001b[0m\u001b[0;34m\u001b[0m\u001b[0;34m\u001b[0m\u001b[0m\n\u001b[0m\u001b[1;32m   1101\u001b[0m             \u001b[0;32mexcept\u001b[0m \u001b[0;34m(\u001b[0m\u001b[0mOSError\u001b[0m\u001b[0;34m,\u001b[0m \u001b[0mValueError\u001b[0m\u001b[0;34m)\u001b[0m\u001b[0;34m:\u001b[0m\u001b[0;34m\u001b[0m\u001b[0;34m\u001b[0m\u001b[0m\n\u001b[1;32m   1102\u001b[0m                 \u001b[0mself\u001b[0m\u001b[0;34m.\u001b[0m\u001b[0mclose\u001b[0m\u001b[0;34m(\u001b[0m\u001b[0;34m)\u001b[0m\u001b[0;34m\u001b[0m\u001b[0;34m\u001b[0m\u001b[0m\n",
            "\u001b[0;32m/usr/lib/python3.10/ssl.py\u001b[0m in \u001b[0;36mdo_handshake\u001b[0;34m(self, block)\u001b[0m\n\u001b[1;32m   1369\u001b[0m             \u001b[0;32mif\u001b[0m \u001b[0mtimeout\u001b[0m \u001b[0;34m==\u001b[0m \u001b[0;36m0.0\u001b[0m \u001b[0;32mand\u001b[0m \u001b[0mblock\u001b[0m\u001b[0;34m:\u001b[0m\u001b[0;34m\u001b[0m\u001b[0;34m\u001b[0m\u001b[0m\n\u001b[1;32m   1370\u001b[0m                 \u001b[0mself\u001b[0m\u001b[0;34m.\u001b[0m\u001b[0msettimeout\u001b[0m\u001b[0;34m(\u001b[0m\u001b[0;32mNone\u001b[0m\u001b[0;34m)\u001b[0m\u001b[0;34m\u001b[0m\u001b[0;34m\u001b[0m\u001b[0m\n\u001b[0;32m-> 1371\u001b[0;31m             \u001b[0mself\u001b[0m\u001b[0;34m.\u001b[0m\u001b[0m_sslobj\u001b[0m\u001b[0;34m.\u001b[0m\u001b[0mdo_handshake\u001b[0m\u001b[0;34m(\u001b[0m\u001b[0;34m)\u001b[0m\u001b[0;34m\u001b[0m\u001b[0;34m\u001b[0m\u001b[0m\n\u001b[0m\u001b[1;32m   1372\u001b[0m         \u001b[0;32mfinally\u001b[0m\u001b[0;34m:\u001b[0m\u001b[0;34m\u001b[0m\u001b[0;34m\u001b[0m\u001b[0m\n\u001b[1;32m   1373\u001b[0m             \u001b[0mself\u001b[0m\u001b[0;34m.\u001b[0m\u001b[0msettimeout\u001b[0m\u001b[0;34m(\u001b[0m\u001b[0mtimeout\u001b[0m\u001b[0;34m)\u001b[0m\u001b[0;34m\u001b[0m\u001b[0;34m\u001b[0m\u001b[0m\n",
            "\u001b[0;31mKeyboardInterrupt\u001b[0m: "
          ]
        }
      ]
    },
    {
      "cell_type": "code",
      "source": [
        "idx = -1\n",
        "path_to_img(ids[idx]['image'])\n",
        "ids[idx]['title']"
      ],
      "metadata": {
        "id": "sIVItQajPHmN"
      },
      "execution_count": null,
      "outputs": []
    },
    {
      "cell_type": "code",
      "source": [
        "titles = [section['title'] for section in ids]\n",
        "paths = [section['image'] for section in ids]\n"
      ],
      "metadata": {
        "id": "QImvluxhNvDW"
      },
      "execution_count": null,
      "outputs": []
    },
    {
      "cell_type": "code",
      "source": [
        "from transformers import DistilBertModel, DistilBertConfig, DistilBertTokenizer\n",
        "\n",
        "tokenizer = DistilBertTokenizer.from_pretrained(\"distilbert-base-uncased\")\n",
        "class CLIPDataset(torch.utils.data.Dataset):\n",
        "  def __init__(self, titles, paths, tokenizer=tokenizer, transform=torchvision.transforms.CenterCrop(size=(80, 80))):\n",
        "    super().__init__()\n",
        "    self.titles = titles\n",
        "    self.paths = paths\n",
        "    assert len(self.titles) == len(self.paths), \"Mis-matched lengths\"\n",
        "\n",
        "    self.tokenizer = tokenizer\n",
        "    self.transform = transform\n",
        "\n",
        "    # self.captions = list(captions)\n",
        "    self.encoded_captions = tokenizer(\n",
        "        list(titles), padding=True, truncation=True, max_length=100\n",
        "    )\n",
        "\n",
        "  def __len__(self):\n",
        "    return len(self.titles)\n",
        "\n",
        "  # def __getitem__(self, idx):\n",
        "  #   title, path = self.titles[idx], self.paths[idx]\n",
        "  #   img = self.transform(read_image(path))\n",
        "  #   tokens = self.tokenizer(\n",
        "  #           list(title), padding=True, truncation=True, max_length=30\n",
        "  #   )\n",
        "\n",
        "  #   # return img, 0\n",
        "  #   return img, [tokens]\n",
        "  def __getitem__(self, idx):\n",
        "    title, path = self.titles[idx], self.paths[idx]\n",
        "    img = self.transform(read_image(path))\n",
        "\n",
        "    item = {\n",
        "        key: torch.tensor(values[idx])\n",
        "        for key, values in self.encoded_captions.items()\n",
        "    }\n",
        "\n",
        "    item['image']=img\n",
        "\n",
        "\n",
        "\n",
        "\n",
        "\n",
        "    return item\n",
        "\n",
        "\n"
      ],
      "metadata": {
        "id": "ZMuxcS2KOg41",
        "colab": {
          "base_uri": "https://localhost:8080/",
          "height": 269,
          "referenced_widgets": [
            "31b18a4271474ab89e8a8a327ce84210",
            "42cdbbe7b77e469bbea83e72c6ba42e1",
            "454e9b87012545879ae7d12224673236",
            "d9715058ddaf4878bd9a67bc4df2cfa0",
            "2dfc39cca07b475cb05573cd524b2203",
            "03735ea6a6094952a4aae908f620ba3e",
            "9b485ee5d5d646cf97885571f4b45a5a",
            "caea851c8dc648c9a35acbedfa4df5e3",
            "b61a5d05e5e64a7898609209bbf72e80",
            "7d63d15f7063411ba5c183445f107642",
            "1a33f51c7dc54527953b28b4f6b537d2",
            "bd4278beb1b040729976ea55a70352a4",
            "bed9434a561b47b8b45769f0b9265ca4",
            "a349eacab84b421cb7637dc822834a35",
            "7e6db6bea5ae4e1aa5330013ad679c92",
            "02368f11aa76403d9b32c7def994cd2c",
            "592d06a3fe1f4c608f1d3936e6ead6ae",
            "f4b50cfdf3ed4e9f83d42d239db8511b",
            "a60ee32290c447d8a42051ec2e709d3b",
            "374924c1f0524d2dba9c25950b49960f",
            "9ba905947115403198ba580c7e9474eb",
            "e83c9093fce847b792d738c5fd856fc3",
            "9d417fed41494f8d91c2dd17ea3bb8bf",
            "377788b15f6a4ece99c41ffb22fc6b3f",
            "e047a23efc4a43378f8d9e6266608547",
            "1f7507808f6241e6a055e6a1b3d75c37",
            "ac67ce304402411ba413307d905b8a18",
            "886a9add12824b43893fd21bdf014d5f",
            "31afc6770422455987c225223b452139",
            "b7723ebd9dc940f0a374e9c2bfbd4979",
            "44ad3de7f1eb40b696e1aed120868e63",
            "5322ba320d00495cba6a9a74154c9877",
            "7fd7be426ce74d2fbfeadd679deab8e8",
            "19b59c8ef85149509a9dbbd099744ade",
            "76e5220ed5ed41ffad7b42f9d2441dd5",
            "3dabc1c6392e438c80a966350f7c6df1",
            "3e641e186563483cbaa7948bbb4a2187",
            "e6e05e805c9e4d7db2f77ec856b3b7b7",
            "06b903176cf9486d8385d74c66941f6f",
            "212fc081dfb749b38094fbf7b2dae574",
            "a72b4b831b4349379eaa3e42ecf6fb34",
            "615cb0386ec9445296102b46e5a2b061",
            "8f2c6ab801fa473da75ec147937547c2",
            "21846c20448349b6994bdea93d7d3215"
          ]
        },
        "outputId": "579c4251-9105-4029-ab9e-60bd95a5b849"
      },
      "execution_count": 8,
      "outputs": [
        {
          "output_type": "stream",
          "name": "stderr",
          "text": [
            "/usr/local/lib/python3.10/dist-packages/huggingface_hub/utils/_token.py:88: UserWarning: \n",
            "The secret `HF_TOKEN` does not exist in your Colab secrets.\n",
            "To authenticate with the Hugging Face Hub, create a token in your settings tab (https://huggingface.co/settings/tokens), set it as secret in your Google Colab and restart your session.\n",
            "You will be able to reuse this secret in all of your notebooks.\n",
            "Please note that authentication is recommended but still optional to access public models or datasets.\n",
            "  warnings.warn(\n"
          ]
        },
        {
          "output_type": "display_data",
          "data": {
            "text/plain": [
              "tokenizer_config.json:   0%|          | 0.00/48.0 [00:00<?, ?B/s]"
            ],
            "application/vnd.jupyter.widget-view+json": {
              "version_major": 2,
              "version_minor": 0,
              "model_id": "31b18a4271474ab89e8a8a327ce84210"
            }
          },
          "metadata": {}
        },
        {
          "output_type": "display_data",
          "data": {
            "text/plain": [
              "vocab.txt:   0%|          | 0.00/232k [00:00<?, ?B/s]"
            ],
            "application/vnd.jupyter.widget-view+json": {
              "version_major": 2,
              "version_minor": 0,
              "model_id": "bd4278beb1b040729976ea55a70352a4"
            }
          },
          "metadata": {}
        },
        {
          "output_type": "display_data",
          "data": {
            "text/plain": [
              "tokenizer.json:   0%|          | 0.00/466k [00:00<?, ?B/s]"
            ],
            "application/vnd.jupyter.widget-view+json": {
              "version_major": 2,
              "version_minor": 0,
              "model_id": "9d417fed41494f8d91c2dd17ea3bb8bf"
            }
          },
          "metadata": {}
        },
        {
          "output_type": "display_data",
          "data": {
            "text/plain": [
              "config.json:   0%|          | 0.00/483 [00:00<?, ?B/s]"
            ],
            "application/vnd.jupyter.widget-view+json": {
              "version_major": 2,
              "version_minor": 0,
              "model_id": "19b59c8ef85149509a9dbbd099744ade"
            }
          },
          "metadata": {}
        }
      ]
    },
    {
      "cell_type": "code",
      "source": [
        "# dataset = CLIPDataset(titles,paths)\n",
        "# dataloader = torch.utils.data.DataLoader(dataset, batch_size=32, shuffle=True)"
      ],
      "metadata": {
        "id": "a9wtmgdmNE2p"
      },
      "execution_count": null,
      "outputs": []
    },
    {
      "cell_type": "code",
      "source": [
        "# iteration = iter(dataloader)\n",
        "# ne = next(iteration)\n"
      ],
      "metadata": {
        "id": "ou_woOQasbbg"
      },
      "execution_count": null,
      "outputs": []
    },
    {
      "cell_type": "code",
      "source": [
        "ne = None\n",
        "for batch in iteration:\n",
        "  ne = batch\n",
        "  break\n",
        "\n"
      ],
      "metadata": {
        "id": "E2C6WnbmiWHi"
      },
      "execution_count": null,
      "outputs": []
    },
    {
      "cell_type": "code",
      "source": [],
      "metadata": {
        "id": "WWTdZd3TsFTJ"
      },
      "execution_count": null,
      "outputs": []
    },
    {
      "cell_type": "markdown",
      "source": [
        "# Architectures\n"
      ],
      "metadata": {
        "id": "BOfgDIheKTpg"
      }
    },
    {
      "cell_type": "code",
      "source": [
        "def pair(t):\n",
        "    return t if isinstance(t, tuple) else (t, t)\n",
        "\n",
        "class Attention(nn.Module):\n",
        "    def __init__(self, dim, heads, dim_head):\n",
        "        super().__init__()\n",
        "        inner_dim = dim_head *  heads\n",
        "        self.heads = heads\n",
        "        self.scale = dim_head ** -0.5\n",
        "        self.norm = nn.LayerNorm(dim)\n",
        "\n",
        "        self.attend = nn.Softmax(dim = -1)\n",
        "\n",
        "        self.to_qkv = nn.Linear(dim, inner_dim * 3, bias = False)\n",
        "        self.to_out = nn.Linear(inner_dim, dim, bias = False)\n",
        "\n",
        "    def forward(self,input):\n",
        "        x = self.norm(input)\n",
        "        qkv = self.to_qkv(x).chunk(3,dim=-1)\n",
        "        q, k, v = map(lambda t: rearrange(t, 'b n (h d) -> b h n d', h = self.heads), qkv)\n",
        "\n",
        "        dots = torch.matmul(q, k.transpose(-1, -2)) * self.scale\n",
        "\n",
        "        attn = self.attend(dots)\n",
        "\n",
        "        out = torch.matmul(attn, v)\n",
        "        out = rearrange(out, 'b h n d -> b n (h d)')\n",
        "\n",
        "        return self.to_out(out)\n",
        "\n",
        "class FeedForward(nn.Module):\n",
        "  def __init__(self,dim, hidden_dim):\n",
        "    super().__init__()\n",
        "    self.network = nn.Sequential(\n",
        "        nn.LayerNorm(dim),\n",
        "        nn.Linear(dim, hidden_dim),\n",
        "        nn.GELU(),\n",
        "        nn.Linear(hidden_dim, dim)\n",
        "    )\n",
        "  def forward(self, input):\n",
        "    return self.network(input)\n",
        "\n",
        "class Transformer(nn.Module):\n",
        "    def __init__(self, dim, depth, heads, dim_head, mlp_dim):\n",
        "        super().__init__()\n",
        "        self.norm = nn.LayerNorm(dim)\n",
        "        self.layers = nn.ModuleList([])\n",
        "        for _ in range(depth):\n",
        "            self.layers.append(nn.ModuleList([\n",
        "                Attention(dim, heads, dim_head),\n",
        "                FeedForward(dim, mlp_dim)\n",
        "            ]))\n",
        "\n",
        "    def forward(self, x):\n",
        "      for (attn, ff) in self.layers:\n",
        "        x = attn(x) + x\n",
        "        x = ff(x) + x\n",
        "      return self.norm(x)\n",
        "\n",
        "\n",
        "\n",
        "class ViT(nn.Module):\n",
        "    def __init__(self, *, image_size, patch_size, num_classes, dim, depth, heads, mlp_dim, pool = 'cls', channels = 3, dim_head = 64, dropout = 0., emb_dropout = 0.):\n",
        "        super().__init__()\n",
        "        image_height, image_width = pair(image_size)\n",
        "        patch_height, patch_width = pair(patch_size)\n",
        "\n",
        "        assert image_height % patch_height == 0 and image_width % patch_width == 0, 'Image dimensions must be divisible by the patch size.'\n",
        "\n",
        "        num_patches = (image_height // patch_height) * (image_width // patch_width)\n",
        "        patch_dim = channels * patch_height * patch_width\n",
        "        assert pool in {'cls', 'mean'}, 'pool type must be either cls (cls token) or mean (mean pooling)'\n",
        "\n",
        "        self.to_patch_embedding = nn.Sequential(\n",
        "            Rearrange('b c (h p1) (w p2) -> b (h w) (p1 p2 c)', p1 = patch_height, p2 = patch_width),\n",
        "            nn.LayerNorm(patch_dim),\n",
        "            nn.Linear(patch_dim, dim),\n",
        "            nn.LayerNorm(dim),\n",
        "        )\n",
        "\n",
        "        self.pos_embedding = nn.Parameter(torch.randn(1, num_patches + 1, dim))\n",
        "        self.cls_token = nn.Parameter(torch.randn(1, 1, dim))\n",
        "        self.dropout = nn.Dropout(emb_dropout)\n",
        "\n",
        "        self.transformer = Transformer(dim, depth, heads, dim_head, mlp_dim)\n",
        "\n",
        "        self.pool = pool\n",
        "        self.to_latent = nn.Identity()\n",
        "\n",
        "        self.mlp_head = nn.Linear(dim, num_classes)\n",
        "\n",
        "    def forward(self, img):\n",
        "        x = self.to_patch_embedding(img)\n",
        "        b, n, _ = x.shape\n",
        "\n",
        "        cls_tokens = repeat(self.cls_token, '1 1 d -> b 1 d', b = b)\n",
        "        x = torch.cat((cls_tokens, x), dim=1)\n",
        "        x += self.pos_embedding[:, :(n + 1)]\n",
        "        x = self.dropout(x)\n",
        "\n",
        "        x = self.transformer(x)\n",
        "\n",
        "        x = x.mean(dim = 1) if self.pool == 'mean' else x[:, 0]\n",
        "\n",
        "        x = self.to_latent(x)\n",
        "        return self.mlp_head(x)\n",
        "\n"
      ],
      "metadata": {
        "id": "lS7WWv9hFKUq"
      },
      "execution_count": 9,
      "outputs": []
    },
    {
      "cell_type": "code",
      "source": [
        "class TextEncoder(nn.Module):\n",
        "\n",
        "    def __init__(self, model_name=\"distilbert-base-uncased\", pretrained=True, trainable=True):\n",
        "        super().__init__()\n",
        "        if pretrained:\n",
        "            self.model = DistilBertModel.from_pretrained(model_name)\n",
        "        else:\n",
        "            self.model = DistilBertModel(config=DistilBertConfig())\n",
        "\n",
        "        for p in self.model.parameters():\n",
        "            p.requires_grad = trainable\n",
        "\n",
        "        # we are using the CLS token hidden representation as the sentence's embedding\n",
        "        self.target_token_idx = 0\n",
        "\n",
        "    def forward(self, input_ids, attention_mask):\n",
        "        output = self.model(input_ids=input_ids, attention_mask=attention_mask)\n",
        "        last_hidden_state = output.last_hidden_state\n",
        "        return last_hidden_state[:, self.target_token_idx, :]\n"
      ],
      "metadata": {
        "id": "oqOqpH36xDsZ"
      },
      "execution_count": 10,
      "outputs": []
    },
    {
      "cell_type": "code",
      "source": [
        "class Projection(nn.Module):\n",
        "    def __init__(self, in_dim, out_dim, dropout=.1):\n",
        "        super().__init__()\n",
        "        self.in_to_out = nn.Linear(in_dim, out_features=out_dim)\n",
        "        self.fc = nn.Sequential(\n",
        "            nn.GELU(),\n",
        "            nn.Linear(out_dim, out_dim),\n",
        "            nn.Dropout(dropout)\n",
        "        )\n",
        "        self.layer_norm = nn.LayerNorm(out_dim)\n",
        "\n",
        "    def forward(self, input):\n",
        "      input = self.in_to_out(input)\n",
        "      x = self.fc(input) + input\n",
        "      return self.layer_norm(x)"
      ],
      "metadata": {
        "id": "v20jg7rfxDut"
      },
      "execution_count": 11,
      "outputs": []
    },
    {
      "cell_type": "code",
      "source": [],
      "metadata": {
        "id": "abwjiTwAx1F3"
      },
      "execution_count": 11,
      "outputs": []
    },
    {
      "cell_type": "code",
      "source": [
        "\n"
      ],
      "metadata": {
        "id": "Ih6V-1ubxDxE"
      },
      "execution_count": 11,
      "outputs": []
    },
    {
      "cell_type": "code",
      "source": [],
      "metadata": {
        "id": "HuFcKPjtFNPT"
      },
      "execution_count": 11,
      "outputs": []
    },
    {
      "cell_type": "code",
      "source": [],
      "metadata": {
        "id": "byxO_ELsTHjn"
      },
      "execution_count": 11,
      "outputs": []
    },
    {
      "cell_type": "code",
      "source": [],
      "metadata": {
        "id": "Yfc2b5QvTHl7"
      },
      "execution_count": 11,
      "outputs": []
    },
    {
      "cell_type": "code",
      "source": [
        "from torch.nn.functional import softmax\n",
        "\n",
        "class CLIP(nn.Module):\n",
        "  def __init__(self):\n",
        "    super().__init__()\n",
        "    self.text_encoder = TextEncoder()\n",
        "    self.image_encoder = ViT(\n",
        "      channels=3,\n",
        "      image_size=80,\n",
        "      patch_size=8,\n",
        "      num_classes=256,\n",
        "      dim=64,\n",
        "      depth=6,\n",
        "      heads=8,\n",
        "      mlp_dim=128,\n",
        "      dropout=0.1,\n",
        "      emb_dropout=0.1\n",
        "    )\n",
        "    self.temperature = 1.0\n",
        "\n",
        "    self.text_projection = Projection(768, 200)\n",
        "    self.vision_projection = Projection(256, 200)\n",
        "\n",
        "\n",
        "  def forward(self, ids, attn, c):\n",
        "\n",
        "    text_embedding = self.text_encoder(ids, attn)\n",
        "    vision_embedding = self.image_encoder(c)\n",
        "    text_multi = self.text_projection(text_embedding)\n",
        "    vision_multi = self.vision_projection(vision_embedding)\n",
        "\n",
        "    logits = (text_multi @ vision_multi.T) / self.temperature\n",
        "\n",
        "    images_similarity = vision_multi @ vision_multi.T\n",
        "    texts_similarity = text_multi @ text_multi.T\n",
        "\n",
        "    targets = softmax(\n",
        "        (images_similarity + texts_similarity) / 2 * self.temperature, dim=-1\n",
        "    )\n",
        "\n",
        "    texts_loss = cross_entropy(logits, targets, reduction='none')\n",
        "    images_loss = cross_entropy(logits.T, targets.T, reduction='none')\n",
        "    loss =  (images_loss + texts_loss) / 2.0 # shape: (batch_size)\n",
        "    return loss.mean()\n",
        "\n",
        "def cross_entropy(preds, targets, reduction='none'):\n",
        "    log_softmax = nn.LogSoftmax(dim=-1)\n",
        "    loss = (-targets * log_softmax(preds)).sum(1)\n",
        "    if reduction == \"none\":\n",
        "        return loss\n",
        "    elif reduction == \"mean\":\n",
        "        return loss.mean()\n"
      ],
      "metadata": {
        "id": "Nf1ABRGqTHoC"
      },
      "execution_count": 12,
      "outputs": []
    },
    {
      "cell_type": "code",
      "source": [
        "clip_model = CLIP()\n"
      ],
      "metadata": {
        "id": "S7NH4UhpKV_d",
        "colab": {
          "base_uri": "https://localhost:8080/",
          "height": 49,
          "referenced_widgets": [
            "37aea618a1d74d0abe1140e92e89ac48",
            "2ce6ede0c5f148efad194507657c0ca2",
            "ed0641f7723944fe8cb70ce768a000f3",
            "659e57c3c4ec496ca1d03963159c597d",
            "bea61c0557594d2eaa6781e9dad06d45",
            "038bff721c9342fe8bce3a347a94f0e5",
            "e9f15dc4fabe45ccab875c62be6ab15a",
            "2f8a3bbec24147cba90ab14ae254470a",
            "9c17b36069a545f08bc20e935494c55c",
            "ce7d6119d14449b8bd4c5fb7117cb6c2",
            "217353db2bcc4a9684f74a021de08bed"
          ]
        },
        "outputId": "9070b7fd-84a5-434f-cf4b-e066ae532dfd"
      },
      "execution_count": 13,
      "outputs": [
        {
          "output_type": "display_data",
          "data": {
            "text/plain": [
              "model.safetensors:   0%|          | 0.00/268M [00:00<?, ?B/s]"
            ],
            "application/vnd.jupyter.widget-view+json": {
              "version_major": 2,
              "version_minor": 0,
              "model_id": "37aea618a1d74d0abe1140e92e89ac48"
            }
          },
          "metadata": {}
        }
      ]
    },
    {
      "cell_type": "code",
      "source": [
        "# testing\n",
        "# iteration = iter(dataloader)\n",
        "# next = next(iteration)\n",
        "# c = next['image'].to(dtype=torch.float32)\n",
        "# ids = next['input_ids']\n",
        "# attn = next['attention_mask']\n",
        "# out = clip_model(ids, attn, c)"
      ],
      "metadata": {
        "id": "P7Op9a6wURVY"
      },
      "execution_count": 14,
      "outputs": []
    },
    {
      "cell_type": "code",
      "source": [
        "# out"
      ],
      "metadata": {
        "id": "13P3TClhUZjE"
      },
      "execution_count": 15,
      "outputs": []
    },
    {
      "cell_type": "code",
      "source": [
        "\n",
        "\n",
        "\n",
        "!kaggle datasets download -d adityajn105/flickr8k\n",
        "!unzip \"flickr8k.zip\"\n",
        "\n",
        "def create_title_image_list(file_path):\n",
        "    title_image_list = []\n",
        "\n",
        "    with open(file_path, 'r') as file:\n",
        "        lines = file.readlines()\n",
        "\n",
        "        for line in lines:\n",
        "            line = line.strip()\n",
        "            split_up = line.split(',')\n",
        "            if len(split_up)==2:\n",
        "                image_path, title = split_up[0], split_up[1]\n",
        "                title_image_list.append((title, f\"./Images/{image_path}\"))\n",
        "\n",
        "    return title_image_list\n",
        "data = create_title_image_list(\"captions.txt\")\n",
        "titles = [datum[0] for datum in data]\n",
        "image_paths = [datum[1] for datum in data]\n",
        "image_paths.pop(0)\n",
        "titles.pop(0)\n"
      ],
      "metadata": {
        "id": "XwIHZsWyBg5N",
        "colab": {
          "base_uri": "https://localhost:8080/",
          "height": 1000
        },
        "outputId": "6e17d79e-8696-4de8-8ab5-9e2d8954ad80"
      },
      "execution_count": 16,
      "outputs": [
        {
          "output_type": "stream",
          "name": "stdout",
          "text": [
            "\u001b[1;30;43mStreaming output truncated to the last 5000 lines.\u001b[0m\n",
            "  inflating: Images/2844846111_8c1cbfc75d.jpg  \n",
            "  inflating: Images/2844963839_ff09cdb81f.jpg  \n",
            "  inflating: Images/2845246160_d0d1bbd6f0.jpg  \n",
            "  inflating: Images/2845691057_d4ab89d889.jpg  \n",
            "  inflating: Images/2845845721_d0bc113ff7.jpg  \n",
            "  inflating: Images/2846037553_1a1de50709.jpg  \n",
            "  inflating: Images/2846785268_904c5fcf9f.jpg  \n",
            "  inflating: Images/2846843520_b0e6211478.jpg  \n",
            "  inflating: Images/2847514745_9a35493023.jpg  \n",
            "  inflating: Images/2847615962_c330bded6e.jpg  \n",
            "  inflating: Images/2847859796_4d9cb0d31f.jpg  \n",
            "  inflating: Images/2848266893_9693c66275.jpg  \n",
            "  inflating: Images/2848571082_26454cb981.jpg  \n",
            "  inflating: Images/2848895544_6d06210e9d.jpg  \n",
            "  inflating: Images/2848977044_446a31d86e.jpg  \n",
            "  inflating: Images/2849194983_2968c72832.jpg  \n",
            "  inflating: Images/2850719435_221f15e951.jpg  \n",
            "  inflating: Images/2851198725_37b6027625.jpg  \n",
            "  inflating: Images/2851304910_b5721199bc.jpg  \n",
            "  inflating: Images/2851931813_eaf8ed7be3.jpg  \n",
            "  inflating: Images/2852982055_8112d0964f.jpg  \n",
            "  inflating: Images/285306009_f6ddabe687.jpg  \n",
            "  inflating: Images/2853205396_4fbe8d7a73.jpg  \n",
            "  inflating: Images/2853407781_c9fea8eef4.jpg  \n",
            "  inflating: Images/2853743795_e90ebc669d.jpg  \n",
            "  inflating: Images/2853811730_fbb8ab0878.jpg  \n",
            "  inflating: Images/2854207034_1f00555703.jpg  \n",
            "  inflating: Images/2854234756_8c0e472f51.jpg  \n",
            "  inflating: Images/2854291706_d4c31dbf56.jpg  \n",
            "  inflating: Images/2854959952_3991a385ab.jpg  \n",
            "  inflating: Images/2855417531_521bf47b50.jpg  \n",
            "  inflating: Images/2855594918_1d1e6a6061.jpg  \n",
            "  inflating: Images/2855667597_bf6ceaef8e.jpg  \n",
            "  inflating: Images/2855695119_4342aae0a3.jpg  \n",
            "  inflating: Images/2855727603_e917ded363.jpg  \n",
            "  inflating: Images/285586547_c81f8905a1.jpg  \n",
            "  inflating: Images/2855910826_d075845288.jpg  \n",
            "  inflating: Images/2856080862_95d793fa9d.jpg  \n",
            "  inflating: Images/2856252334_1b1a230e70.jpg  \n",
            "  inflating: Images/2856456013_335297f587.jpg  \n",
            "  inflating: Images/2856524322_1d04452a21.jpg  \n",
            "  inflating: Images/2856699493_65edef80a1.jpg  \n",
            "  inflating: Images/2856700531_312528eea4.jpg  \n",
            "  inflating: Images/2856923934_6eb8832c9a.jpg  \n",
            "  inflating: Images/2857372127_d86639002c.jpg  \n",
            "  inflating: Images/2857473929_4f52662c30.jpg  \n",
            "  inflating: Images/2857558098_98e9249284.jpg  \n",
            "  inflating: Images/2857609295_16aaa85293.jpg  \n",
            "  inflating: Images/2858439751_daa3a30ab8.jpg  \n",
            "  inflating: Images/2858759108_6e697c5f3e.jpg  \n",
            "  inflating: Images/2858903676_6278f07ee3.jpg  \n",
            "  inflating: Images/2860035355_3fe7a5caa4.jpg  \n",
            "  inflating: Images/2860040276_eac0aca4fc.jpg  \n",
            "  inflating: Images/2860041212_797afd6ccf.jpg  \n",
            "  inflating: Images/2860202109_97b2b22652.jpg  \n",
            "  inflating: Images/2860372882_e0ef4131d4.jpg  \n",
            "  inflating: Images/2860400846_2c1026a573.jpg  \n",
            "  inflating: Images/2860667542_95abec3380.jpg  \n",
            "  inflating: Images/2860872588_f2c7b30e1a.jpg  \n",
            "  inflating: Images/2861100960_457ceda7fa.jpg  \n",
            "  inflating: Images/2861413434_f0e2a10179.jpg  \n",
            "  inflating: Images/2861932486_52befd8592.jpg  \n",
            "  inflating: Images/2862004252_53894bb28b.jpg  \n",
            "  inflating: Images/2862469183_a4334b904a.jpg  \n",
            "  inflating: Images/2862481071_86c65d46fa.jpg  \n",
            "  inflating: Images/2862509442_4f5dc96dca.jpg  \n",
            "  inflating: Images/2862676319_a9dab1309f.jpg  \n",
            "  inflating: Images/2862931640_2501bd36c5.jpg  \n",
            "  inflating: Images/2863027424_9c75105660.jpg  \n",
            "  inflating: Images/2863180332_372510aa49.jpg  \n",
            "  inflating: Images/2863349041_5eba6e3e21.jpg  \n",
            "  inflating: Images/2863848437_f2592ab42d.jpg  \n",
            "  inflating: Images/2864340145_d28b842faf.jpg  \n",
            "  inflating: Images/2864634088_d087494dff.jpg  \n",
            "  inflating: Images/2865376471_43c5e6b941.jpg  \n",
            "  inflating: Images/2865409854_afedf98860.jpg  \n",
            "  inflating: Images/2865564810_5c63328cd4.jpg  \n",
            "  inflating: Images/2865703567_52de2444f2.jpg  \n",
            "  inflating: Images/2866093652_aa717eb9ce.jpg  \n",
            "  inflating: Images/2866254827_9a8f592017.jpg  \n",
            "  inflating: Images/2866529477_7e0c053ebc.jpg  \n",
            "  inflating: Images/286660725_ffdbdf3481.jpg  \n",
            "  inflating: Images/2866686547_0a67eb899d.jpg  \n",
            "  inflating: Images/2866696346_4dcccbd3a5.jpg  \n",
            "  inflating: Images/2866820467_ae699235a7.jpg  \n",
            "  inflating: Images/2866974237_e3c1e267c0.jpg  \n",
            "  inflating: Images/2867026654_38be983b44.jpg  \n",
            "  inflating: Images/2867699650_e6ddb540de.jpg  \n",
            "  inflating: Images/2867736861_43c9487a65.jpg  \n",
            "  inflating: Images/2867845624_22e4fe0a23.jpg  \n",
            "  inflating: Images/2867937005_91c092b157.jpg  \n",
            "  inflating: Images/2867968184_908d87cf2c.jpg  \n",
            "  inflating: Images/2868136205_3cf679208d.jpg  \n",
            "  inflating: Images/2868324804_5cc8030484.jpg  \n",
            "  inflating: Images/2868575889_2c030aa8ae.jpg  \n",
            "  inflating: Images/2868668723_0741222b23.jpg  \n",
            "  inflating: Images/2868776402_aef437e493.jpg  \n",
            "  inflating: Images/2869009633_ea3cafd437.jpg  \n",
            "  inflating: Images/2869253972_aa72df6bf3.jpg  \n",
            "  inflating: Images/2869491449_1041485a6b.jpg  \n",
            "  inflating: Images/2869765795_21a398cb24.jpg  \n",
            "  inflating: Images/2870194345_0bcbac1aa5.jpg  \n",
            "  inflating: Images/2870426310_4d59795032.jpg  \n",
            "  inflating: Images/2870875612_2cbb9e4a3c.jpg  \n",
            "  inflating: Images/2871962580_b85ce502ba.jpg  \n",
            "  inflating: Images/2872197070_4e97c3ccfa.jpg  \n",
            "  inflating: Images/2872743471_30e0d1a90a.jpg  \n",
            "  inflating: Images/2872806249_00bea3c4e7.jpg  \n",
            "  inflating: Images/2872963574_52ab5182cb.jpg  \n",
            "  inflating: Images/2873065944_29c01782e2.jpg  \n",
            "  inflating: Images/2873070704_2141a7a86a.jpg  \n",
            "  inflating: Images/2873188959_ff023defa9.jpg  \n",
            "  inflating: Images/2873252292_ebf23f5f10.jpg  \n",
            "  inflating: Images/2873431806_86a56cdae8.jpg  \n",
            "  inflating: Images/2873445888_8764699246.jpg  \n",
            "  inflating: Images/2873522522_829ea62491.jpg  \n",
            "  inflating: Images/2873648844_8efc7d78f1.jpg  \n",
            "  inflating: Images/2873837796_543e415e98.jpg  \n",
            "  inflating: Images/2874728371_ccd6db87f3.jpg  \n",
            "  inflating: Images/2874876837_80d178ba9b.jpg  \n",
            "  inflating: Images/2874984466_1aafec2c9f.jpg  \n",
            "  inflating: Images/2875528143_94d9480fdd.jpg  \n",
            "  inflating: Images/2875583266_4da13ae12d.jpg  \n",
            "  inflating: Images/2875658507_c0d9ceae90.jpg  \n",
            "  inflating: Images/2876494009_9f96d7eaf2.jpg  \n",
            "  inflating: Images/2876848241_63290edfb4.jpg  \n",
            "  inflating: Images/2876993733_cb26107d18.jpg  \n",
            "  inflating: Images/2876994989_a4ebbd8491.jpg  \n",
            "  inflating: Images/2877088081_7ca408cb25.jpg  \n",
            "  inflating: Images/2877159456_ea4a46b0d2.jpg  \n",
            "  inflating: Images/2877424957_9beb1dc49a.jpg  \n",
            "  inflating: Images/2877503811_4e311253ec.jpg  \n",
            "  inflating: Images/2877511986_c965ced502.jpg  \n",
            "  inflating: Images/2877637572_641cd29901.jpg  \n",
            "  inflating: Images/2878190821_6e4e03dc5f.jpg  \n",
            "  inflating: Images/2878272032_fda05ffac7.jpg  \n",
            "  inflating: Images/2878578240_caf64c3b19.jpg  \n",
            "  inflating: Images/2878705136_609dfbf318.jpg  \n",
            "  inflating: Images/2879241506_b421536330.jpg  \n",
            "  inflating: Images/287999021_998c2eeb91.jpg  \n",
            "  inflating: Images/2880051254_e0ca96b6be.jpg  \n",
            "  inflating: Images/288025239_5e59ba9c3b.jpg  \n",
            "  inflating: Images/2880874989_a33b632924.jpg  \n",
            "  inflating: Images/2881087519_ca0aa79b2b.jpg  \n",
            "  inflating: Images/2881441125_b580e3dd4b.jpg  \n",
            "  inflating: Images/2881468095_d4ce8c0c52.jpg  \n",
            "  inflating: Images/288177922_b889f2e1fe.jpg  \n",
            "  inflating: Images/2882056260_4399dd4d7c.jpg  \n",
            "  inflating: Images/2882483779_73c171ac19.jpg  \n",
            "  inflating: Images/2882589788_cb0b407a8d.jpg  \n",
            "  inflating: Images/2882743431_c3e6cd1b5c.jpg  \n",
            "  inflating: Images/2882893687_1d10d68f2b.jpg  \n",
            "  inflating: Images/2883099128_0b056eed9e.jpg  \n",
            "  inflating: Images/2883324329_24361e2d49.jpg  \n",
            "  inflating: Images/2883907436_82bf4a36b8.jpg  \n",
            "  inflating: Images/2883950737_3b67d24af4.jpg  \n",
            "  inflating: Images/2884092603_786b53a74b.jpg  \n",
            "  inflating: Images/2884252132_5d8e776893.jpg  \n",
            "  inflating: Images/2884301336_dc8e974431.jpg  \n",
            "  inflating: Images/2884400562_e0851014fc.jpg  \n",
            "  inflating: Images/2884420269_225d27f242.jpg  \n",
            "  inflating: Images/2884651479_12e400ee58.jpg  \n",
            "  inflating: Images/288508162_1727873924.jpg  \n",
            "  inflating: Images/2885111681_dc328ecfff.jpg  \n",
            "  inflating: Images/2885382946_f541ea5722.jpg  \n",
            "  inflating: Images/2885387575_9127ea10f1.jpg  \n",
            "  inflating: Images/2885891981_6b02620ae9.jpg  \n",
            "  inflating: Images/2885912662_a3a2dfde45.jpg  \n",
            "  inflating: Images/2886411666_72d8b12ce4.jpg  \n",
            "  inflating: Images/2886533440_dfa832f2fa.jpg  \n",
            "  inflating: Images/2886837407_a4510ab1ef.jpg  \n",
            "  inflating: Images/2887103049_a867e74358.jpg  \n",
            "  inflating: Images/2887171449_f54a2b9f39.jpg  \n",
            "  inflating: Images/2887614578_ed7ba21775.jpg  \n",
            "  inflating: Images/2887744223_029f2fd5fe.jpg  \n",
            "  inflating: Images/2887750774_920eb171aa.jpg  \n",
            "  inflating: Images/2887798667_ce761d45e8.jpg  \n",
            "  inflating: Images/2888386138_578d21033a.jpg  \n",
            "  inflating: Images/2888408966_376c195b3f.jpg  \n",
            "  inflating: Images/2888658480_e922a3dec2.jpg  \n",
            "  inflating: Images/2888702775_0939a6680e.jpg  \n",
            "  inflating: Images/2888732432_7e907a3df1.jpg  \n",
            "  inflating: Images/288880576_818b6ecfef.jpg  \n",
            "  inflating: Images/2890057168_c712f932e0.jpg  \n",
            "  inflating: Images/2890075175_4bd32b201a.jpg  \n",
            "  inflating: Images/2890113532_ab2003d74e.jpg  \n",
            "  inflating: Images/2890731828_8a7032503a.jpg  \n",
            "  inflating: Images/2891162278_fbf96be4f4.jpg  \n",
            "  inflating: Images/2891185857_54942809cf.jpg  \n",
            "  inflating: Images/2891240104_6755281868.jpg  \n",
            "  inflating: Images/2891617125_f939f604c7.jpg  \n",
            "  inflating: Images/2891924845_92f69b0f18.jpg  \n",
            "  inflating: Images/2891961886_b7a2f0b0fd.jpg  \n",
            "  inflating: Images/2892395757_0a1b0eedd2.jpg  \n",
            "  inflating: Images/2892413015_5ecd9d972a.jpg  \n",
            "  inflating: Images/2892467862_52a3c67418.jpg  \n",
            "  inflating: Images/2892989340_bb7e0e5548.jpg  \n",
            "  inflating: Images/2892992529_f3335d0a71.jpg  \n",
            "  inflating: Images/2892995070_39f3c9a56e.jpg  \n",
            "  inflating: Images/2893238950_8a027be110.jpg  \n",
            "  inflating: Images/2893374123_087f98d58a.jpg  \n",
            "  inflating: Images/2893476169_f38dd32051.jpg  \n",
            "  inflating: Images/2893515010_4a3d9dcc67.jpg  \n",
            "  inflating: Images/2894008505_a445ccaaff.jpg  \n",
            "  inflating: Images/2894217628_f1a4153dca.jpg  \n",
            "  inflating: Images/2894229082_ddc395f138.jpg  \n",
            "  inflating: Images/2894576909_99c85fd7a7.jpg  \n",
            "  inflating: Images/2894850774_2d530040a1.jpg  \n",
            "  inflating: Images/2895403073_906768cafa.jpg  \n",
            "  inflating: Images/2895700779_fac1d9d278.jpg  \n",
            "  inflating: Images/2895966469_53e0b29295.jpg  \n",
            "  inflating: Images/289599470_cc665e2dfb.jpg  \n",
            "  inflating: Images/289616152_012a9f16c6.jpg  \n",
            "  inflating: Images/2896180326_88785fe078.jpg  \n",
            "  inflating: Images/2896298341_92d718366a.jpg  \n",
            "  inflating: Images/2896483502_6f807bae9e.jpg  \n",
            "  inflating: Images/2896640216_761a47f006.jpg  \n",
            "  inflating: Images/2896668718_0c3cff910f.jpg  \n",
            "  inflating: Images/2897832422_0cbdb1421e.jpg  \n",
            "  inflating: Images/2898304260_a4099a193a.jpg  \n",
            "  inflating: Images/289860281_94d699f36d.jpg  \n",
            "  inflating: Images/2898810636_84fb5c0b63.jpg  \n",
            "  inflating: Images/2899089320_3e7f6bbaca.jpg  \n",
            "  inflating: Images/2899276965_a20b839cfd.jpg  \n",
            "  inflating: Images/2899374885_f3b2b1a290.jpg  \n",
            "  inflating: Images/2899501488_90d5da5474.jpg  \n",
            "  inflating: Images/2899594400_61b4f6c114.jpg  \n",
            "  inflating: Images/2899622876_b673b04967.jpg  \n",
            "  inflating: Images/2900048238_74bd69d87d.jpg  \n",
            "  inflating: Images/290019324_23582048d4.jpg  \n",
            "  inflating: Images/2900274587_f2cbca4c58.jpg  \n",
            "  inflating: Images/2901074943_041aba4607.jpg  \n",
            "  inflating: Images/2901880865_3fd7b66a45.jpg  \n",
            "  inflating: Images/2902269566_419d9f1d8e.jpg  \n",
            "  inflating: Images/2902486045_6298eb22ef.jpg  \n",
            "  inflating: Images/2902661518_1513be3ea6.jpg  \n",
            "  inflating: Images/2902844125_4186bf3ab6.jpg  \n",
            "  inflating: Images/2903469015_a1e7d969c2.jpg  \n",
            "  inflating: Images/2903617548_d3e38d7f88.jpg  \n",
            "  inflating: Images/2904129133_e6ae5a1ec6.jpg  \n",
            "  inflating: Images/2904601886_39e9d317b1.jpg  \n",
            "  inflating: Images/2904997007_23d4b94101.jpg  \n",
            "  inflating: Images/2905942129_2b4bf59bc0.jpg  \n",
            "  inflating: Images/2905948395_ca3e6b3c9a.jpg  \n",
            "  inflating: Images/2905975229_7c37156dbe.jpg  \n",
            "  inflating: Images/2906054175_e33af79522.jpg  \n",
            "  inflating: Images/290650302_ade636da35.jpg  \n",
            "  inflating: Images/2906802485_dfebf09173.jpg  \n",
            "  inflating: Images/2907073768_08fd7bdf60.jpg  \n",
            "  inflating: Images/2907244809_07ab2c6b6c.jpg  \n",
            "  inflating: Images/2908466042_bf07cb52c7.jpg  \n",
            "  inflating: Images/2908512223_7e27631ed4.jpg  \n",
            "  inflating: Images/2908859957_e96c33c1e0.jpg  \n",
            "  inflating: Images/2909081008_9a7bfc599a.jpg  \n",
            "  inflating: Images/2909609550_070eea49b5.jpg  \n",
            "  inflating: Images/2909811789_ed8f3fd972.jpg  \n",
            "  inflating: Images/290982269_79fc9f36dc.jpg  \n",
            "  inflating: Images/2909875716_25c8652614.jpg  \n",
            "  inflating: Images/2909955251_4b326a46a7.jpg  \n",
            "  inflating: Images/2910758605_73a3f5a5c2.jpg  \n",
            "  inflating: Images/2911107495_e3cec16a24.jpg  \n",
            "  inflating: Images/2911238432_33ec2d8cec.jpg  \n",
            "  inflating: Images/2911245290_b2c79f328a.jpg  \n",
            "  inflating: Images/2911552402_5166bc173b.jpg  \n",
            "  inflating: Images/2911658792_6a6ef07e3a.jpg  \n",
            "  inflating: Images/2911919938_6bb6587a36.jpg  \n",
            "  inflating: Images/2911928620_06c3fa293e.jpg  \n",
            "  inflating: Images/2912476706_9a0dbd3a67.jpg  \n",
            "  inflating: Images/2913207978_9e9624e249.jpg  \n",
            "  inflating: Images/2913818905_8e4d9aa82a.jpg  \n",
            "  inflating: Images/2913965136_2d00136697.jpg  \n",
            "  inflating: Images/2913972180_547783dd3d.jpg  \n",
            "  inflating: Images/2914206497_5e36ac6324.jpg  \n",
            "  inflating: Images/2914331767_8574e7703d.jpg  \n",
            "  inflating: Images/2914737181_0c8e052da8.jpg  \n",
            "  inflating: Images/2914800692_0c512d27b8.jpg  \n",
            "  inflating: Images/2915183095_4ed4aa4f37.jpg  \n",
            "  inflating: Images/2915538325_59e11276dd.jpg  \n",
            "  inflating: Images/2916009941_34a0013803.jpg  \n",
            "  inflating: Images/2916586390_664f0139ea.jpg  \n",
            "  inflating: Images/2917057791_3d68a055ca.jpg  \n",
            "  inflating: Images/2917843040_7c9caaaa8a.jpg  \n",
            "  inflating: Images/2918653119_f535fc25c4.jpg  \n",
            "  inflating: Images/2918769188_565dd48060.jpg  \n",
            "  inflating: Images/2918880895_e61f74f2f0.jpg  \n",
            "  inflating: Images/2919459517_b8b858afa3.jpg  \n",
            "  inflating: Images/291952021_f111b0fb3d.jpg  \n",
            "  inflating: Images/2920305300_a5b1b2329a.jpg  \n",
            "  inflating: Images/2920516901_23d8571419.jpg  \n",
            "  inflating: Images/2920969723_83918fe909.jpg  \n",
            "  inflating: Images/2921094201_2ed70a7963.jpg  \n",
            "  inflating: Images/2921112724_5cb85d7413.jpg  \n",
            "  inflating: Images/2921198890_6f70dfbf4c.jpg  \n",
            "  inflating: Images/2921430836_3b4d062238.jpg  \n",
            "  inflating: Images/2921578694_a46ae0d313.jpg  \n",
            "  inflating: Images/2921670682_6a77a6c3e9.jpg  \n",
            "  inflating: Images/2921793132_ef19f1dd44.jpg  \n",
            "  inflating: Images/2922222717_12195af92d.jpg  \n",
            "  inflating: Images/2922512807_d382528a93.jpg  \n",
            "  inflating: Images/2922807898_b5a06d5c70.jpg  \n",
            "  inflating: Images/2922973230_5a769ef92a.jpg  \n",
            "  inflating: Images/2922981282_203f04bf9b.jpg  \n",
            "  inflating: Images/2923475135_a6b6e13d26.jpg  \n",
            "  inflating: Images/2923497185_c64004ff2d.jpg  \n",
            "  inflating: Images/2923825744_ca125353f0.jpg  \n",
            "  inflating: Images/2923891109_ea0cc932ed.jpg  \n",
            "  inflating: Images/2924259848_effb4dcb82.jpg  \n",
            "  inflating: Images/2924483864_cfdb900a13.jpg  \n",
            "  inflating: Images/2924870944_90ff9eca1a.jpg  \n",
            "  inflating: Images/2924884815_63826aa60d.jpg  \n",
            "  inflating: Images/2924884899_f512c84332.jpg  \n",
            "  inflating: Images/2924908529_0ecb3cdbaa.jpg  \n",
            "  inflating: Images/2925242998_9e0db9b4a2.jpg  \n",
            "  inflating: Images/2925577165_b83d31a7f6.jpg  \n",
            "  inflating: Images/2925737498_57585a7ed9.jpg  \n",
            "  inflating: Images/2925760802_50c1e84936.jpg  \n",
            "  inflating: Images/2926233397_71e617f3a3.jpg  \n",
            "  inflating: Images/2926595608_69b22be8d4.jpg  \n",
            "  inflating: Images/2926786902_815a99a154.jpg  \n",
            "  inflating: Images/292780636_72e1968949.jpg  \n",
            "  inflating: Images/2927878881_90b42fc444.jpg  \n",
            "  inflating: Images/2928152792_b16c73434a.jpg  \n",
            "  inflating: Images/2928835996_88b9f9503d.jpg  \n",
            "  inflating: Images/292887910_f34ac101c8.jpg  \n",
            "  inflating: Images/2929006980_9f9f8f3d21.jpg  \n",
            "  inflating: Images/2929272606_2a5923b38e.jpg  \n",
            "  inflating: Images/2929405404_1dff5ab847.jpg  \n",
            "  inflating: Images/2929506802_5432054d77.jpg  \n",
            "  inflating: Images/2929669711_b2d5a640f0.jpg  \n",
            "  inflating: Images/2930318834_8366811283.jpg  \n",
            "  inflating: Images/2930514856_784f17064a.jpg  \n",
            "  inflating: Images/2930580341_d36eec8e3c.jpg  \n",
            "  inflating: Images/2930616480_7fd45ca79b.jpg  \n",
            "  inflating: Images/2930622766_fa8f84deb1.jpg  \n",
            "  inflating: Images/2931254547_e97c6d0d63.jpg  \n",
            "  inflating: Images/293151893_ee7249eccb.jpg  \n",
            "  inflating: Images/2931950813_93145c4746.jpg  \n",
            "  inflating: Images/2932498509_27cb0038ec.jpg  \n",
            "  inflating: Images/2932519416_11f23b6297.jpg  \n",
            "  inflating: Images/2932740428_b15384f389.jpg  \n",
            "  inflating: Images/293327462_20dee0de56.jpg  \n",
            "  inflating: Images/2933637854_984614e18b.jpg  \n",
            "  inflating: Images/2933643390_1c6086684b.jpg  \n",
            "  inflating: Images/2933912528_52b05f84a1.jpg  \n",
            "  inflating: Images/2934000107_d2ff15c814.jpg  \n",
            "  inflating: Images/2934022873_3fdd69aee4.jpg  \n",
            "  inflating: Images/2934121315_4969eeda1b.jpg  \n",
            "  inflating: Images/2934325103_e9b8d7430f.jpg  \n",
            "  inflating: Images/2934359101_cdf57442dc.jpg  \n",
            "  inflating: Images/2934379210_4e399e3cac.jpg  \n",
            "  inflating: Images/2934573544_7ffe92a2c9.jpg  \n",
            "  inflating: Images/2934628301_41ea2e6cf9.jpg  \n",
            "  inflating: Images/2934801096_230ae78d7e.jpg  \n",
            "  inflating: Images/2934837034_a8ca5b1f50.jpg  \n",
            "  inflating: Images/2935649082_1ca60180c6.jpg  \n",
            "  inflating: Images/2935703360_4f794f7f09.jpg  \n",
            "  inflating: Images/2935986346_29df6cf692.jpg  \n",
            "  inflating: Images/2936590102_25036069a6.jpg  \n",
            "  inflating: Images/2936707421_8e629874b8.jpg  \n",
            "  inflating: Images/2937178897_ab3d1a941a.jpg  \n",
            "  inflating: Images/2937461473_11bbace28c.jpg  \n",
            "  inflating: Images/2937497894_e3664a9513.jpg  \n",
            "  inflating: Images/2937697444_2367ff0e28.jpg  \n",
            "  inflating: Images/2937942758_712be5c610.jpg  \n",
            "  inflating: Images/2938072630_d641b63e4d.jpg  \n",
            "  inflating: Images/2938120171_970564e3d8.jpg  \n",
            "  inflating: Images/2938316391_97382d14aa.jpg  \n",
            "  inflating: Images/2938747424_64e64784f0.jpg  \n",
            "  inflating: Images/293879742_5fe0ffd894.jpg  \n",
            "  inflating: Images/293881927_ac62900fd4.jpg  \n",
            "  inflating: Images/2938875913_0ed920a6be.jpg  \n",
            "  inflating: Images/2939007933_8a6ef2d073.jpg  \n",
            "  inflating: Images/2939197393_93dc64c4bb.jpg  \n",
            "  inflating: Images/2939371251_f923569a72.jpg  \n",
            "  inflating: Images/2939464283_fc1a834976.jpg  \n",
            "  inflating: Images/2939475047_84585ea45c.jpg  \n",
            "  inflating: Images/2940366012_1ef8ab334e.jpg  \n",
            "  inflating: Images/2940594396_20c40947b0.jpg  \n",
            "  inflating: Images/294098577_c10f32bcfa.jpg  \n",
            "  inflating: Images/2942094037_f6b36fd3db.jpg  \n",
            "  inflating: Images/2942133798_e57c862a90.jpg  \n",
            "  inflating: Images/2942311160_a154104c62.jpg  \n",
            "  inflating: Images/2942798367_022df04b49.jpg  \n",
            "  inflating: Images/2943023421_e297f05e11.jpg  \n",
            "  inflating: Images/2943079526_e9033a6556.jpg  \n",
            "  inflating: Images/2943334864_6bab479a3e.jpg  \n",
            "  inflating: Images/2943384009_c8cf749181.jpg  \n",
            "  inflating: Images/294353408_d459bdaa68.jpg  \n",
            "  inflating: Images/2944025729_5aecda30ee.jpg  \n",
            "  inflating: Images/2944193661_7b255af9cc.jpg  \n",
            "  inflating: Images/2944362789_aebbc22db4.jpg  \n",
            "  inflating: Images/2944836001_b38b516286.jpg  \n",
            "  inflating: Images/2944952557_8484f0da8f.jpg  \n",
            "  inflating: Images/2945036454_280fa5b29f.jpg  \n",
            "  inflating: Images/294549892_babb130543.jpg  \n",
            "  inflating: Images/2946016853_ceca4f5a07.jpg  \n",
            "  inflating: Images/294709836_87126898fb.jpg  \n",
            "  inflating: Images/2947172114_b591f84163.jpg  \n",
            "  inflating: Images/2947274789_a1a35b33c3.jpg  \n",
            "  inflating: Images/2947452329_08f2d2a467.jpg  \n",
            "  inflating: Images/2949014128_0d96196261.jpg  \n",
            "  inflating: Images/2949337912_beba55698b.jpg  \n",
            "  inflating: Images/2949353587_64c54e9589.jpg  \n",
            "  inflating: Images/2949497756_be8e58e6bd.jpg  \n",
            "  inflating: Images/2949762776_52ece64d28.jpg  \n",
            "  inflating: Images/2949880800_ca9a1bb7e6.jpg  \n",
            "  inflating: Images/2949982320_c704b31626.jpg  \n",
            "  inflating: Images/2950393735_9969c4ec59.jpg  \n",
            "  inflating: Images/2950637275_98f1e30cca.jpg  \n",
            "  inflating: Images/2950905787_f2017d3e49.jpg  \n",
            "  inflating: Images/2951092164_4940b9a517.jpg  \n",
            "  inflating: Images/2951750234_a4741f708b.jpg  \n",
            "  inflating: Images/2952141476_fc9a48a60a.jpg  \n",
            "  inflating: Images/2952320230_26601173be.jpg  \n",
            "  inflating: Images/295258727_eaf75e0887.jpg  \n",
            "  inflating: Images/2952751562_ff1c138286.jpg  \n",
            "  inflating: Images/2953015871_cae796b6e7.jpg  \n",
            "  inflating: Images/2953861572_d654d9b6f2.jpg  \n",
            "  inflating: Images/295433203_8185c13e08.jpg  \n",
            "  inflating: Images/2954525375_9d5ca97341.jpg  \n",
            "  inflating: Images/2954584849_3c2899f319.jpg  \n",
            "  inflating: Images/2955099064_1815b00825.jpg  \n",
            "  inflating: Images/2955673642_4279b32097.jpg  \n",
            "  inflating: Images/2955985301_e4139bc772.jpg  \n",
            "  inflating: Images/2956413620_d59de03a06.jpg  \n",
            "  inflating: Images/2956562716_5aa3f6ef38.jpg  \n",
            "  inflating: Images/2956895529_ec6275060e.jpg  \n",
            "  inflating: Images/2957071266_1b40ec7d96.jpg  \n",
            "  inflating: Images/295729735_8360f2e64c.jpg  \n",
            "  inflating: Images/2959500257_3621429a37.jpg  \n",
            "  inflating: Images/2959581023_54402c8d88.jpg  \n",
            "  inflating: Images/2959737718_31203fddb5.jpg  \n",
            "  inflating: Images/2959941749_fa99097463.jpg  \n",
            "  inflating: Images/2960033435_c20cc7399a.jpg  \n",
            "  inflating: Images/2960422620_81889a3764.jpg  \n",
            "  inflating: Images/2960759328_2d31e4af9b.jpg  \n",
            "  inflating: Images/2962977152_9d6958fdd5.jpg  \n",
            "  inflating: Images/2963573792_dd51b5fbfb.jpg  \n",
            "  inflating: Images/2963672852_c28043bb2c.jpg  \n",
            "  inflating: Images/2964438493_413667c04a.jpg  \n",
            "  inflating: Images/2965604928_435dc93bf7.jpg  \n",
            "  inflating: Images/2966190737_ceb6eb4b53.jpg  \n",
            "  inflating: Images/2966552760_e65b22cd26.jpg  \n",
            "  inflating: Images/2967549094_d32422eb01.jpg  \n",
            "  inflating: Images/2967630001_cdc5560c0b.jpg  \n",
            "  inflating: Images/2968135512_51fbb56e3e.jpg  \n",
            "  inflating: Images/2968182121_b3b491df85.jpg  \n",
            "  inflating: Images/2968216482_ede65b20a8.jpg  \n",
            "  inflating: Images/2968693931_52d161b8e7.jpg  \n",
            "  inflating: Images/296873864_4de75de261.jpg  \n",
            "  inflating: Images/2968885599_0672a5f016.jpg  \n",
            "  inflating: Images/2969380952_9f1eb7f93b.jpg  \n",
            "  inflating: Images/2970067128_8842ab3603.jpg  \n",
            "  inflating: Images/2970183443_accd597e0a.jpg  \n",
            "  inflating: Images/2970461648_fe14ba0359.jpg  \n",
            "  inflating: Images/2971211296_2587c3924d.jpg  \n",
            "  inflating: Images/2971298546_dd595cf297.jpg  \n",
            "  inflating: Images/2971431335_e192613db4.jpg  \n",
            "  inflating: Images/2971478694_79e46ea7e5.jpg  \n",
            "  inflating: Images/297169473_d3974e0275.jpg  \n",
            "  inflating: Images/297285273_688e44c014.jpg  \n",
            "  inflating: Images/2972864304_481aeffe50.jpg  \n",
            "  inflating: Images/2972929655_04233b5489.jpg  \n",
            "  inflating: Images/2973269132_252bfd0160.jpg  \n",
            "  inflating: Images/2973272684_4d63cbc241.jpg  \n",
            "  inflating: Images/2973638173_0dc21fd443.jpg  \n",
            "  inflating: Images/2974501005_346f74e5d8.jpg  \n",
            "  inflating: Images/2974587819_742fb7c338.jpg  \n",
            "  inflating: Images/2975018306_0e8da316f5.jpg  \n",
            "  inflating: Images/2975073156_7543ed326f.jpg  \n",
            "  inflating: Images/2975118353_5af5a5df54.jpg  \n",
            "  inflating: Images/2975253472_0f0c2dea70.jpg  \n",
            "  inflating: Images/2975807155_5a8610c297.jpg  \n",
            "  inflating: Images/2976155358_b4dd4407cf.jpg  \n",
            "  inflating: Images/2976350388_3984e3193d.jpg  \n",
            "  inflating: Images/2976537455_f3988c2d46.jpg  \n",
            "  inflating: Images/2976684095_ce7ccfd423.jpg  \n",
            "  inflating: Images/2976946039_fb9147908d.jpg  \n",
            "  inflating: Images/297724467_e8918a6f90.jpg  \n",
            "  inflating: Images/2977246776_b14be8290d.jpg  \n",
            "  inflating: Images/2977379863_2e8d7a104e.jpg  \n",
            "  inflating: Images/2978024878_a45b282bf4.jpg  \n",
            "  inflating: Images/2978236380_fb24c43f1e.jpg  \n",
            "  inflating: Images/2978271431_f6a7f19825.jpg  \n",
            "  inflating: Images/2978394277_4572967b97.jpg  \n",
            "  inflating: Images/2978409165_acc4f29a40.jpg  \n",
            "  inflating: Images/2978735290_7464b12270.jpg  \n",
            "  inflating: Images/2978810122_183e60ff2d.jpg  \n",
            "  inflating: Images/2979914158_5906470b8f.jpg  \n",
            "  inflating: Images/2980118787_2099de53ec.jpg  \n",
            "  inflating: Images/2980348138_91cc6f6d0f.jpg  \n",
            "  inflating: Images/2980445969_a86f4e6a0e.jpg  \n",
            "  inflating: Images/2981372647_2061278c60.jpg  \n",
            "  inflating: Images/2981702521_2459f2c1c4.jpg  \n",
            "  inflating: Images/2982881046_45765ced2c.jpg  \n",
            "  inflating: Images/2982928615_06db40f4cd.jpg  \n",
            "  inflating: Images/2983555530_a89f1f5ed7.jpg  \n",
            "  inflating: Images/2984174290_a915748d77.jpg  \n",
            "  inflating: Images/2984704498_29b53df5df.jpg  \n",
            "  inflating: Images/2985439112_8a3b77d5c9.jpg  \n",
            "  inflating: Images/2985679744_75a7102aab.jpg  \n",
            "  inflating: Images/2986280913_13fb2d472e.jpg  \n",
            "  inflating: Images/2986620935_e97763983d.jpg  \n",
            "  inflating: Images/2986671935_0c60bbb3fa.jpg  \n",
            "  inflating: Images/2986716822_e220754d32.jpg  \n",
            "  inflating: Images/2987096101_a41896187a.jpg  \n",
            "  inflating: Images/2987121689_f9de6c479b.jpg  \n",
            "  inflating: Images/2987195421_e830c59fb6.jpg  \n",
            "  inflating: Images/2987328689_96a2d814f1.jpg  \n",
            "  inflating: Images/2987576188_f82304f394.jpg  \n",
            "  inflating: Images/2987775031_3f9ac69319.jpg  \n",
            "  inflating: Images/2988244398_5da7012fce.jpg  \n",
            "  inflating: Images/2988439935_7cea05bc48.jpg  \n",
            "  inflating: Images/298920219_9a3f80acc5.jpg  \n",
            "  inflating: Images/2990471798_73c50c76fb.jpg  \n",
            "  inflating: Images/2990563425_2f7246f458.jpg  \n",
            "  inflating: Images/2990977776_1ec51c9281.jpg  \n",
            "  inflating: Images/2991375936_bf4b0a7dc0.jpg  \n",
            "  inflating: Images/2991575785_bd4868e215.jpg  \n",
            "  inflating: Images/2991771557_d98fa0a69f.jpg  \n",
            "  inflating: Images/299178969_5ca1de8e40.jpg  \n",
            "  inflating: Images/299181827_8dc714101b.jpg  \n",
            "  inflating: Images/2991993027_36ac04e9a0.jpg  \n",
            "  inflating: Images/2991994415_504d1c0a03.jpg  \n",
            "  inflating: Images/2991994607_06f24ec7a6.jpg  \n",
            "  inflating: Images/2992614450_b5a6692239.jpg  \n",
            "  inflating: Images/2992658871_ac786d37a6.jpg  \n",
            "  inflating: Images/2992808092_5f677085b7.jpg  \n",
            "  inflating: Images/2992999413_018f48aabc.jpg  \n",
            "  inflating: Images/2993049054_611f900644.jpg  \n",
            "  inflating: Images/2993167183_2bda95fa3d.jpg  \n",
            "  inflating: Images/2993167197_e5d0a73530.jpg  \n",
            "  inflating: Images/2993388841_6746140656.jpg  \n",
            "  inflating: Images/2994104606_bc2df6c1f4.jpg  \n",
            "  inflating: Images/2994107810_af56326389.jpg  \n",
            "  inflating: Images/2994179598_a45c2732b5.jpg  \n",
            "  inflating: Images/2994205788_f8b3f2e840.jpg  \n",
            "  inflating: Images/2995461857_dd26188dcf.jpg  \n",
            "  inflating: Images/299572828_4b38b80d16.jpg  \n",
            "  inflating: Images/2995935078_beedfe463a.jpg  \n",
            "  inflating: Images/299612419_b55fe32fea.jpg  \n",
            "  inflating: Images/299676757_571ee47280.jpg  \n",
            "  inflating: Images/2998024845_1529c11694.jpg  \n",
            "  inflating: Images/2998185688_8d33e4ce38.jpg  \n",
            "  inflating: Images/2998277360_9b4c0192f1.jpg  \n",
            "  inflating: Images/2998504949_1022fec53b.jpg  \n",
            "  inflating: Images/2998861375_02817e0147.jpg  \n",
            "  inflating: Images/2998945968_86f236d1e8.jpg  \n",
            "  inflating: Images/2999162229_80d17099b6.jpg  \n",
            "  inflating: Images/2999638340_75bc8b165d.jpg  \n",
            "  inflating: Images/2999730677_0cfa1c146e.jpg  \n",
            "  inflating: Images/2999735171_87ca43c225.jpg  \n",
            "  inflating: Images/3000428313_8a1e65e20e.jpg  \n",
            "  inflating: Images/3000722396_1ae2e976c2.jpg  \n",
            "  inflating: Images/300148649_72f7f0399c.jpg  \n",
            "  inflating: Images/3001612175_53567ffb58.jpg  \n",
            "  inflating: Images/300222673_573fd4044b.jpg  \n",
            "  inflating: Images/3002448718_a478c64fb4.jpg  \n",
            "  inflating: Images/300274198_eefd8e057e.jpg  \n",
            "  inflating: Images/3002920707_5d2e6e6aac.jpg  \n",
            "  inflating: Images/3003011417_79b49ff384.jpg  \n",
            "  inflating: Images/300314926_0b2e4b64f5.jpg  \n",
            "  inflating: Images/3003612178_8230d65833.jpg  \n",
            "  inflating: Images/3003691049_f4363c2d5c.jpg  \n",
            "  inflating: Images/300371487_daec5d11ab.jpg  \n",
            "  inflating: Images/3004287781_c041c09c16.jpg  \n",
            "  inflating: Images/3004290523_d1319dfdb4.jpg  \n",
            "  inflating: Images/3004291093_35d6fd8548.jpg  \n",
            "  inflating: Images/3004291289_c4892898ae.jpg  \n",
            "  inflating: Images/3004359992_f6b3617706.jpg  \n",
            "  inflating: Images/3004823335_9b82cbd8a7.jpg  \n",
            "  inflating: Images/300500054_56653bf217.jpg  \n",
            "  inflating: Images/3005123298_d3017d5f5d.jpg  \n",
            "  inflating: Images/3005124440_c096b310fb.jpg  \n",
            "  inflating: Images/3005126574_49c28ffbee.jpg  \n",
            "  inflating: Images/300539993_eede2d6695.jpg  \n",
            "  inflating: Images/300550441_f44ec3701a.jpg  \n",
            "  inflating: Images/300577374_bfccb0430b.jpg  \n",
            "  inflating: Images/300577375_26cc2773a1.jpg  \n",
            "  inflating: Images/3005872315_e6771763bd.jpg  \n",
            "  inflating: Images/300594071_3450444752.jpg  \n",
            "  inflating: Images/3006093003_c211737232.jpg  \n",
            "  inflating: Images/3006094603_c5b32d2758.jpg  \n",
            "  inflating: Images/3006095077_1992b677f8.jpg  \n",
            "  inflating: Images/3006217970_90b42e6b27.jpg  \n",
            "  inflating: Images/3006926228_cf3c067b3e.jpg  \n",
            "  inflating: Images/3007214949_a4b027f8a3.jpg  \n",
            "  inflating: Images/300765528_8c8f709dda.jpg  \n",
            "  inflating: Images/3008370541_ce29ce49f0.jpg  \n",
            "  inflating: Images/3009018821_ba47396e24.jpg  \n",
            "  inflating: Images/3009035153_715e39b440.jpg  \n",
            "  inflating: Images/3009047603_28612247d2.jpg  \n",
            "  inflating: Images/300922408_05a4f9938c.jpg  \n",
            "  inflating: Images/3009383694_e045c6169e.jpg  \n",
            "  inflating: Images/3009644534_992e9ea2a7.jpg  \n",
            "  inflating: Images/3012513414_86180c44cb.jpg  \n",
            "  inflating: Images/3013469764_30e84e9a0d.jpg  \n",
            "  inflating: Images/3014015906_fdba461f36.jpg  \n",
            "  inflating: Images/3014080715_f4f0dbb56e.jpg  \n",
            "  inflating: Images/3014169370_fc4059352e.jpg  \n",
            "  inflating: Images/3014546644_d53db746ec.jpg  \n",
            "  inflating: Images/3014773357_f66bd09290.jpg  \n",
            "  inflating: Images/3014986976_0e7b858970.jpg  \n",
            "  inflating: Images/3015368588_ef0a06076d.jpg  \n",
            "  inflating: Images/3015863181_92ff43f4d8.jpg  \n",
            "  inflating: Images/3015891201_2c1a9e5cd7.jpg  \n",
            "  inflating: Images/3015898903_70bebb8903.jpg  \n",
            "  inflating: Images/3016178284_ec50a09e8c.jpg  \n",
            "  inflating: Images/3016200560_5bf8a70797.jpg  \n",
            "  inflating: Images/3016521240_2ef20834b6.jpg  \n",
            "  inflating: Images/3016606751_0e8be20abd.jpg  \n",
            "  inflating: Images/3016651969_746bd36e68.jpg  \n",
            "  inflating: Images/3016708786_3591106cca.jpg  \n",
            "  inflating: Images/3016726158_4d15b83b06.jpg  \n",
            "  inflating: Images/3016741474_72b4355198.jpg  \n",
            "  inflating: Images/3016759846_062663f8ab.jpg  \n",
            "  inflating: Images/3017203816_5dc2a6b392.jpg  \n",
            "  inflating: Images/3017220118_6a9212dfdb.jpg  \n",
            "  inflating: Images/3017373346_3a34c3fe9d.jpg  \n",
            "  inflating: Images/3017521547_f5ef8848e3.jpg  \n",
            "  inflating: Images/3017656907_c3b137e070.jpg  \n",
            "  inflating: Images/3018304737_0a46fc5f1d.jpg  \n",
            "  inflating: Images/3018467501_a03d404413.jpg  \n",
            "  inflating: Images/3018847610_0bf4d7e43d.jpg  \n",
            "  inflating: Images/3019199755_a984bc21b1.jpg  \n",
            "  inflating: Images/3019473225_8e59b8ec4e.jpg  \n",
            "  inflating: Images/3019609769_c7809177f6.jpg  \n",
            "  inflating: Images/3019667009_20db160195.jpg  \n",
            "  inflating: Images/3019842612_8501c1791e.jpg  \n",
            "  inflating: Images/3019857541_3de3e24f54.jpg  \n",
            "  inflating: Images/3019917636_4e0bb0acc4.jpg  \n",
            "  inflating: Images/3019923691_3b3c5a4766.jpg  \n",
            "  inflating: Images/3019986034_7453777274.jpg  \n",
            "  inflating: Images/3021318991_fa28e3bca7.jpg  \n",
            "  inflating: Images/3021780428_497542a072.jpg  \n",
            "  inflating: Images/302241178_a582c1b953.jpg  \n",
            "  inflating: Images/3023178539_836b50cd43.jpg  \n",
            "  inflating: Images/3024022266_3528c16ed8.jpg  \n",
            "  inflating: Images/3024172109_a10198e1dd.jpg  \n",
            "  inflating: Images/3025315215_a5d367971a.jpg  \n",
            "  inflating: Images/3025334206_76888792e5.jpg  \n",
            "  inflating: Images/3025438110_40af7e6a80.jpg  \n",
            "  inflating: Images/3025495499_b15797b452.jpg  \n",
            "  inflating: Images/3025513877_1a6160070d.jpg  \n",
            "  inflating: Images/3025546819_ce031d2fc3.jpg  \n",
            "  inflating: Images/3025549604_38b86198f5.jpg  \n",
            "  inflating: Images/3026102616_3cf350af9e.jpg  \n",
            "  inflating: Images/3027009366_c8362521e8.jpg  \n",
            "  inflating: Images/3027365101_3818be6e16.jpg  \n",
            "  inflating: Images/3027397797_4f1d305ced.jpg  \n",
            "  inflating: Images/3027399066_ca85495775.jpg  \n",
            "  inflating: Images/3027850131_a7772e0ba0.jpg  \n",
            "  inflating: Images/3028095878_07341efc9c.jpg  \n",
            "  inflating: Images/3028404926_2bd27e3e83.jpg  \n",
            "  inflating: Images/3028561714_83fb921067.jpg  \n",
            "  inflating: Images/3028969146_26929ae0e8.jpg  \n",
            "  inflating: Images/3029043380_b28644ea5d.jpg  \n",
            "  inflating: Images/3029463004_c2d2c8f404.jpg  \n",
            "  inflating: Images/3029472296_d429b1586c.jpg  \n",
            "  inflating: Images/3029715635_43ab414dfb.jpg  \n",
            "  inflating: Images/302983277_69a4e732e4.jpg  \n",
            "  inflating: Images/3029928396_99ac250788.jpg  \n",
            "  inflating: Images/3030079705_0dee8a3e89.jpg  \n",
            "  inflating: Images/3030223792_02b6f2be99.jpg  \n",
            "  inflating: Images/3030294889_78b2ccbe51.jpg  \n",
            "  inflating: Images/3030566410_393c36a6c5.jpg  \n",
            "  inflating: Images/3030793171_55cd646eed.jpg  \n",
            "  inflating: Images/3030823649_3b7b6c728d.jpg  \n",
            "  inflating: Images/3030824089_e5a840265e.jpg  \n",
            "  inflating: Images/3030962048_f71948226c.jpg  \n",
            "  inflating: Images/3031263767_2e3856130e.jpg  \n",
            "  inflating: Images/3032790880_d216197d55.jpg  \n",
            "  inflating: Images/3033210806_3ffc0a231a.jpg  \n",
            "  inflating: Images/3033257301_e2c8a39b04.jpg  \n",
            "  inflating: Images/3033612929_764d977bd5.jpg  \n",
            "  inflating: Images/3033668641_5905f73990.jpg  \n",
            "  inflating: Images/3033686219_452b172ab0.jpg  \n",
            "  inflating: Images/3033741581_136889ac73.jpg  \n",
            "  inflating: Images/3033825101_44a4390f16.jpg  \n",
            "  inflating: Images/3034585889_388d6ffcc0.jpg  \n",
            "  inflating: Images/3035118753_69287079dc.jpg  \n",
            "  inflating: Images/3035785330_2fd5e32bb1.jpg  \n",
            "  inflating: Images/3035949542_cb249790f5.jpg  \n",
            "  inflating: Images/3036033157_522a43a550.jpg  \n",
            "  inflating: Images/303607405_f36edf16c6.jpg  \n",
            "  inflating: Images/3036382555_30b7312cf3.jpg  \n",
            "  inflating: Images/3036596725_541bbe0955.jpg  \n",
            "  inflating: Images/3036641436_d6594fc45f.jpg  \n",
            "  inflating: Images/3036971334_78187a9570.jpg  \n",
            "  inflating: Images/3037558954_20115165e3.jpg  \n",
            "  inflating: Images/303795791_98ebc1d19a.jpg  \n",
            "  inflating: Images/3038045802_93f2cd5fbc.jpg  \n",
            "  inflating: Images/3038760935_9a713510eb.jpg  \n",
            "  inflating: Images/3038941104_17ee91fc03.jpg  \n",
            "  inflating: Images/3039209547_81cc93fbec.jpg  \n",
            "  inflating: Images/3039214579_43ef79f931.jpg  \n",
            "  inflating: Images/3039675864_0b7961844d.jpg  \n",
            "  inflating: Images/3040033126_9f4b88261b.jpg  \n",
            "  inflating: Images/3040051410_6205682ba3.jpg  \n",
            "  inflating: Images/3040575300_0e4328d205.jpg  \n",
            "  inflating: Images/3041170372_c4376cd497.jpg  \n",
            "  inflating: Images/3041348852_872c027c16.jpg  \n",
            "  inflating: Images/3041384194_04316bd416.jpg  \n",
            "  inflating: Images/3041487045_b48ac7ed08.jpg  \n",
            "  inflating: Images/3041645937_ff7591d134.jpg  \n",
            "  inflating: Images/3041689520_c481bdb20e.jpg  \n",
            "  inflating: Images/3042173467_14394234da.jpg  \n",
            "  inflating: Images/3042380610_c5ea61eef8.jpg  \n",
            "  inflating: Images/3042381160_ffe2b16808.jpg  \n",
            "  inflating: Images/3042405316_ba3a01926b.jpg  \n",
            "  inflating: Images/3042483842_beb23828b9.jpg  \n",
            "  inflating: Images/3042484940_0975a5e486.jpg  \n",
            "  inflating: Images/3042488474_0d2ec81eb8.jpg  \n",
            "  inflating: Images/3042679440_010b2c596c.jpg  \n",
            "  inflating: Images/3043266735_904dda6ded.jpg  \n",
            "  inflating: Images/3043501068_be58ac47e1.jpg  \n",
            "  inflating: Images/3043685748_130db75e3b.jpg  \n",
            "  inflating: Images/3043904009_3b5e0412cd.jpg  \n",
            "  inflating: Images/3043908909_bb54d2c08e.jpg  \n",
            "  inflating: Images/304408047_98bab3ea64.jpg  \n",
            "  inflating: Images/3044359043_627488ddf0.jpg  \n",
            "  inflating: Images/3044500219_778f9f2b71.jpg  \n",
            "  inflating: Images/3044536048_e615466e7f.jpg  \n",
            "  inflating: Images/3044745642_1d0784ff29.jpg  \n",
            "  inflating: Images/3044746136_8b89da5f40.jpg  \n",
            "  inflating: Images/3045613316_4e88862836.jpg  \n",
            "  inflating: Images/3046190891_05c6ecd9b6.jpg  \n",
            "  inflating: Images/3046259614_614394e024.jpg  \n",
            "  inflating: Images/3046286572_d2050ab0d9.jpg  \n",
            "  inflating: Images/3046429283_08de594901.jpg  \n",
            "  inflating: Images/3046430047_d7b10123d0.jpg  \n",
            "  inflating: Images/3046431231_dc48851062.jpg  \n",
            "  inflating: Images/3046916429_8e2570b613.jpg  \n",
            "  inflating: Images/3046949818_245b05f507.jpg  \n",
            "  inflating: Images/3047144646_2252ff8e04.jpg  \n",
            "  inflating: Images/3047264032_14393ecea8.jpg  \n",
            "  inflating: Images/3047264346_e24601bfbf.jpg  \n",
            "  inflating: Images/3047749814_621ed0786b.jpg  \n",
            "  inflating: Images/3047751696_78c2efe5e6.jpg  \n",
            "  inflating: Images/3048211972_db71d104c2.jpg  \n",
            "  inflating: Images/3048380686_732db55281.jpg  \n",
            "  inflating: Images/3048461682_e89f81b1c7.jpg  \n",
            "  inflating: Images/3048597471_5697538daf.jpg  \n",
            "  inflating: Images/3048821353_83d4c0cbb9.jpg  \n",
            "  inflating: Images/3049649128_d83d847168.jpg  \n",
            "  inflating: Images/3049770416_0fb1954315.jpg  \n",
            "  inflating: Images/3050114829_18bc5a6d7c.jpg  \n",
            "  inflating: Images/3050264832_4215f2b398.jpg  \n",
            "  inflating: Images/3050606344_af711c726c.jpg  \n",
            "  inflating: Images/3050650135_23f9d9d2f8.jpg  \n",
            "  inflating: Images/3050976633_9c25cf6fa0.jpg  \n",
            "  inflating: Images/3051125715_db76cebd1e.jpg  \n",
            "  inflating: Images/3051341320_1d0166e775.jpg  \n",
            "  inflating: Images/3051384385_c5c850c1f8.jpg  \n",
            "  inflating: Images/3051754615_3d6494c2ae.jpg  \n",
            "  inflating: Images/305199420_89f6ddd778.jpg  \n",
            "  inflating: Images/3051998298_38da5746fa.jpg  \n",
            "  inflating: Images/3052038928_9f53aa2084.jpg  \n",
            "  inflating: Images/3052104757_d1cf646935.jpg  \n",
            "  inflating: Images/3052196390_c59dd24ca8.jpg  \n",
            "  inflating: Images/3053415073_5b667230ed.jpg  \n",
            "  inflating: Images/3053743109_a2d780c0d2.jpg  \n",
            "  inflating: Images/3053785363_50392f2c53.jpg  \n",
            "  inflating: Images/3053813297_7ce5f87710.jpg  \n",
            "  inflating: Images/3053916979_848d32261b.jpg  \n",
            "  inflating: Images/3054200086_657d4398e8.jpg  \n",
            "  inflating: Images/3054989420_3e755ca352.jpg  \n",
            "  inflating: Images/3054997030_797096dd12.jpg  \n",
            "  inflating: Images/3055716848_b253324afc.jpg  \n",
            "  inflating: Images/3056530884_27766059bc.jpg  \n",
            "  inflating: Images/3056569684_c264c88d00.jpg  \n",
            "  inflating: Images/3057497487_57ecc60ff1.jpg  \n",
            "  inflating: Images/305749904_54a612fd1a.jpg  \n",
            "  inflating: Images/3057618932_3b80ae85de.jpg  \n",
            "  inflating: Images/3057770908_3fd97f79f9.jpg  \n",
            "  inflating: Images/3057862887_135c61816a.jpg  \n",
            "  inflating: Images/3058439373_9276a4702a.jpg  \n",
            "  inflating: Images/3058627443_1d57ff0a2c.jpg  \n",
            "  inflating: Images/3060519665_4d6b9a51b2.jpg  \n",
            "  inflating: Images/3060594966_030658d318.jpg  \n",
            "  inflating: Images/3060969260_08f43e4f4f.jpg  \n",
            "  inflating: Images/3061481868_d1e00b1f2e.jpg  \n",
            "  inflating: Images/3062173277_bfb5ef4c45.jpg  \n",
            "  inflating: Images/3062273350_fd66106f21.jpg  \n",
            "  inflating: Images/306315650_e064f5c677.jpg  \n",
            "  inflating: Images/306318683_5f1f875191.jpg  \n",
            "  inflating: Images/3063544435_10516c6937.jpg  \n",
            "  inflating: Images/3064097919_e536ab9693.jpg  \n",
            "  inflating: Images/3064383768_f6838f57da.jpg  \n",
            "  inflating: Images/3064716525_b8418d4946.jpg  \n",
            "  inflating: Images/3065468339_4955e90fd3.jpg  \n",
            "  inflating: Images/3065560742_f6e266ccd9.jpg  \n",
            "  inflating: Images/3066338314_2c3fb731d1.jpg  \n",
            "  inflating: Images/3066429707_842e50b8f7.jpg  \n",
            "  inflating: Images/3066491113_86569e15be.jpg  \n",
            "  inflating: Images/3067500667_0fce8f28d4.jpg  \n",
            "  inflating: Images/3067885047_f69d90c35b.jpg  \n",
            "  inflating: Images/3067971348_69af5bb309.jpg  \n",
            "  inflating: Images/3068407619_5207b26986.jpg  \n",
            "  inflating: Images/3068735836_872fba3068.jpg  \n",
            "  inflating: Images/3068945309_ff0973e859.jpg  \n",
            "  inflating: Images/3068994801_b2bc079e67.jpg  \n",
            "  inflating: Images/3069037969_bb7319e0dc.jpg  \n",
            "  inflating: Images/3069216757_c419b3898e.jpg  \n",
            "  inflating: Images/3069282021_e05e1829f3.jpg  \n",
            "  inflating: Images/3069786374_804e1123ac.jpg  \n",
            "  inflating: Images/3069937639_364fc11e99.jpg  \n",
            "  inflating: Images/3070011270_390e597783.jpg  \n",
            "  inflating: Images/3070031806_3d587c2a66.jpg  \n",
            "  inflating: Images/3070130228_67dcfee9ae.jpg  \n",
            "  inflating: Images/3070274658_fc39fd4f84.jpg  \n",
            "  inflating: Images/3070485870_eab1a75c6f.jpg  \n",
            "  inflating: Images/3070713991_8696796937.jpg  \n",
            "  inflating: Images/3071676551_a65741e372.jpg  \n",
            "  inflating: Images/3072114570_e1c0127529.jpg  \n",
            "  inflating: Images/3072172967_630e9c69d0.jpg  \n",
            "  inflating: Images/3072611047_109bf8b7c3.jpg  \n",
            "  inflating: Images/3072730593_b7322d2e05.jpg  \n",
            "  inflating: Images/3072782873_3278f3b3a7.jpg  \n",
            "  inflating: Images/307301755_48919ef1b2.jpg  \n",
            "  inflating: Images/307321761_606fc91673.jpg  \n",
            "  inflating: Images/307327914_f98f576adb.jpg  \n",
            "  inflating: Images/3073535022_4af81f360c.jpg  \n",
            "  inflating: Images/3073579130_7c95d16a7f.jpg  \n",
            "  inflating: Images/3074265400_bf9e10621e.jpg  \n",
            "  inflating: Images/3074617663_2f2634081d.jpg  \n",
            "  inflating: Images/3074842262_62b1b2168c.jpg  \n",
            "  inflating: Images/3075068274_2a28a5263b.jpg  \n",
            "  inflating: Images/3076052114_233f42ae5b.jpg  \n",
            "  inflating: Images/3076928208_5763e9eb8c.jpg  \n",
            "  inflating: Images/3077166963_fe172c709d.jpg  \n",
            "  inflating: Images/3077781040_bc27778609.jpg  \n",
            "  inflating: Images/3078229723_2aa52600de.jpg  \n",
            "  inflating: Images/3078844565_16e9cdcea2.jpg  \n",
            "  inflating: Images/3079073247_97e88e2eb7.jpg  \n",
            "  inflating: Images/3079341641_f65f6b0f8b.jpg  \n",
            "  inflating: Images/3079786914_fe598b0e54.jpg  \n",
            "  inflating: Images/3079787482_0757e9d167.jpg  \n",
            "  inflating: Images/3079917032_3cfacb2fd7.jpg  \n",
            "  inflating: Images/307994435_592f933a6d.jpg  \n",
            "  inflating: Images/3080056515_3013830309.jpg  \n",
            "  inflating: Images/308014594_f1d5e75507.jpg  \n",
            "  inflating: Images/3080891382_edf83dde18.jpg  \n",
            "  inflating: Images/3081182021_22cfa18dd4.jpg  \n",
            "  inflating: Images/3081330705_7a1732e12c.jpg  \n",
            "  inflating: Images/3081363964_d404eccae8.jpg  \n",
            "  inflating: Images/3081734118_6f2090215c.jpg  \n",
            "  inflating: Images/3082196097_2d15455b00.jpg  \n",
            "  inflating: Images/3082474922_9c3533eaf6.jpg  \n",
            "  inflating: Images/3082934678_58534e9d2c.jpg  \n",
            "  inflating: Images/3083016677_5782bc337c.jpg  \n",
            "  inflating: Images/308307853_5a51fbdecc.jpg  \n",
            "  inflating: Images/3084001782_41a848df4e.jpg  \n",
            "  inflating: Images/3084010872_cbc3ea8239.jpg  \n",
            "  inflating: Images/3084011028_d1e2c40d7d.jpg  \n",
            "  inflating: Images/3084011664_76d37c6559.jpg  \n",
            "  inflating: Images/3084018061_df66d98325.jpg  \n",
            "  inflating: Images/3084034954_fe5737197d.jpg  \n",
            "  inflating: Images/3084149186_4bc08b0752.jpg  \n",
            "  inflating: Images/3084380974_268a0f9236.jpg  \n",
            "  inflating: Images/3084711346_fda0f5a3e6.jpg  \n",
            "  inflating: Images/3084731832_8e518e320d.jpg  \n",
            "  inflating: Images/308487515_7852928f90.jpg  \n",
            "  inflating: Images/3085226474_62aba51179.jpg  \n",
            "  inflating: Images/3085357792_efcf297c71.jpg  \n",
            "  inflating: Images/3085667767_66041b202e.jpg  \n",
            "  inflating: Images/3085667865_fa001816be.jpg  \n",
            "  inflating: Images/3085973779_29f44fbdaa.jpg  \n",
            "  inflating: Images/3086507638_d8a2cd0ac3.jpg  \n",
            "  inflating: Images/3086523890_fd9394af8b.jpg  \n",
            "  inflating: Images/3086526292_f799d237c7.jpg  \n",
            "  inflating: Images/3086790344_9487c58624.jpg  \n",
            "  inflating: Images/3086810882_94036f4475.jpg  \n",
            "  inflating: Images/3087095548_6df7c2a8ed.jpg  \n",
            "  inflating: Images/3087485737_cb09bc80b6.jpg  \n",
            "  inflating: Images/3088074124_481139dc92.jpg  \n",
            "  inflating: Images/3088322308_b0c940b3a3.jpg  \n",
            "  inflating: Images/3088399255_1bd9a6aa04.jpg  \n",
            "  inflating: Images/3088572348_264c47f78c.jpg  \n",
            "  inflating: Images/3088677667_4a8befb70e.jpg  \n",
            "  inflating: Images/3088922727_4bdf2ccc94.jpg  \n",
            "  inflating: Images/3089107423_81a24eaf18.jpg  \n",
            "  inflating: Images/308956341_642589e9cc.jpg  \n",
            "  inflating: Images/3089742441_d42531c14f.jpg  \n",
            "  inflating: Images/3089842255_359ccf5c40.jpg  \n",
            "  inflating: Images/3090386315_87ed417814.jpg  \n",
            "  inflating: Images/3090398639_68c0dfa9a5.jpg  \n",
            "  inflating: Images/309049466_1d7e7d5fc2.jpg  \n",
            "  inflating: Images/3090593241_93a975fe2b.jpg  \n",
            "  inflating: Images/3090600019_8808fe7a9d.jpg  \n",
            "  inflating: Images/3090957866_f1b2b7f214.jpg  \n",
            "  inflating: Images/3091177347_58c85c1c3b.jpg  \n",
            "  inflating: Images/3091338773_9cf10467b4.jpg  \n",
            "  inflating: Images/3091382602_60b9b53ed1.jpg  \n",
            "  inflating: Images/3091580843_178042c50b.jpg  \n",
            "  inflating: Images/3091594712_2166604334.jpg  \n",
            "  inflating: Images/3091912922_0d6ebc8f6a.jpg  \n",
            "  inflating: Images/3091916691_b1c96669c6.jpg  \n",
            "  inflating: Images/3091921457_83eee69591.jpg  \n",
            "  inflating: Images/3091962081_194f2f3bd4.jpg  \n",
            "  inflating: Images/3092200805_dd1f83ddbe.jpg  \n",
            "  inflating: Images/3092370204_029b6bc10a.jpg  \n",
            "  inflating: Images/309238565_2d5d8dc8bf.jpg  \n",
            "  inflating: Images/3092756650_557c5f2d03.jpg  \n",
            "  inflating: Images/3093970461_825b0cac2f.jpg  \n",
            "  inflating: Images/3093971101_543237971d.jpg  \n",
            "  inflating: Images/3094064787_aed1666fc9.jpg  \n",
            "  inflating: Images/3094278545_febac56382.jpg  \n",
            "  inflating: Images/309430053_cc58bcc36a.jpg  \n",
            "  inflating: Images/3094317837_b31cbf969e.jpg  \n",
            "  inflating: Images/3094568845_d0b56c5651.jpg  \n",
            "  inflating: Images/3095137758_bdd1e613dd.jpg  \n",
            "  inflating: Images/3095225232_2e6e6dc92e.jpg  \n",
            "  inflating: Images/3096163135_584901a5ae.jpg  \n",
            "  inflating: Images/309687244_4bdf3b591f.jpg  \n",
            "  inflating: Images/3096918227_f9d26a7db2.jpg  \n",
            "  inflating: Images/3097171315_0ba7d283b1.jpg  \n",
            "  inflating: Images/3097196395_ec06075389.jpg  \n",
            "  inflating: Images/309771854_952aabe3cc.jpg  \n",
            "  inflating: Images/3097776588_312932e438.jpg  \n",
            "  inflating: Images/3098336319_a7e5b061d0.jpg  \n",
            "  inflating: Images/3098707588_5096d20397.jpg  \n",
            "  inflating: Images/3098714492_19939e3b19.jpg  \n",
            "  inflating: Images/3098824948_23c31df031.jpg  \n",
            "  inflating: Images/3099091086_f75f0ce09d.jpg  \n",
            "  inflating: Images/3099264059_21653e2536.jpg  \n",
            "  inflating: Images/3099504809_565e17e49d.jpg  \n",
            "  inflating: Images/3099694681_19a72c8bdc.jpg  \n",
            "  inflating: Images/3099923914_fd450f6d51.jpg  \n",
            "  inflating: Images/3099965396_2a0018cb9e.jpg  \n",
            "  inflating: Images/3100251515_c68027cc22.jpg  \n",
            "  inflating: Images/3100442775_6e2659b973.jpg  \n",
            "  inflating: Images/3101378069_f8caa14c0a.jpg  \n",
            "  inflating: Images/3101796900_59c15e0edc.jpg  \n",
            "  inflating: Images/310213587_778fe8fb5b.jpg  \n",
            "  inflating: Images/3102204862_f1d220230b.jpg  \n",
            "  inflating: Images/3102363657_dc95fe6850.jpg  \n",
            "  inflating: Images/310260324_7f941814bc.jpg  \n",
            "  inflating: Images/3103185190_eb8729c166.jpg  \n",
            "  inflating: Images/3103231330_db98b14501.jpg  \n",
            "  inflating: Images/3103264875_2a8d534abc.jpg  \n",
            "  inflating: Images/3103340819_46de7954a9.jpg  \n",
            "  inflating: Images/3103587323_7f093d5b90.jpg  \n",
            "  inflating: Images/3104182973_5bb1c31275.jpg  \n",
            "  inflating: Images/3104400277_1524e4f758.jpg  \n",
            "  inflating: Images/3104690333_4314d979de.jpg  \n",
            "  inflating: Images/3104909823_0f41dd8be6.jpg  \n",
            "  inflating: Images/3105315670_5f86f73753.jpg  \n",
            "  inflating: Images/3105623068_392b767a7b.jpg  \n",
            "  inflating: Images/3105691757_817083b0a6.jpg  \n",
            "  inflating: Images/3105929913_94a6882e25.jpg  \n",
            "  inflating: Images/3106026005_473a7b1c8c.jpg  \n",
            "  inflating: Images/3106223494_52d4d2d75d.jpg  \n",
            "  inflating: Images/3106340185_80d0cb770a.jpg  \n",
            "  inflating: Images/3106562372_e349a27764.jpg  \n",
            "  inflating: Images/3106782647_b078830a9e.jpg  \n",
            "  inflating: Images/3106787167_e5f2312622.jpg  \n",
            "  inflating: Images/3106791484_13e18c33d8.jpg  \n",
            "  inflating: Images/3106857210_07a92577fc.jpg  \n",
            "  inflating: Images/3106883334_419f3fb16f.jpg  \n",
            "  inflating: Images/3107059919_0594269f72.jpg  \n",
            "  inflating: Images/310715139_7f05468042.jpg  \n",
            "  inflating: Images/310728631_155c3bbeea.jpg  \n",
            "  inflating: Images/3107368071_724613fc4f.jpg  \n",
            "  inflating: Images/3107463441_7c68606450.jpg  \n",
            "  inflating: Images/3107513635_fe8a21f148.jpg  \n",
            "  inflating: Images/3107558821_f3b205d4ed.jpg  \n",
            "  inflating: Images/3107592525_0bcd00777e.jpg  \n",
            "  inflating: Images/3107889179_106d223345.jpg  \n",
            "  inflating: Images/3108197858_441ff38565.jpg  \n",
            "  inflating: Images/3108378861_d2214d971e.jpg  \n",
            "  inflating: Images/3108544687_c7115823f5.jpg  \n",
            "  inflating: Images/3108732084_565b423162.jpg  \n",
            "  inflating: Images/3109124656_626b596d5e.jpg  \n",
            "  inflating: Images/3109136206_f7d201b368.jpg  \n",
            "  inflating: Images/3109268897_d43797fc6a.jpg  \n",
            "  inflating: Images/3109688427_d2e702456c.jpg  \n",
            "  inflating: Images/3109704348_c6416244ce.jpg  \n",
            "  inflating: Images/3109780402_dbae082dc5.jpg  \n",
            "  inflating: Images/3110018626_307a123b59.jpg  \n",
            "  inflating: Images/3110174991_a4b05f8a46.jpg  \n",
            "  inflating: Images/3110614694_fecc23ca65.jpg  \n",
            "  inflating: Images/3110649716_c17e14670e.jpg  \n",
            "  inflating: Images/3111208043_dbe8e87fa1.jpg  \n",
            "  inflating: Images/3111402233_6285bcba7a.jpg  \n",
            "  inflating: Images/311146855_0b65fdb169.jpg  \n",
            "  inflating: Images/3111482098_11c0f4f309.jpg  \n",
            "  inflating: Images/3111502208_71e2a414f5.jpg  \n",
            "  inflating: Images/3111897772_5211a37a02.jpg  \n",
            "  inflating: Images/311196733_03966b4836.jpg  \n",
            "  inflating: Images/3112635165_2d614d7c1a.jpg  \n",
            "  inflating: Images/311267421_e204e643cf.jpg  \n",
            "  inflating: Images/3112821789_1f7c3bbb99.jpg  \n",
            "  inflating: Images/3113322995_13781860f2.jpg  \n",
            "  inflating: Images/3113682377_14fc7b62b0.jpg  \n",
            "  inflating: Images/3113769557_9edbb8275c.jpg  \n",
            "  inflating: Images/3114944484_28b5bb9842.jpg  \n",
            "  inflating: Images/3115174046_9e96b9ce47.jpg  \n",
            "  inflating: Images/3115354165_44dbeec6c1.jpg  \n",
            "  inflating: Images/3115901702_f07aa0ef74.jpg  \n",
            "  inflating: Images/3116011063_f4071ccce6.jpg  \n",
            "  inflating: Images/3116039960_54d1d68145.jpg  \n",
            "  inflating: Images/311619377_2ba3b36675.jpg  \n",
            "  inflating: Images/3116379964_86986750af.jpg  \n",
            "  inflating: Images/3116731299_6139b25c18.jpg  \n",
            "  inflating: Images/3116769029_f5a76f04ba.jpg  \n",
            "  inflating: Images/3116985493_04b1dc3345.jpg  \n",
            "  inflating: Images/3117336911_a729f42869.jpg  \n",
            "  inflating: Images/3117562746_62f57a02b5.jpg  \n",
            "  inflating: Images/3118425885_f0cc035032.jpg  \n",
            "  inflating: Images/3118505332_b0792489b5.jpg  \n",
            "  inflating: Images/3118534315_cc03e5ddab.jpg  \n",
            "  inflating: Images/3119076670_64b5340530.jpg  \n",
            "  inflating: Images/3119696225_b289efaec8.jpg  \n",
            "  inflating: Images/3119875880_22f9129a1c.jpg  \n",
            "  inflating: Images/3119887391_212f379797.jpg  \n",
            "  inflating: Images/3119887967_271a097464.jpg  \n",
            "  inflating: Images/3119903318_d032141839.jpg  \n",
            "  inflating: Images/3119913014_688d4997d7.jpg  \n",
            "  inflating: Images/3120189281_1938460e85.jpg  \n",
            "  inflating: Images/3120266797_47e7d91614.jpg  \n",
            "  inflating: Images/3120648767_812c72eabe.jpg  \n",
            "  inflating: Images/3120953244_b00b152246.jpg  \n",
            "  inflating: Images/3121482932_f77ca12c01.jpg  \n",
            "  inflating: Images/3121521593_18f0ec14f7.jpg  \n",
            "  inflating: Images/312156254_ef31dca5ed.jpg  \n",
            "  inflating: Images/3122497129_d08f5729b8.jpg  \n",
            "  inflating: Images/3122579598_14841c038a.jpg  \n",
            "  inflating: Images/3122606953_a979dd3d33.jpg  \n",
            "  inflating: Images/3122773470_b622205948.jpg  \n",
            "  inflating: Images/3122888809_9ae9b4b9b2.jpg  \n",
            "  inflating: Images/3122938209_2b2c6c1fab.jpg  \n",
            "  inflating: Images/3123351642_3794f2f601.jpg  \n",
            "  inflating: Images/3123463486_f5b36a3624.jpg  \n",
            "  inflating: Images/3123526484_02952e40fc.jpg  \n",
            "  inflating: Images/3123770450_cedc16d162.jpg  \n",
            "  inflating: Images/312427606_defa0dfaa8.jpg  \n",
            "  inflating: Images/3124549928_10904a5a83.jpg  \n",
            "  inflating: Images/3124838157_7ef96745b7.jpg  \n",
            "  inflating: Images/3124964754_2e8a98fb09.jpg  \n",
            "  inflating: Images/3125041578_c1f2d73b6d.jpg  \n",
            "  inflating: Images/3125158798_0743dae56e.jpg  \n",
            "  inflating: Images/3125309108_1011486589.jpg  \n",
            "  inflating: Images/3125628091_25a31709df.jpg  \n",
            "  inflating: Images/3126225245_96cd2c053f.jpg  \n",
            "  inflating: Images/3126681108_f88128699c.jpg  \n",
            "  inflating: Images/3126724531_f483e1b92a.jpg  \n",
            "  inflating: Images/3126752627_dc2d6674da.jpg  \n",
            "  inflating: Images/3126773489_7ae425af17.jpg  \n",
            "  inflating: Images/3126795109_73920ed5dc.jpg  \n",
            "  inflating: Images/3126981064_1e803c3d7f.jpg  \n",
            "  inflating: Images/3127142756_bf0bfcb571.jpg  \n",
            "  inflating: Images/3127614086_9f1d3cf73d.jpg  \n",
            "  inflating: Images/3127629248_a955b5763b.jpg  \n",
            "  inflating: Images/3127888173_9a9a8ac3bd.jpg  \n",
            "  inflating: Images/3128164023_ebe8da4c32.jpg  \n",
            "  inflating: Images/3128514681_a51b415c31.jpg  \n",
            "  inflating: Images/3128856481_86e5df4160.jpg  \n",
            "  inflating: Images/3130064588_6d1d3fa2dd.jpg  \n",
            "  inflating: Images/3130093622_362f32f2bb.jpg  \n",
            "  inflating: Images/313051099_1bb87d6c56.jpg  \n",
            "  inflating: Images/3130970054_04a3865c43.jpg  \n",
            "  inflating: Images/3131107810_7e9b96cddc.jpg  \n",
            "  inflating: Images/3131160589_dc73c209b7.jpg  \n",
            "  inflating: Images/3131632154_098f86f4cb.jpg  \n",
            "  inflating: Images/3131990048_369b081021.jpg  \n",
            "  inflating: Images/3132006797_04822b5866.jpg  \n",
            "  inflating: Images/3132619510_7dfc947d25.jpg  \n",
            "  inflating: Images/3132760860_3e743a935d.jpg  \n",
            "  inflating: Images/3132832452_c354c6396c.jpg  \n",
            "  inflating: Images/3132903412_b4780d0ccf.jpg  \n",
            "  inflating: Images/3133044777_8cc930a4ec.jpg  \n",
            "  inflating: Images/313326614_b2adbe59e0.jpg  \n",
            "  inflating: Images/3133403457_95dfe11da1.jpg  \n",
            "  inflating: Images/3133825703_359a0c414d.jpg  \n",
            "  inflating: Images/3134092148_151154139a.jpg  \n",
            "  inflating: Images/3134341610_3c55e373a7.jpg  \n",
            "  inflating: Images/3134385454_4f1d55333f.jpg  \n",
            "  inflating: Images/3134387321_3a253224c1.jpg  \n",
            "  inflating: Images/3134387513_ceb75bea0a.jpg  \n",
            "  inflating: Images/3134585858_a8c3493ca5.jpg  \n",
            "  inflating: Images/3134586018_ae03ba20a0.jpg  \n",
            "  inflating: Images/3134644844_493eec6cdc.jpg  \n",
            "  inflating: Images/3135504530_0f4130d8f8.jpg  \n",
            "  inflating: Images/3135826945_f7c741e5b7.jpg  \n",
            "  inflating: Images/3136043366_b3f8607a0e.jpg  \n",
            "  inflating: Images/3136404885_f4d8f1d15a.jpg  \n",
            "  inflating: Images/3136674757_57406c305c.jpg  \n",
            "  inflating: Images/3136688093_568b053bdf.jpg  \n",
            "  inflating: Images/3137061312_eb5fdcf3fd.jpg  \n",
            "  inflating: Images/3138399980_d6ab8b2272.jpg  \n",
            "  inflating: Images/3138433655_ea1d59e5b7.jpg  \n",
            "  inflating: Images/3138504165_c7ae396294.jpg  \n",
            "  inflating: Images/3138562460_44227a35cf.jpg  \n",
            "  inflating: Images/3138746531_f6b816c126.jpg  \n",
            "  inflating: Images/3139118874_599b30b116.jpg  \n",
            "  inflating: Images/3139160252_75109e9e05.jpg  \n",
            "  inflating: Images/3139238055_2817a0c7d8.jpg  \n",
            "  inflating: Images/3139389284_f01bd4c236.jpg  \n",
            "  inflating: Images/3139393607_f0a54ca46d.jpg  \n",
            "  inflating: Images/3139837262_fe5ee7ccd9.jpg  \n",
            "  inflating: Images/3139876823_859c7d7c23.jpg  \n",
            "  inflating: Images/3139895886_5a6d495b13.jpg  \n",
            "  inflating: Images/3141293960_74459f0a24.jpg  \n",
            "  inflating: Images/3141440149_00becbbb93.jpg  \n",
            "  inflating: Images/3141613533_595723208d.jpg  \n",
            "  inflating: Images/3142055158_01b9e4caa4.jpg  \n",
            "  inflating: Images/3143155555_32b6d24f34.jpg  \n",
            "  inflating: Images/3143159297_6f2f663ea6.jpg  \n",
            "  inflating: Images/3143574389_8a4048fbe2.jpg  \n",
            "  inflating: Images/3143765063_a7761b16d3.jpg  \n",
            "  inflating: Images/3143953179_1c08c023a5.jpg  \n",
            "  inflating: Images/3143978284_ac086be9a3.jpg  \n",
            "  inflating: Images/3143980056_7a64a94b58.jpg  \n",
            "  inflating: Images/3143982558_9e2d44c155.jpg  \n",
            "  inflating: Images/3143991972_7193381aeb.jpg  \n",
            "  inflating: Images/3144705706_391d7b77c7.jpg  \n",
            "  inflating: Images/3145869775_85dfae43bd.jpg  \n",
            "  inflating: Images/3145967019_1a83ebf712.jpg  \n",
            "  inflating: Images/3145967309_b33abe4d84.jpg  \n",
            "  inflating: Images/314603661_51e05e0e24.jpg  \n",
            "  inflating: Images/3146232740_df3da0163b.jpg  \n",
            "  inflating: Images/3146355833_1b7fc80210.jpg  \n",
            "  inflating: Images/3146630574_05d9ebbed1.jpg  \n",
            "  inflating: Images/314685044_da4390728e.jpg  \n",
            "  inflating: Images/3146937399_8c046b7b1a.jpg  \n",
            "  inflating: Images/3147217787_ed21cd4990.jpg  \n",
            "  inflating: Images/3147758035_e8a70818cb.jpg  \n",
            "  inflating: Images/3147913471_322ea231d9.jpg  \n",
            "  inflating: Images/3148193539_de9dd48fc8.jpg  \n",
            "  inflating: Images/3148286846_40ae914172.jpg  \n",
            "  inflating: Images/3148571800_c5515e6c3d.jpg  \n",
            "  inflating: Images/3148647065_2d6cd88cf6.jpg  \n",
            "  inflating: Images/3148811252_2fa9490a04.jpg  \n",
            "  inflating: Images/3149038044_c7c94688c6.jpg  \n",
            "  inflating: Images/314904143_5a216a192b.jpg  \n",
            "  inflating: Images/314940358_ec1958dc1d.jpg  \n",
            "  inflating: Images/3149804151_1cc8d10783.jpg  \n",
            "  inflating: Images/3149919755_f9272b10b3.jpg  \n",
            "  inflating: Images/315021440_122d56ebd7.jpg  \n",
            "  inflating: Images/3150252702_828a570d46.jpg  \n",
            "  inflating: Images/3150315970_8f045c41a4.jpg  \n",
            "  inflating: Images/3150380412_7021e5444a.jpg  \n",
            "  inflating: Images/3150440350_b0f2a9e774.jpg  \n",
            "  inflating: Images/3150659152_2ace03690b.jpg  \n",
            "  inflating: Images/3150742439_b8a352e1e0.jpg  \n",
            "  inflating: Images/315125146_d9a8e60061.jpg  \n",
            "  inflating: Images/3151365121_e2a685a666.jpg  \n",
            "  inflating: Images/3151492269_28d8edaa68.jpg  \n",
            "  inflating: Images/3151860914_46e30cd5ea.jpg  \n",
            "  inflating: Images/3152317129_177b4678b7.jpg  \n",
            "  inflating: Images/3153067758_53f003b1df.jpg  \n",
            "  inflating: Images/3153828367_5fc2c37c07.jpg  \n",
            "  inflating: Images/3154152744_4e93ec8a62.jpg  \n",
            "  inflating: Images/3154293126_e52bd07524.jpg  \n",
            "  inflating: Images/315436114_6d386b8c36.jpg  \n",
            "  inflating: Images/3154528397_89112faf4b.jpg  \n",
            "  inflating: Images/3154641421_d1b9b8c24c.jpg  \n",
            "  inflating: Images/3154693053_cfcd05c226.jpg  \n",
            "  inflating: Images/3154709407_9b0778cbeb.jpg  \n",
            "  inflating: Images/3154813159_58a195236d.jpg  \n",
            "  inflating: Images/3154886184_ac842655b6.jpg  \n",
            "  inflating: Images/3155279929_d1cddbe7cf.jpg  \n",
            "  inflating: Images/3155361712_2cbf59c78e.jpg  \n",
            "  inflating: Images/3155365418_43df5486f9.jpg  \n",
            "  inflating: Images/3155390408_8e1a81efb2.jpg  \n",
            "  inflating: Images/3155400369_69e3d6d70f.jpg  \n",
            "  inflating: Images/3155451946_c0862c70cb.jpg  \n",
            "  inflating: Images/3155501473_510f9c9f6b.jpg  \n",
            "  inflating: Images/3155657768_b83a7831e5.jpg  \n",
            "  inflating: Images/3155987659_b9ea318dd3.jpg  \n",
            "  inflating: Images/3156113206_53c2a7b5d8.jpg  \n",
            "  inflating: Images/3156406419_38fbd52007.jpg  \n",
            "  inflating: Images/3156991513_3bf03333d8.jpg  \n",
            "  inflating: Images/3157039116_d82da4e66b.jpg  \n",
            "  inflating: Images/3157220149_cc3c8cc84d.jpg  \n",
            "  inflating: Images/3157622277_9f59b4f62f.jpg  \n",
            "  inflating: Images/3157744152_31ace8c9ed.jpg  \n",
            "  inflating: Images/3157847991_463e006a28.jpg  \n",
            "  inflating: Images/3158327361_6f1a518228.jpg  \n",
            "  inflating: Images/3158680604_c1f99b3946.jpg  \n",
            "  inflating: Images/315880837_90db309bab.jpg  \n",
            "  inflating: Images/3159092624_66af4e207e.jpg  \n",
            "  inflating: Images/3159424456_f316bdc1d5.jpg  \n",
            "  inflating: Images/3159447439_c1496cbaea.jpg  \n",
            "  inflating: Images/3159569570_dff24e7be9.jpg  \n",
            "  inflating: Images/3159641529_c2c74f3eaf.jpg  \n",
            "  inflating: Images/3159995270_17334ccb5b.jpg  \n",
            "  inflating: Images/3160531982_37f5636b8a.jpg  \n",
            "  inflating: Images/3161044966_27bf6f9dec.jpg  \n",
            "  inflating: Images/3162045919_c2decbb69b.jpg  \n",
            "  inflating: Images/3162095736_cc41dd41ff.jpg  \n",
            "  inflating: Images/3162289423_4ca8915d0c.jpg  \n",
            "  inflating: Images/3162442331_c9711857c6.jpg  \n",
            "  inflating: Images/3163068926_d28ed3ef53.jpg  \n",
            "  inflating: Images/3163198309_bbfe504f0a.jpg  \n",
            "  inflating: Images/3163273640_8d3ef22eaf.jpg  \n",
            "  inflating: Images/3163281186_e2f43dfb5f.jpg  \n",
            "  inflating: Images/3163323414_d1ce127aa6.jpg  \n",
            "  inflating: Images/3163477256_073605e06e.jpg  \n",
            "  inflating: Images/3163563871_cef3cf33ea.jpg  \n",
            "  inflating: Images/3164328039_2c56acf594.jpg  \n",
            "  inflating: Images/3164347907_2813f8ff0b.jpg  \n",
            "  inflating: Images/3164415865_612f9fd8bc.jpg  \n",
            "  inflating: Images/3164423279_9b27cb6a06.jpg  \n",
            "  inflating: Images/3165123595_8db9f918bf.jpg  \n",
            "  inflating: Images/3165750962_e2e3843679.jpg  \n",
            "  inflating: Images/316577571_27a0e0253e.jpg  \n",
            "  inflating: Images/3165826902_6bf9c4bdb2.jpg  \n",
            "  inflating: Images/3165936115_cb4017d94e.jpg  \n",
            "  inflating: Images/3166366760_e43cf66eda.jpg  \n",
            "  inflating: Images/3166578139_33500f7e8a.jpg  \n",
            "  inflating: Images/3166969425_b5ace2f9c2.jpg  \n",
            "  inflating: Images/3167365436_c379bda282.jpg  \n",
            "  inflating: Images/3167379087_927ff05a35.jpg  \n",
            "  inflating: Images/3168123064_d1983b8f92.jpg  \n",
            "  inflating: Images/316833109_6500b526dc.jpg  \n",
            "  inflating: Images/3168354472_866fe70d36.jpg  \n",
            "  inflating: Images/3168796547_0c14b368f9.jpg  \n",
            "  inflating: Images/3168841415_c0705a327a.jpg  \n",
            "  inflating: Images/3169276423_6918dd4da1.jpg  \n",
            "  inflating: Images/3169394115_2193158cee.jpg  \n",
            "  inflating: Images/3169591322_d0b6d0cd04.jpg  \n",
            "  inflating: Images/3169777863_d745865784.jpg  \n",
            "  inflating: Images/3170110692_d1e0e66cee.jpg  \n",
            "  inflating: Images/3170551725_1276644eab.jpg  \n",
            "  inflating: Images/3170802797_3c851bb475.jpg  \n",
            "  inflating: Images/3170856184_efabfd0297.jpg  \n",
            "  inflating: Images/3170897628_3054087f8c.jpg  \n",
            "  inflating: Images/3171035252_dba286ae5c.jpg  \n",
            "  inflating: Images/3171066023_ec60ba30f3.jpg  \n",
            "  inflating: Images/317109978_cb557802e1.jpg  \n",
            "  inflating: Images/3171188674_717eee0183.jpg  \n",
            "  inflating: Images/3171250845_5ae0d2a8bc.jpg  \n",
            "  inflating: Images/3171347658_f0d5469c56.jpg  \n",
            "  inflating: Images/3171451305_f87b9e09ee.jpg  \n",
            "  inflating: Images/3171651115_e07b9d08f6.jpg  \n",
            "  inflating: Images/3172280520_e7655fb596.jpg  \n",
            "  inflating: Images/3172283002_3c0fc624de.jpg  \n",
            "  inflating: Images/3172369593_eb4d787ffb.jpg  \n",
            "  inflating: Images/3172384527_b107385a20.jpg  \n",
            "  inflating: Images/3173014908_b3e69594b6.jpg  \n",
            "  inflating: Images/3173157541_70b16b4318.jpg  \n",
            "  inflating: Images/3173215794_6bdd1f72d4.jpg  \n",
            "  inflating: Images/3173461705_b5cdeef1eb.jpg  \n",
            "  inflating: Images/317383917_d8bfa350b6.jpg  \n",
            "  inflating: Images/3173928684_4ea0ee5114.jpg  \n",
            "  inflating: Images/3173976185_8a50123050.jpg  \n",
            "  inflating: Images/3174156702_95a1cda2d9.jpg  \n",
            "  inflating: Images/3174196837_800689a2f3.jpg  \n",
            "  inflating: Images/3174228611_6cf9d2266b.jpg  \n",
            "  inflating: Images/3174417550_d2e6100278.jpg  \n",
            "  inflating: Images/3174431688_ae84778db0.jpg  \n",
            "  inflating: Images/3174453534_fcc927c647.jpg  \n",
            "  inflating: Images/3174713468_e22fa7779e.jpg  \n",
            "  inflating: Images/3174726084_c108de0a64.jpg  \n",
            "  inflating: Images/317488612_70ac35493b.jpg  \n",
            "  inflating: Images/3175434849_859f09fe07.jpg  \n",
            "  inflating: Images/3175446111_681a89f873.jpg  \n",
            "  inflating: Images/3175712926_5a470d0886.jpg  \n",
            "  inflating: Images/3175849727_bf30b892cb.jpg  \n",
            "  inflating: Images/3176072448_b84c99cf7f.jpg  \n",
            "  inflating: Images/3176131893_7181c733aa.jpg  \n",
            "  inflating: Images/3176277818_235486a3cd.jpg  \n",
            "  inflating: Images/3176278670_195eea071c.jpg  \n",
            "  inflating: Images/317641829_ab2607a6c0.jpg  \n",
            "  inflating: Images/3176498130_52ab9460b2.jpg  \n",
            "  inflating: Images/3176968956_d942a93513.jpg  \n",
            "  inflating: Images/3177298173_78cea31d64.jpg  \n",
            "  inflating: Images/3177468217_56a9142e46.jpg  \n",
            "  inflating: Images/3177799416_5bd0382370.jpg  \n",
            "  inflating: Images/3178005751_fca19815ac.jpg  \n",
            "  inflating: Images/3178300150_d4605ff02c.jpg  \n",
            "  inflating: Images/3178371973_60c6b8f110.jpg  \n",
            "  inflating: Images/3178489390_13a6ae7524.jpg  \n",
            "  inflating: Images/3178599352_c57fdebcd2.jpg  \n",
            "  inflating: Images/3179336562_c3d0c0a3bd.jpg  \n",
            "  inflating: Images/3179952488_c1c812a03b.jpg  \n",
            "  inflating: Images/318070878_92ead85868.jpg  \n",
            "  inflating: Images/3180806542_49b6de312d.jpg  \n",
            "  inflating: Images/3181322965_ce9da15271.jpg  \n",
            "  inflating: Images/3181328245_7c04ce1691.jpg  \n",
            "  inflating: Images/3181409177_edb09c2718.jpg  \n",
            "  inflating: Images/3181599388_68559cfc17.jpg  \n",
            "  inflating: Images/3181701312_70a379ab6e.jpg  \n",
            "  inflating: Images/3182121297_38c99b2769.jpg  \n",
            "  inflating: Images/3182161610_4d349b257f.jpg  \n",
            "  inflating: Images/3182258223_5b9c8a8c55.jpg  \n",
            "  inflating: Images/3182405529_7692256746.jpg  \n",
            "  inflating: Images/3182558164_488b819f14.jpg  \n",
            "  inflating: Images/3182570190_48214e54c7.jpg  \n",
            "  inflating: Images/3182996527_70d9c323d5.jpg  \n",
            "  inflating: Images/3183060123_ea3af6278b.jpg  \n",
            "  inflating: Images/3183195185_cd0ff994a1.jpg  \n",
            "  inflating: Images/3183195653_11b66acb34.jpg  \n",
            "  inflating: Images/3183519385_311555d5f5.jpg  \n",
            "  inflating: Images/3183777589_460a4f445b.jpg  \n",
            "  inflating: Images/3183875944_b2be694e06.jpg  \n",
            "  inflating: Images/3183883750_b6acc40397.jpg  \n",
            "  inflating: Images/3184031654_34b5c4ffe1.jpg  \n",
            "  inflating: Images/3184112120_6ddcd98016.jpg  \n",
            "  inflating: Images/3184206563_5435f2b494.jpg  \n",
            "  inflating: Images/3184891327_8785194e3c.jpg  \n",
            "  inflating: Images/3185371756_ff4e9fa8a6.jpg  \n",
            "  inflating: Images/3185409663_95f6b958d8.jpg  \n",
            "  inflating: Images/3185645793_49de805194.jpg  \n",
            "  inflating: Images/3185662156_c877583c53.jpg  \n",
            "  inflating: Images/3185695861_86152b2755.jpg  \n",
            "  inflating: Images/3185787277_b412d7f5b7.jpg  \n",
            "  inflating: Images/3186073578_6e115f45f5.jpg  \n",
            "  inflating: Images/3186412658_2ab2ebd397.jpg  \n",
            "  inflating: Images/3186527735_6e9fe2cf88.jpg  \n",
            "  inflating: Images/3186556417_b2d6921a20.jpg  \n",
            "  inflating: Images/318667317_108c402140.jpg  \n",
            "  inflating: Images/3186863842_5832573c5e.jpg  \n",
            "  inflating: Images/3187096035_65dc416291.jpg  \n",
            "  inflating: Images/3187117682_986ffd6b67.jpg  \n",
            "  inflating: Images/3187364311_4c2a87083b.jpg  \n",
            "  inflating: Images/3187395715_f2940c2b72.jpg  \n",
            "  inflating: Images/3187492926_8aa85f80c6.jpg  \n",
            "  inflating: Images/3187924573_203223e6c0.jpg  \n",
            "  inflating: Images/3188036349_8e4e2d6ca8.jpg  \n",
            "  inflating: Images/3188044631_ca3a9cc737.jpg  \n",
            "  inflating: Images/3188319076_71724fcc07.jpg  \n",
            "  inflating: Images/3189002057_3ef61b803e.jpg  \n",
            "  inflating: Images/3189251454_03b76c2e92.jpg  \n",
            "  inflating: Images/3189293145_35dea42679.jpg  \n",
            "  inflating: Images/3189307452_aebc12380b.jpg  \n",
            "  inflating: Images/3189521080_133777bce5.jpg  \n",
            "  inflating: Images/3189941492_a3f4347b1a.jpg  \n",
            "  inflating: Images/3189964753_a95536ced9.jpg  \n",
            "  inflating: Images/3190677999_60bbd330fd.jpg  \n",
            "  inflating: Images/3191027142_33e86636ca.jpg  \n",
            "  inflating: Images/3191135894_2b4bdabb6d.jpg  \n",
            "  inflating: Images/3191805046_77c334b506.jpg  \n",
            "  inflating: Images/319185571_56162796da.jpg  \n",
            "  inflating: Images/3191982761_88793192ed.jpg  \n",
            "  inflating: Images/3192069971_83c5a90b4c.jpg  \n",
            "  inflating: Images/3192266178_f9bf5d3dba.jpg  \n",
            "  inflating: Images/3192311620_99bda27fbd.jpg  \n",
            "  inflating: Images/3193335577_9bdbaf9f70.jpg  \n",
            "  inflating: Images/3193511842_82549c21fb.jpg  \n",
            "  inflating: Images/3194134352_bc1b2a25d7.jpg  \n",
            "  inflating: Images/3195040792_a03954a19f.jpg  \n",
            "  inflating: Images/3195147187_a073d59fa8.jpg  \n",
            "  inflating: Images/3195188609_01afbe46e6.jpg  \n",
            "  inflating: Images/3195701071_81879257f5.jpg  \n",
            "  inflating: Images/3195969533_98f5de0fab.jpg  \n",
            "  inflating: Images/3196100539_102fe877b3.jpg  \n",
            "  inflating: Images/3196995975_3e38eabf01.jpg  \n",
            "  inflating: Images/3197247245_9c93b60b8a.jpg  \n",
            "  inflating: Images/3197482764_2f289cb726.jpg  \n",
            "  inflating: Images/3197791645_601908f26b.jpg  \n",
            "  inflating: Images/3197891333_b1b0fd1702.jpg  \n",
            "  inflating: Images/3197917064_e679a44b8e.jpg  \n",
            "  inflating: Images/3197981073_3156963446.jpg  \n",
            "  inflating: Images/3198231851_6b1727482b.jpg  \n",
            "  inflating: Images/3198237818_cb5eb302f0.jpg  \n",
            "  inflating: Images/3198247669_7493af04a7.jpg  \n",
            "  inflating: Images/319847643_df7c2a1d25.jpg  \n",
            "  inflating: Images/319847657_2c40e14113.jpg  \n",
            "  inflating: Images/319851847_7212423309.jpg  \n",
            "  inflating: Images/319869052_08b000e4af.jpg  \n",
            "  inflating: Images/319870744_0e0138d205.jpg  \n",
            "  inflating: Images/3198962089_e647d1b0cd.jpg  \n",
            "  inflating: Images/319938879_daf0857f91.jpg  \n",
            "  inflating: Images/3199460792_deef518c01.jpg  \n",
            "  inflating: Images/3199645963_a681fe04f8.jpg  \n",
            "  inflating: Images/3199895624_4f01798c6f.jpg  \n",
            "  inflating: Images/3200120942_59cfbb3437.jpg  \n",
            "  inflating: Images/320093980_5388cb3733.jpg  \n",
            "  inflating: Images/3201427741_3033f5b625.jpg  \n",
            "  inflating: Images/3201594926_cd2009eb13.jpg  \n",
            "  inflating: Images/3201666946_04fe837aff.jpg  \n",
            "  inflating: Images/3202255152_08973fa3d7.jpg  \n",
            "  inflating: Images/3202360797_2084743e90.jpg  \n",
            "  inflating: Images/3203453897_6317aac6ff.jpg  \n",
            "  inflating: Images/3203707977_cc9448fecb.jpg  \n",
            "  inflating: Images/3203742047_6a55065411.jpg  \n",
            "  inflating: Images/3203872773_6c30f64be3.jpg  \n",
            "  inflating: Images/3203878596_cbb307ce3b.jpg  \n",
            "  inflating: Images/3203908917_53e53c03d1.jpg  \n",
            "  inflating: Images/3204081508_0e7f408097.jpg  \n",
            "  inflating: Images/3204354161_caf89ec784.jpg  \n",
            "  inflating: Images/3204525212_d548c7fca7.jpg  \n",
            "  inflating: Images/3204686006_88f04547b9.jpg  \n",
            "  inflating: Images/3204712107_5a06a81002.jpg  \n",
            "  inflating: Images/3204922011_185e48949a.jpg  \n",
            "  inflating: Images/3205214191_29b42b9b09.jpg  \n",
            "  inflating: Images/3205336477_037d4b6bd9.jpg  \n",
            "  inflating: Images/3205754736_32c29b5208.jpg  \n",
            "  inflating: Images/3205839744_24504ba179.jpg  \n",
            "  inflating: Images/3206058778_7053ee6b52.jpg  \n",
            "  inflating: Images/3206919175_e3a11b6874.jpg  \n",
            "  inflating: Images/3206999917_e682672cbc.jpg  \n",
            "  inflating: Images/3207264553_8cd4dcde53.jpg  \n",
            "  inflating: Images/3207343907_995f7ac1d2.jpg  \n",
            "  inflating: Images/3207358897_bfa61fa3c6.jpg  \n",
            "  inflating: Images/3207654194_43d6bebd68.jpg  \n",
            "  inflating: Images/3207676216_48478bce97.jpg  \n",
            "  inflating: Images/3207775692_bb897d9afd.jpg  \n",
            "  inflating: Images/3208032657_27b9d6c4f3.jpg  \n",
            "  inflating: Images/3208074567_ac44aeb3f3.jpg  \n",
            "  inflating: Images/3208188198_2b271d2a2e.jpg  \n",
            "  inflating: Images/3208553539_2bf6c6d162.jpg  \n",
            "  inflating: Images/3208571574_6dc1a461c5.jpg  \n",
            "  inflating: Images/3208987435_780ae35ef0.jpg  \n",
            "  inflating: Images/3208999896_dab42dc40b.jpg  \n",
            "  inflating: Images/3209350613_eb86579ee8.jpg  \n",
            "  inflating: Images/3209523192_05a4cef844.jpg  \n",
            "  inflating: Images/3209564153_077ed4d246.jpg  \n",
            "  inflating: Images/3209620285_edfc479392.jpg  \n",
            "  inflating: Images/3209966887_5b744bd050.jpg  \n",
            "  inflating: Images/3210359094_ee51285301.jpg  \n",
            "  inflating: Images/3210419174_d083a16f77.jpg  \n",
            "  inflating: Images/3210457502_c6030ce567.jpg  \n",
            "  inflating: Images/3210705660_2b14b7fb36.jpg  \n",
            "  inflating: Images/3211029717_2affe6bbd5.jpg  \n",
            "  inflating: Images/3211199368_ca78387f72.jpg  \n",
            "  inflating: Images/3211210739_3dea005fde.jpg  \n",
            "  inflating: Images/3211289105_e0360a9c7f.jpg  \n",
            "  inflating: Images/3211316116_a2462e327d.jpg  \n",
            "  inflating: Images/3211437611_bd4af3730b.jpg  \n",
            "  inflating: Images/3211453055_05cbfe37cd.jpg  \n",
            "  inflating: Images/3211556865_d1d9becf69.jpg  \n",
            "  inflating: Images/3211577298_14296db6fd.jpg  \n",
            "  inflating: Images/3211581957_df2f7e2236.jpg  \n",
            "  inflating: Images/3212085754_35fdc9ccaa.jpg  \n",
            "  inflating: Images/321229104_3cbaf0f51c.jpg  \n",
            "  inflating: Images/3212456649_40a3052682.jpg  \n",
            "  inflating: Images/3212465975_b657f40eed.jpg  \n",
            "  inflating: Images/3212625256_685bc4de99.jpg  \n",
            "  inflating: Images/3213395965_2a823c6865.jpg  \n",
            "  inflating: Images/3213622536_31da7f6682.jpg  \n",
            "  inflating: Images/3213992947_3f3f967a9f.jpg  \n",
            "  inflating: Images/3214100656_80cda1b86b.jpg  \n",
            "  inflating: Images/3214151585_f2d0b00b41.jpg  \n",
            "  inflating: Images/3214237686_6566b8b52f.jpg  \n",
            "  inflating: Images/3214381315_b54f5c9be4.jpg  \n",
            "  inflating: Images/3214573346_d3a57f0328.jpg  \n",
            "  inflating: Images/3214579977_fa9fb006a6.jpg  \n",
            "  inflating: Images/3214885227_2be09e7cfb.jpg  \n",
            "  inflating: Images/3215081286_d55541aa6b.jpg  \n",
            "  inflating: Images/3215108916_0473007b47.jpg  \n",
            "  inflating: Images/3215117062_6e07a86352.jpg  \n",
            "  inflating: Images/3215238223_29de2b35cb.jpg  \n",
            "  inflating: Images/3215315009_47577bf8f7.jpg  \n",
            "  inflating: Images/3215695965_69fbeba3d5.jpg  \n",
            "  inflating: Images/3215847501_c723905ba4.jpg  \n",
            "  inflating: Images/3215870337_c92a1a1b2f.jpg  \n",
            "  inflating: Images/3215896272_e9b4b547a9.jpg  \n",
            "  inflating: Images/3216085740_699c2ce1ae.jpg  \n",
            "  inflating: Images/3216762979_813c45a8ec.jpg  \n",
            "  inflating: Images/3216829599_366a43f05e.jpg  \n",
            "  inflating: Images/3216901052_269ace7b3c.jpg  \n",
            "  inflating: Images/3216926094_bc975e84b9.jpg  \n",
            "  inflating: Images/3217056901_fe2c70377d.jpg  \n",
            "  inflating: Images/3217187564_0ffd89dec1.jpg  \n",
            "  inflating: Images/3217240672_b99a682026.jpg  \n",
            "  inflating: Images/3217266166_4e0091860b.jpg  \n",
            "  inflating: Images/3217291172_10ef70af88.jpg  \n",
            "  inflating: Images/3217620013_8b17873273.jpg  \n",
            "  inflating: Images/3217893350_57be430d06.jpg  \n",
            "  inflating: Images/3217909454_7baa0edbb2.jpg  \n",
            "  inflating: Images/3217910740_d1d61c08ab.jpg  \n",
            "  inflating: Images/3218480482_66af7587c8.jpg  \n",
            "  inflating: Images/3218481970_1fa627b3da.jpg  \n",
            "  inflating: Images/3218861747_5c5c547b66.jpg  \n",
            "  inflating: Images/3218889785_86cb64014f.jpg  \n",
            "  inflating: Images/3219065971_702c4e8c34.jpg  \n",
            "  inflating: Images/3219122000_bd6b4ae5ff.jpg  \n",
            "  inflating: Images/3219210794_4324df188b.jpg  \n",
            "  inflating: Images/3220009216_10f088185e.jpg  \n",
            "  inflating: Images/3220126881_b0a4f7cccb.jpg  \n",
            "  inflating: Images/3220140234_e072856e6c.jpg  \n",
            "  inflating: Images/3220151692_d398ef9779.jpg  \n",
            "  inflating: Images/3220161734_77f42734b9.jpg  \n",
            "  inflating: Images/3220200084_3ea129336e.jpg  \n",
            "  inflating: Images/322050103_145f7233c6.jpg  \n",
            "  inflating: Images/3220650628_4ed964e5b4.jpg  \n",
            "  inflating: Images/322103537_184367bf88.jpg  \n",
            "  inflating: Images/3221036999_3f7b152d8a.jpg  \n",
            "  inflating: Images/3221128704_d1205db79b.jpg  \n",
            "  inflating: Images/3221815947_76c95b50b7.jpg  \n",
            "  inflating: Images/3222041930_f642f49d28.jpg  \n",
            "  inflating: Images/3222055946_45f7293bb2.jpg  \n",
            "  inflating: Images/3222250187_ef610f267e.jpg  \n",
            "  inflating: Images/3222496967_45d468ee66.jpg  \n",
            "  inflating: Images/3222702477_34d2d24f1f.jpg  \n",
            "  inflating: Images/3222749441_3bdfe088e3.jpg  \n",
            "  inflating: Images/3222842866_cb85243ce4.jpg  \n",
            "  inflating: Images/3223055565_68973f5d20.jpg  \n",
            "  inflating: Images/3223224391_be50bf4f43.jpg  \n",
            "  inflating: Images/3223302125_f8154417f4.jpg  \n",
            "  inflating: Images/3223606402_bb2aa6db95.jpg  \n",
            "  inflating: Images/3223709894_97824ba76f.jpg  \n",
            "  inflating: Images/3223809913_ae15d14d9a.jpg  \n",
            "  inflating: Images/3223973114_6c15538ce9.jpg  \n",
            "  inflating: Images/3224227640_31865b3651.jpg  \n",
            "  inflating: Images/3224560800_8fefd52510.jpg  \n",
            "  inflating: Images/3224578187_749882c17f.jpg  \n",
            "  inflating: Images/3224904543_679fe05c41.jpg  \n",
            "  inflating: Images/3225025519_c089c14559.jpg  \n",
            "  inflating: Images/3225037367_a71fa86319.jpg  \n",
            "  inflating: Images/3225058391_a12d38d911.jpg  \n",
            "  inflating: Images/3225226381_9fe306fb9e.jpg  \n",
            "  inflating: Images/3225296260_2ee72b4917.jpg  \n",
            "  inflating: Images/3225310099_d8e419ba56.jpg  \n",
            "  inflating: Images/3225478803_f7a9a41a1d.jpg  \n",
            "  inflating: Images/3225880532_c8d5d1d798.jpg  \n",
            "  inflating: Images/3225998968_ef786d86e0.jpg  \n",
            "  inflating: Images/3226254560_2f8ac147ea.jpg  \n",
            "  inflating: Images/3226541300_6c81711e8e.jpg  \n",
            "  inflating: Images/3226796100_08c49cfa5c.jpg  \n",
            "  inflating: Images/3227111573_c82f7d68b1.jpg  \n",
            "  inflating: Images/3227140905_1d7e30e4c4.jpg  \n",
            "  inflating: Images/3227148358_f152303584.jpg  \n",
            "  inflating: Images/3227423095_5049951eab.jpg  \n",
            "  inflating: Images/3227499174_07feb26337.jpg  \n",
            "  inflating: Images/3227594168_3351722aae.jpg  \n",
            "  inflating: Images/322791392_aa3b142f43.jpg  \n",
            "  inflating: Images/3228069008_edb2961fc4.jpg  \n",
            "  inflating: Images/3228517564_74b00a923b.jpg  \n",
            "  inflating: Images/3228793611_8f260ea500.jpg  \n",
            "  inflating: Images/3228960484_9aab98b91a.jpg  \n",
            "  inflating: Images/3229282764_a4a515f4e2.jpg  \n",
            "  inflating: Images/3229442620_fd47d01b59.jpg  \n",
            "  inflating: Images/3229519418_040f05ced1.jpg  \n",
            "  inflating: Images/3229730008_63f8ca2de2.jpg  \n",
            "  inflating: Images/3229821595_77ace81c6b.jpg  \n",
            "  inflating: Images/3229898555_16877f5180.jpg  \n",
            "  inflating: Images/3229913073_e7857a5966.jpg  \n",
            "  inflating: Images/3230101918_7d81cb0fc8.jpg  \n",
            "  inflating: Images/3230132205_dccfafa5ee.jpg  \n",
            "  inflating: Images/3231237864_8cb1c6d863.jpg  \n",
            "  inflating: Images/3231575742_31732664cf.jpg  \n",
            "  inflating: Images/3231596071_f0c522a639.jpg  \n",
            "  inflating: Images/3231751379_10ebf7150c.jpg  \n",
            "  inflating: Images/3231880001_193a579b97.jpg  \n",
            "  inflating: Images/3232030272_b2480a5fe7.jpg  \n",
            "  inflating: Images/3232252882_05db7c2216.jpg  \n",
            "  inflating: Images/3232470286_903a61ea16.jpg  \n",
            "  inflating: Images/3234115903_f4dfc8fc75.jpg  \n",
            "  inflating: Images/3234375022_1464ea7f8a.jpg  \n",
            "  inflating: Images/3234401637_84e0d14414.jpg  \n",
            "  inflating: Images/3234719720_5bb2fc5ffa.jpg  \n",
            "  inflating: Images/3234890865_bb3c316968.jpg  \n",
            "  inflating: Images/3235076435_1eaa40bd0a.jpg  \n",
            "  inflating: Images/3235542079_2fcf4951a1.jpg  \n",
            "  inflating: Images/3235746553_a40416c00e.jpg  \n",
            "  inflating: Images/3236447445_eecafdf4f0.jpg  \n",
            "  inflating: Images/323657582_b6b6d8f7bd.jpg  \n",
            "  inflating: Images/3236677456_75821e3583.jpg  \n",
            "  inflating: Images/3237760601_5334f3f3b5.jpg  \n",
            "  inflating: Images/3238654429_d899e34287.jpg  \n",
            "  inflating: Images/3238951136_2a99f1a1a8.jpg  \n",
            "  inflating: Images/3239021459_a6b71bb400.jpg  \n",
            "  inflating: Images/3239480519_22540b5016.jpg  \n",
            "  inflating: Images/3239866450_3f8cfb0c83.jpg  \n",
            "  inflating: Images/3240014971_ee2ea8406f.jpg  \n",
            "  inflating: Images/3240048764_acce8af2a5.jpg  \n",
            "  inflating: Images/3240090389_97a8c5d386.jpg  \n",
            "  inflating: Images/3240094420_a9eea11d39.jpg  \n",
            "  inflating: Images/3240351042_5d29c94b0e.jpg  \n",
            "  inflating: Images/3240558825_cd859d6230.jpg  \n",
            "  inflating: Images/3241487502_f4f0cc4a8a.jpg  \n",
            "  inflating: Images/3241726740_6d256d61ec.jpg  \n",
            "  inflating: Images/3241892328_4ebf8b21ce.jpg  \n",
            "  inflating: Images/3241965735_8742782a70.jpg  \n",
            "  inflating: Images/3242007318_01e82171aa.jpg  \n",
            "  inflating: Images/324208502_674488bcea.jpg  \n",
            "  inflating: Images/3242088278_43eea5d17e.jpg  \n",
            "  inflating: Images/3242263536_a436f19257.jpg  \n",
            "  inflating: Images/3242354561_54e5a34925.jpg  \n",
            "  inflating: Images/3242718240_3358f2d6e6.jpg  \n",
            "  inflating: Images/3242808166_8638150274.jpg  \n",
            "  inflating: Images/3242919570_39a05aa2ee.jpg  \n",
            "  inflating: Images/3243020805_2bafc36c45.jpg  \n",
            "  inflating: Images/3243094580_ccd01679f5.jpg  \n",
            "  inflating: Images/3243233886_235a80e8c7.jpg  \n",
            "  inflating: Images/324355356_859988a710.jpg  \n",
            "  inflating: Images/3243588540_b418ac7eda.jpg  \n",
            "  inflating: Images/3243591844_791cfa62eb.jpg  \n",
            "  inflating: Images/3244171699_ace4b5d999.jpg  \n",
            "  inflating: Images/3244470342_c08f6bb17e.jpg  \n",
            "  inflating: Images/3244586044_205d5ae2ba.jpg  \n",
            "  inflating: Images/3244734844_c318c29c23.jpg  \n",
            "  inflating: Images/3244747165_17028936e0.jpg  \n",
            "  inflating: Images/3244910944_612b8ce98f.jpg  \n",
            "  inflating: Images/3245070961_8977fdd548.jpg  \n",
            "  inflating: Images/3245250964_9d3e37111e.jpg  \n",
            "  inflating: Images/3245266444_2e798096e6.jpg  \n",
            "  inflating: Images/3245460937_2710a82709.jpg  \n",
            "  inflating: Images/3245504245_27931f5ec1.jpg  \n",
            "  inflating: Images/3245912109_fdeef6b456.jpg  \n",
            "  inflating: Images/3245939062_8ffe1d2be5.jpg  \n",
            "  inflating: Images/3246190363_68d903bfcb.jpg  \n",
            "  inflating: Images/3246773992_89bf86937b.jpg  \n",
            "  inflating: Images/3246804978_ea2c9e56f2.jpg  \n",
            "  inflating: Images/3246991821_750a3097e2.jpg  \n",
            "  inflating: Images/3247052319_da8aba1983.jpg  \n",
            "  inflating: Images/3247168324_c45eaf734d.jpg  \n",
            "  inflating: Images/3247341210_5d1e50df23.jpg  \n",
            "  inflating: Images/3247423890_163f00a2cb.jpg  \n",
            "  inflating: Images/3247500085_c4f641aa84.jpg  \n",
            "  inflating: Images/3247598959_5b2348444c.jpg  \n",
            "  inflating: Images/3247693965_845b3b4349.jpg  \n",
            "  inflating: Images/3248220732_0f173fc197.jpg  \n",
            "  inflating: Images/3248352729_ab264b2222.jpg  \n",
            "  inflating: Images/3248408149_41a8dd90d3.jpg  \n",
            "  inflating: Images/3248752274_96740ed073.jpg  \n",
            "  inflating: Images/3249014584_21dd9ddd9d.jpg  \n",
            "  inflating: Images/3249062399_0dafe5e4f5.jpg  \n",
            "  inflating: Images/3249125548_700d874380.jpg  \n",
            "  inflating: Images/3249278583_95cd8206da.jpg  \n",
            "  inflating: Images/3249597269_935e0a375a.jpg  \n",
            "  inflating: Images/3249738122_decde6c117.jpg  \n",
            "  inflating: Images/3249865395_dceaa59f54.jpg  \n",
            "  inflating: Images/3249891130_b241591e89.jpg  \n",
            "  inflating: Images/3249891874_6a090ef097.jpg  \n",
            "  inflating: Images/325005410_e1ff5041b5.jpg  \n",
            "  inflating: Images/3250076419_eb3de15063.jpg  \n",
            "  inflating: Images/3250589803_3f440ba781.jpg  \n",
            "  inflating: Images/3250593457_9049a73b61.jpg  \n",
            "  inflating: Images/3250695024_93e8ab7305.jpg  \n",
            "  inflating: Images/3251088971_f4471048e3.jpg  \n",
            "  inflating: Images/3251234434_d01e25a50a.jpg  \n",
            "  inflating: Images/3251460982_4578a568bb.jpg  \n",
            "  inflating: Images/3251646144_d9f4ccca3f.jpg  \n",
            "  inflating: Images/3251648670_9339943ba2.jpg  \n",
            "  inflating: Images/3251906388_c09d44340e.jpg  \n",
            "  inflating: Images/3251976937_20625dc2b8.jpg  \n",
            "  inflating: Images/3252457866_b86614064c.jpg  \n",
            "  inflating: Images/3252588185_3210fe94be.jpg  \n",
            "  inflating: Images/3252985078_c4ee2aca4e.jpg  \n",
            "  inflating: Images/3253060519_55d98c208f.jpg  \n",
            "  inflating: Images/3254640083_eb34b8edfe.jpg  \n",
            "  inflating: Images/3254645823_a7c072481c.jpg  \n",
            "  inflating: Images/3254662117_b2e7dede6e.jpg  \n",
            "  inflating: Images/3254817653_632e840423.jpg  \n",
            "  inflating: Images/3255017708_2b02bfcdcf.jpg  \n",
            "  inflating: Images/3255482333_5bcee79f7e.jpg  \n",
            "  inflating: Images/3255620561_7644747791.jpg  \n",
            "  inflating: Images/3255732353_fbc487aefc.jpg  \n",
            "  inflating: Images/3255737244_1f8948fc07.jpg  \n",
            "  inflating: Images/325576658_59f68bdbd6.jpg  \n",
            "  inflating: Images/3256043809_47258e0b3e.jpg  \n",
            "  inflating: Images/3256272547_5ae6c66293.jpg  \n",
            "  inflating: Images/3256274183_4eab3b2322.jpg  \n",
            "  inflating: Images/3256275785_9c3af57576.jpg  \n",
            "  inflating: Images/3256456935_664a7a5bba.jpg  \n",
            "  inflating: Images/3256603992_67312b5a36.jpg  \n",
            "  inflating: Images/3257103624_e76f25ff9e.jpg  \n",
            "  inflating: Images/3257107194_f235c8f7ab.jpg  \n",
            "  inflating: Images/3257182199_5fda78d870.jpg  \n",
            "  inflating: Images/3257207516_9d2bc0ea04.jpg  \n",
            "  inflating: Images/3257277774_aba333a94c.jpg  \n",
            "  inflating: Images/3258391809_38fc6211f7.jpg  \n",
            "  inflating: Images/3258394043_a0b6a94dce.jpg  \n",
            "  inflating: Images/3258395783_2de3a4ba27.jpg  \n",
            "  inflating: Images/3258396041_69717247f7.jpg  \n",
            "  inflating: Images/3258397351_1a70f1993d.jpg  \n",
            "  inflating: Images/3258472448_75cfab5e6f.jpg  \n",
            "  inflating: Images/3258874419_23fec1bdc1.jpg  \n",
            "  inflating: Images/3259002340_707ce96858.jpg  \n",
            "  inflating: Images/3259110412_9908c45144.jpg  \n",
            "  inflating: Images/3259119085_21613b69df.jpg  \n",
            "  inflating: Images/3259160693_067ec7ebc3.jpg  \n",
            "  inflating: Images/3259222690_69737f2a6e.jpg  \n",
            "  inflating: Images/3259222980_04fb62df97.jpg  \n",
            "  inflating: Images/3259225196_750c4ce0f9.jpg  \n",
            "  inflating: Images/3259228898_cefd04580b.jpg  \n",
            "  inflating: Images/3259229498_2b5708c0c6.jpg  \n",
            "  inflating: Images/3259231890_16fe167b31.jpg  \n",
            "  inflating: Images/3259579174_30a8a27058.jpg  \n",
            "  inflating: Images/3259666643_ae49524c81.jpg  \n",
            "  inflating: Images/3259694057_fae7484b0a.jpg  \n",
            "  inflating: Images/3259757648_71edb4347b.jpg  \n",
            "  inflating: Images/3259883609_6a1b46919e.jpg  \n",
            "  inflating: Images/3259991972_fce3ab18b2.jpg  \n",
            "  inflating: Images/3259992164_94600858b3.jpg  \n",
            "  inflating: Images/3259992638_0612a40288.jpg  \n",
            "  inflating: Images/3259992722_4c5e895734.jpg  \n",
            "  inflating: Images/3260088697_af9b6d2393.jpg  \n",
            "  inflating: Images/3260191163_6c1551eee8.jpg  \n",
            "  inflating: Images/3260214530_7179346407.jpg  \n",
            "  inflating: Images/326028454_fb396167e6.jpg  \n",
            "  inflating: Images/3260768565_2b725be090.jpg  \n",
            "  inflating: Images/3260975858_75d0612a69.jpg  \n",
            "  inflating: Images/3261493263_381a4c5cc7.jpg  \n",
            "  inflating: Images/3261666285_86fceb762d.jpg  \n",
            "  inflating: Images/3262075846_5695021d84.jpg  \n",
            "  inflating: Images/3262301835_9f1a49b80a.jpg  \n",
            "  inflating: Images/3262386960_14f5d857db.jpg  \n",
            "  inflating: Images/3262475923_f1f77fcd9f.jpg  \n",
            "  inflating: Images/3262647146_a53770a21d.jpg  \n",
            "  inflating: Images/3262760716_1e9734f5ba.jpg  \n",
            "  inflating: Images/3262793378_773b21ec19.jpg  \n",
            "  inflating: Images/3262849619_0bc4f88ef9.jpg  \n",
            "  inflating: Images/3263141261_db3a4798b5.jpg  \n",
            "  inflating: Images/3263215700_e27f81f8b9.jpg  \n",
            "  inflating: Images/326334188_8850b7bfd4.jpg  \n",
            "  inflating: Images/3263395801_5e4cee2b9e.jpg  \n",
            "  inflating: Images/3263497678_8bb688ca01.jpg  \n",
            "  inflating: Images/3263741906_6e4508d1c8.jpg  \n",
            "  inflating: Images/3263946591_a1558b77d3.jpg  \n",
            "  inflating: Images/3264337159_e1680a35ba.jpg  \n",
            "  inflating: Images/3264350290_f50494e835.jpg  \n",
            "  inflating: Images/3264397357_72f084cac1.jpg  \n",
            "  inflating: Images/3264464625_c711cc40c6.jpg  \n",
            "  inflating: Images/326456451_effadbbe49.jpg  \n",
            "  inflating: Images/3264650118_be7df266e7.jpg  \n",
            "  inflating: Images/3264678536_46601d25f0.jpg  \n",
            "  inflating: Images/3264937930_9623496b64.jpg  \n",
            "  inflating: Images/3265162450_5b4e3c5f1b.jpg  \n",
            "  inflating: Images/3265209567_b3b9c8e0fe.jpg  \n",
            "  inflating: Images/3265527323_6431f00692.jpg  \n",
            "  inflating: Images/3265578645_4044a7049a.jpg  \n",
            "  inflating: Images/326585030_e1dcca2562.jpg  \n",
            "  inflating: Images/3265864834_e0229020dd.jpg  \n",
            "  inflating: Images/3265964840_5374ed9c53.jpg  \n",
            "  inflating: Images/3266261886_36e1323d2f.jpg  \n",
            "  inflating: Images/3266306177_7994dc2865.jpg  \n",
            "  inflating: Images/3266399073_40820596d5.jpg  \n",
            "  inflating: Images/3266406566_d64e57e65a.jpg  \n",
            "  inflating: Images/3267644370_f2728d6c7a.jpg  \n",
            "  inflating: Images/3268175963_113d90d178.jpg  \n",
            "  inflating: Images/3268191118_ba25fabab6.jpg  \n",
            "  inflating: Images/3268407162_6274e0f74f.jpg  \n",
            "  inflating: Images/3268443910_b36dbc1e5c.jpg  \n",
            "  inflating: Images/3268908792_c24529fe88.jpg  \n",
            "  inflating: Images/3269087421_1d489abeae.jpg  \n",
            "  inflating: Images/3269380710_9161b0bd00.jpg  \n",
            "  inflating: Images/3269661567_faf190885a.jpg  \n",
            "  inflating: Images/3269895626_7b253c82ed.jpg  \n",
            "  inflating: Images/3270047169_2ed289a9af.jpg  \n",
            "  inflating: Images/3270083123_fcc1208053.jpg  \n",
            "  inflating: Images/3270273940_61ef506f05.jpg  \n",
            "  inflating: Images/3270691950_88583c3524.jpg  \n",
            "  inflating: Images/3271061953_700b96520c.jpg  \n",
            "  inflating: Images/3271084924_4778d556cc.jpg  \n",
            "  inflating: Images/3271178748_630d269811.jpg  \n",
            "  inflating: Images/3271252073_0a1b9525fc.jpg  \n",
            "  inflating: Images/3271385712_ffd34f2de5.jpg  \n",
            "  inflating: Images/3271468462_701eb88d3b.jpg  \n",
            "  inflating: Images/3271495320_bca47795fb.jpg  \n",
            "  inflating: Images/3272002857_ace031f564.jpg  \n",
            "  inflating: Images/3272071680_648a99f7d2.jpg  \n",
            "  inflating: Images/3272541970_ac0f1de274.jpg  \n",
            "  inflating: Images/3272847211_9e8a4f8308.jpg  \n",
            "  inflating: Images/3273091032_98f724b36b.jpg  \n",
            "  inflating: Images/3273163189_dece7babf4.jpg  \n",
            "  inflating: Images/3273325447_81c94000da.jpg  \n",
            "  inflating: Images/3273403495_fcd09c453e.jpg  \n",
            "  inflating: Images/3273489163_8209545810.jpg  \n",
            "  inflating: Images/3273625566_2454f1556b.jpg  \n",
            "  inflating: Images/3273969811_42e9fa8f63.jpg  \n",
            "  inflating: Images/327415627_6313d32a64.jpg  \n",
            "  inflating: Images/3274375509_4fe91a94c0.jpg  \n",
            "  inflating: Images/3274691778_94bb57bba3.jpg  \n",
            "  inflating: Images/3274879561_74997bbfff.jpg  \n",
            "  inflating: Images/3275065565_9e2a640fbc.jpg  \n",
            "  inflating: Images/3275527950_41aca690a1.jpg  \n",
            "  inflating: Images/3275537015_74e04c0f3e.jpg  \n",
            "  inflating: Images/3275627207_0b41e44597.jpg  \n",
            "  inflating: Images/3275704430_a75828048f.jpg  \n",
            "  inflating: Images/3275711232_e261143664.jpg  \n",
            "  inflating: Images/327621377_0bc3b7fd26.jpg  \n",
            "  inflating: Images/3276448136_0d9f5069c5.jpg  \n",
            "  inflating: Images/3276475986_66cd9cc7e4.jpg  \n",
            "  inflating: Images/3276895962_c053263d01.jpg  \n",
            "  inflating: Images/3277162496_dff7eeb59e.jpg  \n",
            "  inflating: Images/3277824093_299cbb3138.jpg  \n",
            "  inflating: Images/3278189732_f750cb26b7.jpg  \n",
            "  inflating: Images/3278581900_8ce75a5332.jpg  \n",
            "  inflating: Images/3278777548_290b881018.jpg  \n",
            "  inflating: Images/3278811919_d5a3432af6.jpg  \n",
            "  inflating: Images/3279025792_23bfd21bcc.jpg  \n",
            "  inflating: Images/3279228339_71deaa3d9b.jpg  \n",
            "  inflating: Images/3279524184_d5e2ffbaed.jpg  \n",
            "  inflating: Images/327997381_55f90dc834.jpg  \n",
            "  inflating: Images/3279988814_d3693dcb6c.jpg  \n",
            "  inflating: Images/3280052365_c4644bf0a5.jpg  \n",
            "  inflating: Images/3280173193_98c2d6a223.jpg  \n",
            "  inflating: Images/3280644151_3d89cb1e0e.jpg  \n",
            "  inflating: Images/3280672302_2967177653.jpg  \n",
            "  inflating: Images/3281078518_630a7a7f4f.jpg  \n",
            "  inflating: Images/3281580623_8c3ba0fdb2.jpg  \n",
            "  inflating: Images/3281611946_f42deed2e1.jpg  \n",
            "  inflating: Images/3282121432_648dac8a29.jpg  \n",
            "  inflating: Images/3282434895_1c1efc1475.jpg  \n",
            "  inflating: Images/3282634762_2650d0088a.jpg  \n",
            "  inflating: Images/3282897060_8c584e2ce8.jpg  \n",
            "  inflating: Images/3282925526_535ff9f2b2.jpg  \n",
            "  inflating: Images/3283368342_b96d45210e.jpg  \n",
            "  inflating: Images/3283626303_8e23d4a842.jpg  \n",
            "  inflating: Images/3283897411_af9d0b497d.jpg  \n",
            "  inflating: Images/3283913180_7d4e43602d.jpg  \n",
            "  inflating: Images/3284460070_6805990149.jpg  \n",
            "  inflating: Images/3284887033_e2e48f1863.jpg  \n",
            "  inflating: Images/3284899112_f11ab3cfe6.jpg  \n",
            "  inflating: Images/3284955091_59317073f0.jpg  \n",
            "  inflating: Images/3285180819_a9712fd2bc.jpg  \n",
            "  inflating: Images/3285214689_f0219e9671.jpg  \n",
            "  inflating: Images/3285298241_9b1ed98d19.jpg  \n",
            "  inflating: Images/3285993030_87b0f1d202.jpg  \n",
            "  inflating: Images/3286017638_c688c83e3d.jpg  \n",
            "  inflating: Images/3286045254_696c6b15bd.jpg  \n",
            "  inflating: Images/3286111436_891ae7dab9.jpg  \n",
            "  inflating: Images/3286193613_fc046e8016.jpg  \n",
            "  inflating: Images/3286198467_8880be127e.jpg  \n",
            "  inflating: Images/3286222970_1fa445e38f.jpg  \n",
            "  inflating: Images/3286406057_a1668655af.jpg  \n",
            "  inflating: Images/3286543624_7a327f79ae.jpg  \n",
            "  inflating: Images/3286620180_4b00e93e8e.jpg  \n",
            "  inflating: Images/3286761458_34af7e4499.jpg  \n",
            "  inflating: Images/3286822339_5535af6b93.jpg  \n",
            "  inflating: Images/3287236038_8998e6b82f.jpg  \n",
            "  inflating: Images/3287549827_04dec6fb6e.jpg  \n",
            "  inflating: Images/3287904625_f68ca5cea7.jpg  \n",
            "  inflating: Images/3287963317_186491ee78.jpg  \n",
            "  inflating: Images/3287969199_08e775d896.jpg  \n",
            "  inflating: Images/3288173388_03bc2a844d.jpg  \n",
            "  inflating: Images/3288174272_2daa06d360.jpg  \n",
            "  inflating: Images/3288274849_07ff76ee93.jpg  \n",
            "  inflating: Images/3288839246_fdb00395ae.jpg  \n",
            "  inflating: Images/328916930_e4d4be1730.jpg  \n",
            "  inflating: Images/3289433994_4c67aab384.jpg  \n",
            "  inflating: Images/3289817083_4e78e1c05a.jpg  \n",
            "  inflating: Images/3289893683_d4cc3ce208.jpg  \n",
            "  inflating: Images/3290105461_7590f23371.jpg  \n",
            "  inflating: Images/3290465391_258429e2f9.jpg  \n",
            "  inflating: Images/3291255271_a185eba408.jpg  \n",
            "  inflating: Images/3291587911_81fc33300e.jpg  \n",
            "  inflating: Images/3292016893_24d14c8b4f.jpg  \n",
            "  inflating: Images/3292277400_f95cdd13d1.jpg  \n",
            "  inflating: Images/3293018193_e4e0c8db7c.jpg  \n",
            "  inflating: Images/3293596075_973b0bfd08.jpg  \n",
            "  inflating: Images/3293642024_e136b74a55.jpg  \n",
            "  inflating: Images/3293751136_b0ce285dc3.jpg  \n",
            "  inflating: Images/3293751640_d81a6f3a0c.jpg  \n",
            "  inflating: Images/3293753378_7a8ddb98b2.jpg  \n",
            "  inflating: Images/3293945284_6a04e477a9.jpg  \n",
            "  inflating: Images/3294179574_4f67e67d6f.jpg  \n",
            "  inflating: Images/3294202771_e8ee78a439.jpg  \n",
            "  inflating: Images/3294209955_a1f1e2cc19.jpg  \n",
            "  inflating: Images/3294717824_3bb7b5d1c8.jpg  \n",
            "  inflating: Images/3294830188_e46bd9b93c.jpg  \n",
            "  inflating: Images/3294952558_96bb8c8cf3.jpg  \n",
            "  inflating: Images/3294964868_16f4f9fa9d.jpg  \n",
            "  inflating: Images/3295024992_887a95c700.jpg  \n",
            "  inflating: Images/3295391572_cbfde03a10.jpg  \n",
            "  inflating: Images/3295418287_5d590dac43.jpg  \n",
            "  inflating: Images/3295452057_0c987f895f.jpg  \n",
            "  inflating: Images/3295671644_0e10891b6d.jpg  \n",
            "  inflating: Images/3295680663_af21ea648b.jpg  \n",
            "  inflating: Images/3296124052_6f1d1c9f8d.jpg  \n",
            "  inflating: Images/3296150666_aae2f64348.jpg  \n",
            "  inflating: Images/3296226598_1c892c4351.jpg  \n",
            "  inflating: Images/3296500180_0d7a6650dc.jpg  \n",
            "  inflating: Images/3296584432_bef3c965a3.jpg  \n",
            "  inflating: Images/3296715418_29542dcdc2.jpg  \n",
            "  inflating: Images/3297272270_285b8878b2.jpg  \n",
            "  inflating: Images/3297323827_f582356478.jpg  \n",
            "  inflating: Images/3298175192_bbef524ddc.jpg  \n",
            "  inflating: Images/3298199743_d8dd8f94a0.jpg  \n",
            "  inflating: Images/3298233193_d2a550840d.jpg  \n",
            "  inflating: Images/3299418821_21531b5b3c.jpg  \n",
            "  inflating: Images/3299820401_c2589186c5.jpg  \n",
            "  inflating: Images/3300019891_8f404d94a1.jpg  \n",
            "  inflating: Images/3300679815_2c6c2301cb.jpg  \n",
            "  inflating: Images/3301021288_95935b7a74.jpg  \n",
            "  inflating: Images/3301438465_10121a2412.jpg  \n",
            "  inflating: Images/3301744710_b51280eb56.jpg  \n",
            "  inflating: Images/3301754574_465af5bf6d.jpg  \n",
            "  inflating: Images/3301811927_a2797339e5.jpg  \n",
            "  inflating: Images/3301822808_f2ccff86f4.jpg  \n",
            "  inflating: Images/3301854980_233cc2f896.jpg  \n",
            "  inflating: Images/3301859683_2d5e4b40a3.jpg  \n",
            "  inflating: Images/3301935788_2bb7bbc515.jpg  \n",
            "  inflating: Images/3302804312_0272091cd5.jpg  \n",
            "  inflating: Images/330325191_63e11d9c93.jpg  \n",
            "  inflating: Images/3303648823_53cf750acd.jpg  \n",
            "  inflating: Images/3303787342_b258b377b6.jpg  \n",
            "  inflating: Images/3303797949_339bb969ba.jpg  \n",
            "  inflating: Images/3304030264_da3dd18c7b.jpg  \n",
            "  inflating: Images/3304484212_b950233c30.jpg  \n",
            "  inflating: Images/3304511635_113beaf458.jpg  \n",
            "  inflating: Images/3304556387_203b9d4db0.jpg  \n",
            "  inflating: Images/3304712466_18cbdb85fe.jpg  \n",
            "  inflating: Images/3305767464_d64a336f60.jpg  \n",
            "  inflating: Images/3305895920_100a67d148.jpg  \n",
            "  inflating: Images/3306212559_731ba9bd05.jpg  \n",
            "  inflating: Images/3306464579_1b16a0caf2.jpg  \n",
            "  inflating: Images/3306951622_93b82cac21.jpg  \n",
            "  inflating: Images/3307077951_dd31f1971c.jpg  \n",
            "  inflating: Images/3307147971_5b3abf61f9.jpg  \n",
            "  inflating: Images/3307563498_e2b4f19272.jpg  \n",
            "  inflating: Images/3307667255_26bede91eb.jpg  \n",
            "  inflating: Images/3307978046_92fef4dfa9.jpg  \n",
            "  inflating: Images/3308018795_68a97a425c.jpg  \n",
            "  inflating: Images/3308171165_20f93d2fba.jpg  \n",
            "  inflating: Images/3308488725_f91d9aba27.jpg  \n",
            "  inflating: Images/330849796_c575c3108a.jpg  \n",
            "  inflating: Images/3308997740_91765ecdcc.jpg  \n",
            "  inflating: Images/3309042087_ee96d94b8a.jpg  \n",
            "  inflating: Images/3309082580_7228067ee0.jpg  \n",
            "  inflating: Images/3309578722_1765d7d1af.jpg  \n",
            "  inflating: Images/3310067561_b92017acab.jpg  \n",
            "  inflating: Images/3310551665_15b79ef4ea.jpg  \n",
            "  inflating: Images/33108590_d685bfe51c.jpg  \n",
            "  inflating: Images/3312096605_f458757418.jpg  \n",
            "  inflating: Images/3312779887_7682db7827.jpg  \n",
            "  inflating: Images/3313232606_4ce7e16b87.jpg  \n",
            "  inflating: Images/3313620862_0c65c645f5.jpg  \n",
            "  inflating: Images/3314180199_2121e80368.jpg  \n",
            "  inflating: Images/3314517351_69d70e62bd.jpg  \n",
            "  inflating: Images/3314900697_c5c5ae9af6.jpg  \n",
            "  inflating: Images/3315033940_e91f87b7f2.jpg  \n",
            "  inflating: Images/3315110972_1090d11728.jpg  \n",
            "  inflating: Images/3315250232_83e24a2d51.jpg  \n",
            "  inflating: Images/3315323307_bd148a8964.jpg  \n",
            "  inflating: Images/3315353266_70f0bbb1c3.jpg  \n",
            "  inflating: Images/3315616181_15dd137e27.jpg  \n",
            "  inflating: Images/3315726723_64c9b0a945.jpg  \n",
            "  inflating: Images/3316046339_8e504be038.jpg  \n",
            "  inflating: Images/3316725440_9ccd9b5417.jpg  \n",
            "  inflating: Images/3317073508_7e13565c1b.jpg  \n",
            "  inflating: Images/3317145805_071b15debb.jpg  \n",
            "  inflating: Images/3317333893_9d0faa8d30.jpg  \n",
            "  inflating: Images/3317960829_78bbfafbb6.jpg  \n",
            "  inflating: Images/3318564834_4ccea90497.jpg  \n",
            "  inflating: Images/3318995586_c2bc50b92e.jpg  \n",
            "  inflating: Images/3319020762_d429d56a69.jpg  \n",
            "  inflating: Images/3319058642_885d756295.jpg  \n",
            "  inflating: Images/3319177177_130a72b8ae.jpg  \n",
            "  inflating: Images/3319338707_892ae2a660.jpg  \n",
            "  inflating: Images/3319388517_5609ae9805.jpg  \n",
            "  inflating: Images/3319405494_58dee86b21.jpg  \n",
            "  inflating: Images/3319489465_c65c91e4f2.jpg  \n",
            "  inflating: Images/3319586526_3994e9cd58.jpg  \n",
            "  inflating: Images/3319723910_af5b5f1fae.jpg  \n",
            "  inflating: Images/3319899418_4bcf1b00d8.jpg  \n",
            "  inflating: Images/3320032226_63390d74a6.jpg  \n",
            "  inflating: Images/3320154278_c67e01b8d1.jpg  \n",
            "  inflating: Images/3320209694_db579cb607.jpg  \n",
            "  inflating: Images/3320356356_1497e53f80.jpg  \n",
            "  inflating: Images/3320411267_df70b90501.jpg  \n",
            "  inflating: Images/332045444_583acaefc3.jpg  \n",
            "  inflating: Images/3320680380_b0d38b3b4a.jpg  \n",
            "  inflating: Images/3320756943_9d004f9824.jpg  \n",
            "  inflating: Images/3321063116_4e5deeac83.jpg  \n",
            "  inflating: Images/3321334180_8f764e0e0f.jpg  \n",
            "  inflating: Images/3321516504_5ee97771cb.jpg  \n",
            "  inflating: Images/3321956909_7b5ddf500f.jpg  \n",
            "  inflating: Images/3322200641_c2e51ff37b.jpg  \n",
            "  inflating: Images/3322389758_394c990b6a.jpg  \n",
            "  inflating: Images/3322443827_a04a94bb91.jpg  \n",
            "  inflating: Images/3323076458_3ce72a1dae.jpg  \n",
            "  inflating: Images/3323419265_7fefaa9d5d.jpg  \n",
            "  inflating: Images/3323498985_fd9d2803fd.jpg  \n",
            "  inflating: Images/3323514651_3efdbd63ed.jpg  \n",
            "  inflating: Images/3323528927_7b21081271.jpg  \n",
            "  inflating: Images/3323661814_1e8e1ae88c.jpg  \n",
            "  inflating: Images/3323952123_deb50b0629.jpg  \n",
            "  inflating: Images/3323988406_e3c8fce690.jpg  \n",
            "  inflating: Images/3324056835_84904fe2f8.jpg  \n",
            "  inflating: Images/3324375078_9441f72898.jpg  \n",
            "  inflating: Images/3324746155_71e14f60ce.jpg  \n",
            "  inflating: Images/3325129757_7a1979ac11.jpg  \n",
            "  inflating: Images/3325157569_8084ab3293.jpg  \n",
            "  inflating: Images/3325497914_f9014d615b.jpg  \n",
            "  inflating: Images/3325578605_afa7f662ec.jpg  \n",
            "  inflating: Images/3325910784_5ecb88310c.jpg  \n",
            "  inflating: Images/3325974730_3ee192e4ff.jpg  \n",
            "  inflating: Images/3326024473_4c16e4fbfc.jpg  \n",
            "  inflating: Images/3326086533_23a0a54a8e.jpg  \n",
            "  inflating: Images/3326204251_2f9e446a2f.jpg  \n",
            "  inflating: Images/3326249355_e7a7c71f06.jpg  \n",
            "  inflating: Images/3326273086_e09e845185.jpg  \n",
            "  inflating: Images/3326376344_3306bf439e.jpg  \n",
            "  inflating: Images/3326454455_960e5442e9.jpg  \n",
            "  inflating: Images/3326588088_172d1b2584.jpg  \n",
            "  inflating: Images/3327487011_1372c425fb.jpg  \n",
            "  inflating: Images/3327563443_870a33f748.jpg  \n",
            "  inflating: Images/3328247381_a9f7fb4898.jpg  \n",
            "  inflating: Images/3328397409_092de2bd32.jpg  \n",
            "  inflating: Images/3328495660_ed0e3f29cf.jpg  \n",
            "  inflating: Images/3328535573_33c3cd5b59.jpg  \n",
            "  inflating: Images/3328646934_5cca4cebce.jpg  \n",
            "  inflating: Images/3329169877_175cb16845.jpg  \n",
            "  inflating: Images/3329254388_27017bab30.jpg  \n",
            "  inflating: Images/3329289652_e09b80e2f3.jpg  \n",
            "  inflating: Images/3329777647_5e1fd503ac.jpg  \n",
            "  inflating: Images/3329793486_afc16663cc.jpg  \n",
            "  inflating: Images/3329858093_0ec73f2190.jpg  \n",
            "  inflating: Images/3330007895_78303e8a40.jpg  \n",
            "  inflating: Images/3330019493_fd36fbc2ea.jpg  \n",
            "  inflating: Images/3330102093_1d6e35e78d.jpg  \n",
            "  inflating: Images/333031366_a0828c540d.jpg  \n",
            "  inflating: Images/3330333217_1a69497a74.jpg  \n",
            "  inflating: Images/3330654550_3efe9a71af.jpg  \n",
            "  inflating: Images/3330675488_8692476a4a.jpg  \n",
            "  inflating: Images/3330680118_4e541889c1.jpg  \n",
            "  inflating: Images/3330935489_9cb67ca36b.jpg  \n",
            "  inflating: Images/3331009729_d3b14738e6.jpg  \n",
            "  inflating: Images/3331102049_bc65cf6198.jpg  \n",
            "  inflating: Images/3331190056_09f4ca9fd2.jpg  \n",
            "  inflating: Images/3331525712_af1dcc47f2.jpg  \n",
            "  inflating: Images/3331797838_b3e33dbe17.jpg  \n",
            "  inflating: Images/3331900249_5872e90b25.jpg  \n",
            "  inflating: Images/3332136681_9aecf101fd.jpg  \n",
            "  inflating: Images/3332202255_a30c522664.jpg  \n",
            "  inflating: Images/3332248667_617606714b.jpg  \n",
            "  inflating: Images/3332467180_d72f9b067d.jpg  \n",
            "  inflating: Images/3333017828_b930b9d41b.jpg  \n",
            "  inflating: Images/3333039854_461329aac2.jpg  \n",
            "  inflating: Images/3333675897_0043f992d3.jpg  \n",
            "  inflating: Images/3333826465_9c84c1b3c6.jpg  \n",
            "  inflating: Images/3333921867_6cc7d7c73d.jpg  \n",
            "  inflating: Images/3334057289_68ece38a85.jpg  \n",
            "  inflating: Images/3334300164_e75e0479ae.jpg  \n",
            "  inflating: Images/3334537556_a2cf4e9b9a.jpg  \n",
            "  inflating: Images/3334866049_f5933344aa.jpg  \n",
            "  inflating: Images/3334953664_a669038795.jpg  \n",
            "  inflating: Images/3335097235_538f4777c3.jpg  \n",
            "  inflating: Images/3335370208_460fc19bfa.jpg  \n",
            "  inflating: Images/3335375223_b4da8df523.jpg  \n",
            "  inflating: Images/3335501468_628655d608.jpg  \n",
            "  inflating: Images/3335547029_74d620fa6c.jpg  \n",
            "  inflating: Images/3335692531_dd4a995f91.jpg  \n",
            "  inflating: Images/3335773346_ac0d97efeb.jpg  \n",
            "  inflating: Images/3335885203_a3fe8e541f.jpg  \n",
            "  inflating: Images/3335997221_254366c400.jpg  \n",
            "  inflating: Images/3336065481_2c21e622c8.jpg  \n",
            "  inflating: Images/3336211088_4c294a870b.jpg  \n",
            "  inflating: Images/3336361161_c06cdd160e.jpg  \n",
            "  inflating: Images/3336374196_f6eaca542f.jpg  \n",
            "  inflating: Images/3336682980_1082a66878.jpg  \n",
            "  inflating: Images/3336759846_5220e27deb.jpg  \n",
            "  inflating: Images/3336808362_c17837afd8.jpg  \n",
            "  inflating: Images/3336831820_5c5df4b033.jpg  \n",
            "  inflating: Images/3337046794_296bd2c7e0.jpg  \n",
            "  inflating: Images/3337332770_5eda5cceb7.jpg  \n",
            "  inflating: Images/3337461409_e4e317853d.jpg  \n",
            "  inflating: Images/3338217927_3c5cf3f7c6.jpg  \n",
            "  inflating: Images/3338291921_fe7ae0c8f8.jpg  \n",
            "  inflating: Images/3338474677_7376e426c2.jpg  \n",
            "  inflating: Images/3338590946_f25b76cbc7.jpg  \n",
            "  inflating: Images/3339105374_cc41e0b7d7.jpg  \n",
            "  inflating: Images/3339140382_2e49bc324a.jpg  \n",
            "  inflating: Images/3339263085_6db9fd0981.jpg  \n",
            "  inflating: Images/3339319023_5dcc3ef81a.jpg  \n",
            "  inflating: Images/3339558806_b4afdc8394.jpg  \n",
            "  inflating: Images/3339586622_a7676b30e1.jpg  \n",
            "  inflating: Images/333973142_abcd151002.jpg  \n",
            "  inflating: Images/3339747039_1a8455c210.jpg  \n",
            "  inflating: Images/3339751521_7a8768be27.jpg  \n",
            "  inflating: Images/3339768802_8ab768558a.jpg  \n",
            "  inflating: Images/3339916063_63b960ed46.jpg  \n",
            "  inflating: Images/3340575518_137ce2695f.jpg  \n",
            "  inflating: Images/3340857141_85d97a7466.jpg  \n",
            "  inflating: Images/3341077091_7ca0833373.jpg  \n",
            "  inflating: Images/3341084434_db5e7d1fdc.jpg  \n",
            "  inflating: Images/3341477531_4e37450f35.jpg  \n",
            "  inflating: Images/3341489212_a879e1544a.jpg  \n",
            "  inflating: Images/3341782693_426bf7139b.jpg  \n",
            "  inflating: Images/3341961913_9a9b362f15.jpg  \n",
            "  inflating: Images/3342271377_446ffc34c0.jpg  \n",
            "  inflating: Images/3342272425_804316cb3d.jpg  \n",
            "  inflating: Images/3342309960_c694b2cce9.jpg  \n",
            "  inflating: Images/3342487512_fd33971dea.jpg  \n",
            "  inflating: Images/3342822192_082f932ef2.jpg  \n",
            "  inflating: Images/3342855466_44038a8aa3.jpg  \n",
            "  inflating: Images/3343106500_27176fc544.jpg  \n",
            "  inflating: Images/3343116398_59a5341f7f.jpg  \n",
            "  inflating: Images/3343197133_9256848fa9.jpg  \n",
            "  inflating: Images/3343311201_eeb1a39def.jpg  \n",
            "  inflating: Images/3343900764_2a4c0405f9.jpg  \n",
            "  inflating: Images/3344233740_c010378da7.jpg  \n",
            "  inflating: Images/3344411431_6f4917bb2f.jpg  \n",
            "  inflating: Images/3344526059_4a097af285.jpg  \n",
            "  inflating: Images/3344531479_03c69750e9.jpg  \n",
            "  inflating: Images/3344632789_af90d54746.jpg  \n",
            "  inflating: Images/3344798356_5cc41f7939.jpg  \n",
            "  inflating: Images/3344948183_5b89379585.jpg  \n",
            "  inflating: Images/3345025842_bc2082a509.jpg  \n",
            "  inflating: Images/3346040664_5b584e6133.jpg  \n",
            "  inflating: Images/3346289227_198fced308.jpg  \n",
            "  inflating: Images/3346614841_698f9aa486.jpg  \n",
            "  inflating: Images/3346711367_5e7b29e20f.jpg  \n",
            "  inflating: Images/3346918203_986dca6641.jpg  \n",
            "  inflating: Images/334737767_7f344eee16.jpg  \n",
            "  inflating: Images/3347500603_13670ee6bf.jpg  \n",
            "  inflating: Images/3347666612_659e6e2207.jpg  \n",
            "  inflating: Images/334768700_51c439b9ee.jpg  \n",
            "  inflating: Images/3347701468_bb0001b035.jpg  \n",
            "  inflating: Images/3347798761_5c5260b000.jpg  \n",
            "  inflating: Images/3348191949_b0b925e5f1.jpg  \n",
            "  inflating: Images/3348208268_6d97d951eb.jpg  \n",
            "  inflating: Images/3348384389_73b6647017.jpg  \n",
            "  inflating: Images/3348385580_10b53391f9.jpg  \n",
            "  inflating: Images/3348785391_c243faf6bb.jpg  \n",
            "  inflating: Images/3348811097_0e09baa26f.jpg  \n",
            "  inflating: Images/3349194268_0ee555c9a2.jpg  \n",
            "  inflating: Images/3349258288_5300c40430.jpg  \n",
            "  inflating: Images/3349307529_c1a516b9dc.jpg  \n",
            "  inflating: Images/3349308309_92cff519f3.jpg  \n",
            "  inflating: Images/3349309109_4024a09a17.jpg  \n",
            "  inflating: Images/3349451628_4249a21c8f.jpg  \n",
            "  inflating: Images/3349528565_0bc013b70a.jpg  \n",
            "  inflating: Images/3349955993_a04aea97d8.jpg  \n",
            "  inflating: Images/3349968447_b5d4a477b2.jpg  \n",
            "  inflating: Images/3350260112_fcb47ff6b2.jpg  \n",
            "  inflating: Images/3350614753_5624e181b3.jpg  \n",
            "  inflating: Images/3350671534_2a5d45a961.jpg  \n",
            "  inflating: Images/3350785999_462f333c44.jpg  \n",
            "  inflating: Images/3350786891_6d39b234e9.jpg  \n",
            "  inflating: Images/3351111378_b5d80783a1.jpg  \n",
            "  inflating: Images/3351357065_a6a9b3d485.jpg  \n",
            "  inflating: Images/3351360323_91bb341350.jpg  \n",
            "  inflating: Images/3351370405_e417e38f52.jpg  \n",
            "  inflating: Images/3351418768_596ef7fd6f.jpg  \n",
            "  inflating: Images/3351493005_6e5030f596.jpg  \n",
            "  inflating: Images/3351586010_7ffaa90ea8.jpg  \n",
            "  inflating: Images/3351596152_bf283f03d1.jpg  \n",
            "  inflating: Images/3351667632_00f586a30c.jpg  \n",
            "  inflating: Images/3351667846_ac43118ae5.jpg  \n",
            "  inflating: Images/3351704877_28dea303aa.jpg  \n",
            "  inflating: Images/3352199368_b35f25793e.jpg  \n",
            "  inflating: Images/3352531708_a65dd694b1.jpg  \n",
            "  inflating: Images/3352697012_751b079bbb.jpg  \n",
            "  inflating: Images/3352791995_8db4979aca.jpg  \n",
            "  inflating: Images/3352871762_c9e88592d3.jpg  \n",
            "  inflating: Images/3353036763_4cbeba03b2.jpg  \n",
            "  inflating: Images/3353278454_2f3a4d0bbc.jpg  \n",
            "  inflating: Images/3353328134_dd9ed0edab.jpg  \n",
            "  inflating: Images/3353400143_8b9543f7dc.jpg  \n",
            "  inflating: Images/3353950389_1153d5e452.jpg  \n",
            "  inflating: Images/3353962769_ba48691bc6.jpg  \n",
            "  inflating: Images/3354063643_1d8814eb13.jpg  \n",
            "  inflating: Images/3354075558_3b67eaa502.jpg  \n",
            "  inflating: Images/3354200211_35348e47d8.jpg  \n",
            "  inflating: Images/3354330935_de75be9d2f.jpg  \n",
            "  inflating: Images/3354414391_a3908bd4ff.jpg  \n",
            "  inflating: Images/3354474353_daf9e168cf.jpg  \n",
            "  inflating: Images/3354489242_dd529ffa1f.jpg  \n",
            "  inflating: Images/3354883962_170d19bfe4.jpg  \n",
            "  inflating: Images/3355494822_61353a224d.jpg  \n",
            "  inflating: Images/3355683198_715fb1a2ac.jpg  \n",
            "  inflating: Images/3355756569_b430a29c2a.jpg  \n",
            "  inflating: Images/3355827928_c96c0c3e88.jpg  \n",
            "  inflating: Images/335588286_f67ed8c9f9.jpg  \n",
            "  inflating: Images/3356284586_21c6f155a5.jpg  \n",
            "  inflating: Images/3356369156_074750c6cc.jpg  \n",
            "  inflating: Images/3356494271_6103d0b556.jpg  \n",
            "  inflating: Images/3356642567_f1d92cb81b.jpg  \n",
            "  inflating: Images/3356700488_183566145b.jpg  \n",
            "  inflating: Images/3356748019_2251399314.jpg  \n",
            "  inflating: Images/3356901257_83811a19eb.jpg  \n",
            "  inflating: Images/3356938707_d95ba97430.jpg  \n",
            "  inflating: Images/3357194782_c261bb6cbf.jpg  \n",
            "  inflating: Images/3357416302_fcfcdd7b86.jpg  \n",
            "  inflating: Images/3357708906_fb3a54dd78.jpg  \n",
            "  inflating: Images/3357937209_cf4a9512ac.jpg  \n",
            "  inflating: Images/3358380484_b99b48f0c9.jpg  \n",
            "  inflating: Images/3358558292_6ab14193ed.jpg  \n",
            "  inflating: Images/3358621566_12bac2e9d2.jpg  \n",
            "  inflating: Images/3358682439_be4b83544c.jpg  \n",
            "  inflating: Images/3359089834_263e529c71.jpg  \n",
            "  inflating: Images/3359530430_249f51972c.jpg  \n",
            "  inflating: Images/3359551687_68f2f0212a.jpg  \n",
            "  inflating: Images/3359563671_35b67898e7.jpg  \n",
            "  inflating: Images/3359587274_4a2b140b84.jpg  \n",
            "  inflating: Images/3359636318_39267812a0.jpg  \n",
            "  inflating: Images/3360730513_211e1a4db6.jpg  \n",
            "  inflating: Images/3360823754_90967276ec.jpg  \n",
            "  inflating: Images/3360876049_9047edeab9.jpg  \n",
            "  inflating: Images/3360930596_1e75164ce6.jpg  \n",
            "  inflating: Images/3360994630_d4616c1b14.jpg  \n",
            "  inflating: Images/3361210233_962d630ec5.jpg  \n",
            "  inflating: Images/3361411074_83f27d2a1c.jpg  \n",
            "  inflating: Images/3361882891_6e610ffdbb.jpg  \n",
            "  inflating: Images/3361990489_92244a58ef.jpg  \n",
            "  inflating: Images/3362049454_ea0c22e57b.jpg  \n",
            "  inflating: Images/3362189985_fbae8f860a.jpg  \n",
            "  inflating: Images/3362592729_893e26b806.jpg  \n",
            "  inflating: Images/3362805914_72f60ee8cb.jpg  \n",
            "  inflating: Images/3362871440_6c0f27c480.jpg  \n",
            "  inflating: Images/3363750526_efcedc47a9.jpg  \n",
            "  inflating: Images/3363836972_c87b58c948.jpg  \n",
            "  inflating: Images/3364026240_645d533fda.jpg  \n",
            "  inflating: Images/3364151356_eecd07a23e.jpg  \n",
            "  inflating: Images/3364160101_c5e6c52b25.jpg  \n",
            "  inflating: Images/3364258732_9942c557e5.jpg  \n",
            "  inflating: Images/336460583_6c8ccb7188.jpg  \n",
            "  inflating: Images/3364715316_df8c20bac1.jpg  \n",
            "  inflating: Images/3364796213_b8948913b5.jpg  \n",
            "  inflating: Images/3364797223_1f0b2f98ed.jpg  \n",
            "  inflating: Images/3364861247_d590fa170d.jpg  \n",
            "  inflating: Images/3365198533_539073002b.jpg  \n",
            "  inflating: Images/3365348059_9773165302.jpg  \n",
            "  inflating: Images/336551609_1385ab139e.jpg  \n",
            "  inflating: Images/336551615_a01418bc53.jpg  \n",
            "  inflating: Images/3365602213_dd3287a633.jpg  \n",
            "  inflating: Images/3365783912_e12c3510d8.jpg  \n",
            "  inflating: Images/3366105287_49a4bf71c6.jpg  \n",
            "  inflating: Images/3366571152_20afb88ac1.jpg  \n",
            "  inflating: Images/3366904106_e996320d20.jpg  \n",
            "  inflating: Images/3367034082_31658a89bb.jpg  \n",
            "  inflating: Images/3367053761_8ec5834bf3.jpg  \n",
            "  inflating: Images/3367758711_a8c09607ac.jpg  \n",
            "  inflating: Images/3367851138_757d6bd2ef.jpg  \n",
            "  inflating: Images/3368207495_1e2dbd6d3f.jpg  \n",
            "  inflating: Images/3368569524_a9df2fc312.jpg  \n",
            "  inflating: Images/3368671163_0171259581.jpg  \n",
            "  inflating: Images/3368819708_0bfa0808f8.jpg  \n",
            "  inflating: Images/3368865171_597d51cdd5.jpg  \n",
            "  inflating: Images/3369258147_03db257f0f.jpg  \n",
            "  inflating: Images/3369354061_2bab79f91f.jpg  \n",
            "  inflating: Images/3370085095_6abbb67c1d.jpg  \n",
            "  inflating: Images/3370308329_7f2de5bb58.jpg  \n",
            "  inflating: Images/3371266735_43150bce52.jpg  \n",
            "  inflating: Images/3371279606_c0d0cddab2.jpg  \n",
            "  inflating: Images/3371533654_73a12a35a4.jpg  \n",
            "  inflating: Images/3371567346_b6522efdb8.jpg  \n",
            "  inflating: Images/3371567529_606fa3452b.jpg  \n",
            "  inflating: Images/3371887001_44ab0c2f17.jpg  \n",
            "  inflating: Images/3372022051_132b8e6233.jpg  \n",
            "  inflating: Images/3372167201_f7f909d480.jpg  \n",
            "  inflating: Images/3372214646_cc2ceb182f.jpg  \n",
            "  inflating: Images/3372215826_b3e6403b2e.jpg  \n",
            "  inflating: Images/3372251830_baa3665928.jpg  \n",
            "  inflating: Images/3372340429_91c4f4af30.jpg  \n",
            "  inflating: Images/3373069977_bc73e9e409.jpg  \n",
            "  inflating: Images/3373243733_9aba7740ed.jpg  \n",
            "  inflating: Images/3373481779_511937e09d.jpg  \n",
            "  inflating: Images/3373544964_c9f1253b7d.jpg  \n",
            "  inflating: Images/3373870185_f79163fa51.jpg  \n",
            "  inflating: Images/3373946160_1c82d54442.jpg  \n",
            "  inflating: Images/3374054694_fa56f29267.jpg  \n",
            "  inflating: Images/3374223949_90776ba934.jpg  \n",
            "  inflating: Images/3374384485_751f719be4.jpg  \n",
            "  inflating: Images/3374722123_6fe6fef449.jpg  \n",
            "  inflating: Images/3374759363_d6f7a0df41.jpg  \n",
            "  inflating: Images/3375014075_157388f8a9.jpg  \n",
            "  inflating: Images/3375070563_3c290a7991.jpg  \n",
            "  inflating: Images/3375134059_7e9eb2ef01.jpg  \n",
            "  inflating: Images/3375534917_62350bd06b.jpg  \n",
            "  inflating: Images/3375549004_beee810e60.jpg  \n",
            "  inflating: Images/3375843443_8d9b242aa5.jpg  \n",
            "  inflating: Images/3375920709_ef7370fa09.jpg  \n",
            "  inflating: Images/3375991133_87d7c40925.jpg  \n",
            "  inflating: Images/3376014640_ff5b00769f.jpg  \n",
            "  inflating: Images/3376435746_1593d9b243.jpg  \n",
            "  inflating: Images/3376439178_159e4126de.jpg  \n",
            "  inflating: Images/337647771_3b819feaba.jpg  \n",
            "  inflating: Images/3376809186_4e26d880b7.jpg  \n",
            "  inflating: Images/3376898612_41c91de476.jpg  \n",
            "  inflating: Images/3376942201_2c45d99237.jpg  \n",
            "  inflating: Images/3376972502_35e3e119cd.jpg  \n",
            "  inflating: Images/3377117696_af91f13058.jpg  \n",
            "  inflating: Images/3377344932_6dfce93248.jpg  \n",
            "  inflating: Images/3377570617_d2f2225a74.jpg  \n",
            "  inflating: Images/337793983_ac5b2e848e.jpg  \n",
            "  inflating: Images/3378553508_e37e281d25.jpg  \n",
            "  inflating: Images/3379839396_0cd84b55f1.jpg  \n",
            "  inflating: Images/3380072636_4cd59385fd.jpg  \n",
            "  inflating: Images/3380364224_2626d9d354.jpg  \n",
            "  inflating: Images/3380407617_07b53cbcce.jpg  \n",
            "  inflating: Images/3380519003_9f91d5a7fb.jpg  \n",
            "  inflating: Images/3380643902_7e0670f80f.jpg  \n",
            "  inflating: Images/3381038951_225bb163af.jpg  \n",
            "  inflating: Images/3381161854_af8b05243c.jpg  \n",
            "  inflating: Images/3381392182_db2c42430e.jpg  \n",
            "  inflating: Images/3381584882_341ee3092f.jpg  \n",
            "  inflating: Images/3381788544_2c50e139dd.jpg  \n",
            "  inflating: Images/3382105769_b1a4e4c60d.jpg  \n",
            "  inflating: Images/3382303178_69b6d1bdd2.jpg  \n",
            "  inflating: Images/3382679230_baef3d1eaa.jpg  \n",
            "  inflating: Images/3383037991_8f07784b81.jpg  \n",
            "  inflating: Images/3383388869_a14552e551.jpg  \n",
            "  inflating: Images/3383491811_fd9d3a891d.jpg  \n",
            "  inflating: Images/3383545083_1d7c95b003.jpg  \n",
            "  inflating: Images/3384314832_dffc944152.jpg  \n",
            "  inflating: Images/3384528359_e920154177.jpg  \n",
            "  inflating: Images/3384742888_85230c34d5.jpg  \n",
            "  inflating: Images/3385246141_a263d1053e.jpg  \n",
            "  inflating: Images/3385593926_d3e9c21170.jpg  \n",
            "  inflating: Images/3385956569_a849218e34.jpg  \n",
            "  inflating: Images/3386060324_b98fdfa449.jpg  \n",
            "  inflating: Images/3386375153_20c56d0aae.jpg  \n",
            "  inflating: Images/3386893620_5f0bb4e794.jpg  \n",
            "  inflating: Images/3386953179_84c2d7922f.jpg  \n",
            "  inflating: Images/3387542157_81bfd00072.jpg  \n",
            "  inflating: Images/3387630781_f421a94d9d.jpg  \n",
            "  inflating: Images/3387661249_33e5ba0bc5.jpg  \n",
            "  inflating: Images/3388094307_5a83be64a5.jpg  \n",
            "  inflating: Images/3388330419_85d72f7cda.jpg  \n",
            "  inflating: Images/3388836914_c267cf3a59.jpg  \n",
            "  inflating: Images/3389321512_b11f499dab.jpg  \n",
            "  inflating: Images/3389448506_7025e7cc12.jpg  \n",
            "  inflating: Images/3391209042_d2de8a8978.jpg  \n",
            "  inflating: Images/3391924827_53b31542ce.jpg  \n",
            "  inflating: Images/3392019836_c7aeebca1c.jpg  \n",
            "  inflating: Images/3392293702_ccb0599857.jpg  \n",
            "  inflating: Images/3392851587_a638ff25e2.jpg  \n",
            "  inflating: Images/3393035454_2d2370ffd4.jpg  \n",
            "  inflating: Images/3393152604_27bd1037f2.jpg  \n",
            "  inflating: Images/3393343330_b13df4d8ec.jpg  \n",
            "  inflating: Images/3393394134_0caac47e1c.jpg  \n",
            "  inflating: Images/3393446245_37dd3f3b59.jpg  \n",
            "  inflating: Images/339350939_6643bfb270.jpg  \n",
            "  inflating: Images/3393926562_66cc01b001.jpg  \n",
            "  inflating: Images/3394070357_cb2a3243fc.jpg  \n",
            "  inflating: Images/3394586927_eae7732b64.jpg  \n",
            "  inflating: Images/3394654132_9a8659605c.jpg  \n",
            "  inflating: Images/3394750987_a32ecc477e.jpg  \n",
            "  inflating: Images/3395173129_f0ac0a1ed4.jpg  \n",
            "  inflating: Images/3396036947_0af6c3aab7.jpg  \n",
            "  inflating: Images/3396043950_12783c5147.jpg  \n",
            "  inflating: Images/3396153660_f729d9f9b9.jpg  \n",
            "  inflating: Images/3396157719_6807d52a81.jpg  \n",
            "  inflating: Images/3396251819_1efa69310f.jpg  \n",
            "  inflating: Images/3396275223_ee080df8b5.jpg  \n",
            "  inflating: Images/339658315_fbb178c252.jpg  \n",
            "  inflating: Images/3396817186_b299ee0531.jpg  \n",
            "  inflating: Images/3397220683_4aca010f86.jpg  \n",
            "  inflating: Images/3397228832_8ce5b1c26f.jpg  \n",
            "  inflating: Images/3397259310_1ed1a346b5.jpg  \n",
            "  inflating: Images/3397310901_cbef5c06ef.jpg  \n",
            "  inflating: Images/3397633339_d1ae6d9a0e.jpg  \n",
            "  inflating: Images/3397803103_8a46d716f4.jpg  \n",
            "  inflating: Images/339822505_be3ccbb71f.jpg  \n",
            "  inflating: Images/3398276602_c7d106c34f.jpg  \n",
            "  inflating: Images/3398745929_8cd3bbb8a8.jpg  \n",
            "  inflating: Images/3398746625_5199beea71.jpg  \n",
            "  inflating: Images/3398788809_25c71ba018.jpg  \n",
            "  inflating: Images/3399028417_50a621274c.jpg  \n",
            "  inflating: Images/3399284917_721aefe2a7.jpg  \n",
            "  inflating: Images/3399312265_9c74378692.jpg  \n",
            "  inflating: Images/3399616238_77acf4ee12.jpg  \n",
            "  inflating: Images/3399618896_9ef60cd32c.jpg  \n",
            "  inflating: Images/3399798295_a452963365.jpg  \n",
            "  inflating: Images/3399843227_3b9d2a8dbf.jpg  \n",
            "  inflating: Images/3399906919_bc8562b257.jpg  \n",
            "  inflating: Images/3399944164_ec24123945.jpg  \n",
            "  inflating: Images/3400041870_4e7732b40f.jpg  \n",
            "  inflating: Images/3400082864_9c737c1450.jpg  \n",
            "  inflating: Images/3400135828_0ac128b6eb.jpg  \n",
            "  inflating: Images/3400186336_37043a2f5b.jpg  \n",
            "  inflating: Images/3400385314_a5bc062e97.jpg  \n",
            "  inflating: Images/3401039304_424ffc7dbf.jpg  \n",
            "  inflating: Images/3401333624_4b6af8c1d7.jpg  \n",
            "  inflating: Images/3401437960_7da856e004.jpg  \n",
            "  inflating: Images/3401548798_3a93f2caa5.jpg  \n",
            "  inflating: Images/3401647850_685c03ffff.jpg  \n",
            "  inflating: Images/3401902253_cd27e6d0fe.jpg  \n",
            "  inflating: Images/3402081035_a54cfab1d9.jpg  \n",
            "  inflating: Images/3402638444_dab914a3de.jpg  \n",
            "  inflating: Images/3403263046_3cc701a07a.jpg  \n",
            "  inflating: Images/3403370354_5d266873b4.jpg  \n",
            "  inflating: Images/3403797144_53e49412ec.jpg  \n",
            "  inflating: Images/3404012438_9baf8dcbaf.jpg  \n",
            "  inflating: Images/340425915_490293058f.jpg  \n",
            "  inflating: Images/3404408360_430f73b034.jpg  \n",
            "  inflating: Images/3404552106_f516df0f5b.jpg  \n",
            "  inflating: Images/3404870997_7b0cd755de.jpg  \n",
            "  inflating: Images/3404906655_bc51c69c1e.jpg  \n",
            "  inflating: Images/3404978479_8a81843e17.jpg  \n",
            "  inflating: Images/3405011838_f81117c99f.jpg  \n",
            "  inflating: Images/3405100926_e96308ce89.jpg  \n",
            "  inflating: Images/3405113041_4b72c24801.jpg  \n",
            "  inflating: Images/3405720825_b6991005eb.jpg  \n",
            "  inflating: Images/3405759441_fb31c80240.jpg  \n",
            "  inflating: Images/3405942945_f4af2934a6.jpg  \n",
            "  inflating: Images/3406116788_c8f62e32d1.jpg  \n",
            "  inflating: Images/3406409018_03de95181e.jpg  \n",
            "  inflating: Images/340667199_ecae5f6029.jpg  \n",
            "  inflating: Images/3406802138_ef77bbddd0.jpg  \n",
            "  inflating: Images/3406930103_4db7b4dde0.jpg  \n",
            "  inflating: Images/3407317539_68765a3375.jpg  \n",
            "  inflating: Images/3407357681_5aeaab5b59.jpg  \n",
            "  inflating: Images/3407584080_c6abf71ae3.jpg  \n",
            "  inflating: Images/3408130183_f038bdaa4f.jpg  \n",
            "  inflating: Images/3408274796_0dc62225e9.jpg  \n",
            "  inflating: Images/3409326324_a704565e8f.jpg  \n",
            "  inflating: Images/3409506817_775e38d219.jpg  \n",
            "  inflating: Images/3409740108_1505489537.jpg  \n",
            "  inflating: Images/3409947123_a8d07edecf.jpg  \n",
            "  inflating: Images/3410215754_5d5caeffaf.jpg  \n",
            "  inflating: Images/3410899419_4f8dca6f3f.jpg  \n",
            "  inflating: Images/3410902181_b2a3c6eec9.jpg  \n",
            "  inflating: Images/3411022255_210eefc375.jpg  \n",
            "  inflating: Images/3411393875_a9ff73c67a.jpg  \n",
            "  inflating: Images/3411579899_0f8ed09142.jpg  \n",
            "  inflating: Images/3411595210_8e0893b266.jpg  \n",
            "  inflating: Images/3412036192_d8cd12ed3f.jpg  \n",
            "  inflating: Images/3412249548_00820fc4ca.jpg  \n",
            "  inflating: Images/3412450683_7da035f2de.jpg  \n",
            "  inflating: Images/3412822878_5d961492e5.jpg  \n",
            "  inflating: Images/3413019648_e787f0cb88.jpg  \n",
            "  inflating: Images/3413571342_b9855795e2.jpg  \n",
            "  inflating: Images/3413669228_ec64efeb34.jpg  \n",
            "  inflating: Images/3413806271_17b7e102aa.jpg  \n",
            "  inflating: Images/3413973568_6630e5cdac.jpg  \n",
            "  inflating: Images/341430859_4519802e8f.jpg  \n",
            "  inflating: Images/3414734842_beb543f400.jpg  \n",
            "  inflating: Images/3415003392_139c0f3586.jpg  \n",
            "  inflating: Images/3415113018_7b95ddcd11.jpg  \n",
            "  inflating: Images/3415165462_e1cb536d08.jpg  \n",
            "  inflating: Images/3415178926_909db9400b.jpg  \n",
            "  inflating: Images/3415228562_4efa9c9b70.jpg  \n",
            "  inflating: Images/3415287719_3c776f370e.jpg  \n",
            "  inflating: Images/3415311628_c220a65762.jpg  \n",
            "  inflating: Images/3415578043_03d33e6efd.jpg  \n",
            "  inflating: Images/3415589320_71a5bf64cf.jpg  \n",
            "  inflating: Images/3415646718_f9f4e23a66.jpg  \n",
            "  inflating: Images/3415809168_af9dabdba5.jpg  \n",
            "  inflating: Images/3416013671_98b5c75046.jpg  \n",
            "  inflating: Images/3416091866_a96003d652.jpg  \n",
            "  inflating: Images/3416246113_1745559b6b.jpg  \n",
            "  inflating: Images/3416339125_0860d3d1eb.jpg  \n",
            "  inflating: Images/3416460533_d5819fbf69.jpg  \n",
            "  inflating: Images/341665272_80d4d61376.jpg  \n",
            "  inflating: Images/3417037373_67f7db2dd2.jpg  \n",
            "  inflating: Images/3417102649_5c0b2f4b4d.jpg  \n",
            "  inflating: Images/3417143124_6feb8290cc.jpg  \n",
            "  inflating: Images/3417231408_6ce951c011.jpg  \n",
            "  inflating: Images/3417662443_2eaea88977.jpg  \n",
            "  inflating: Images/3417672954_46b75dea8d.jpg  \n",
            "  inflating: Images/3417788829_cfdbc34d2c.jpg  \n",
            "  inflating: Images/3418504074_083f0bb68d.jpg  \n",
            "  inflating: Images/3419197575_aa5b84a9f0.jpg  \n",
            "  inflating: Images/3419238351_ac18b440c0.jpg  \n",
            "  inflating: Images/3419634480_c390f62a6e.jpg  \n",
            "  inflating: Images/3419916411_72934edcdb.jpg  \n",
            "  inflating: Images/3420064875_0349a75d69.jpg  \n",
            "  inflating: Images/3420260768_26a600b844.jpg  \n",
            "  inflating: Images/3420278866_1d17c12713.jpg  \n",
            "  inflating: Images/3420284416_a90af1fb7a.jpg  \n",
            "  inflating: Images/3420323191_d66e003264.jpg  \n",
            "  inflating: Images/3420338549_bd78d35243.jpg  \n",
            "  inflating: Images/3420469425_2980b4cd30.jpg  \n",
            "  inflating: Images/3421104520_6a71185b3c.jpg  \n",
            "  inflating: Images/3421129418_088af794f7.jpg  \n",
            "  inflating: Images/3421131122_2e4bde661e.jpg  \n",
            "  inflating: Images/3421177332_a05741cfa4.jpg  \n",
            "  inflating: Images/3421480658_b3518b6819.jpg  \n",
            "  inflating: Images/3421547427_53411b6278.jpg  \n",
            "  inflating: Images/3421706363_a3e22a4908.jpg  \n",
            "  inflating: Images/3421789737_f625dd17ed.jpg  \n",
            "  inflating: Images/3421928157_69a325366f.jpg  \n",
            "  inflating: Images/3422146099_35ffc8680e.jpg  \n",
            "  inflating: Images/3422219732_3d0be52cc3.jpg  \n",
            "  inflating: Images/3422394336_e465f60b7c.jpg  \n",
            "  inflating: Images/3422458549_f3f3878dbf.jpg  \n",
            "  inflating: Images/3422979565_e08cd77bfe.jpg  \n",
            "  inflating: Images/3423225860_16e26eef74.jpg  \n",
            "  inflating: Images/3423249426_02bedf9260.jpg  \n",
            "  inflating: Images/3423509305_e399d005db.jpg  \n",
            "  inflating: Images/3423802527_94bd2b23b0.jpg  \n",
            "  inflating: Images/3424424006_98f9d1921c.jpg  \n",
            "  inflating: Images/3424605029_53078d3505.jpg  \n",
            "  inflating: Images/3424851862_0f51c42922.jpg  \n",
            "  inflating: Images/3424927725_c4d1fcfac3.jpg  \n",
            "  inflating: Images/3424934891_69f18da66e.jpg  \n",
            "  inflating: Images/3425061393_d093edb8da.jpg  \n",
            "  inflating: Images/3425069551_aba046a1b6.jpg  \n",
            "  inflating: Images/3425071001_e7c9809ef2.jpg  \n",
            "  inflating: Images/3425127583_611200619a.jpg  \n",
            "  inflating: Images/3425414048_fa14d33067.jpg  \n",
            "  inflating: Images/3425573919_409d9e15b2.jpg  \n",
            "  inflating: Images/3425662680_41c7c50e8d.jpg  \n",
            "  inflating: Images/3425685827_03683e8e5a.jpg  \n",
            "  inflating: Images/3425756814_13909354d4.jpg  \n",
            "  inflating: Images/3425835357_204e620a66.jpg  \n",
            "  inflating: Images/3425846980_912943b4f9.jpg  \n",
            "  inflating: Images/3425851292_de92a072ee.jpg  \n",
            "  inflating: Images/3425853460_bfcd0b41f6.jpg  \n",
            "  inflating: Images/3425887426_bf60b8afa3.jpg  \n",
            "  inflating: Images/3425918361_3b890d9575.jpg  \n",
            "  inflating: Images/3426144752_28d63615ca.jpg  \n",
            "  inflating: Images/3426724811_137855b4f7.jpg  \n",
            "  inflating: Images/3426789838_8771f0ed56.jpg  \n",
            "  inflating: Images/3426933951_2302a941d8.jpg  \n",
            "  inflating: Images/3426962078_13e87e10de.jpg  \n",
            "  inflating: Images/3426964258_67a0cee201.jpg  \n",
            "  inflating: Images/3426966595_c8c4e1e872.jpg  \n",
            "  inflating: Images/3427023324_f1f6504bf4.jpg  \n",
            "  inflating: Images/3427118504_93126c83e0.jpg  \n",
            "  inflating: Images/3427233064_6af01bfc5c.jpg  \n",
            "  inflating: Images/3427301653_4ff0d6fd93.jpg  \n",
            "  inflating: Images/3427402225_234d712eeb.jpg  \n",
            "  inflating: Images/3427540832_c882fded1d.jpg  \n",
            "  inflating: Images/3427614912_b147d083b2.jpg  \n",
            "  inflating: Images/3427852996_d383abd819.jpg  \n",
            "  inflating: Images/3428038648_993a453f9e.jpg  \n",
            "  inflating: Images/3428386573_670f5362f0.jpg  \n",
            "  inflating: Images/342872408_04a2832a1b.jpg  \n",
            "  inflating: Images/3429142249_d09a32e291.jpg  \n",
            "  inflating: Images/3429194423_98e911a101.jpg  \n",
            "  inflating: Images/3429351222_17ae744daf.jpg  \n",
            "  inflating: Images/3429351964_531de1bf16.jpg  \n",
            "  inflating: Images/3429391520_930b153f94.jpg  \n",
            "  inflating: Images/3429465163_fb8ac7ce7f.jpg  \n",
            "  inflating: Images/3429581486_4556471d1a.jpg  \n",
            "  inflating: Images/3429641260_2f035c1813.jpg  \n",
            "  inflating: Images/3429956016_3c7e3096c2.jpg  \n",
            "  inflating: Images/3430100177_5864bf1e73.jpg  \n",
            "  inflating: Images/3430287726_94a1825bbf.jpg  \n",
            "  inflating: Images/3430526230_234b3550f6.jpg  \n",
            "  inflating: Images/3430607596_7e4f74e3ff.jpg  \n",
            "  inflating: Images/343073813_df822aceac.jpg  \n",
            "  inflating: Images/3430779304_43a2146f4b.jpg  \n",
            "  inflating: Images/3430782104_34da558eba.jpg  \n",
            "  inflating: Images/3431101934_99a6c55914.jpg  \n",
            "  inflating: Images/3431121650_056db85987.jpg  \n",
            "  inflating: Images/3431194126_ca78f5fde6.jpg  \n",
            "  inflating: Images/3431261634_c73360406a.jpg  \n",
            "  inflating: Images/3431487300_0123195f9b.jpg  \n",
            "  inflating: Images/3431671749_e8e3a449ac.jpg  \n",
            "  inflating: Images/3431860810_44277cd360.jpg  \n",
            "  inflating: Images/343218198_1ca90e0734.jpg  \n",
            "  inflating: Images/3432495898_a5859f06b6.jpg  \n",
            "  inflating: Images/3432550415_e7b77232de.jpg  \n",
            "  inflating: Images/3432586199_e50b0d6cb7.jpg  \n",
            "  inflating: Images/3432634159_1eb9a73306.jpg  \n",
            "  inflating: Images/3432637363_3ba357e2da.jpg  \n",
            "  inflating: Images/3432656291_a6c7981f6e.jpg  \n",
            "  inflating: Images/3432730942_4dc4685277.jpg  \n",
            "  inflating: Images/3433259846_800a6079f0.jpg  \n",
            "  inflating: Images/3433470650_a8b1c27173.jpg  \n",
            "  inflating: Images/3433567526_00b5a70319.jpg  \n",
            "  inflating: Images/3433982387_3fa993cf5a.jpg  \n",
            "  inflating: Images/3434452829_62cee280bc.jpg  \n",
            "  inflating: Images/3434526008_02359881a0.jpg  \n",
            "  inflating: Images/3435015880_eda46ff50f.jpg  \n",
            "  inflating: Images/3435035138_af32890a4c.jpg  \n",
            "  inflating: Images/3435233065_3411f2d29d.jpg  \n",
            "  inflating: Images/3435648640_b2f68efb78.jpg  \n",
            "  inflating: Images/3435653630_3b6cca2c40.jpg  \n",
            "  inflating: Images/3436063693_15c8d377a2.jpg  \n",
            "  inflating: Images/3436074878_21515a6706.jpg  \n",
            "  inflating: Images/3436259762_43709321ff.jpg  \n",
            "  inflating: Images/3436313241_6c73153fb6.jpg  \n",
            "  inflating: Images/3436395540_63bc8f2fe0.jpg  \n",
            "  inflating: Images/3436418401_b00ceb27c0.jpg  \n",
            "  inflating: Images/343662720_39e4067cd1.jpg  \n",
            "  inflating: Images/3437034427_6df5e9fbf9.jpg  \n",
            "  inflating: Images/3437107047_715c60e9c8.jpg  \n",
            "  inflating: Images/3437147889_4cf26dd525.jpg  \n",
            "  inflating: Images/3437273677_47d4462974.jpg  \n",
            "  inflating: Images/3437315443_ba2263f92e.jpg  \n",
            "  inflating: Images/3437654963_c4fdc17e8b.jpg  \n",
            "  inflating: Images/3437693401_202afef348.jpg  \n",
            "  inflating: Images/3437781040_82b06facb3.jpg  \n",
            "  inflating: Images/3438858409_136345fa07.jpg  \n",
            "  inflating: Images/3438981089_2ef1a6353c.jpg  \n",
            "  inflating: Images/3439128755_84409b8823.jpg  \n",
            "  inflating: Images/3439243433_d5f3508612.jpg  \n",
            "  inflating: Images/3439331800_e71e1d808f.jpg  \n",
            "  inflating: Images/3439382048_d2e23b2b4c.jpg  \n",
            "  inflating: Images/3439414478_8038ba9409.jpg  \n",
            "  inflating: Images/3439560988_f001f96fc9.jpg  \n",
            "  inflating: Images/3439982121_0afc6d5973.jpg  \n",
            "  inflating: Images/3440104178_6871a24e13.jpg  \n",
            "  inflating: Images/3440160917_4524cfd9f6.jpg  \n",
            "  inflating: Images/3440724965_03d6ca5399.jpg  \n",
            "  inflating: Images/344078103_4b23931ce5.jpg  \n",
            "  inflating: Images/3440952969_608eb5e42b.jpg  \n",
            "  inflating: Images/3441104823_33cdae5a56.jpg  \n",
            "  inflating: Images/3441145615_b4fcd9eea0.jpg  \n",
            "  inflating: Images/3441399292_60c83bd5db.jpg  \n",
            "  inflating: Images/3441511444_b031585b45.jpg  \n",
            "  inflating: Images/3441531010_8eebbb507e.jpg  \n",
            "  inflating: Images/3441701164_6dbbdf1bce.jpg  \n",
            "  inflating: Images/3442138291_3e75f4bdb8.jpg  \n",
            "  inflating: Images/3442242092_e579538d82.jpg  \n",
            "  inflating: Images/3442272060_f9155194c2.jpg  \n",
            "  inflating: Images/3442540072_b22ca2410f.jpg  \n",
            "  inflating: Images/3442622076_c3abe955e5.jpg  \n",
            "  inflating: Images/3442844140_15aa45e9b8.jpg  \n",
            "  inflating: Images/3442978981_53bf1f45f3.jpg  \n",
            "  inflating: Images/3443030942_f409586258.jpg  \n",
            "  inflating: Images/3443161359_65544fd732.jpg  \n",
            "  inflating: Images/3443326696_fe0549c5be.jpg  \n",
            "  inflating: Images/3443351431_7b4061df5c.jpg  \n",
            "  inflating: Images/3443460885_46115463b4.jpg  \n",
            "  inflating: Images/3443703471_14845d8850.jpg  \n",
            "  inflating: Images/3443853670_6c79fcfcb2.jpg  \n",
            "  inflating: Images/3444684583_6656e38088.jpg  \n",
            "  inflating: Images/3444974984_963fb441a0.jpg  \n",
            "  inflating: Images/3444982197_0ff15cc50b.jpg  \n",
            "  inflating: Images/3445296377_1e5082b44b.jpg  \n",
            "  inflating: Images/3445428367_25bafffe75.jpg  \n",
            "  inflating: Images/3445544288_68fdb25969.jpg  \n",
            "  inflating: Images/3446191973_1db572ed8a.jpg  \n",
            "  inflating: Images/3446347599_0ecc49a9d5.jpg  \n",
            "  inflating: Images/3446586125_cafa0bfd67.jpg  \n",
            "  inflating: Images/3446762868_06e9d9d899.jpg  \n",
            "  inflating: Images/3447007090_08d997833a.jpg  \n",
            "  inflating: Images/3447155358_5b5b59b15e.jpg  \n",
            "  inflating: Images/3447876218_4ccf42d7a0.jpg  \n",
            "  inflating: Images/344841963_8b0fa9784c.jpg  \n",
            "  inflating: Images/3448490813_f9623e864d.jpg  \n",
            "  inflating: Images/3448855727_f16dea7b03.jpg  \n",
            "  inflating: Images/3449114979_6cdc3e8da8.jpg  \n",
            "  inflating: Images/3449170348_34dac4a380.jpg  \n",
            "  inflating: Images/3449718979_e987c64e2d.jpg  \n",
            "  inflating: Images/3449846784_278bc1ba92.jpg  \n",
            "  inflating: Images/3450776690_38605c667d.jpg  \n",
            "  inflating: Images/3450874870_c4dcf58fb3.jpg  \n",
            "  inflating: Images/3451085951_e66f7f5d5c.jpg  \n",
            "  inflating: Images/3451344589_6787bd06ef.jpg  \n",
            "  inflating: Images/3451345621_fe470d4cf8.jpg  \n",
            "  inflating: Images/3451523035_b61d79f6a8.jpg  \n",
            "  inflating: Images/3451984463_37ac1ff7a8.jpg  \n",
            "  inflating: Images/3452127051_fa54a902b3.jpg  \n",
            "  inflating: Images/3452341579_0147d2199b.jpg  \n",
            "  inflating: Images/3452411712_5b42d2a1b5.jpg  \n",
            "  inflating: Images/345284642_77dded0907.jpg  \n",
            "  inflating: Images/3452982513_36f2bc81fa.jpg  \n",
            "  inflating: Images/3453019315_cfd5c10dae.jpg  \n",
            "  inflating: Images/3453259666_9ecaa8bb4b.jpg  \n",
            "  inflating: Images/3453284877_8866189055.jpg  \n",
            "  inflating: Images/3453313865_1ebff5393c.jpg  \n",
            "  inflating: Images/3453544202_3855ab34b6.jpg  \n",
            "  inflating: Images/3454149297_01454a2554.jpg  \n",
            "  inflating: Images/3454199170_ae26917dcd.jpg  \n",
            "  inflating: Images/3454315016_f1e30d4676.jpg  \n",
            "  inflating: Images/3454355269_6185e29f95.jpg  \n",
            "  inflating: Images/3454621502_73af6742fb.jpg  \n",
            "  inflating: Images/3454754632_977c1523be.jpg  \n",
            "  inflating: Images/3454988449_1de1ef4f20.jpg  \n",
            "  inflating: Images/3455405300_aa3069ecaa.jpg  \n",
            "  inflating: Images/3455419642_894d03f153.jpg  \n",
            "  inflating: Images/3455757720_7aeba57056.jpg  \n",
            "  inflating: Images/3455898176_f0e003ce58.jpg  \n",
            "  inflating: Images/3455920874_6fbec43194.jpg  \n",
            "  inflating: Images/3456251289_c4ae31d817.jpg  \n",
            "  inflating: Images/3456362961_d8f7e347a8.jpg  \n",
            "  inflating: Images/3456579559_b5c8927938.jpg  \n",
            "  inflating: Images/345684566_235e8dfcc1.jpg  \n",
            "  inflating: Images/3456862740_7550bcddc2.jpg  \n",
            "  inflating: Images/3457045393_2bbbb4e941.jpg  \n",
            "  inflating: Images/3457210101_3533edebc8.jpg  \n",
            "  inflating: Images/3457315666_b943111dec.jpg  \n",
            "  inflating: Images/3457364788_3514a52091.jpg  \n",
            "  inflating: Images/3457455611_94ee93929f.jpg  \n",
            "  inflating: Images/3457460673_800d7f7dd9.jpg  \n",
            "  inflating: Images/3457572788_e1fe4f6480.jpg  \n",
            "  inflating: Images/3457604528_302396c08c.jpg  \n",
            "  inflating: Images/3457784061_8f77f43a9c.jpg  \n",
            "  inflating: Images/3457856049_2de173e818.jpg  \n",
            "  inflating: Images/345785626_9fa59f38ce.jpg  \n",
            "  inflating: Images/3458211052_bb73084398.jpg  \n",
            "  inflating: Images/3458215674_2aa5e64643.jpg  \n",
            "  inflating: Images/3458379941_657182bb09.jpg  \n",
            "  inflating: Images/3458434150_2b0d619244.jpg  \n",
            "  inflating: Images/3458559770_12cf9f134e.jpg  \n",
            "  inflating: Images/3458577912_67db47209d.jpg  \n",
            "  inflating: Images/3458625738_297857369c.jpg  \n",
            "  inflating: Images/3459156091_c1879ebe28.jpg  \n",
            "  inflating: Images/3459362347_c412ef9901.jpg  \n",
            "  inflating: Images/3459419203_cd7c68ce4d.jpg  \n",
            "  inflating: Images/3459492423_c881f12c9f.jpg  \n",
            "  inflating: Images/3459570613_3932816d3f.jpg  \n",
            "  inflating: Images/3459858555_c3f0087a72.jpg  \n",
            "  inflating: Images/3459871361_92d1ecda36.jpg  \n",
            "  inflating: Images/3460458114_35037d4d4c.jpg  \n",
            "  inflating: Images/3460551728_63255cec18.jpg  \n",
            "  inflating: Images/3461041826_0e24cdf597.jpg  \n",
            "  inflating: Images/3461049169_e068ae4f25.jpg  \n",
            "  inflating: Images/3461106572_920c8c0112.jpg  \n",
            "  inflating: Images/3461110860_37ef15af8e.jpg  \n",
            "  inflating: Images/3461114418_c27b4043a2.jpg  \n",
            "  inflating: Images/3461437556_cc5e97f3ac.jpg  \n",
            "  inflating: Images/3461583471_2b8b6b4d73.jpg  \n",
            "  inflating: Images/3461677493_5bfb73038e.jpg  \n",
            "  inflating: Images/3462165890_c13ce13eff.jpg  \n",
            "  inflating: Images/3462396164_ba9849c14b.jpg  \n",
            "  inflating: Images/3462454965_a481809cea.jpg  \n",
            "  inflating: Images/3462512074_2b4db1ffd6.jpg  \n",
            "  inflating: Images/346253487_687150ab04.jpg  \n",
            "  inflating: Images/3463034205_e541313038.jpg  \n",
            "  inflating: Images/3463268965_f22884fc69.jpg  \n",
            "  inflating: Images/3463523977_f2ed231585.jpg  \n",
            "  inflating: Images/3463922449_f6040a2931.jpg  \n",
            "  inflating: Images/3464708890_3cab754998.jpg  \n",
            "  inflating: Images/3464871350_3f2d624a9c.jpg  \n",
            "  inflating: Images/3465000218_c94e54e208.jpg  \n",
            "  inflating: Images/3465396606_5ba1574128.jpg  \n",
            "  inflating: Images/3465473743_7da0c5d973.jpg  \n",
            "  inflating: Images/3465606652_f380a38050.jpg  \n",
            "  inflating: Images/3465791729_5bf9bd8635.jpg  \n",
            "  inflating: Images/3466353172_deb128bbb0.jpg  \n",
            "  inflating: Images/3466891862_9afde75568.jpg  \n",
            "  inflating: Images/3467073304_aefe553c4d.jpg  \n",
            "  inflating: Images/3467219837_7d62213dec.jpg  \n",
            "  inflating: Images/3467282545_273a97b628.jpg  \n",
            "  inflating: Images/3467510271_0f57e52768.jpg  \n",
            "  inflating: Images/3467843559_a457ce37b6.jpg  \n",
            "  inflating: Images/3467941308_ae6989e29c.jpg  \n",
            "  inflating: Images/3468023754_8a07d4c56e.jpg  \n",
            "  inflating: Images/3468130925_2b1489d19a.jpg  \n",
            "  inflating: Images/3468275336_61936db92d.jpg  \n",
            "  inflating: Images/3468346269_9d162aacfe.jpg  \n",
            "  inflating: Images/3468694409_a51571d621.jpg  \n",
            "  inflating: Images/3469585782_e708496552.jpg  \n",
            "  inflating: Images/3469711377_bc29d48737.jpg  \n",
            "  inflating: Images/3470008804_0ca36a7a09.jpg  \n",
            "  inflating: Images/3470129475_9e58b6742c.jpg  \n",
            "  inflating: Images/3470303255_fbb41b8dd0.jpg  \n",
            "  inflating: Images/3470951932_27ed74eb0b.jpg  \n",
            "  inflating: Images/3471066276_fb1e82e905.jpg  \n",
            "  inflating: Images/3471117376_40585c3fd1.jpg  \n",
            "  inflating: Images/3471463779_64084b686c.jpg  \n",
            "  inflating: Images/3471571540_b4ab77f20d.jpg  \n",
            "  inflating: Images/3471841031_a949645ba8.jpg  \n",
            "  inflating: Images/347186933_880caaf53b.jpg  \n",
            "  inflating: Images/3472066410_065b4f99d3.jpg  \n",
            "  inflating: Images/3472270112_0a7cb7b27c.jpg  \n",
            "  inflating: Images/3472364264_dbde5a8d0a.jpg  \n",
            "  inflating: Images/3472449219_eb927f05b8.jpg  \n",
            "  inflating: Images/3472485022_5d03e9852d.jpg  \n",
            "  inflating: Images/3472540184_b0420b921a.jpg  \n",
            "  inflating: Images/3472703856_568d9778b5.jpg  \n",
            "  inflating: Images/3473264983_67917a931f.jpg  \n",
            "  inflating: Images/3473320907_3884a7203b.jpg  \n",
            "  inflating: Images/3473534758_1ae3847781.jpg  \n",
            "  inflating: Images/3474176841_cde2bee67c.jpg  \n",
            "  inflating: Images/3474265683_43b1033d94.jpg  \n",
            "  inflating: Images/3474330484_a01d8af624.jpg  \n",
            "  inflating: Images/3474406285_01f3d24b71.jpg  \n",
            "  inflating: Images/3474912569_7165dc1d06.jpg  \n",
            "  inflating: Images/3474958471_9106beb07f.jpg  \n",
            "  inflating: Images/3474985008_0a827cd340.jpg  \n",
            "  inflating: Images/3474985112_24ef46e82d.jpg  \n",
            "  inflating: Images/3474985382_26e1560338.jpg  \n",
            "  inflating: Images/3474999131_788cbf253f.jpg  \n",
            "  inflating: Images/3475005101_6f6e437459.jpg  \n",
            "  inflating: Images/3475092236_cf45d383c7.jpg  \n",
            "  inflating: Images/3475111806_f0d2927707.jpg  \n",
            "  inflating: Images/347543966_b2053ae78c.jpg  \n",
            "  inflating: Images/3475552729_a3abd81ee6.jpg  \n",
            "  inflating: Images/3475581086_a533567561.jpg  \n",
            "  inflating: Images/3476237185_9389c536a3.jpg  \n",
            "  inflating: Images/3476381830_3751dd9339.jpg  \n",
            "  inflating: Images/3476451861_5b9c9ce191.jpg  \n",
            "  inflating: Images/3476709230_6439305bf2.jpg  \n",
            "  inflating: Images/3477315700_52a4d740a5.jpg  \n",
            "  inflating: Images/3477369101_8e0c61d8f4.jpg  \n",
            "  inflating: Images/3477672764_7f07657a26.jpg  \n",
            "  inflating: Images/3477681171_b1bb8b211d.jpg  \n",
            "  inflating: Images/3477683327_d9e6a2a64f.jpg  \n",
            "  inflating: Images/3477712686_8428614c75.jpg  \n",
            "  inflating: Images/3477715432_79d82487bb.jpg  \n",
            "  inflating: Images/3477778668_81ff0a68e0.jpg  \n",
            "  inflating: Images/3477977145_4df89d69a1.jpg  \n",
            "  inflating: Images/3478084305_9e1219c3b6.jpg  \n",
            "  inflating: Images/3478176372_7c510a0cef.jpg  \n",
            "  inflating: Images/3478591390_b526580644.jpg  \n",
            "  inflating: Images/3478877323_0a507a601b.jpg  \n",
            "  inflating: Images/3479050296_65bcea69a0.jpg  \n",
            "  inflating: Images/3479245321_6a5bc470f8.jpg  \n",
            "  inflating: Images/3479423813_517e93a43a.jpg  \n",
            "  inflating: Images/3480051754_18e5802558.jpg  \n",
            "  inflating: Images/3480052428_c034b98a08.jpg  \n",
            "  inflating: Images/3480126681_52cea26bda.jpg  \n",
            "  inflating: Images/3480379024_545e8ec818.jpg  \n",
            "  inflating: Images/3481859121_3d3e566ec0.jpg  \n",
            "  inflating: Images/3481884992_45770ec698.jpg  \n",
            "  inflating: Images/3482062809_3b694322c4.jpg  \n",
            "  inflating: Images/3482237861_605b4f0fd9.jpg  \n",
            "  inflating: Images/3482314155_bd1e668b4e.jpg  \n",
            "  inflating: Images/3482474257_a88bfe5c57.jpg  \n",
            "  inflating: Images/3482668767_66004ce736.jpg  \n",
            "  inflating: Images/3482787182_a5c6d4b386.jpg  \n",
            "  inflating: Images/3482859574_3908de3427.jpg  \n",
            "  inflating: Images/3482879314_d3387e95b1.jpg  \n",
            "  inflating: Images/3482974845_db4f16befa.jpg  \n",
            "  inflating: Images/3483140026_e14f64fdf5.jpg  \n",
            "  inflating: Images/348380010_33bb0599ef.jpg  \n",
            "  inflating: Images/3484019369_354e0b88c0.jpg  \n",
            "  inflating: Images/3484070900_3e76d7fd30.jpg  \n",
            "  inflating: Images/3484365373_98d5304935.jpg  \n",
            "  inflating: Images/3484576025_a8c50942aa.jpg  \n",
            "  inflating: Images/3484625231_5b1a1a07b8.jpg  \n",
            "  inflating: Images/3484649669_7bfe62080b.jpg  \n",
            "  inflating: Images/3484820303_7be0e914b4.jpg  \n",
            "  inflating: Images/3484832904_08619300d9.jpg  \n",
            "  inflating: Images/3484841598_e26ee96aab.jpg  \n",
            "  inflating: Images/3484842724_ef1124c87a.jpg  \n",
            "  inflating: Images/3484906808_ee20714408.jpg  \n",
            "  inflating: Images/3485425825_c2f3446e73.jpg  \n",
            "  inflating: Images/3485486737_953f9d3be2.jpg  \n",
            "  inflating: Images/3485599424_94de8ede51.jpg  \n",
            "  inflating: Images/3485657956_7481582565.jpg  \n",
            "  inflating: Images/3485816074_363cab4bff.jpg  \n",
            "  inflating: Images/3486135177_772628d034.jpg  \n",
            "  inflating: Images/3486154327_8be7c78569.jpg  \n",
            "  inflating: Images/3486324591_9f5eeb24b9.jpg  \n",
            "  inflating: Images/3486340101_ff01d8f3f9.jpg  \n",
            "  inflating: Images/3486538055_bcf4d3dfda.jpg  \n",
            "  inflating: Images/3486831913_2b9390ebbc.jpg  \n",
            "  inflating: Images/3487015378_2e90a79f4b.jpg  \n",
            "  inflating: Images/3487131146_9d3aca387a.jpg  \n",
            "  inflating: Images/3487261028_30791528ec.jpg  \n",
            "  inflating: Images/3487378989_c051d2715b.jpg  \n",
            "  inflating: Images/3487419819_e3f89444ce.jpg  \n",
            "  inflating: Images/3487820317_3728e7569e.jpg  \n",
            "  inflating: Images/3487979741_5f244c0c4b.jpg  \n",
            "  inflating: Images/3488087117_2719647989.jpg  \n",
            "  inflating: Images/3488512097_e500cb499f.jpg  \n",
            "  inflating: Images/3488837187_0c7264a16c.jpg  \n",
            "  inflating: Images/3489774350_a94e6c7bfc.jpg  \n",
            "  inflating: Images/3490044563_8eb551ef59.jpg  \n",
            "  inflating: Images/3490186050_4cb4193d4d.jpg  \n",
            "  inflating: Images/3490517179_76dbd690de.jpg  \n",
            "  inflating: Images/3490528249_6aae9b867b.jpg  \n",
            "  inflating: Images/3490597800_8f94f7d353.jpg  \n",
            "  inflating: Images/3490736665_38710f4b91.jpg  \n",
            "  inflating: Images/3490867290_13bcd3a7f0.jpg  \n",
            "  inflating: Images/3490874218_babb404b39.jpg  \n",
            "  inflating: Images/3491013009_572cf2c18a.jpg  \n",
            "  inflating: Images/3491607076_922ec561d9.jpg  \n",
            "  inflating: Images/3492180255_0bd48a18f8.jpg  \n",
            "  inflating: Images/3492383096_5bbc08f0da.jpg  \n",
            "  inflating: Images/3492734013_e6b177ed99.jpg  \n",
            "  inflating: Images/3493000349_81c540e828.jpg  \n",
            "  inflating: Images/3493255026_5fdaa52cbe.jpg  \n",
            "  inflating: Images/3493479159_609ebe1b35.jpg  \n",
            "  inflating: Images/3493844822_c315a11275.jpg  \n",
            "  inflating: Images/3494105596_f05cb0d56f.jpg  \n",
            "  inflating: Images/3494345896_dd6b32cfa3.jpg  \n",
            "  inflating: Images/3494394662_3edfd4a34c.jpg  \n",
            "  inflating: Images/3494723363_eaa6bc563b.jpg  \n",
            "  inflating: Images/3495349745_1b29a63571.jpg  \n",
            "  inflating: Images/3495453699_1c9faedf3c.jpg  \n",
            "  inflating: Images/3495490064_8db40a83af.jpg  \n",
            "  inflating: Images/3496028495_431cfdc042.jpg  \n",
            "  inflating: Images/3496983524_b21ecdb0c7.jpg  \n",
            "  inflating: Images/3497069793_2d4baf5b4b.jpg  \n",
            "  inflating: Images/3497106366_d1a256e723.jpg  \n",
            "  inflating: Images/3497224764_6e17544e0d.jpg  \n",
            "  inflating: Images/3497234632_6ec740fc1e.jpg  \n",
            "  inflating: Images/3497236690_a48bf7ac42.jpg  \n",
            "  inflating: Images/3497237366_366997495d.jpg  \n",
            "  inflating: Images/3497238310_2abde3965d.jpg  \n",
            "  inflating: Images/3497255828_f27e009aac.jpg  \n",
            "  inflating: Images/3497485793_e36c1d2779.jpg  \n",
            "  inflating: Images/3497502407_ec566442c9.jpg  \n",
            "  inflating: Images/3498240367_cbd8c6efbf.jpg  \n",
            "  inflating: Images/3498327617_d2e3db3ee3.jpg  \n",
            "  inflating: Images/3498354674_b636c7992f.jpg  \n",
            "  inflating: Images/3498417123_3eae6bbde6.jpg  \n",
            "  inflating: Images/3498423815_5b8fc097f4.jpg  \n",
            "  inflating: Images/3498482871_4e02f31c35.jpg  \n",
            "  inflating: Images/349889354_4b2889a9bd.jpg  \n",
            "  inflating: Images/3498997518_c2b16f0a0e.jpg  \n",
            "  inflating: Images/3499720588_c32590108e.jpg  \n",
            "  inflating: Images/3500115252_9404c066a8.jpg  \n",
            "  inflating: Images/3500136982_bf7a85531e.jpg  \n",
            "  inflating: Images/3500139659_b2a60b0141.jpg  \n",
            "  inflating: Images/3500342526_393c739e2f.jpg  \n",
            "  inflating: Images/3500399969_f54ce5848f.jpg  \n",
            "  inflating: Images/3500505549_d848209837.jpg  \n",
            "  inflating: Images/3500829879_a643818d84.jpg  \n",
            "  inflating: Images/3501083764_cf592292a6.jpg  \n",
            "  inflating: Images/3501206996_477be0f318.jpg  \n",
            "  inflating: Images/3501313414_ae865b6fdf.jpg  \n",
            "  inflating: Images/3501386648_e11e3f3152.jpg  \n",
            "  inflating: Images/350176185_b8c5591e36.jpg  \n",
            "  inflating: Images/3501781809_88429e3b83.jpg  \n",
            "  inflating: Images/3501936223_6122a13d27.jpg  \n",
            "  inflating: Images/3502343542_f9b46688e5.jpg  \n",
            "  inflating: Images/3502459991_fdec2da131.jpg  \n",
            "  inflating: Images/3502563726_30d1ce29c8.jpg  \n",
            "  inflating: Images/3502897880_8392d0e4de.jpg  \n",
            "  inflating: Images/3502993968_4ee36afb0e.jpg  \n",
            "  inflating: Images/3503011427_a4ee547c77.jpg  \n",
            "  inflating: Images/3503471307_464a8f588c.jpg  \n",
            "  inflating: Images/3503544012_1771be9d3a.jpg  \n",
            "  inflating: Images/3503623999_bbd5dcfb18.jpg  \n",
            "  inflating: Images/3503624011_733d745d5a.jpg  \n",
            "  inflating: Images/3503689049_63212220be.jpg  \n",
            "  inflating: Images/3504158556_1d410c8ff7.jpg  \n",
            "  inflating: Images/3504275465_604ce2ef34.jpg  \n",
            "  inflating: Images/350443876_c9769f5734.jpg  \n",
            "  inflating: Images/3504479370_ff2d89a043.jpg  \n",
            "  inflating: Images/3504881781_6a842e043b.jpg  \n",
            "  inflating: Images/3504940491_94c43792ed.jpg  \n",
            "  inflating: Images/350529848_9569a3bcbc.jpg  \n",
            "  inflating: Images/3505657604_8899161734.jpg  \n",
            "  inflating: Images/350588129_6aef7b7fe2.jpg  \n",
            "  inflating: Images/3506096155_13632955e8.jpg  \n",
            "  inflating: Images/3506216254_04d119cac7.jpg  \n",
            "  inflating: Images/3506468593_7e41a6d9f1.jpg  \n",
            "  inflating: Images/3506560025_8d0f4f9ac4.jpg  \n",
            "  inflating: Images/3506607642_40037b3fbf.jpg  \n",
            "  inflating: Images/3506869953_802f463178.jpg  \n",
            "  inflating: Images/3507076266_8b17993fbb.jpg  \n",
            "  inflating: Images/3507670136_2e5f94accf.jpg  \n",
            "  inflating: Images/3508051251_82422717b3.jpg  \n",
            "  inflating: Images/3508522093_51f6d77f45.jpg  \n",
            "  inflating: Images/3508637029_89f3bdd3a2.jpg  \n",
            "  inflating: Images/3508882611_3947c0dbf5.jpg  \n",
            "  inflating: Images/3509575615_653cbf01fc.jpg  \n",
            "  inflating: Images/3509611207_7645b1d28d.jpg  \n",
            "  inflating: Images/3510218982_318f738b76.jpg  \n",
            "  inflating: Images/3510219078_670b6b3157.jpg  \n",
            "  inflating: Images/3510695264_ef460fa6cc.jpg  \n",
            "  inflating: Images/3511062827_cd87871c67.jpg  \n",
            "  inflating: Images/3511890331_6163612bb9.jpg  \n",
            "  inflating: Images/3512033659_7e8a0c2ffa.jpg  \n",
            "  inflating: Images/3512033861_a357bb58b6.jpg  \n",
            "  inflating: Images/3512127856_18a4c7aace.jpg  \n",
            "  inflating: Images/3512791890_eb065b460a.jpg  \n",
            "  inflating: Images/3513265399_a32e8cfd18.jpg  \n",
            "  inflating: Images/3513362553_5fc5779e20.jpg  \n",
            "  inflating: Images/3514019869_7de4ece2a5.jpg  \n",
            "  inflating: Images/3514179514_cbc3371b92.jpg  \n",
            "  inflating: Images/3514184232_b336414040.jpg  \n",
            "  inflating: Images/3514188115_f51932ae5d.jpg  \n",
            "  inflating: Images/3514194772_43ba471982.jpg  \n",
            "  inflating: Images/3514278386_de2343577e.jpg  \n",
            "  inflating: Images/3514297698_0512623955.jpg  \n",
            "  inflating: Images/3515358125_9e1d796244.jpg  \n",
            "  inflating: Images/3515451715_ac5ac04efa.jpg  \n",
            "  inflating: Images/3515665835_22e6fb1193.jpg  \n",
            "  inflating: Images/3515904775_f8acc5909e.jpg  \n",
            "  inflating: Images/3516267455_ca17cc1323.jpg  \n",
            "  inflating: Images/3516285214_59823b341e.jpg  \n",
            "  inflating: Images/3516299821_8f0375d221.jpg  \n",
            "  inflating: Images/3516312179_f520469038.jpg  \n",
            "  inflating: Images/3516521516_9950340b96.jpg  \n",
            "  inflating: Images/3516653997_98ec551a67.jpg  \n",
            "  inflating: Images/3516825206_5750824874.jpg  \n",
            "  inflating: Images/3516935867_78cf63c69c.jpg  \n",
            "  inflating: Images/3516960094_87fb4889de.jpg  \n",
            "  inflating: Images/3517023411_a8fbd15230.jpg  \n",
            "  inflating: Images/3517040752_debec03376.jpg  \n",
            "  inflating: Images/3517056462_483ee5a914.jpg  \n",
            "  inflating: Images/3517124784_4b4eb62a7a.jpg  \n",
            "  inflating: Images/3517127930_5dbddb45f6.jpg  \n",
            "  inflating: Images/3517362674_0f5296de19.jpg  \n",
            "  inflating: Images/3517466790_17c7753a1a.jpg  \n",
            "  inflating: Images/3518118675_5053b3f738.jpg  \n",
            "  inflating: Images/3518126579_e70e0cbb2b.jpg  \n",
            "  inflating: Images/3518334317_bc40bae18d.jpg  \n",
            "  inflating: Images/3518443604_6da641f07d.jpg  \n",
            "  inflating: Images/3518608016_46453d8b18.jpg  \n",
            "  inflating: Images/3518675890_2f65e23ff9.jpg  \n",
            "  inflating: Images/3518687038_964c523958.jpg  \n",
            "  inflating: Images/3518755601_cebf11e515.jpg  \n",
            "  inflating: Images/351876121_c7c0221928.jpg  \n",
            "  inflating: Images/3519155763_045a6a55e2.jpg  \n",
            "  inflating: Images/3519815055_304dc8e8d6.jpg  \n",
            "  inflating: Images/3519942322_b37d088aae.jpg  \n",
            "  inflating: Images/3520079657_b828d96d50.jpg  \n",
            "  inflating: Images/3520199925_ca18d0f41e.jpg  \n",
            "  inflating: Images/3520321387_710ab74cda.jpg  \n",
            "  inflating: Images/3520617304_e53d37f0af.jpg  \n",
            "  inflating: Images/3520869880_2e8b7d7842.jpg  \n",
            "  inflating: Images/3520922312_e58a6cfd9c.jpg  \n",
            "  inflating: Images/3520936130_9e90872560.jpg  \n",
            "  inflating: Images/3521201948_9049197f20.jpg  \n",
            "  inflating: Images/3521374954_37371b49a4.jpg  \n",
            "  inflating: Images/3522000960_47415c3890.jpg  \n",
            "  inflating: Images/3522025527_c10e6ebd26.jpg  \n",
            "  inflating: Images/3522076584_7c603d2ac5.jpg  \n",
            "  inflating: Images/3522349685_f046f0e250.jpg  \n",
            "  inflating: Images/3522749949_fb615cee47.jpg  \n",
            "  inflating: Images/3522989916_f20319cc59.jpg  \n",
            "  inflating: Images/3523471597_87e0bf3b21.jpg  \n",
            "  inflating: Images/3523474077_16e14bc54c.jpg  \n",
            "  inflating: Images/3523559027_a65619a34b.jpg  \n",
            "  inflating: Images/3523819210_99782628fc.jpg  \n",
            "  inflating: Images/352382023_7605223d1c.jpg  \n",
            "  inflating: Images/3523874798_9ba2fa46e3.jpg  \n",
            "  inflating: Images/3523920786_0eb63993fd.jpg  \n",
            "  inflating: Images/3523950181_414978964e.jpg  \n",
            "  inflating: Images/3523972229_d44e9ff6d7.jpg  \n",
            "  inflating: Images/3524436870_7670df68e8.jpg  \n",
            "  inflating: Images/3524519277_bd0c3e7382.jpg  \n",
            "  inflating: Images/3524612244_64f00afec5.jpg  \n",
            "  inflating: Images/3524914023_4e96edb09f.jpg  \n",
            "  inflating: Images/3524975665_7bec41578b.jpg  \n",
            "  inflating: Images/3525403875_7f95e0cbfe.jpg  \n",
            "  inflating: Images/3525417522_7beb617f8b.jpg  \n",
            "  inflating: Images/3525453732_f74a38f111.jpg  \n",
            "  inflating: Images/3525841965_7814484515.jpg  \n",
            "  inflating: Images/3526018344_450c517a72.jpg  \n",
            "  inflating: Images/3526150930_580908dab6.jpg  \n",
            "  inflating: Images/3526431764_056d2c61dc.jpg  \n",
            "  inflating: Images/3526805681_38461c0d5d.jpg  \n",
            "  inflating: Images/3526897578_3cf77da99b.jpg  \n",
            "  inflating: Images/3527184455_1a9c074ff2.jpg  \n",
            "  inflating: Images/3527261343_efa07ea596.jpg  \n",
            "  inflating: Images/3527524436_a54aca78a9.jpg  \n",
            "  inflating: Images/3527590601_38d56abc29.jpg  \n",
            "  inflating: Images/3527682660_c5e9fa644a.jpg  \n",
            "  inflating: Images/3527715826_ea5b4e8de4.jpg  \n",
            "  inflating: Images/3527926597_45af299eee.jpg  \n",
            "  inflating: Images/3528105511_12ff45dc9c.jpg  \n",
            "  inflating: Images/3528251308_481a28283a.jpg  \n",
            "  inflating: Images/3528902357_be2357a906.jpg  \n",
            "  inflating: Images/3528966521_2e871ff6a1.jpg  \n",
            "  inflating: Images/3529211822_1dabdb3a9c.jpg  \n",
            "  inflating: Images/3529314899_b4e533bb76.jpg  \n",
            "  inflating: Images/3529721084_4b405baf54.jpg  \n",
            "  inflating: Images/352981175_16ff5c07e4.jpg  \n",
            "  inflating: Images/3530087422_7eb2b2c289.jpg  \n",
            "  inflating: Images/3530342993_a4a1f0e516.jpg  \n",
            "  inflating: Images/3530502404_f8c3a3f61c.jpg  \n",
            "  inflating: Images/3530504007_3272c57e21.jpg  \n",
            "  inflating: Images/3530687486_6e6be53602.jpg  \n",
            "  inflating: Images/3530843182_35af2c821c.jpg  \n",
            "  inflating: Images/353180303_6a24179c50.jpg  \n",
            "  inflating: Images/3531811969_49af4c22f0.jpg  \n",
            "  inflating: Images/3532028205_9ddd7599f8.jpg  \n",
            "  inflating: Images/3532098999_4e07a0a17e.jpg  \n",
            "  inflating: Images/3532192208_64b069d05d.jpg  \n",
            "  inflating: Images/3532194771_07faf20d76.jpg  \n",
            "  inflating: Images/3532200762_b28c39d311.jpg  \n",
            "  inflating: Images/3532205154_5674b628ea.jpg  \n",
            "  inflating: Images/3532412342_e0a004b404.jpg  \n",
            "  inflating: Images/3532539748_795d16ef07.jpg  \n",
            "  inflating: Images/3532587748_7e64bb223a.jpg  \n",
            "  inflating: Images/3532593368_be10432e92.jpg  \n",
            "  inflating: Images/3532761259_14026c1e96.jpg  \n",
            "  inflating: Images/3532782283_341f0381a3.jpg  \n",
            "  inflating: Images/3533145793_5d69f72e41.jpg  \n",
            "  inflating: Images/3533394378_1513ec90db.jpg  \n",
            "  inflating: Images/3533451027_b078e4631b.jpg  \n",
            "  inflating: Images/3533470072_87a5b595ba.jpg  \n",
            "  inflating: Images/3533484468_0787830d49.jpg  \n",
            "  inflating: Images/3533660418_f3a73a257c.jpg  \n",
            "  inflating: Images/3533775651_9d7e93dacf.jpg  \n",
            "  inflating: Images/3533922605_a2b1e276f6.jpg  \n",
            "  inflating: Images/3534046564_4f8546e364.jpg  \n",
            "  inflating: Images/3534183988_3763593dfb.jpg  \n",
            "  inflating: Images/3534512991_f9fd66f165.jpg  \n",
            "  inflating: Images/3534548254_7bee952a0e.jpg  \n",
            "  inflating: Images/3534668485_6887629ff0.jpg  \n",
            "  inflating: Images/3534824784_7133119316.jpg  \n",
            "  inflating: Images/3534952095_975cca0056.jpg  \n",
            "  inflating: Images/3535056297_e16f014cb7.jpg  \n",
            "  inflating: Images/3535084928_858544f49a.jpg  \n",
            "  inflating: Images/3535284878_f90f10236e.jpg  \n",
            "  inflating: Images/3535304540_0247e8cf8c.jpg  \n",
            "  inflating: Images/3535372414_4c51c86fc4.jpg  \n",
            "  inflating: Images/3535664885_c848c0faee.jpg  \n",
            "  inflating: Images/3535768334_a3924bcccd.jpg  \n",
            "  inflating: Images/3535879138_9281dc83d5.jpg  \n",
            "  inflating: Images/3536561454_e75993d903.jpg  \n",
            "  inflating: Images/3537201804_ce07aff237.jpg  \n",
            "  inflating: Images/3537218226_478d2e4f26.jpg  \n",
            "  inflating: Images/3537400880_8f410d747d.jpg  \n",
            "  inflating: Images/3537452619_3bd79f24e0.jpg  \n",
            "  inflating: Images/3537474810_cf676b3259.jpg  \n",
            "  inflating: Images/3537520829_aab733e16c.jpg  \n",
            "  inflating: Images/3537806062_c50d814aba.jpg  \n",
            "  inflating: Images/3537920947_6c5a956f47.jpg  \n",
            "  inflating: Images/3538021517_b930dc76fc.jpg  \n",
            "  inflating: Images/3538213870_9856a76b2a.jpg  \n",
            "  inflating: Images/3538527033_df13112d51.jpg  \n",
            "  inflating: Images/3538686658_30afc75f02.jpg  \n",
            "  inflating: Images/3539767254_c598b8e6c7.jpg  \n",
            "  inflating: Images/3539817989_5353062a39.jpg  \n",
            "  inflating: Images/3539840291_1c3eed701d.jpg  \n",
            "  inflating: Images/3540155303_08225a4567.jpg  \n",
            "  inflating: Images/3540241710_a4f49cde52.jpg  \n",
            "  inflating: Images/3540416139_c884f38351.jpg  \n",
            "  inflating: Images/3540416981_4e74f08cbb.jpg  \n",
            "  inflating: Images/3540515072_8c951b738b.jpg  \n",
            "  inflating: Images/3540598210_972f0ff573.jpg  \n",
            "  inflating: Images/3541141771_67d305c873.jpg  \n",
            "  inflating: Images/3541162969_68fa4a60df.jpg  \n",
            "  inflating: Images/3541474181_489f19fae7.jpg  \n",
            "  inflating: Images/3541483943_9776baee7c.jpg  \n",
            "  inflating: Images/3541491057_61a49588d9.jpg  \n",
            "  inflating: Images/3541915243_956c1aa8ef.jpg  \n",
            "  inflating: Images/3541962817_78bcd3835b.jpg  \n",
            "  inflating: Images/3542341321_faa2d2d48a.jpg  \n",
            "  inflating: Images/3542418447_7c337360d6.jpg  \n",
            "  inflating: Images/3542425197_2ef81c6051.jpg  \n",
            "  inflating: Images/3542484764_77d8920ec9.jpg  \n",
            "  inflating: Images/3542771548_fcb8fa0cba.jpg  \n",
            "  inflating: Images/3543294190_0037c59607.jpg  \n",
            "  inflating: Images/3543378438_47e2712486.jpg  \n",
            "  inflating: Images/3543600125_223747ef4c.jpg  \n",
            "  inflating: Images/3544233095_4bca71df1d.jpg  \n",
            "  inflating: Images/3544312930_3a0b8d70c1.jpg  \n",
            "  inflating: Images/3544483327_830349e7bc.jpg  \n",
            "  inflating: Images/3544573946_e03aebbfde.jpg  \n",
            "  inflating: Images/3544669026_1b5c0e6316.jpg  \n",
            "  inflating: Images/3544673666_ffc7483c96.jpg  \n",
            "  inflating: Images/3544793763_b38546a5e8.jpg  \n",
            "  inflating: Images/3544803461_a418ca611e.jpg  \n",
            "  inflating: Images/3545427060_c16a8b7dfd.jpg  \n",
            "  inflating: Images/3545586120_283d728a97.jpg  \n",
            "  inflating: Images/3545652636_0746537307.jpg  \n",
            "  inflating: Images/3545779287_8f52e06909.jpg  \n",
            "  inflating: Images/3545793128_af3af544dc.jpg  \n",
            "  inflating: Images/3546027589_253553252a.jpg  \n",
            "  inflating: Images/354642192_3b7666a2dd.jpg  \n",
            "  inflating: Images/3546474710_903c3c9fd3.jpg  \n",
            "  inflating: Images/3546720729_38fff1bbd9.jpg  \n",
            "  inflating: Images/3546891929_f31a99cd0d.jpg  \n",
            "  inflating: Images/3547000169_40191e02ca.jpg  \n",
            "  inflating: Images/3547313700_39368b9a2f.jpg  \n",
            "  inflating: Images/3547368652_0d85c665d3.jpg  \n",
            "  inflating: Images/3547499166_67fb4af4ea.jpg  \n",
            "  inflating: Images/3547524138_4157f660b0.jpg  \n",
            "  inflating: Images/3547600292_6f8aac7f2e.jpg  \n",
            "  inflating: Images/3547647914_4dd56a8c1b.jpg  \n",
            "  inflating: Images/3547704737_57d42d5d9d.jpg  \n",
            "  inflating: Images/3548191125_514f47e493.jpg  \n",
            "  inflating: Images/3549006919_3604bc813e.jpg  \n",
            "  inflating: Images/3549011001_26cace3646.jpg  \n",
            "  inflating: Images/3549140234_e99b07c739.jpg  \n",
            "  inflating: Images/3549277110_24d4064ccd.jpg  \n",
            "  inflating: Images/3549408779_4d453db080.jpg  \n",
            "  inflating: Images/3549464203_8ab9c6160b.jpg  \n",
            "  inflating: Images/3549583146_3e8bb2f7e9.jpg  \n",
            "  inflating: Images/3549614763_42f34f3d1e.jpg  \n",
            "  inflating: Images/3549673305_4dfd44e04a.jpg  \n",
            "  inflating: Images/354999632_915ea81e53.jpg  \n",
            "  inflating: Images/3549997413_01388dece0.jpg  \n",
            "  inflating: Images/3550253365_27d4c303cf.jpg  \n",
            "  inflating: Images/3550255426_4ab03c0d6e.jpg  \n",
            "  inflating: Images/3550276904_19de3561c5.jpg  \n",
            "  inflating: Images/3550459890_161f436c8d.jpg  \n",
            "  inflating: Images/35506150_cbdb630f4f.jpg  \n",
            "  inflating: Images/3550763985_800cfee7e4.jpg  \n",
            "  inflating: Images/3551003620_0b02d76f65.jpg  \n",
            "  inflating: Images/3551170666_01df31412d.jpg  \n",
            "  inflating: Images/3551281733_b43bf6f870.jpg  \n",
            "  inflating: Images/3551447084_becc6a4666.jpg  \n",
            "  inflating: Images/3551787566_b5ebbe2440.jpg  \n",
            "  inflating: Images/3552206648_123bf4ac82.jpg  \n",
            "  inflating: Images/3552435734_04da83b905.jpg  \n",
            "  inflating: Images/3552796830_2dd2aa9c2c.jpg  \n",
            "  inflating: Images/3553056438_4e611a7a2a.jpg  \n",
            "  inflating: Images/3553225222_f5ebe44af1.jpg  \n",
            "  inflating: Images/3553374585_25b1bd6970.jpg  \n",
            "  inflating: Images/3553476195_fb3747d7c1.jpg  \n",
            "  inflating: Images/3554210976_fbd0ef33a3.jpg  \n",
            "  inflating: Images/3554634863_5f6f616639.jpg  \n",
            "  inflating: Images/3555231025_73fa54fa29.jpg  \n",
            "  inflating: Images/3555573680_41c1540a86.jpg  \n",
            "  inflating: Images/3555729342_cc7a3b67fd.jpg  \n",
            "  inflating: Images/3556037801_3992ce6826.jpg  \n",
            "  inflating: Images/3556390715_65c6d1e88b.jpg  \n",
            "  inflating: Images/3556485995_9cd40269e9.jpg  \n",
            "  inflating: Images/3556571710_19cee6f5bd.jpg  \n",
            "  inflating: Images/3556598205_86c180769d.jpg  \n",
            "  inflating: Images/3556792157_d09d42bef7.jpg  \n",
            "  inflating: Images/3557148230_7fc843e5de.jpg  \n",
            "  inflating: Images/3557295488_600d387347.jpg  \n",
            "  inflating: Images/3557316485_574a5f7a89.jpg  \n",
            "  inflating: Images/3557324238_6ba58831d9.jpg  \n",
            "  inflating: Images/3558251719_3af5ae2d02.jpg  \n",
            "  inflating: Images/3558370311_5734a15890.jpg  \n",
            "  inflating: Images/3558438174_d8f41438a4.jpg  \n",
            "  inflating: Images/3558683579_8fb36b55a6.jpg  \n",
            "  inflating: Images/3558796959_fc4450be56.jpg  \n",
            "  inflating: Images/3559374748_f18c7caa55.jpg  \n",
            "  inflating: Images/3559425864_0462d7613f.jpg  \n",
            "  inflating: Images/3559429170_3183c404b9.jpg  \n",
            "  inflating: Images/3559781965_d4ec00e506.jpg  \n",
            "  inflating: Images/3559993787_c49644dcc5.jpg  \n",
            "  inflating: Images/3560081723_62da0035bd.jpg  \n",
            "  inflating: Images/3560125106_691c292893.jpg  \n",
            "  inflating: Images/3560726559_4c4bed9f2d.jpg  \n",
            "  inflating: Images/3560771491_2a18b6241e.jpg  \n",
            "  inflating: Images/3560891822_7d4c1e3580.jpg  \n",
            "  inflating: Images/3560977956_e08d2cd531.jpg  \n",
            "  inflating: Images/3561130207_d1ed166daa.jpg  \n",
            "  inflating: Images/3561314880_ea9a7e245f.jpg  \n",
            "  inflating: Images/3561433412_3985208d53.jpg  \n",
            "  inflating: Images/356143774_ef3e93eede.jpg  \n",
            "  inflating: Images/3561537309_e271d57492.jpg  \n",
            "  inflating: Images/3561543598_3c1b572f9b.jpg  \n",
            "  inflating: Images/3561639055_5ac66ae92f.jpg  \n",
            "  inflating: Images/3561734666_344f260cce.jpg  \n",
            "  inflating: Images/3562001359_65c63aeda3.jpg  \n",
            "  inflating: Images/3562050678_4196a7fff3.jpg  \n",
            "  inflating: Images/3562169000_6aa7f1043d.jpg  \n",
            "  inflating: Images/3562282690_cd2a95fe9e.jpg  \n",
            "  inflating: Images/3562302012_0cbcd01ff9.jpg  \n",
            "  inflating: Images/3562470436_6e193643ce.jpg  \n",
            "  inflating: Images/3562816250_6e14d436b1.jpg  \n",
            "  inflating: Images/3562903245_85071bb5f9.jpg  \n",
            "  inflating: Images/3563059800_c073081ce3.jpg  \n",
            "  inflating: Images/3563461991_de05537878.jpg  \n",
            "  inflating: Images/3563668905_689ed479c5.jpg  \n",
            "  inflating: Images/3563673070_71fa0903ed.jpg  \n",
            "  inflating: Images/3563871276_c8b2a00df5.jpg  \n",
            "  inflating: Images/3563924606_5914392cd8.jpg  \n",
            "  inflating: Images/3564007203_df2b8010f1.jpg  \n",
            "  inflating: Images/3564148252_aa4cb36a32.jpg  \n",
            "  inflating: Images/3564157681_03a13b7112.jpg  \n",
            "  inflating: Images/3564312955_716e86c48b.jpg  \n",
            "  inflating: Images/3564385317_1bf5094068.jpg  \n",
            "  inflating: Images/3564436847_57825db87d.jpg  \n",
            "  inflating: Images/3564543247_05cdbc31cf.jpg  \n",
            "  inflating: Images/3564738125_10400f69c0.jpg  \n",
            "  inflating: Images/3564742915_5f940b95b4.jpg  \n",
            "  inflating: Images/3564907603_14ccc655f1.jpg  \n",
            "  inflating: Images/3565021218_d2bc1aa644.jpg  \n",
            "  inflating: Images/3565598162_56044bc2f7.jpg  \n",
            "  inflating: Images/3565654691_22b97d3994.jpg  \n",
            "  inflating: Images/3565655045_8eb00b7423.jpg  \n",
            "  inflating: Images/3565749152_7924d15b04.jpg  \n",
            "  inflating: Images/3566111626_9a35a7b2c0.jpg  \n",
            "  inflating: Images/3566225740_375fc15dde.jpg  \n",
            "  inflating: Images/3567061016_62768dcce1.jpg  \n",
            "  inflating: Images/3567214106_6ece483f8b.jpg  \n",
            "  inflating: Images/3567604049_da9e1be4ba.jpg  \n",
            "  inflating: Images/3568065409_1c381aa854.jpg  \n",
            "  inflating: Images/3568197730_a071d7595b.jpg  \n",
            "  inflating: Images/3568219100_dfbffddccd.jpg  \n",
            "  inflating: Images/3568225554_73cdb19576.jpg  \n",
            "  inflating: Images/3568505408_4e30def669.jpg  \n",
            "  inflating: Images/3568605391_54ec367d88.jpg  \n",
            "  inflating: Images/3569126684_a68b29a57f.jpg  \n",
            "  inflating: Images/3569284680_44fef444ef.jpg  \n",
            "  inflating: Images/356929855_6bbf33d933.jpg  \n",
            "  inflating: Images/3569329986_1f468729b2.jpg  \n",
            "  inflating: Images/3569406219_f37ebf7b92.jpg  \n",
            "  inflating: Images/3569420080_72fbe84751.jpg  \n",
            "  inflating: Images/3569667295_6e51db08ef.jpg  \n",
            "  inflating: Images/3569755200_cef7ee2233.jpg  \n",
            "  inflating: Images/3569979711_6507841268.jpg  \n",
            "  inflating: Images/3570800810_978c993133.jpg  \n",
            "  inflating: Images/3571039224_b34fa2f94c.jpg  \n",
            "  inflating: Images/3571147934_d1c8af1d6e.jpg  \n",
            "  inflating: Images/3571193625_835da90c5e.jpg  \n",
            "  inflating: Images/3571675421_7e07ac07c5.jpg  \n",
            "  inflating: Images/357191373_a1cb5696e8.jpg  \n",
            "  inflating: Images/3572144280_ea42bbd927.jpg  \n",
            "  inflating: Images/3572267708_9d8a81d4a4.jpg  \n",
            "  inflating: Images/3572346664_e1e6c77f11.jpg  \n",
            "  inflating: Images/3572942419_16ebdc3d46.jpg  \n",
            "  inflating: Images/3573202338_f43dd22d28.jpg  \n",
            "  inflating: Images/3573436368_78f0ccdf01.jpg  \n",
            "  inflating: Images/3574244361_715ac347cd.jpg  \n",
            "  inflating: Images/3574627719_790325430e.jpg  \n",
            "  inflating: Images/3574930742_9081bd2426.jpg  \n",
            "  inflating: Images/3576060775_d9121519cc.jpg  \n",
            "  inflating: Images/3576250302_14779632bd.jpg  \n",
            "  inflating: Images/3576259024_9c05b163aa.jpg  \n",
            "  inflating: Images/3576312396_799c873f3e.jpg  \n",
            "  inflating: Images/3576536763_3c8c4f232e.jpg  \n",
            "  inflating: Images/3576741633_671340544c.jpg  \n",
            "  inflating: Images/3576840040_9356b5b10a.jpg  \n",
            "  inflating: Images/3577235421_69e4efb8d1.jpg  \n",
            "  inflating: Images/357725852_6f55cb9abc.jpg  \n",
            "  inflating: Images/3577309234_c952c2af86.jpg  \n",
            "  inflating: Images/3578068665_87bdacef6a.jpg  \n",
            "  inflating: Images/3578372039_57473f473c.jpg  \n",
            "  inflating: Images/3578477508_b7d839da16.jpg  \n",
            "  inflating: Images/3578841731_f775cab089.jpg  \n",
            "  inflating: Images/3578914491_36019ba703.jpg  \n",
            "  inflating: Images/3578981202_efef47e264.jpg  \n",
            "  inflating: Images/3579686259_b1fe6aefc9.jpg  \n",
            "  inflating: Images/3579842996_3a62ec1bc7.jpg  \n",
            "  inflating: Images/3580082200_ea10bf2f68.jpg  \n",
            "  inflating: Images/3580375310_46ec3e476c.jpg  \n",
            "  inflating: Images/3580741947_cc64a83648.jpg  \n",
            "  inflating: Images/358114269_96fdb5f7c3.jpg  \n",
            "  inflating: Images/3581451227_618854cea4.jpg  \n",
            "  inflating: Images/3581538034_783b7d0d09.jpg  \n",
            "  inflating: Images/3581818450_546c89ca38.jpg  \n",
            "  inflating: Images/3582048078_7bac2d8473.jpg  \n",
            "  inflating: Images/3582066525_e9d6377f56.jpg  \n",
            "  inflating: Images/3582465732_78f77f34ae.jpg  \n",
            "  inflating: Images/3582685410_05315a15b8.jpg  \n",
            "  inflating: Images/3582689770_e57ab56671.jpg  \n",
            "  inflating: Images/3582742297_1daa29968e.jpg  \n",
            "  inflating: Images/3582814058_564776f26c.jpg  \n",
            "  inflating: Images/3582914739_bef2828a06.jpg  \n",
            "  inflating: Images/3582914905_f58db879ae.jpg  \n",
            "  inflating: Images/3582920844_2742804f3d.jpg  \n",
            "  inflating: Images/3583065748_7d149a865c.jpg  \n",
            "  inflating: Images/3583293892_c96af8cd98.jpg  \n",
            "  inflating: Images/3583321426_f373c52161.jpg  \n",
            "  inflating: Images/3583516290_1c87a13770.jpg  \n",
            "  inflating: Images/3583704941_611353857e.jpg  \n",
            "  inflating: Images/3583903436_028b06c489.jpg  \n",
            "  inflating: Images/3584196366_a4b43d6644.jpg  \n",
            "  inflating: Images/3584406900_039f30b34c.jpg  \n",
            "  inflating: Images/3584534971_b44f82c4b9.jpg  \n",
            "  inflating: Images/3584561689_b6eb24dd70.jpg  \n",
            "  inflating: Images/3584603849_6cfd9af7dd.jpg  \n",
            "  inflating: Images/3584829998_25e59fdef3.jpg  \n",
            "  inflating: Images/3584930205_a3f58a4b7c.jpg  \n",
            "  inflating: Images/3585117340_73e96b6173.jpg  \n",
            "  inflating: Images/3585123310_9a8e94bd2b.jpg  \n",
            "  inflating: Images/3585487286_ef9a8d4c56.jpg  \n",
            "  inflating: Images/3585488964_1467945775.jpg  \n",
            "  inflating: Images/3585495069_33cba06d0a.jpg  \n",
            "  inflating: Images/3585598356_8ce815bbb9.jpg  \n",
            "  inflating: Images/358559906_d5f3f584f4.jpg  \n",
            "  inflating: Images/358607894_5abb1250d3.jpg  \n",
            "  inflating: Images/3586239953_da4fb3f775.jpg  \n",
            "  inflating: Images/3587009091_37188fd07e.jpg  \n",
            "  inflating: Images/3587077732_0933f1677b.jpg  \n",
            "  inflating: Images/3587092143_c63030ed6d.jpg  \n",
            "  inflating: Images/3587449716_3bf1552c36.jpg  \n",
            "  inflating: Images/3587596696_9c5964c94d.jpg  \n",
            "  inflating: Images/3587781729_bd21ce7b11.jpg  \n",
            "  inflating: Images/3587941206_36769c3f1d.jpg  \n",
            "  inflating: Images/3588417747_b152a51c52.jpg  \n",
            "  inflating: Images/358875403_f357f03713.jpg  \n",
            "  inflating: Images/3589052481_059e5e2c37.jpg  \n",
            "  inflating: Images/3589156060_3ed8d6bbc3.jpg  \n",
            "  inflating: Images/3589267801_5a222e3a60.jpg  \n",
            "  inflating: Images/3589367895_5d3729e3ea.jpg  \n",
            "  inflating: Images/3589368949_0866846949.jpg  \n",
            "  inflating: Images/3589895574_ee08207d26.jpg  \n",
            "  inflating: Images/3590294974_4ef98f013e.jpg  \n",
            "  inflating: Images/3590557969_d0270d518b.jpg  \n",
            "  inflating: Images/3590593467_be497a6139.jpg  \n",
            "  inflating: Images/3590647207_2d4ec3f52c.jpg  \n",
            "  inflating: Images/3590653633_495de5f288.jpg  \n",
            "  inflating: Images/3590654365_fd4819f48b.jpg  \n",
            "  inflating: Images/3590739067_58baffb3a7.jpg  \n",
            "  inflating: Images/3590753142_61993d39df.jpg  \n",
            "  inflating: Images/359082432_c1fd5aa2d6.jpg  \n",
            "  inflating: Images/3591094476_b61acd63d6.jpg  \n",
            "  inflating: Images/3591170729_406fdb74e5.jpg  \n",
            "  inflating: Images/3591457224_88281dd04f.jpg  \n",
            "  inflating: Images/3591458156_f1a9a33918.jpg  \n",
            "  inflating: Images/3591461782_687e320042.jpg  \n",
            "  inflating: Images/3591462960_86045906bd.jpg  \n",
            "  inflating: Images/359173181_a75c950aeb.jpg  \n",
            "  inflating: Images/3592968286_b63c81bcd2.jpg  \n",
            "  inflating: Images/3592992234_6d3fe58a70.jpg  \n",
            "  inflating: Images/3593220756_5c416c3ceb.jpg  \n",
            "  inflating: Images/3593222804_c187808ac3.jpg  \n",
            "  inflating: Images/3593392955_a4125087f6.jpg  \n",
            "  inflating: Images/3593538248_dffa1a5ed4.jpg  \n",
            "  inflating: Images/3593556797_46b49a02a8.jpg  \n",
            "  inflating: Images/3594029059_cee1f4c59a.jpg  \n",
            "  inflating: Images/3594566537_55bd712fdb.jpg  \n",
            "  inflating: Images/3594822096_e1144b85d6.jpg  \n",
            "  inflating: Images/3595080592_5fd55570e5.jpg  \n",
            "  inflating: Images/3595216998_0a19efebd0.jpg  \n",
            "  inflating: Images/3595398879_13e33b8916.jpg  \n",
            "  inflating: Images/3595408539_a7d8aabc24.jpg  \n",
            "  inflating: Images/3595412126_4020d4643b.jpg  \n",
            "  inflating: Images/3595643050_d312e4b652.jpg  \n",
            "  inflating: Images/3595992258_6f192e6ae7.jpg  \n",
            "  inflating: Images/3596131692_91b8a05606.jpg  \n",
            "  inflating: Images/3596428453_8cfdec4869.jpg  \n",
            "  inflating: Images/3596459539_a47aa80612.jpg  \n",
            "  inflating: Images/3596959859_a7cb1e194b.jpg  \n",
            "  inflating: Images/3597146852_3d000a5d5f.jpg  \n",
            "  inflating: Images/3597210806_95b07bb968.jpg  \n",
            "  inflating: Images/3597326009_3678a98a43.jpg  \n",
            "  inflating: Images/3597354819_0069aaf16e.jpg  \n",
            "  inflating: Images/3597715122_45878432ec.jpg  \n",
            "  inflating: Images/3597921737_3fd1d0665b.jpg  \n",
            "  inflating: Images/3597924257_d0da3c5fe6.jpg  \n",
            "  inflating: Images/359837950_9e22ffe6c2.jpg  \n",
            "  inflating: Images/3598447435_f66cd10bd6.jpg  \n",
            "  inflating: Images/3599124739_b7e60cf477.jpg  \n",
            "  inflating: Images/3599392711_8264881de2.jpg  \n",
            "  inflating: Images/3599442049_e448c7c9b2.jpg  \n",
            "  inflating: Images/3599568766_9e96def0ef.jpg  \n",
            "  inflating: Images/3600221224_945df01247.jpg  \n",
            "  inflating: Images/3600403707_527aa0596e.jpg  \n",
            "  inflating: Images/3600909823_ce72c26e66.jpg  \n",
            "  inflating: Images/3601491447_a338875b51.jpg  \n",
            "  inflating: Images/3601508034_5a3bfc905e.jpg  \n",
            "  inflating: Images/3601533527_6c2439113c.jpg  \n",
            "  inflating: Images/3601569729_bf4bf82768.jpg  \n",
            "  inflating: Images/3601803640_5f3cb05acf.jpg  \n",
            "  inflating: Images/3601843201_4809e66909.jpg  \n",
            "  inflating: Images/3601978895_9fec23ce0c.jpg  \n",
            "  inflating: Images/3602676311_824b2c04ba.jpg  \n",
            "  inflating: Images/3602838407_bf13e49243.jpg  \n",
            "  inflating: Images/3603064161_a8f3b6455d.jpg  \n",
            "  inflating: Images/3603116579_4a28a932e2.jpg  \n",
            "  inflating: Images/3603301825_5817727be2.jpg  \n",
            "  inflating: Images/3603870481_1ebc696d91.jpg  \n",
            "  inflating: Images/3604314527_5077cd9d43.jpg  \n",
            "  inflating: Images/3604383863_5e387cb8e6.jpg  \n",
            "  inflating: Images/3604384157_99241be16e.jpg  \n",
            "  inflating: Images/3604384383_db6805d1b9.jpg  \n",
            "  inflating: Images/3604391853_b4809fcb8c.jpg  \n",
            "  inflating: Images/3604496023_c1f546423e.jpg  \n",
            "  inflating: Images/3604928725_58147c87cd.jpg  \n",
            "  inflating: Images/3605061440_1d08c80a57.jpg  \n",
            "  inflating: Images/3605100550_01214a1224.jpg  \n",
            "  inflating: Images/3605676864_0fb491267e.jpg  \n",
            "  inflating: Images/3606084228_6286a52875.jpg  \n",
            "  inflating: Images/3606093421_eddd46c2c7.jpg  \n",
            "  inflating: Images/3606355203_1260f43ec0.jpg  \n",
            "  inflating: Images/3606846822_28c40b933a.jpg  \n",
            "  inflating: Images/3606909929_90a1a072b7.jpg  \n",
            "  inflating: Images/3606942887_1159d92548.jpg  \n",
            "  inflating: Images/360723732_23199af4bf.jpg  \n",
            "  inflating: Images/3607405494_0df89110a6.jpg  \n",
            "  inflating: Images/3607489370_92683861f7.jpg  \n",
            "  inflating: Images/3607969989_68cc411493.jpg  \n",
            "  inflating: Images/3608400551_d6f7965308.jpg  \n",
            "  inflating: Images/3608567609_aae96d4a5e.jpg  \n",
            "  inflating: Images/3608663656_9192a21eeb.jpg  \n",
            "  inflating: Images/3608752424_01a1cfd8a6.jpg  \n",
            "  inflating: Images/3608849440_e7d2bed29f.jpg  \n",
            "  inflating: Images/3609026563_9c66f2dc41.jpg  \n",
            "  inflating: Images/3609027309_af75f773d9.jpg  \n",
            "  inflating: Images/3609032038_005c789f64.jpg  \n",
            "  inflating: Images/3609645320_815c294b65.jpg  \n",
            "  inflating: Images/3609952704_3719ab0524.jpg  \n",
            "  inflating: Images/3609999845_faf5d2fe74.jpg  \n",
            "  inflating: Images/3610189629_f46de92ab3.jpg  \n",
            "  inflating: Images/3610683688_bbe6d725ed.jpg  \n",
            "  inflating: Images/3610687607_895fdc94bd.jpg  \n",
            "  inflating: Images/3610836023_3a972b10b0.jpg  \n",
            "  inflating: Images/361092202_3d70144ebd.jpg  \n",
            "  inflating: Images/3611603026_9112b0c53f.jpg  \n",
            "  inflating: Images/3611672054_45edd3e08f.jpg  \n",
            "  inflating: Images/361183669_52be9662b9.jpg  \n",
            "  inflating: Images/3612249030_e2829ffa31.jpg  \n",
            "  inflating: Images/3612484827_0e479f9ee8.jpg  \n",
            "  inflating: Images/3612485097_b706d950ed.jpg  \n",
            "  inflating: Images/3612485611_12dd7742f7.jpg  \n",
            "  inflating: Images/3612538549_2828b45867.jpg  \n",
            "  inflating: Images/3612825666_54f5a2bc06.jpg  \n",
            "  inflating: Images/3613005134_bb7f304da1.jpg  \n",
            "  inflating: Images/3613027188_1645ca1976.jpg  \n",
            "  inflating: Images/3613030730_0b28b079ba.jpg  \n",
            "  inflating: Images/3613175012_bcd063e7c9.jpg  \n",
            "  inflating: Images/3613242966_a1c63a0174.jpg  \n",
            "  inflating: Images/3613264553_97b687f172.jpg  \n",
            "  inflating: Images/3613323772_d15cef66d1.jpg  \n",
            "  inflating: Images/3613375729_d0b3c41556.jpg  \n",
            "  inflating: Images/3613424631_3ae537624f.jpg  \n",
            "  inflating: Images/3613585080_36629d8157.jpg  \n",
            "  inflating: Images/3613667665_1881c689ea.jpg  \n",
            "  inflating: Images/3613705104_46d854134e.jpg  \n",
            "  inflating: Images/3613800013_5a54968ab0.jpg  \n",
            "  inflating: Images/3613955682_3860e116cf.jpg  \n",
            "  inflating: Images/3614542901_29877fc342.jpg  \n",
            "  inflating: Images/3614582606_16bd88dab2.jpg  \n",
            "  inflating: Images/3614595423_f9e0ab4fb0.jpg  \n",
            "  inflating: Images/3614881872_ccf9739b0e.jpg  \n",
            "  inflating: Images/3615239961_62b4dbc174.jpg  \n",
            "  inflating: Images/3615730936_23457575e9.jpg  \n",
            "  inflating: Images/3616525288_9c19223de6.jpg  \n",
            "  inflating: Images/3616638478_641d02183d.jpg  \n",
            "  inflating: Images/3616771728_2c16bf8d85.jpg  \n",
            "  inflating: Images/3616808182_fb4eaec778.jpg  \n",
            "  inflating: Images/3616846215_d61881b60f.jpg  \n",
            "  inflating: Images/3618115051_41b5a7706c.jpg  \n",
            "  inflating: Images/3618504267_d7eaa495d0.jpg  \n",
            "  inflating: Images/3618525295_d32d634b2e.jpg  \n",
            "  inflating: Images/3618908551_7fd2de5710.jpg  \n",
            "  inflating: Images/3618932839_acd7d2c2ea.jpg  \n",
            "  inflating: Images/3619232550_0b1e1fd4e4.jpg  \n",
            "  inflating: Images/3619381206_5bc8b406f9.jpg  \n",
            "  inflating: Images/3619416477_9d18580a14.jpg  \n",
            "  inflating: Images/3619630328_2d0865b6f4.jpg  \n",
            "  inflating: Images/3619806638_7480883039.jpg  \n",
            "  inflating: Images/3620343911_64a862904e.jpg  \n",
            "  inflating: Images/3620492762_7f6a9b4746.jpg  \n",
            "  inflating: Images/3621177753_1718c30ea0.jpg  \n",
            "  inflating: Images/3621329299_6fb3f2935c.jpg  \n",
            "  inflating: Images/3621623690_0095e330bc.jpg  \n",
            "  inflating: Images/3621647714_fc67ab2617.jpg  \n",
            "  inflating: Images/3621649810_cca783b777.jpg  \n",
            "  inflating: Images/3621652774_fd9634bd5b.jpg  \n",
            "  inflating: Images/3621717946_d96f8a6012.jpg  \n",
            "  inflating: Images/3621741935_54d243f25f.jpg  \n",
            "  inflating: Images/3622216490_1314a58b66.jpg  \n",
            "  inflating: Images/3622929632_26fb800000.jpg  \n",
            "  inflating: Images/362316425_bda238b4de.jpg  \n",
            "  inflating: Images/3623302162_099f983d58.jpg  \n",
            "  inflating: Images/3623331945_df0f51d7dd.jpg  \n",
            "  inflating: Images/3623650392_7b75d4de21.jpg  \n",
            "  inflating: Images/3624076529_9793655a21.jpg  \n",
            "  inflating: Images/3624327440_bef4f33f32.jpg  \n",
            "  inflating: Images/3624676866_8f6d0efcc9.jpg  \n",
            "  inflating: Images/3625049113_554d82c2a1.jpg  \n",
            "  inflating: Images/3625519177_4c2bb9e7f0.jpg  \n",
            "  inflating: Images/3625957413_e475943aa3.jpg  \n",
            "  inflating: Images/3626475209_f71cdd06bd.jpg  \n",
            "  inflating: Images/3626642428_3396568c3c.jpg  \n",
            "  inflating: Images/3626689571_5817f99c0e.jpg  \n",
            "  inflating: Images/3626964430_cb5c7e5acc.jpg  \n",
            "  inflating: Images/3626998066_3ae11ee278.jpg  \n",
            "  inflating: Images/3627011534_485f667b10.jpg  \n",
            "  inflating: Images/3627076769_3b71e73018.jpg  \n",
            "  inflating: Images/3627216820_4952bacbcb.jpg  \n",
            "  inflating: Images/3627290893_561e176e80.jpg  \n",
            "  inflating: Images/3627676364_1dc9294ec5.jpg  \n",
            "  inflating: Images/3627679667_0e3de9fc90.jpg  \n",
            "  inflating: Images/3628017876_4ac27e687b.jpg  \n",
            "  inflating: Images/3628043835_9d9bd595a7.jpg  \n",
            "  inflating: Images/3628059004_5c3529b120.jpg  \n",
            "  inflating: Images/3628103548_2708abcda2.jpg  \n",
            "  inflating: Images/3628698119_5566769777.jpg  \n",
            "  inflating: Images/3628994466_a12065d29b.jpg  \n",
            "  inflating: Images/3629492654_619d7b67ee.jpg  \n",
            "  inflating: Images/3629664676_36bcefe6b7.jpg  \n",
            "  inflating: Images/3630102841_b4c3e00b2c.jpg  \n",
            "  inflating: Images/3630332976_fdba22c50b.jpg  \n",
            "  inflating: Images/3630641436_8f9ac5b9b2.jpg  \n",
            "  inflating: Images/3630991662_990f397f7c.jpg  \n",
            "  inflating: Images/3631023049_8a85bab19f.jpg  \n",
            "  inflating: Images/3631136463_53ff624b82.jpg  \n",
            "  inflating: Images/3631344685_ed0f3e091b.jpg  \n",
            "  inflating: Images/3631474374_e40764d153.jpg  \n",
            "  inflating: Images/3631671718_d712821757.jpg  \n",
            "  inflating: Images/3631810528_7233c0f421.jpg  \n",
            "  inflating: Images/3631986552_944ea208fc.jpg  \n",
            "  inflating: Images/3632047678_f202609e50.jpg  \n",
            "  inflating: Images/3632197966_0c5061025f.jpg  \n",
            "  inflating: Images/3632225464_612d7b4c0f.jpg  \n",
            "  inflating: Images/3632258003_6a0a69bf3a.jpg  \n",
            "  inflating: Images/3632572264_577703b384.jpg  \n",
            "  inflating: Images/3632842482_482f29e712.jpg  \n",
            "  inflating: Images/3633396324_c4b24b1f51.jpg  \n",
            "  inflating: Images/3634032601_2236676cdd.jpg  \n",
            "  inflating: Images/3634281981_d9cf1d1a33.jpg  \n",
            "  inflating: Images/3634400263_c6fcaa48e1.jpg  \n",
            "  inflating: Images/3634785801_4b23184a06.jpg  \n",
            "  inflating: Images/3634828052_3b6aeda7d6.jpg  \n",
            "  inflating: Images/3635177305_bfbe1fc348.jpg  \n",
            "  inflating: Images/3635194562_4c1dfa120a.jpg  \n",
            "  inflating: Images/3635577874_48ebaac734.jpg  \n",
            "  inflating: Images/3635911776_dbc2763f2c.jpg  \n",
            "  inflating: Images/3635991166_f95304af0a.jpg  \n",
            "  inflating: Images/3636055584_65a60426f8.jpg  \n",
            "  inflating: Images/3636126441_5617c89aaa.jpg  \n",
            "  inflating: Images/363617160_6cb0c723be.jpg  \n",
            "  inflating: Images/3636247381_65ccf8f106.jpg  \n",
            "  inflating: Images/3636418958_f038130bb2.jpg  \n",
            "  inflating: Images/3636491114_ab34dac833.jpg  \n",
            "  inflating: Images/3636543173_15f56515e5.jpg  \n",
            "  inflating: Images/3636632926_09f39f2629.jpg  \n",
            "  inflating: Images/3636796219_9916c0465a.jpg  \n",
            "  inflating: Images/3637013_c675de7705.jpg  \n",
            "  inflating: Images/3637966641_1b108a35ba.jpg  \n",
            "  inflating: Images/3638178504_be1ff246bd.jpg  \n",
            "  inflating: Images/3638318149_b60450bfbe.jpg  \n",
            "  inflating: Images/3638374272_444f5e0457.jpg  \n",
            "  inflating: Images/3638440337_6d5c19a8f0.jpg  \n",
            "  inflating: Images/3638459638_ec74e3ff89.jpg  \n",
            "  inflating: Images/3638577494_fe55f7b4cb.jpg  \n",
            "  inflating: Images/3638631362_af29bbff01.jpg  \n",
            "  inflating: Images/3638688673_176f99d7fd.jpg  \n",
            "  inflating: Images/3638783120_f600ceb19d.jpg  \n",
            "  inflating: Images/3638783842_af08dbb518.jpg  \n",
            "  inflating: Images/3638908276_b1751d30ff.jpg  \n",
            "  inflating: Images/3638992163_a085cc0c24.jpg  \n",
            "  inflating: Images/3639105305_bd9cb2d1db.jpg  \n",
            "  inflating: Images/3639363462_bcdb21de29.jpg  \n",
            "  inflating: Images/3639428663_dae5e8146e.jpg  \n",
            "  inflating: Images/3639547922_0b00fed5cd.jpg  \n",
            "  inflating: Images/3639617775_149001232a.jpg  \n",
            "  inflating: Images/3639684919_cb6fbf5638.jpg  \n",
            "  inflating: Images/3639704469_fe83e1c9b7.jpg  \n",
            "  inflating: Images/3639845565_be547c38ba.jpg  \n",
            "  inflating: Images/3639967449_137f48b43d.jpg  \n",
            "  inflating: Images/3640020134_367941f5ec.jpg  \n",
            "  inflating: Images/3640104986_5d8c9a9948.jpg  \n",
            "  inflating: Images/3640109324_3ce89e4d1a.jpg  \n",
            "  inflating: Images/3640241166_b1ab7a8e7a.jpg  \n",
            "  inflating: Images/3640329164_20cb245fd5.jpg  \n",
            "  inflating: Images/3640348910_fcd627ec66.jpg  \n",
            "  inflating: Images/3640407952_bb38fb9d55.jpg  \n",
            "  inflating: Images/3640417354_b0b3e4aec9.jpg  \n",
            "  inflating: Images/3640422448_a0f42e4559.jpg  \n",
            "  inflating: Images/3640443200_b8066f37f6.jpg  \n",
            "  inflating: Images/3640661245_c8c419524d.jpg  \n",
            "  inflating: Images/3640743904_d14eea0a0b.jpg  \n",
            "  inflating: Images/3640870001_acbd1d5ceb.jpg  \n",
            "  inflating: Images/3641022607_e7a5455d6c.jpg  \n",
            "  inflating: Images/3641456303_c50c33337b.jpg  \n",
            "  inflating: Images/3641999223_942f8198cc.jpg  \n",
            "  inflating: Images/364213568_7f83e7d144.jpg  \n",
            "  inflating: Images/3642220260_3aa8a52670.jpg  \n",
            "  inflating: Images/36422830_55c844bc2d.jpg  \n",
            "  inflating: Images/3643074723_94d42b7a0c.jpg  \n",
            "  inflating: Images/3643087589_627a0a9e01.jpg  \n",
            "  inflating: Images/3643684044_a131168127.jpg  \n",
            "  inflating: Images/3643684616_9d2be87a5a.jpg  \n",
            "  inflating: Images/3643684688_2f7157b23d.jpg  \n",
            "  inflating: Images/3644142276_caed26029e.jpg  \n",
            "  inflating: Images/3644941648_012ec87848.jpg  \n",
            "  inflating: Images/3645080830_1d9ee2f50a.jpg  \n",
            "  inflating: Images/3646453252_5ebbbaa6cc.jpg  \n",
            "  inflating: Images/3646820231_2abc736840.jpg  \n",
            "  inflating: Images/3646927481_5e0af1efab.jpg  \n",
            "  inflating: Images/3646970605_d25c25340b.jpg  \n",
            "  inflating: Images/3647170476_0fd71a4c9f.jpg  \n",
            "  inflating: Images/3647283075_3005333222.jpg  \n",
            "  inflating: Images/3647446816_bd4383c828.jpg  \n",
            "  inflating: Images/3647693147_0d0434351b.jpg  \n",
            "  inflating: Images/3647750811_395fbd397e.jpg  \n",
            "  inflating: Images/3647826834_dc63e21bd0.jpg  \n",
            "  inflating: Images/3648081498_76ec091495.jpg  \n",
            "  inflating: Images/3648097366_706c8a57a1.jpg  \n",
            "  inflating: Images/3648160673_0c783236a6.jpg  \n",
            "  inflating: Images/3648988742_888a16f600.jpg  \n",
            "  inflating: Images/3649224118_abe73c672c.jpg  \n",
            "  inflating: Images/3649307685_60c1294d2a.jpg  \n",
            "  inflating: Images/3649382413_58a4b1efe8.jpg  \n",
            "  inflating: Images/3649384501_f1e06c58c0.jpg  \n",
            "  inflating: Images/3649387275_75295baa28.jpg  \n",
            "  inflating: Images/3649802021_8a689bc153.jpg  \n",
            "  inflating: Images/3649916507_b88a3d2082.jpg  \n",
            "  inflating: Images/3650111717_346804ec2f.jpg  \n",
            "  inflating: Images/3650188378_cc8aea89f0.jpg  \n",
            "  inflating: Images/3650986674_3e101c606b.jpg  \n",
            "  inflating: Images/3651107058_d84d4c3c25.jpg  \n",
            "  inflating: Images/365128300_6966058139.jpg  \n",
            "  inflating: Images/3651476768_2bae721a6b.jpg  \n",
            "  inflating: Images/3651971126_309e6a5e22.jpg  \n",
            "  inflating: Images/3652150541_8fb5a3a5d1.jpg  \n",
            "  inflating: Images/3652572138_34d6b72999.jpg  \n",
            "  inflating: Images/3652584682_5b5c43e445.jpg  \n",
            "  inflating: Images/365274901_576b0f8241.jpg  \n",
            "  inflating: Images/3652764505_87139e71f8.jpg  \n",
            "  inflating: Images/3652859271_908ae0ae89.jpg  \n",
            "  inflating: Images/3653462288_bfe2360a64.jpg  \n",
            "  inflating: Images/3653484549_f316590b0f.jpg  \n",
            "  inflating: Images/3653764864_225958c9c1.jpg  \n",
            "  inflating: Images/3653837067_94050699ec.jpg  \n",
            "  inflating: Images/3654103642_075f8af4f4.jpg  \n",
            "  inflating: Images/3654338683_13b2f95a9a.jpg  \n",
            "  inflating: Images/3654869593_c8599a8e20.jpg  \n",
            "  inflating: Images/3655074079_7df3812bc5.jpg  \n",
            "  inflating: Images/3655155990_b0e201dd3c.jpg  \n",
            "  inflating: Images/3655326478_4472c5c630.jpg  \n",
            "  inflating: Images/3655773435_c234e94820.jpg  \n",
            "  inflating: Images/365584746_681f33fa46.jpg  \n",
            "  inflating: Images/3655964639_21e76383d0.jpg  \n",
            "  inflating: Images/3656030945_fa003bd696.jpg  \n",
            "  inflating: Images/3656104088_a0d1642fa9.jpg  \n",
            "  inflating: Images/3656151153_b4ed5d94c4.jpg  \n",
            "  inflating: Images/3656206975_09e6ce58bd.jpg  \n",
            "  inflating: Images/3656225270_cdf89e3240.jpg  \n",
            "  inflating: Images/3656906086_7034f69ab6.jpg  \n",
            "  inflating: Images/3657016761_d553e514d9.jpg  \n",
            "  inflating: Images/3657209354_cde9bbd2c5.jpg  \n",
            "  inflating: Images/3657503733_9888ccf05e.jpg  \n",
            "  inflating: Images/365759754_6cf7068c9a.jpg  \n",
            "  inflating: Images/3658016590_f761e72dc3.jpg  \n",
            "  inflating: Images/3658427967_6e2e57458d.jpg  \n",
            "  inflating: Images/3658733605_fbcf570843.jpg  \n",
            "  inflating: Images/3659090958_a56913ca68.jpg  \n",
            "  inflating: Images/3659686168_49c3abcee1.jpg  \n",
            "  inflating: Images/3659769138_d907fd9647.jpg  \n",
            "  inflating: Images/3660361818_e05367693f.jpg  \n",
            "  inflating: Images/3660826540_481d25fbb0.jpg  \n",
            "  inflating: Images/3661072592_2e693cd5a0.jpg  \n",
            "  inflating: Images/3661239105_973f8216c4.jpg  \n",
            "  inflating: Images/3661659196_6ed90f96c0.jpg  \n",
            "  inflating: Images/3662406028_29b9e46a6f.jpg  \n",
            "  inflating: Images/3662871327_b128d25f04.jpg  \n",
            "  inflating: Images/3662909101_21b9e59a3e.jpg  \n",
            "  inflating: Images/3662963630_8f097e38d4.jpg  \n",
            "  inflating: Images/3663307538_468739e4c3.jpg  \n",
            "  inflating: Images/3663951804_868982f3f9.jpg  \n",
            "  inflating: Images/3664297064_a4d45cbbbc.jpg  \n",
            "  inflating: Images/3664928753_7b0437fedf.jpg  \n",
            "  inflating: Images/3665169936_01ae94c9fd.jpg  \n",
            "  inflating: Images/3665179773_dd217416fc.jpg  \n",
            "  inflating: Images/366548880_3d3e914746.jpg  \n",
            "  inflating: Images/3665549027_d7fb05d157.jpg  \n",
            "  inflating: Images/3665569615_9a71c4b6e4.jpg  \n",
            "  inflating: Images/3665987581_5e6b0a65f2.jpg  \n",
            "  inflating: Images/3665996775_6d7d9a46f1.jpg  \n",
            "  inflating: Images/3666056567_661e25f54c.jpg  \n",
            "  inflating: Images/3666169738_a8c74cf745.jpg  \n",
            "  inflating: Images/3666188047_e81e1d97a7.jpg  \n",
            "  inflating: Images/3666324102_18ecdf8253.jpg  \n",
            "  inflating: Images/3666537170_c4ecda4be8.jpg  \n",
            "  inflating: Images/3666574371_317b008d2a.jpg  \n",
            "  inflating: Images/366713533_bd6d48cf02.jpg  \n",
            "  inflating: Images/3667157255_4e66d11dc2.jpg  \n",
            "  inflating: Images/3667318593_fa1816b346.jpg  \n",
            "  inflating: Images/3667404919_b273df57e4.jpg  \n",
            "  inflating: Images/3667492609_97f88b373f.jpg  \n",
            "  inflating: Images/3667822570_d39850e217.jpg  \n",
            "  inflating: Images/3667908724_65c7d112f2.jpg  \n",
            "  inflating: Images/3668259129_e073af1533.jpg  \n",
            "  inflating: Images/3668518431_43abb169eb.jpg  \n",
            "  inflating: Images/3668900592_a84b0c07db.jpg  \n",
            "  inflating: Images/3668984985_b60ceb2ae9.jpg  \n",
            "  inflating: Images/3669069522_555c97fbfb.jpg  \n",
            "  inflating: Images/3669564923_8fcb1a6eff.jpg  \n",
            "  inflating: Images/3670075789_92ea9a183a.jpg  \n",
            "  inflating: Images/3670907052_c827593564.jpg  \n",
            "  inflating: Images/3670918456_68631d362a.jpg  \n",
            "  inflating: Images/3671262694_29fbeb9d95.jpg  \n",
            "  inflating: Images/3671777903_6fbf643980.jpg  \n",
            "  inflating: Images/3671851846_60c25269df.jpg  \n",
            "  inflating: Images/3671933270_d124e9a1a4.jpg  \n",
            "  inflating: Images/3671935691_57bdd0e778.jpg  \n",
            "  inflating: Images/3671950830_b570bac1b9.jpg  \n",
            "  inflating: Images/3672057606_cb6393dbd9.jpg  \n",
            "  inflating: Images/3672105509_53b13b2ed4.jpg  \n",
            "  inflating: Images/3672106148_56cfb5fc8d.jpg  \n",
            "  inflating: Images/3672109677_8caa992671.jpg  \n",
            "  inflating: Images/3672940355_47f30e2b28.jpg  \n",
            "  inflating: Images/3672944692_8d24a44fc6.jpg  \n",
            "  inflating: Images/3673032164_6c6843de87.jpg  \n",
            "  inflating: Images/3673035152_da7ed916d9.jpg  \n",
            "  inflating: Images/3673165148_67f217064f.jpg  \n",
            "  inflating: Images/3673484638_dce87295fe.jpg  \n",
            "  inflating: Images/3673878924_506c9d767b.jpg  \n",
            "  inflating: Images/3673970325_4e025069e9.jpg  \n",
            "  inflating: Images/3674168459_6245f4f658.jpg  \n",
            "  inflating: Images/3674521435_89ff681074.jpg  \n",
            "  inflating: Images/3674565156_14d3b41450.jpg  \n",
            "  inflating: Images/3675685612_3987d91d92.jpg  \n",
            "  inflating: Images/3675742996_02ccef16a3.jpg  \n",
            "  inflating: Images/3675825945_96b2916959.jpg  \n",
            "  inflating: Images/3676432043_0ca418b861.jpg  \n",
            "  inflating: Images/3676460610_8c52e8a355.jpg  \n",
            "  inflating: Images/3676561090_9828a9f6d0.jpg  \n",
            "  inflating: Images/367673290_f8799f3a85.jpg  \n",
            "  inflating: Images/3676788491_01e9bc5f15.jpg  \n",
            "  inflating: Images/3677239603_95865a9073.jpg  \n",
            "  inflating: Images/3677302645_8cd3fac70d.jpg  \n",
            "  inflating: Images/3677318686_b018862bb7.jpg  \n",
            "  inflating: Images/3677329561_fa3e1fdcf9.jpg  \n",
            "  inflating: Images/3677514746_26f5588150.jpg  \n",
            "  inflating: Images/3677613006_4689cb8e4e.jpg  \n",
            "  inflating: Images/3677693858_62f2f3163f.jpg  \n",
            "  inflating: Images/3677734351_63d60844cb.jpg  \n",
            "  inflating: Images/3677860841_3aa9d8036c.jpg  \n",
            "  inflating: Images/3677927146_1696f0b075.jpg  \n",
            "  inflating: Images/3677954655_df4c0845aa.jpg  \n",
            "  inflating: Images/3677964239_6406ed096f.jpg  \n",
            "  inflating: Images/3678098428_40c1b74cc2.jpg  \n",
            "  inflating: Images/3678100844_e3a9802471.jpg  \n",
            "  inflating: Images/367925122_335ed279a8.jpg  \n",
            "  inflating: Images/3679341667_936769fd0c.jpg  \n",
            "  inflating: Images/3679405397_bb130ea3c2.jpg  \n",
            "  inflating: Images/3679407035_708774de34.jpg  \n",
            "  inflating: Images/3679502342_7fe6ef8a36.jpg  \n",
            "  inflating: Images/367964525_b1528ac6e4.jpg  \n",
            "  inflating: Images/3679707139_1cc1e71237.jpg  \n",
            "  inflating: Images/3680031186_c3c6698f9d.jpg  \n",
            "  inflating: Images/3680218298_582e6a2289.jpg  \n",
            "  inflating: Images/3681056426_fbd6c0c92c.jpg  \n",
            "  inflating: Images/3681172959_6674c118d2.jpg  \n",
            "  inflating: Images/3681324243_b69fa90842.jpg  \n",
            "  inflating: Images/3681414069_71ba164f71.jpg  \n",
            "  inflating: Images/3681575323_433d007650.jpg  \n",
            "  inflating: Images/3681651647_08eba60f89.jpg  \n",
            "  inflating: Images/3682038869_585075b5ff.jpg  \n",
            "  inflating: Images/368212336_bc19b0bb72.jpg  \n",
            "  inflating: Images/3682277595_55f8b16975.jpg  \n",
            "  inflating: Images/3682428916_69ce66d375.jpg  \n",
            "  inflating: Images/3683185795_704f445bf4.jpg  \n",
            "  inflating: Images/3683592946_262e9bfbfd.jpg  \n",
            "  inflating: Images/3683644335_b70bed1d83.jpg  \n",
            "  inflating: Images/368393384_86defdcde8.jpg  \n",
            "  inflating: Images/3684518763_f3490b647a.jpg  \n",
            "  inflating: Images/3684562647_28dc325522.jpg  \n",
            "  inflating: Images/3684680947_f1c460242f.jpg  \n",
            "  inflating: Images/3685328542_ab999b83bb.jpg  \n",
            "  inflating: Images/3685372942_6ae935b34e.jpg  \n",
            "  inflating: Images/3685373706_37f2ced9ff.jpg  \n",
            "  inflating: Images/3686078365_9e655e238f.jpg  \n",
            "  inflating: Images/3686924335_3c51e8834a.jpg  \n",
            "  inflating: Images/3687062281_e62f70baf3.jpg  \n",
            "  inflating: Images/3687222696_85bf6f78f7.jpg  \n",
            "  inflating: Images/3687995245_624b54090d.jpg  \n",
            "  inflating: Images/3687996279_05b5a2a706.jpg  \n",
            "  inflating: Images/3687996569_99163a41c3.jpg  \n",
            "  inflating: Images/3688005475_d200165cf7.jpg  \n",
            "  inflating: Images/3688797852_89ed3cb056.jpg  \n",
            "  inflating: Images/3688839836_ba5e4c24fc.jpg  \n",
            "  inflating: Images/3688858505_e8afd1475d.jpg  \n",
            "  inflating: Images/3689355450_fd559b816d.jpg  \n",
            "  inflating: Images/368954110_821ccf005c.jpg  \n",
            "  inflating: Images/3689727848_b53f931130.jpg  \n",
            "  inflating: Images/3689975998_72f50b6d91.jpg  \n",
            "  inflating: Images/3690107455_0fdb4ecee7.jpg  \n",
            "  inflating: Images/3690159129_93ba49ea18.jpg  \n",
            "  inflating: Images/3690189273_927d42ff43.jpg  \n",
            "  inflating: Images/3690348036_a01f243fb0.jpg  \n",
            "  inflating: Images/3690425778_3b390b3ea5.jpg  \n",
            "  inflating: Images/3690431163_1d81e19549.jpg  \n",
            "  inflating: Images/369047365_35476becc9.jpg  \n",
            "  inflating: Images/3690883532_d883f34617.jpg  \n",
            "  inflating: Images/3691592651_6e4e7f1da9.jpg  \n",
            "  inflating: Images/3691622437_f13644273c.jpg  \n",
            "  inflating: Images/3691670743_0ed111bcf3.jpg  \n",
            "  inflating: Images/3691729694_2b97f14c1e.jpg  \n",
            "  inflating: Images/3691800116_6a7b315e46.jpg  \n",
            "  inflating: Images/369186134_5eef374112.jpg  \n",
            "  inflating: Images/369244499_752f0c1018.jpg  \n",
            "  inflating: Images/3692593096_fbaea67476.jpg  \n",
            "  inflating: Images/3692746368_ab7d97ab31.jpg  \n",
            "  inflating: Images/3692836015_d11180727b.jpg  \n",
            "  inflating: Images/3692892751_f6574e2700.jpg  \n",
            "  inflating: Images/3693297007_94512e861e.jpg  \n",
            "  inflating: Images/369360998_ba56fb436f.jpg  \n",
            "  inflating: Images/3693961165_9d6c333d5b.jpg  \n",
            "  inflating: Images/3694064560_467683205b.jpg  \n",
            "  inflating: Images/3694071771_ce760db4c7.jpg  \n",
            "  inflating: Images/3694093650_547259731e.jpg  \n",
            "  inflating: Images/3694219419_a7a83d4886.jpg  \n",
            "  inflating: Images/3694555931_7807db2fb4.jpg  \n",
            "  inflating: Images/3694991841_141804da1f.jpg  \n",
            "  inflating: Images/3695064885_a6922f06b2.jpg  \n",
            "  inflating: Images/3695517194_2a6b604cb2.jpg  \n",
            "  inflating: Images/3695949492_27ca3892fd.jpg  \n",
            "  inflating: Images/3696246123_99d4d10140.jpg  \n",
            "  inflating: Images/3696698390_989f1488e7.jpg  \n",
            "  inflating: Images/3697003897_d8ac13be9a.jpg  \n",
            "  inflating: Images/3697153626_90fb177731.jpg  \n",
            "  inflating: Images/3697359692_8a5cdbe4fe.jpg  \n",
            "  inflating: Images/3697378565_7060d9281a.jpg  \n",
            "  inflating: Images/3697379772_40d831392b.jpg  \n",
            "  inflating: Images/3697456750_460aea7252.jpg  \n",
            "  inflating: Images/3697675767_97796334e4.jpg  \n",
            "  inflating: Images/369802520_9825f2cd84.jpg  \n",
            "  inflating: Images/3698607223_22fe09763a.jpg  \n",
            "  inflating: Images/3698944019_825ef54f2f.jpg  \n",
            "  inflating: Images/3699318394_6193f2c8e0.jpg  \n",
            "  inflating: Images/3699522388_2333f01f40.jpg  \n",
            "  inflating: Images/3699763582_f28c5130dd.jpg  \n",
            "  inflating: Images/3700004668_99c3e3f55b.jpg  \n",
            "  inflating: Images/3700322513_50f0d45bfa.jpg  \n",
            "  inflating: Images/3700346840_bb80d622f7.jpg  \n",
            "  inflating: Images/3700554247_9824ae6f3a.jpg  \n",
            "  inflating: Images/3701226275_952547ba0f.jpg  \n",
            "  inflating: Images/3701249979_8bc757e171.jpg  \n",
            "  inflating: Images/3701291852_373ea46bb6.jpg  \n",
            "  inflating: Images/3701509233_a2275a4e57.jpg  \n",
            "  inflating: Images/3701544312_b2e4e9813d.jpg  \n",
            "  inflating: Images/3701878677_8f2c26227b.jpg  \n",
            "  inflating: Images/3702038926_966fdaa311.jpg  \n",
            "  inflating: Images/3702436188_2c26192fd0.jpg  \n",
            "  inflating: Images/3702607829_2b8b3e65ab.jpg  \n",
            "  inflating: Images/3703035378_c6034cac51.jpg  \n",
            "  inflating: Images/3703107969_175da4b276.jpg  \n",
            "  inflating: Images/3703413486_3c682732a0.jpg  \n",
            "  inflating: Images/3703960010_1e4c922a25.jpg  \n",
            "  inflating: Images/370442541_60d93ecd13.jpg  \n",
            "  inflating: Images/3704431444_f337ec2b90.jpg  \n",
            "  inflating: Images/3704698586_a42c25d0c1.jpg  \n",
            "  inflating: Images/3704995657_e2e114083d.jpg  \n",
            "  inflating: Images/3705430840_e108de78bf.jpg  \n",
            "  inflating: Images/3705688385_47651205d3.jpg  \n",
            "  inflating: Images/3705976184_53ae07e898.jpg  \n",
            "  inflating: Images/370614351_98b8a166b9.jpg  \n",
            "  inflating: Images/3706356018_28f62290e8.jpg  \n",
            "  inflating: Images/3706653103_e777a825e4.jpg  \n",
            "  inflating: Images/3707077198_efd6aa808d.jpg  \n",
            "  inflating: Images/370713359_7560808550.jpg  \n",
            "  inflating: Images/3707283973_5cdaa39340.jpg  \n",
            "  inflating: Images/3707738261_777075e885.jpg  \n",
            "  inflating: Images/3707990914_843e8f15f1.jpg  \n",
            "  inflating: Images/3708172446_4034ddc5f6.jpg  \n",
            "  inflating: Images/3708177171_529bb4ff1d.jpg  \n",
            "  inflating: Images/3708244207_0d3a2b2f92.jpg  \n",
            "  inflating: Images/3708266246_97a033fcc7.jpg  \n",
            "  inflating: Images/3708743823_3e3e0554d1.jpg  \n",
            "  inflating: Images/3708748633_e7e3cf4e84.jpg  \n",
            "  inflating: Images/3708839890_ed448012cf.jpg  \n",
            "  inflating: Images/3709030554_02301229ea.jpg  \n",
            "  inflating: Images/3710050559_f6f12760fe.jpg  \n",
            "  inflating: Images/3710073758_ac2b217f29.jpg  \n",
            "  inflating: Images/3710176138_fbfe00bd35.jpg  \n",
            "  inflating: Images/3710353645_8fbfaa4175.jpg  \n",
            "  inflating: Images/3710468717_c051d96a5f.jpg  \n",
            "  inflating: Images/3710520638_866d542a80.jpg  \n",
            "  inflating: Images/3710674892_857b8056f7.jpg  \n",
            "  inflating: Images/3710971182_cb01c97d15.jpg  \n",
            "  inflating: Images/3711030008_3872d0b03f.jpg  \n",
            "  inflating: Images/3711611500_ea47b58b6f.jpg  \n",
            "  inflating: Images/3711664623_ef87105ea7.jpg  \n",
            "  inflating: Images/3711826708_bba64fb1e1.jpg  \n",
            "  inflating: Images/3712008738_1e1fa728da.jpg  \n",
            "  inflating: Images/3712574653_e009f76d19.jpg  \n",
            "  inflating: Images/3712742641_641282803e.jpg  \n",
            "  inflating: Images/3712923460_1b20ebb131.jpg  \n",
            "  inflating: Images/3713133789_f05e8daffd.jpg  \n",
            "  inflating: Images/3713177334_32f3245fd8.jpg  \n",
            "  inflating: Images/3713324467_104d72f7db.jpg  \n",
            "  inflating: Images/371364900_5167d4dd7f.jpg  \n",
            "  inflating: Images/3713882697_6dd30c7505.jpg  \n",
            "  inflating: Images/3713922357_e0a013fb97.jpg  \n",
            "  inflating: Images/3714551959_66ece78f27.jpg  \n",
            "  inflating: Images/371522748_dc557bcd6c.jpg  \n",
            "  inflating: Images/3715469645_6d1dc019b3.jpg  \n",
            "  inflating: Images/3715559023_70c41b31c7.jpg  \n",
            "  inflating: Images/3716244806_97d5a1fb61.jpg  \n",
            "  inflating: Images/3716272233_7845ec5b3e.jpg  \n",
            "  inflating: Images/3716277216_c04002be81.jpg  \n",
            "  inflating: Images/3717309680_e5105afa6d.jpg  \n",
            "  inflating: Images/3717531382_e1e05e22c5.jpg  \n",
            "  inflating: Images/3717809376_f97611ab84.jpg  \n",
            "  inflating: Images/3717845800_ab45e255b8.jpg  \n",
            "  inflating: Images/3718007650_e5930b4509.jpg  \n",
            "  inflating: Images/3718076407_0b4588d7bc.jpg  \n",
            "  inflating: Images/3718305988_fe2c91fd44.jpg  \n",
            "  inflating: Images/3718892835_a3e74a3417.jpg  \n",
            "  inflating: Images/3718964174_cb2dc1615e.jpg  \n",
            "  inflating: Images/3719461451_07de35af3a.jpg  \n",
            "  inflating: Images/3720210639_18bb34e475.jpg  \n",
            "  inflating: Images/3720366614_dfa8fe1088.jpg  \n",
            "  inflating: Images/3721082512_8277087f3f.jpg  \n",
            "  inflating: Images/3721799573_2f470950e0.jpg  \n",
            "  inflating: Images/3721812313_6000566803.jpg  \n",
            "  inflating: Images/3721881082_afe9fc734e.jpg  \n",
            "  inflating: Images/3722507770_0d6cb7420e.jpg  \n",
            "  inflating: Images/3722572342_6904d11d52.jpg  \n",
            "  inflating: Images/3723690961_729dd5d617.jpg  \n",
            "  inflating: Images/3723903586_e98d3d8ec7.jpg  \n",
            "  inflating: Images/3724113279_99b6e5bf41.jpg  \n",
            "  inflating: Images/3724150944_fc62e8d5e0.jpg  \n",
            "  inflating: Images/3724487641_d2096f10e5.jpg  \n",
            "  inflating: Images/3724581378_41049da264.jpg  \n",
            "  inflating: Images/3724623861_2bb6c23641.jpg  \n",
            "  inflating: Images/3724718895_bd03f4a4dc.jpg  \n",
            "  inflating: Images/3724738804_f00748a137.jpg  \n",
            "  inflating: Images/3724759125_2dc0e1f4a3.jpg  \n",
            "  inflating: Images/3725177385_62d5e13634.jpg  \n",
            "  inflating: Images/3725202807_12fbfdd207.jpg  \n",
            "  inflating: Images/3725353555_75c346d7ec.jpg  \n",
            "  inflating: Images/3725814794_30db172f67.jpg  \n",
            "  inflating: Images/3726019124_f302b3d48a.jpg  \n",
            "  inflating: Images/3726025663_e7d35d23f6.jpg  \n",
            "  inflating: Images/3726076549_0efb38854b.jpg  \n",
            "  inflating: Images/3726120436_740bda8416.jpg  \n",
            "  inflating: Images/3726130458_07df79e969.jpg  \n",
            "  inflating: Images/3726168984_1fa2c8965b.jpg  \n",
            "  inflating: Images/3726170067_094cc1b7e5.jpg  \n",
            "  inflating: Images/3726590391_bc6e729bb6.jpg  \n",
            "  inflating: Images/3726629271_7639634703.jpg  \n",
            "  inflating: Images/3726700898_c50494b8bd.jpg  \n",
            "  inflating: Images/3726730085_2468ee9220.jpg  \n",
            "  inflating: Images/3727740053_3baa94ffcb.jpg  \n",
            "  inflating: Images/3727752439_907795603b.jpg  \n",
            "  inflating: Images/3728015645_b43a60258b.jpg  \n",
            "  inflating: Images/3728164558_52729baefa.jpg  \n",
            "  inflating: Images/3728256505_7f8db8270d.jpg  \n",
            "  inflating: Images/3728695560_00ec1ca492.jpg  \n",
            "  inflating: Images/3729405438_6e79077ab2.jpg  \n",
            "  inflating: Images/3729525173_7f984ed776.jpg  \n",
            "  inflating: Images/3730011219_588cdc7972.jpg  \n",
            "  inflating: Images/3730011701_5352e02286.jpg  \n",
            "  inflating: Images/3730457171_e66dde8c91.jpg  \n",
            "  inflating: Images/373219198_149af371d9.jpg  \n",
            "  inflating: Images/3732728142_86364a706e.jpg  \n",
            "  inflating: Images/3733074526_82aa8d5f8d.jpg  \n",
            "  inflating: Images/373394550_1b2296b8c4.jpg  \n",
            "  inflating: Images/3736786640_70df13be2c.jpg  \n",
            "  inflating: Images/3737492755_bcfb800ed1.jpg  \n",
            "  inflating: Images/3737539561_d1dc161040.jpg  \n",
            "  inflating: Images/3737711435_113ccd0a52.jpg  \n",
            "  inflating: Images/3738685861_8dfff28760.jpg  \n",
            "  inflating: Images/3738789925_7d17dbdf25.jpg  \n",
            "  inflating: Images/3739833689_a0038545bd.jpg  \n",
            "  inflating: Images/374103776_0de490c1b0.jpg  \n",
            "  inflating: Images/374103842_17873ce505.jpg  \n",
            "  inflating: Images/374103966_2987706be1.jpg  \n",
            "  inflating: Images/374104006_7f32c8c5de.jpg  \n",
            "  inflating: Images/374124237_51f62b6937.jpg  \n",
            "  inflating: Images/3741462565_cc35966b7a.jpg  \n",
            "  inflating: Images/374176648_ba4b88c221.jpg  \n",
            "  inflating: Images/3741827382_71e93298d0.jpg  \n",
            "  inflating: Images/3744832122_2f4febdff6.jpg  \n",
            "  inflating: Images/3745451546_fc8ec70cbd.jpg  \n",
            "  inflating: Images/374567836_3ae12ecffb.jpg  \n",
            "  inflating: Images/3747543364_bf5b548527.jpg  \n",
            "  inflating: Images/374828031_9d087da5cf.jpg  \n",
            "  inflating: Images/3751594676_edfbfa0688.jpg  \n",
            "  inflating: Images/375171241_0302ad8481.jpg  \n",
            "  inflating: Images/375384566_254c2362d4.jpg  \n",
            "  inflating: Images/375392855_54d46ed5c8.jpg  \n",
            "  inflating: Images/3756150099_50882fc029.jpg  \n",
            "  inflating: Images/3757598567_739b7da835.jpg  \n",
            "  inflating: Images/3758175529_81941e7cc9.jpg  \n",
            "  inflating: Images/3758787457_1a903ee1e9.jpg  \n",
            "  inflating: Images/3759230208_1c2a492b12.jpg  \n",
            "  inflating: Images/3759492488_592cd78ed1.jpg  \n",
            "  inflating: Images/3760400645_3ba51d27f9.jpg  \n",
            "  inflating: Images/3765374230_cb1bbee0cb.jpg  \n",
            "  inflating: Images/3767841911_6678052eb6.jpg  \n",
            "  inflating: Images/377872472_35805fc143.jpg  \n",
            "  inflating: Images/377872672_d499aae449.jpg  \n",
            "  inflating: Images/378170167_9b5119d918.jpg  \n",
            "  inflating: Images/378453580_21d688748e.jpg  \n",
            "  inflating: Images/379006645_b9a2886b51.jpg  \n",
            "  inflating: Images/380034515_4fbdfa6b26.jpg  \n",
            "  inflating: Images/380041023_0dfd712ef1.jpg  \n",
            "  inflating: Images/380515798_c2abbf46b0.jpg  \n",
            "  inflating: Images/380527679_574749123d.jpg  \n",
            "  inflating: Images/380537190_11d6c0a412.jpg  \n",
            "  inflating: Images/380590140_25b9889772.jpg  \n",
            "  inflating: Images/381052465_722e00807b.jpg  \n",
            "  inflating: Images/381239475_044cbffa2b.jpg  \n",
            "  inflating: Images/381275595_b429fd1639.jpg  \n",
            "  inflating: Images/381514859_b40418d9c3.jpg  \n",
            "  inflating: Images/381976882_0063d16d88.jpg  \n",
            "  inflating: Images/382090166_be2c2c63e1.jpg  \n",
            "  inflating: Images/382151094_c7376cf22b.jpg  \n",
            "  inflating: Images/382701159_f98c1988cd.jpg  \n",
            "  inflating: Images/383223174_7165a54c30.jpg  \n",
            "  inflating: Images/384465370_9918873f9a.jpg  \n",
            "  inflating: Images/384465575_31294122c0.jpg  \n",
            "  inflating: Images/384577800_fc325af410.jpg  \n",
            "  inflating: Images/385186343_464f5fc186.jpg  \n",
            "  inflating: Images/385835044_4aa11f6990.jpg  \n",
            "  inflating: Images/386160015_d4b31df68e.jpg  \n",
            "  inflating: Images/386470686_1ae9242878.jpg  \n",
            "  inflating: Images/386655611_1329495f97.jpg  \n",
            "  inflating: Images/386656845_4e77c3e3da.jpg  \n",
            "  inflating: Images/387078972_514a38dc33.jpg  \n",
            "  inflating: Images/387830531_e89c192b92.jpg  \n",
            "  inflating: Images/387974450_bcd205daac.jpg  \n",
            "  inflating: Images/388386075_9ac3a89ada.jpg  \n",
            "  inflating: Images/389643437_9a9830a3ba.jpg  \n",
            "  inflating: Images/390360326_26f5936189.jpg  \n",
            "  inflating: Images/390671130_09fdccd52f.jpg  \n",
            "  inflating: Images/390986651_c801db91a0.jpg  \n",
            "  inflating: Images/390987167_2d5905b459.jpg  \n",
            "  inflating: Images/390992102_67fa31b22f.jpg  \n",
            "  inflating: Images/390992388_d74daee638.jpg  \n",
            "  inflating: Images/391020801_aaaae1e42b.jpg  \n",
            "  inflating: Images/391106734_d374bc3080.jpg  \n",
            "  inflating: Images/391324644_d23fdf06cb.jpg  \n",
            "  inflating: Images/391579205_c8373b5411.jpg  \n",
            "  inflating: Images/391723162_3bdeb7ea33.jpg  \n",
            "  inflating: Images/392467282_00bb22e201.jpg  \n",
            "  inflating: Images/392976422_c8d0514bc3.jpg  \n",
            "  inflating: Images/393284934_d38e1cd6fe.jpg  \n",
            "  inflating: Images/393810324_1c33760a95.jpg  \n",
            "  inflating: Images/393958545_48c17c66d1.jpg  \n",
            "  inflating: Images/393987665_91d28f0ed0.jpg  \n",
            "  inflating: Images/394136487_4fc531b33a.jpg  \n",
            "  inflating: Images/394161692_2576920777.jpg  \n",
            "  inflating: Images/394463341_5311c53783.jpg  \n",
            "  inflating: Images/394563330_68b566368c.jpg  \n",
            "  inflating: Images/395461421_c586b136de.jpg  \n",
            "  inflating: Images/396179143_e1511336e1.jpg  \n",
            "  inflating: Images/396360611_941e5849a3.jpg  \n",
            "  inflating: Images/396763804_3b7f1e12a8.jpg  \n",
            "  inflating: Images/397286183_745abbf40d.jpg  \n",
            "  inflating: Images/397451339_76a84bd310.jpg  \n",
            "  inflating: Images/397547349_1fd14b95af.jpg  \n",
            "  inflating: Images/397601572_9587a39291.jpg  \n",
            "  inflating: Images/397725001_e51f7c391c.jpg  \n",
            "  inflating: Images/397815951_3b02090324.jpg  \n",
            "  inflating: Images/397982550_cf9f5cdb74.jpg  \n",
            "  inflating: Images/398413603_166896900f.jpg  \n",
            "  inflating: Images/398662202_97e5819b79.jpg  \n",
            "  inflating: Images/399212516_d68046b277.jpg  \n",
            "  inflating: Images/399246804_b4b5dc70e1.jpg  \n",
            "  inflating: Images/399679638_d3036da331.jpg  \n",
            "  inflating: Images/400562847_e15aba0aac.jpg  \n",
            "  inflating: Images/400851260_5911898657.jpg  \n",
            "  inflating: Images/401079494_562454c4d6.jpg  \n",
            "  inflating: Images/401476986_73918145a3.jpg  \n",
            "  inflating: Images/403523132_73b9a1a4b3.jpg  \n",
            "  inflating: Images/403678611_73978faed7.jpg  \n",
            "  inflating: Images/404216567_75b50b5a36.jpg  \n",
            "  inflating: Images/404702274_fa8b3fe378.jpg  \n",
            "  inflating: Images/404850242_3a55a4c874.jpg  \n",
            "  inflating: Images/404890608_33f138aefa.jpg  \n",
            "  inflating: Images/405051459_3b3a3ba5b3.jpg  \n",
            "  inflating: Images/405253184_5f611f3880.jpg  \n",
            "  inflating: Images/405331006_4e94e07698.jpg  \n",
            "  inflating: Images/405534893_2d0f3b0147.jpg  \n",
            "  inflating: Images/405534993_5158644f98.jpg  \n",
            "  inflating: Images/405537503_f66ecc5073.jpg  \n",
            "  inflating: Images/405615014_03be7ef618.jpg  \n",
            "  inflating: Images/405961988_fcfe97f31e.jpg  \n",
            "  inflating: Images/405970010_8cebaa77d3.jpg  \n",
            "  inflating: Images/406248253_27b5eba25a.jpg  \n",
            "  inflating: Images/406642021_9ec852eccf.jpg  \n",
            "  inflating: Images/406901451_7eafd7568a.jpg  \n",
            "  inflating: Images/407008823_bdd7fc6ed5.jpg  \n",
            "  inflating: Images/407569668_19b3f8eaf6.jpg  \n",
            "  inflating: Images/407678652_1f475acd65.jpg  \n",
            "  inflating: Images/408233586_f2c1be3ce1.jpg  \n",
            "  inflating: Images/408573233_1fff966798.jpg  \n",
            "  inflating: Images/408627152_1feaa4b94e.jpg  \n",
            "  inflating: Images/408748500_e8dc8c0c4f.jpg  \n",
            "  inflating: Images/409327234_7b29eecb4e.jpg  \n",
            "  inflating: Images/410042380_517ccee020.jpg  \n",
            "  inflating: Images/410413536_11f1127c46.jpg  \n",
            "  inflating: Images/410422753_de506155fa.jpg  \n",
            "  inflating: Images/410453140_5401bf659a.jpg  \n",
            "  inflating: Images/411011549_1298d2b4d2.jpg  \n",
            "  inflating: Images/411175971_0fffd3b8c6.jpg  \n",
            "  inflating: Images/411216802_aead9e67e3.jpg  \n",
            "  inflating: Images/411863595_d77156687e.jpg  \n",
            "  inflating: Images/412056525_191724b058.jpg  \n",
            "  inflating: Images/412082368_371df946b3.jpg  \n",
            "  inflating: Images/412101267_7257e6d8c0.jpg  \n",
            "  inflating: Images/412203580_2c7278909c.jpg  \n",
            "  inflating: Images/413231421_43833a11f5.jpg  \n",
            "  inflating: Images/413737417_b0a8b445e9.jpg  \n",
            "  inflating: Images/414568315_5adcfc23c0.jpg  \n",
            "  inflating: Images/414773731_c3f5bf43d5.jpg  \n",
            "  inflating: Images/415118186_64defc96f3.jpg  \n",
            "  inflating: Images/415657941_454d370721.jpg  \n",
            "  inflating: Images/415793623_6c1225ae27.jpg  \n",
            "  inflating: Images/416106657_cab2a107a5.jpg  \n",
            "  inflating: Images/416650559_cd08d3cd96.jpg  \n",
            "  inflating: Images/416788726_5b4eb1466e.jpg  \n",
            "  inflating: Images/416960865_048fd3f294.jpg  \n",
            "  inflating: Images/416992999_654a99a903.jpg  \n",
            "  inflating: Images/417577408_eb571658c1.jpg  \n",
            "  inflating: Images/417966898_a04f9b5349.jpg  \n",
            "  inflating: Images/418357172_bdddf71d32.jpg  \n",
            "  inflating: Images/418616992_22090c6195.jpg  \n",
            "  inflating: Images/418667611_b9995000f4.jpg  \n",
            "  inflating: Images/418796494_bdb441de42.jpg  \n",
            "  inflating: Images/419116771_642800891d.jpg  \n",
            "  inflating: Images/41999070_838089137e.jpg  \n",
            "  inflating: Images/420355149_f2076770df.jpg  \n",
            "  inflating: Images/421153376_d1d325568f.jpg  \n",
            "  inflating: Images/421316045_ae7a1eb4bc.jpg  \n",
            "  inflating: Images/421322723_3470543368.jpg  \n",
            "  inflating: Images/421706022_1ddb6a7a78.jpg  \n",
            "  inflating: Images/421730441_6b2267fd31.jpg  \n",
            "  inflating: Images/421808539_57abee6d55.jpg  \n",
            "  inflating: Images/421932359_edbf181f44.jpg  \n",
            "  inflating: Images/422756764_e7eaac76bf.jpg  \n",
            "  inflating: Images/422763475_0bc814dac6.jpg  \n",
            "  inflating: Images/423066487_07757b2b49.jpg  \n",
            "  inflating: Images/424307754_1e2f44d265.jpg  \n",
            "  inflating: Images/424379231_23f1ade134.jpg  \n",
            "  inflating: Images/424416723_19c56cb365.jpg  \n",
            "  inflating: Images/424506167_01f365726b.jpg  \n",
            "  inflating: Images/424779662_568f9606d0.jpg  \n",
            "  inflating: Images/424869823_7aec015d87.jpg  \n",
            "  inflating: Images/425088533_a460dc4617.jpg  \n",
            "  inflating: Images/425518464_a18b87c563.jpg  \n",
            "  inflating: Images/425706089_f138118e12.jpg  \n",
            "  inflating: Images/426065353_e9a604a01f.jpg  \n",
            "  inflating: Images/426191845_1e979e9345.jpg  \n",
            "  inflating: Images/42637986_135a9786a6.jpg  \n",
            "  inflating: Images/42637987_866635edf6.jpg  \n",
            "  inflating: Images/426805536_d1d5e68c17.jpg  \n",
            "  inflating: Images/426920445_d07d1fd0f7.jpg  \n",
            "  inflating: Images/427082246_5bf1c3676f.jpg  \n",
            "  inflating: Images/427167162_2c99779444.jpg  \n",
            "  inflating: Images/427557693_1108566fd2.jpg  \n",
            "  inflating: Images/427683329_95d510a087.jpg  \n",
            "  inflating: Images/427936315_0b8f7b8d23.jpg  \n",
            "  inflating: Images/428408242_b32faf2240.jpg  \n",
            "  inflating: Images/428483413_b9370baf72.jpg  \n",
            "  inflating: Images/428485639_a82635d6ee.jpg  \n",
            "  inflating: Images/428796930_476a3d6395.jpg  \n",
            "  inflating: Images/429174232_ddd4ff5e0b.jpg  \n",
            "  inflating: Images/429205889_ff5a006311.jpg  \n",
            "  inflating: Images/429270993_294ba8e64c.jpg  \n",
            "  inflating: Images/429283612_37f6e7fb7f.jpg  \n",
            "  inflating: Images/429851331_b248ca01cd.jpg  \n",
            "  inflating: Images/430173345_86388d8822.jpg  \n",
            "  inflating: Images/430803349_a66c91f64e.jpg  \n",
            "  inflating: Images/430964917_022995afb6.jpg  \n",
            "  inflating: Images/431018958_84b2beebff.jpg  \n",
            "  inflating: Images/431282339_0aa60dd78e.jpg  \n",
            "  inflating: Images/431410325_f4916b5460.jpg  \n",
            "  inflating: Images/432167214_c17fcc1a2d.jpg  \n",
            "  inflating: Images/432248727_e7b623adbf.jpg  \n",
            "  inflating: Images/432490118_54a9c0e500.jpg  \n",
            "  inflating: Images/432496659_f01464d9fb.jpg  \n",
            "  inflating: Images/433810429_a4da0eac50.jpg  \n",
            "  inflating: Images/433855742_c2a6fda763.jpg  \n",
            "  inflating: Images/434433505_966e50e17d.jpg  \n",
            "  inflating: Images/434792818_56375e203f.jpg  \n",
            "  inflating: Images/434938585_fbf913dfb4.jpg  \n",
            "  inflating: Images/435054077_3506dbfcf4.jpg  \n",
            "  inflating: Images/435739506_2daf7f4887.jpg  \n",
            "  inflating: Images/435827376_4384c3005a.jpg  \n",
            "  inflating: Images/436009777_440c7679a1.jpg  \n",
            "  inflating: Images/436013859_793d870b6f.jpg  \n",
            "  inflating: Images/436015762_8d0bae90c3.jpg  \n",
            "  inflating: Images/436393371_822ee70952.jpg  \n",
            "  inflating: Images/436608339_f1d1298770.jpg  \n",
            "  inflating: Images/437054333_5c2761b8cd.jpg  \n",
            "  inflating: Images/437404867_209625774d.jpg  \n",
            "  inflating: Images/437527058_189f2a7eef.jpg  \n",
            "  inflating: Images/437917001_ae1106f34e.jpg  \n",
            "  inflating: Images/438639005_208bc59b0b.jpg  \n",
            "  inflating: Images/439037721_cdf1fc7358.jpg  \n",
            "  inflating: Images/439049388_3dcee2d30b.jpg  \n",
            "  inflating: Images/439492931_a96d590e40.jpg  \n",
            "  inflating: Images/439569646_c917f1bc78.jpg  \n",
            "  inflating: Images/439916996_1ddb9dc8e7.jpg  \n",
            "  inflating: Images/440184957_267f3f3a2b.jpg  \n",
            "  inflating: Images/440190907_bf8b7ba8ef.jpg  \n",
            "  inflating: Images/440737340_5af34ca9cf.jpg  \n",
            "  inflating: Images/441212506_fcc321ac28.jpg  \n",
            "  inflating: Images/44129946_9eeb385d77.jpg  \n",
            "  inflating: Images/441398149_297146e38d.jpg  \n",
            "  inflating: Images/441817653_fbdf83060b.jpg  \n",
            "  inflating: Images/441921713_1cafc7d7d2.jpg  \n",
            "  inflating: Images/442220883_ff3d6e507f.jpg  \n",
            "  inflating: Images/442594271_2c3dd38483.jpg  \n",
            "  inflating: Images/442918418_0f29c97fa9.jpg  \n",
            "  inflating: Images/443430496_3fea95a07d.jpg  \n",
            "  inflating: Images/443885436_6e927e6c58.jpg  \n",
            "  inflating: Images/444047125_66b249287c.jpg  \n",
            "  inflating: Images/444057017_f1e0fcaef7.jpg  \n",
            "  inflating: Images/444481722_690d0cadcf.jpg  \n",
            "  inflating: Images/444803340_fdcaab86f9.jpg  \n",
            "  inflating: Images/444845904_a4531c811a.jpg  \n",
            "  inflating: Images/444872454_9f51e07f88.jpg  \n",
            "  inflating: Images/444881000_bba92e585c.jpg  \n",
            "  inflating: Images/445148321_9f2f3ac711.jpg  \n",
            "  inflating: Images/445655284_c29e6d7323.jpg  \n",
            "  inflating: Images/445861800_75fc6a8c16.jpg  \n",
            "  inflating: Images/446138054_d40c66d5f0.jpg  \n",
            "  inflating: Images/446286714_dcec7f339e.jpg  \n",
            "  inflating: Images/446291803_2fd4641b99.jpg  \n",
            "  inflating: Images/446514680_ff5ca15ece.jpg  \n",
            "  inflating: Images/447111935_5af98563e3.jpg  \n",
            "  inflating: Images/447722389_4b51b7e13d.jpg  \n",
            "  inflating: Images/447733067_09cfac3286.jpg  \n",
            "  inflating: Images/447800028_0242008fa3.jpg  \n",
            "  inflating: Images/448252603_7d928c900e.jpg  \n",
            "  inflating: Images/448257345_ce149c2ea6.jpg  \n",
            "  inflating: Images/44856031_0d82c2c7d1.jpg  \n",
            "  inflating: Images/448590900_db83c42006.jpg  \n",
            "  inflating: Images/448658518_eec0b648a6.jpg  \n",
            "  inflating: Images/448916362_17f3f1d0e1.jpg  \n",
            "  inflating: Images/449287870_f17fb825d7.jpg  \n",
            "  inflating: Images/449352117_63c359c6e7.jpg  \n",
            "  inflating: Images/450596617_ed37ec0fe4.jpg  \n",
            "  inflating: Images/451081733_40218cec31.jpg  \n",
            "  inflating: Images/451326127_2d95a2e1c2.jpg  \n",
            "  inflating: Images/451597318_4f370b1339.jpg  \n",
            "  inflating: Images/452345346_afe1248586.jpg  \n",
            "  inflating: Images/452363869_cad37e609f.jpg  \n",
            "  inflating: Images/452416075_60b2bb5832.jpg  \n",
            "  inflating: Images/452419961_6d42ab7000.jpg  \n",
            "  inflating: Images/453473508_682c0a7189.jpg  \n",
            "  inflating: Images/453756106_711c20471a.jpg  \n",
            "  inflating: Images/454686980_7517fe0c2e.jpg  \n",
            "  inflating: Images/454691853_cc1e0fa6a1.jpg  \n",
            "  inflating: Images/454709143_9c513f095c.jpg  \n",
            "  inflating: Images/455611732_d65bf3e976.jpg  \n",
            "  inflating: Images/455856615_f6361d9253.jpg  \n",
            "  inflating: Images/456299217_b2802efbc2.jpg  \n",
            "  inflating: Images/456512643_0aac2fa9ce.jpg  \n",
            "  inflating: Images/457631171_12b1aee828.jpg  \n",
            "  inflating: Images/457875937_982588d918.jpg  \n",
            "  inflating: Images/457945610_1a23b9ced0.jpg  \n",
            "  inflating: Images/458004873_f084c47a88.jpg  \n",
            "  inflating: Images/458183774_afe65abf67.jpg  \n",
            "  inflating: Images/458213442_12c59e61a0.jpg  \n",
            "  inflating: Images/458735196_176e7df6b3.jpg  \n",
            "  inflating: Images/459284240_5a4167bf92.jpg  \n",
            "  inflating: Images/459778335_857d8ffebf.jpg  \n",
            "  inflating: Images/459814265_d48ba48978.jpg  \n",
            "  inflating: Images/460195978_fc522a4979.jpg  \n",
            "  inflating: Images/460350019_af60511a3b.jpg  \n",
            "  inflating: Images/460478198_83039f2593.jpg  \n",
            "  inflating: Images/460781612_6815c74d37.jpg  \n",
            "  inflating: Images/460935487_75b2da7854.jpg  \n",
            "  inflating: Images/460973814_5eacd1ced4.jpg  \n",
            "  inflating: Images/461019788_bc0993dabd.jpg  \n",
            "  inflating: Images/461505235_590102a5bf.jpg  \n",
            "  inflating: Images/462080147_ca088e6541.jpg  \n",
            "  inflating: Images/462198798_89e2df0358.jpg  \n",
            "  inflating: Images/462288558_b31a8a976f.jpg  \n",
            "  inflating: Images/463786229_b54c9a3436.jpg  \n",
            "  inflating: Images/463875230_f19e83d6df.jpg  \n",
            "  inflating: Images/463978865_c87c6ca84c.jpg  \n",
            "  inflating: Images/464116251_1ac4bc91f8.jpg  \n",
            "  inflating: Images/464251704_b0f0c4c87a.jpg  \n",
            "  inflating: Images/464506846_1734302b58.jpg  \n",
            "  inflating: Images/464527562_a18f095225.jpg  \n",
            "  inflating: Images/465859490_b077219424.jpg  \n",
            "  inflating: Images/465994762_1760e83c5d.jpg  \n",
            "  inflating: Images/466176275_f40d37851e.jpg  \n",
            "  inflating: Images/466956209_2ffcea3941.jpg  \n",
            "  inflating: Images/466956675_a2fb6bf901.jpg  \n",
            "  inflating: Images/467858872_f3431df682.jpg  \n",
            "  inflating: Images/467960888_6943257534.jpg  \n",
            "  inflating: Images/468102269_135938e209.jpg  \n",
            "  inflating: Images/468141298_3154d717e1.jpg  \n",
            "  inflating: Images/468310111_d9396abcbd.jpg  \n",
            "  inflating: Images/468608014_09fd20eb9b.jpg  \n",
            "  inflating: Images/468871328_72990babd4.jpg  \n",
            "  inflating: Images/468911753_cc595f5da0.jpg  \n",
            "  inflating: Images/468918320_9c275b877f.jpg  \n",
            "  inflating: Images/468930779_8008d90e10.jpg  \n",
            "  inflating: Images/469021173_aa31c07108.jpg  \n",
            "  inflating: Images/469029994_349e138606.jpg  \n",
            "  inflating: Images/469259974_bb03c15c42.jpg  \n",
            "  inflating: Images/469617651_278e586e46.jpg  \n",
            "  inflating: Images/469969326_4b84073286.jpg  \n",
            "  inflating: Images/470373679_98dceb19e7.jpg  \n",
            "  inflating: Images/470887781_faae5dae83.jpg  \n",
            "  inflating: Images/470887785_e0b1241d94.jpg  \n",
            "  inflating: Images/470887791_86d5a08a38.jpg  \n",
            "  inflating: Images/470887795_8443ce53d0.jpg  \n",
            "  inflating: Images/470903027_489cc507de.jpg  \n",
            "  inflating: Images/471402959_0b187560df.jpg  \n",
            "  inflating: Images/472396131_6e97068d93.jpg  \n",
            "  inflating: Images/472535997_0dbf42b9f3.jpg  \n",
            "  inflating: Images/472661386_723aae880b.jpg  \n",
            "  inflating: Images/472860064_a96a228796.jpg  \n",
            "  inflating: Images/473220329_819a913bbb.jpg  \n",
            "  inflating: Images/473988700_570422001b.jpg  \n",
            "  inflating: Images/475042270_719ebe6c48.jpg  \n",
            "  inflating: Images/475313618_bdb2f72be5.jpg  \n",
            "  inflating: Images/475317104_1cdc1653b4.jpg  \n",
            "  inflating: Images/475778645_65b7343c47.jpg  \n",
            "  inflating: Images/475816542_f5c2736815.jpg  \n",
            "  inflating: Images/475980315_b8ecd50094.jpg  \n",
            "  inflating: Images/476233374_e1396998ef.jpg  \n",
            "  inflating: Images/476740978_45b65ebe0c.jpg  \n",
            "  inflating: Images/476759700_8911f087f8.jpg  \n",
            "  inflating: Images/476760133_c33d2bd83d.jpg  \n",
            "  inflating: Images/477204750_d04d111cd4.jpg  \n",
            "  inflating: Images/477254932_56b48d775d.jpg  \n",
            "  inflating: Images/477768471_d7cd618fdb.jpg  \n",
            "  inflating: Images/478208896_90e7187b64.jpg  \n",
            "  inflating: Images/478209058_21e2c37c73.jpg  \n",
            "  inflating: Images/478592803_f57cc9c461.jpg  \n",
            "  inflating: Images/47870024_73a4481f7d.jpg  \n",
            "  inflating: Images/47871819_db55ac4699.jpg  \n",
            "  inflating: Images/478750151_e0adb5030a.jpg  \n",
            "  inflating: Images/478754346_addb53893c.jpg  \n",
            "  inflating: Images/479807115_3a484fb18b.jpg  \n",
            "  inflating: Images/479807465_cf42f39d00.jpg  \n",
            "  inflating: Images/479807833_85eed6899c.jpg  \n",
            "  inflating: Images/480200554_6155e9dfeb.jpg  \n",
            "  inflating: Images/480505313_2dc686e5db.jpg  \n",
            "  inflating: Images/480607352_65614ab348.jpg  \n",
            "  inflating: Images/481054596_cad8c02103.jpg  \n",
            "  inflating: Images/481632457_7372f18275.jpg  \n",
            "  inflating: Images/481732592_b50194cb89.jpg  \n",
            "  inflating: Images/481827288_a688be7913.jpg  \n",
            "  inflating: Images/481887827_f8975dabf1.jpg  \n",
            "  inflating: Images/482047956_9a29e9cee6.jpg  \n",
            "  inflating: Images/482088914_e6ea4501e9.jpg  \n",
            "  inflating: Images/482098572_e83153b300.jpg  \n",
            "  inflating: Images/482353373_03a9d5e8bc.jpg  \n",
            "  inflating: Images/482830610_13a0a6c924.jpg  \n",
            "  inflating: Images/482882307_7dcb9eee11.jpg  \n",
            "  inflating: Images/482882719_165722082d.jpg  \n",
            "  inflating: Images/482907079_22085ada04.jpg  \n",
            "  inflating: Images/483039719_75181b2726.jpg  \n",
            "  inflating: Images/483136916_16976f4902.jpg  \n",
            "  inflating: Images/483841513_e660391880.jpg  \n",
            "  inflating: Images/484896012_7787d04f41.jpg  \n",
            "  inflating: Images/485054073_fef8b80b4b.jpg  \n",
            "  inflating: Images/485245061_5a5de43e20.jpg  \n",
            "  inflating: Images/485312202_784508f2a9.jpg  \n",
            "  inflating: Images/485357535_b45ba5b6da.jpg  \n",
            "  inflating: Images/485566887_57eac33bd1.jpg  \n",
            "  inflating: Images/485738889_c2a00876a6.jpg  \n",
            "  inflating: Images/485741580_ab523fa657.jpg  \n",
            "  inflating: Images/485921585_1974b1577a.jpg  \n",
            "  inflating: Images/486300784_2cc7a770ff.jpg  \n",
            "  inflating: Images/486712504_36be449055.jpg  \n",
            "  inflating: Images/486720042_b785e7f88c.jpg  \n",
            "  inflating: Images/486917990_72bd4069af.jpg  \n",
            "  inflating: Images/487071033_27e460a1b9.jpg  \n",
            "  inflating: Images/487074671_66db20bf47.jpg  \n",
            "  inflating: Images/487487795_54705c406e.jpg  \n",
            "  inflating: Images/487894806_352d9b5e66.jpg  \n",
            "  inflating: Images/488089932_c3a5fa4140.jpg  \n",
            "  inflating: Images/488196964_49159f11fd.jpg  \n",
            "  inflating: Images/488352274_9a22064cb3.jpg  \n",
            "  inflating: Images/488356951_b3b77ad832.jpg  \n",
            "  inflating: Images/488408004_a1e26d4886.jpg  \n",
            "  inflating: Images/488416045_1c6d903fe0.jpg  \n",
            "  inflating: Images/488549693_a1f51d8c4a.jpg  \n",
            "  inflating: Images/488590040_35a3e96c89.jpg  \n",
            "  inflating: Images/489065557_0eb08889cd.jpg  \n",
            "  inflating: Images/489134459_1b3f46fc03.jpg  \n",
            "  inflating: Images/489372715_ce52da796a.jpg  \n",
            "  inflating: Images/489551372_b19a6ad0ed.jpg  \n",
            "  inflating: Images/489773343_a8aecf7db3.jpg  \n",
            "  inflating: Images/489865145_65ea6d1c14.jpg  \n",
            "  inflating: Images/490044494_d2d546be8d.jpg  \n",
            "  inflating: Images/490390951_87395fcb1c.jpg  \n",
            "  inflating: Images/491405109_798222cfd0.jpg  \n",
            "  inflating: Images/491564019_1ca68d16c1.jpg  \n",
            "  inflating: Images/491600485_26c52c8816.jpg  \n",
            "  inflating: Images/491964988_414b556228.jpg  \n",
            "  inflating: Images/492341908_1ef53be265.jpg  \n",
            "  inflating: Images/492493570_c27237a396.jpg  \n",
            "  inflating: Images/492802403_ba5246cfea.jpg  \n",
            "  inflating: Images/493109089_468e105233.jpg  \n",
            "  inflating: Images/493507605_48fe8e3739.jpg  \n",
            "  inflating: Images/493542985_c85ad29ebe.jpg  \n",
            "  inflating: Images/493621130_152bdd4e91.jpg  \n",
            "  inflating: Images/494221578_027f51cdf4.jpg  \n",
            "  inflating: Images/494329594_6e751372a0.jpg  \n",
            "  inflating: Images/494792770_2c5f767ac0.jpg  \n",
            "  inflating: Images/494907021_321e82877a.jpg  \n",
            "  inflating: Images/494921598_af73bda568.jpg  \n",
            "  inflating: Images/495014499_8fd065cfd9.jpg  \n",
            "  inflating: Images/495033548_bd320405d8.jpg  \n",
            "  inflating: Images/495054019_3dee8a02f5.jpg  \n",
            "  inflating: Images/495055747_a75872762a.jpg  \n",
            "  inflating: Images/495116214_f1df479fb0.jpg  \n",
            "  inflating: Images/495340319_705f2e63d6.jpg  \n",
            "  inflating: Images/495341977_b27279f962.jpg  \n",
            "  inflating: Images/49553964_cee950f3ba.jpg  \n",
            "  inflating: Images/496110746_a93ca191ae.jpg  \n",
            "  inflating: Images/496129405_b9feeda1ab.jpg  \n",
            "  inflating: Images/496380034_d22aeeedb3.jpg  \n",
            "  inflating: Images/496555371_3e1ee0d97d.jpg  \n",
            "  inflating: Images/496606439_9333831e73.jpg  \n",
            "  inflating: Images/496971341_22782195f0.jpg  \n",
            "  inflating: Images/497122685_a51b29dc46.jpg  \n",
            "  inflating: Images/497579819_f91b26f7d3.jpg  \n",
            "  inflating: Images/497791037_93499238d8.jpg  \n",
            "  inflating: Images/498404951_527adba7b8.jpg  \n",
            "  inflating: Images/498444334_a680d318a1.jpg  \n",
            "  inflating: Images/498492764_fe276e505a.jpg  \n",
            "  inflating: Images/498748832_941faaaf40.jpg  \n",
            "  inflating: Images/498794783_cc2ac62b47.jpg  \n",
            "  inflating: Images/498957941_f0eda42787.jpg  \n",
            "  inflating: Images/50030244_02cd4de372.jpg  \n",
            "  inflating: Images/500308355_f0c19067c0.jpg  \n",
            "  inflating: Images/500446858_125702b296.jpg  \n",
            "  inflating: Images/500678178_26ce0f4417.jpg  \n",
            "  inflating: Images/501320769_31eea7b7ea.jpg  \n",
            "  inflating: Images/501520507_c86f805ab8.jpg  \n",
            "  inflating: Images/501650847_b0beba926c.jpg  \n",
            "  inflating: Images/501684722_0f20c4e704.jpg  \n",
            "  inflating: Images/501699433_f8df386cf9.jpg  \n",
            "  inflating: Images/502115726_927dd684d3.jpg  \n",
            "  inflating: Images/502671104_b2114246c7.jpg  \n",
            "  inflating: Images/502783522_3656f27014.jpg  \n",
            "  inflating: Images/502884177_25939ac000.jpg  \n",
            "  inflating: Images/503090187_8758ab5680.jpg  \n",
            "  inflating: Images/503717911_fc43cb3cf9.jpg  \n",
            "  inflating: Images/503794526_603a7954d3.jpg  \n",
            "  inflating: Images/504385521_6e668691a3.jpg  \n",
            "  inflating: Images/504765160_b4b083b293.jpg  \n",
            "  inflating: Images/504904434_889f426c6e.jpg  \n",
            "  inflating: Images/505062117_a70b4e10ab.jpg  \n",
            "  inflating: Images/505929313_7668f021ab.jpg  \n",
            "  inflating: Images/505944126_f9a6ab8944.jpg  \n",
            "  inflating: Images/505955292_026f1489f2.jpg  \n",
            "  inflating: Images/506343925_b30a235de6.jpg  \n",
            "  inflating: Images/506367606_7cca2bba9b.jpg  \n",
            "  inflating: Images/506412121_67ecc7ec05.jpg  \n",
            "  inflating: Images/506478284_7cf8bdbe36.jpg  \n",
            "  inflating: Images/506738508_327efdf9c3.jpg  \n",
            "  inflating: Images/506808265_fe84ada926.jpg  \n",
            "  inflating: Images/506882688_b37d549593.jpg  \n",
            "  inflating: Images/507758961_e63ca126cc.jpg  \n",
            "  inflating: Images/508261758_78fb8ae067.jpg  \n",
            "  inflating: Images/508432819_3d055f395d.jpg  \n",
            "  inflating: Images/508929192_670910fdd2.jpg  \n",
            "  inflating: Images/508958120_afe274f726.jpg  \n",
            "  inflating: Images/509123893_07b8ea82a9.jpg  \n",
            "  inflating: Images/509200598_171a1ab6c8.jpg  \n",
            "  inflating: Images/509241560_00e5b20562.jpg  \n",
            "  inflating: Images/509778093_21236bb64d.jpg  \n",
            "  inflating: Images/510197538_0a11b94460.jpg  \n",
            "  inflating: Images/510510783_b2cf5d57bb.jpg  \n",
            "  inflating: Images/510531976_90bbee22a2.jpg  \n",
            "  inflating: Images/510791586_3913ade6a7.jpg  \n",
            "  inflating: Images/511282305_dbab4bf4be.jpg  \n",
            "  inflating: Images/511749704_3037806cb1.jpg  \n",
            "  inflating: Images/511844627_0ec78e01e9.jpg  \n",
            "  inflating: Images/512026551_ba63ddbd31.jpg  \n",
            "  inflating: Images/512031915_0dd03dcdf9.jpg  \n",
            "  inflating: Images/512045825_1be2083922.jpg  \n",
            "  inflating: Images/512101751_05a6d93e19.jpg  \n",
            "  inflating: Images/512163695_51a108761d.jpg  \n",
            "  inflating: Images/512306469_1392697d32.jpg  \n",
            "  inflating: Images/512550372_438849ce19.jpg  \n",
            "  inflating: Images/512634877_d7ad8c8329.jpg  \n",
            "  inflating: Images/512991147_dc48e6839c.jpg  \n",
            "  inflating: Images/513116697_ad0f4dc800.jpg  \n",
            "  inflating: Images/513269597_c38308feaf.jpg  \n",
            "  inflating: Images/514036362_5f2b9b7314.jpg  \n",
            "  inflating: Images/514073775_56796be990.jpg  \n",
            "  inflating: Images/514222285_aa0c8d05b7.jpg  \n",
            "  inflating: Images/514222303_cb98584536.jpg  \n",
            "  inflating: Images/514431934_9cf78f05a9.jpg  \n",
            "  inflating: Images/514905846_b54d13946a.jpg  \n",
            "  inflating: Images/514990193_2d2422af2c.jpg  \n",
            "  inflating: Images/515335111_c4afd5b903.jpg  \n",
            "  inflating: Images/515702827_be3c6ce857.jpg  \n",
            "  inflating: Images/515755283_8f890b3207.jpg  \n",
            "  inflating: Images/515797344_4ae75cb9b1.jpg  \n",
            "  inflating: Images/516214924_c2a4364cb3.jpg  \n",
            "  inflating: Images/516394876_8b9b8021bc.jpg  \n",
            "  inflating: Images/516648762_0cff84ea97.jpg  \n",
            "  inflating: Images/516725192_c9cdd63878.jpg  \n",
            "  inflating: Images/516761840_842dabc908.jpg  \n",
            "  inflating: Images/516998046_1175674fcd.jpg  \n",
            "  inflating: Images/517094985_4b9e926936.jpg  \n",
            "  inflating: Images/517102724_a0f3069156.jpg  \n",
            "  inflating: Images/518144037_9a1754b2a6.jpg  \n",
            "  inflating: Images/518251319_40e031e818.jpg  \n",
            "  inflating: Images/518610439_b64ab21c02.jpg  \n",
            "  inflating: Images/518789868_8895ef8792.jpg  \n",
            "  inflating: Images/519059913_4906fe4050.jpg  \n",
            "  inflating: Images/519061891_320061864e.jpg  \n",
            "  inflating: Images/519167484_ee03e2a91e.jpg  \n",
            "  inflating: Images/519228867_2fd25e38d4.jpg  \n",
            "  inflating: Images/519754987_51861fea85.jpg  \n",
            "  inflating: Images/520491467_54cbc0a866.jpg  \n",
            "  inflating: Images/521186251_e97d1f50f8.jpg  \n",
            "  inflating: Images/521658170_a837af87e9.jpg  \n",
            "  inflating: Images/522063319_33827f1627.jpg  \n",
            "  inflating: Images/522486784_978021d537.jpg  \n",
            "  inflating: Images/522652105_a89f1cf260.jpg  \n",
            "  inflating: Images/522700240_d9af45e60d.jpg  \n",
            "  inflating: Images/523249012_a0a25f487e.jpg  \n",
            "  inflating: Images/523327429_af093fc7cf.jpg  \n",
            "  inflating: Images/523692399_d2e261a302.jpg  \n",
            "  inflating: Images/523985664_c866af4850.jpg  \n",
            "  inflating: Images/523991446_65dbc5a4a5.jpg  \n",
            "  inflating: Images/524031846_28b11bc0e5.jpg  \n",
            "  inflating: Images/524036004_6747cf909b.jpg  \n",
            "  inflating: Images/524105255_b346f288be.jpg  \n",
            "  inflating: Images/524282699_71e678a6bd.jpg  \n",
            "  inflating: Images/524310507_51220580de.jpg  \n",
            "  inflating: Images/524360969_472a7152f0.jpg  \n",
            "  inflating: Images/524698457_77ba13840a.jpg  \n",
            "  inflating: Images/525538142_7348f0bce7.jpg  \n",
            "  inflating: Images/525863257_053333e612.jpg  \n",
            "  inflating: Images/525887861_4cc7a1beca.jpg  \n",
            "  inflating: Images/525968880_82623392d1.jpg  \n",
            "  inflating: Images/526661994_21838fc72c.jpg  \n",
            "  inflating: Images/526955751_f519d62b58.jpg  \n",
            "  inflating: Images/527272653_8a5bd818e5.jpg  \n",
            "  inflating: Images/527288854_f26127b770.jpg  \n",
            "  inflating: Images/527946505_a51ade1578.jpg  \n",
            "  inflating: Images/527968666_1fcddf81ab.jpg  \n",
            "  inflating: Images/528498076_43f0ef36b5.jpg  \n",
            "  inflating: Images/528500099_7be78a0ca5.jpg  \n",
            "  inflating: Images/529101401_ab1f6b1206.jpg  \n",
            "  inflating: Images/529198549_5cd9fedf3f.jpg  \n",
            "  inflating: Images/53043785_c468d6f931.jpg  \n",
            "  inflating: Images/530454257_66d58b49ee.jpg  \n",
            "  inflating: Images/530661899_94655d7d0e.jpg  \n",
            "  inflating: Images/530888330_a18343e38d.jpg  \n",
            "  inflating: Images/530950375_eea665583f.jpg  \n",
            "  inflating: Images/531055369_936fd76a63.jpg  \n",
            "  inflating: Images/531152619_6db02a7ed9.jpg  \n",
            "  inflating: Images/531197115_2be4d5034b.jpg  \n",
            "  inflating: Images/531261613_f1a045cd75.jpg  \n",
            "  inflating: Images/532036676_e88b13e0a1.jpg  \n",
            "  inflating: Images/532131603_c82d454c8a.jpg  \n",
            "  inflating: Images/532396029_ce125bda3f.jpg  \n",
            "  inflating: Images/532457586_bddfc5251d.jpg  \n",
            "  inflating: Images/532914728_c5d8d56b0b.jpg  \n",
            "  inflating: Images/532999240_1409d073be.jpg  \n",
            "  inflating: Images/533483374_86c5d4c13e.jpg  \n",
            "  inflating: Images/533602654_9edc74385d.jpg  \n",
            "  inflating: Images/533713001_2d36e93509.jpg  \n",
            "  inflating: Images/533713007_bf9f3e25b4.jpg  \n",
            "  inflating: Images/533979933_a95b03323b.jpg  \n",
            "  inflating: Images/534056823_0752303702.jpg  \n",
            "  inflating: Images/534200447_b0f3ff02be.jpg  \n",
            "  inflating: Images/534313000_4ad39c7ee0.jpg  \n",
            "  inflating: Images/534655560_dc1c335b3f.jpg  \n",
            "  inflating: Images/534669139_1a4f8ab9d5.jpg  \n",
            "  inflating: Images/534875358_6ea30d3091.jpg  \n",
            "  inflating: Images/534886684_a6c9f40fa1.jpg  \n",
            "  inflating: Images/535123126_c06c1ab9bf.jpg  \n",
            "  inflating: Images/535249787_0fcaa613a0.jpg  \n",
            "  inflating: Images/535309053_ec737abde8.jpg  \n",
            "  inflating: Images/535399240_0714a6e950.jpg  \n",
            "  inflating: Images/535529555_583d89b7f2.jpg  \n",
            "  inflating: Images/535830521_aa971319fc.jpg  \n",
            "  inflating: Images/536495604_b22bbc905a.jpg  \n",
            "  inflating: Images/536537638_f5ee42410b.jpg  \n",
            "  inflating: Images/536721406_884ab8fece.jpg  \n",
            "  inflating: Images/536828916_b763b82949.jpg  \n",
            "  inflating: Images/537222436_ab406234ce.jpg  \n",
            "  inflating: Images/537225246_dd0e2158a7.jpg  \n",
            "  inflating: Images/537230454_1f09199476.jpg  \n",
            "  inflating: Images/537359971_6e28f5e66e.jpg  \n",
            "  inflating: Images/537390477_7dd3407f96.jpg  \n",
            "  inflating: Images/537479916_c033897fac.jpg  \n",
            "  inflating: Images/537532165_e4b7c0e61a.jpg  \n",
            "  inflating: Images/537559285_29be110134.jpg  \n",
            "  inflating: Images/537579448_a7f92cef58.jpg  \n",
            "  inflating: Images/537628742_146f2c24f8.jpg  \n",
            "  inflating: Images/537758332_8beb9cf522.jpg  \n",
            "  inflating: Images/538825260_a4a8784b75.jpg  \n",
            "  inflating: Images/539493423_9d7d1b77fa.jpg  \n",
            "  inflating: Images/539493431_744eb1abaa.jpg  \n",
            "  inflating: Images/539667015_fd0a3bea07.jpg  \n",
            "  inflating: Images/539676201_c8f1f04952.jpg  \n",
            "  inflating: Images/539705321_99406e5820.jpg  \n",
            "  inflating: Images/539744890_85e63f5854.jpg  \n",
            "  inflating: Images/539750844_02a07ec524.jpg  \n",
            "  inflating: Images/539751252_2bd88c456b.jpg  \n",
            "  inflating: Images/539761097_5c6c70425b.jpg  \n",
            "  inflating: Images/539801139_7258ee437f.jpg  \n",
            "  inflating: Images/540338917_57069687be.jpg  \n",
            "  inflating: Images/540604040_bec822c144.jpg  \n",
            "  inflating: Images/540721368_12ac732c6c.jpg  \n",
            "  inflating: Images/540873795_ae62ae6f60.jpg  \n",
            "  inflating: Images/541046380_513e295384.jpg  \n",
            "  inflating: Images/541063419_a5f3672d59.jpg  \n",
            "  inflating: Images/541063517_35044c554a.jpg  \n",
            "  inflating: Images/542179694_e170e9e465.jpg  \n",
            "  inflating: Images/542269487_5d77b363eb.jpg  \n",
            "  inflating: Images/542317719_ed4dd95dc2.jpg  \n",
            "  inflating: Images/542405691_0594b1ce72.jpg  \n",
            "  inflating: Images/542648687_adf13c406b.jpg  \n",
            "  inflating: Images/543007912_23fc735b99.jpg  \n",
            "  inflating: Images/543102698_38e7e38bbc.jpg  \n",
            "  inflating: Images/543264612_c53cc163b4.jpg  \n",
            "  inflating: Images/543291644_64539956e9.jpg  \n",
            "  inflating: Images/543326592_70bd4d8602.jpg  \n",
            "  inflating: Images/543363241_74d8246fab.jpg  \n",
            "  inflating: Images/543603259_ef26d9c72d.jpg  \n",
            "  inflating: Images/543940240_a54a3c7989.jpg  \n",
            "  inflating: Images/544122267_e9e0100bc5.jpg  \n",
            "  inflating: Images/544257613_d9a1fea3f7.jpg  \n",
            "  inflating: Images/544301311_5e7d69a517.jpg  \n",
            "  inflating: Images/544576742_283b65fa0d.jpg  \n",
            "  inflating: Images/54501196_a9ac9d66f2.jpg  \n",
            "  inflating: Images/54723805_bcf7af3f16.jpg  \n",
            "  inflating: Images/548751378_c657401312.jpg  \n",
            "  inflating: Images/549520317_af3d5c32eb.jpg  \n",
            "  inflating: Images/549887636_0ea5ae4739.jpg  \n",
            "  inflating: Images/55135290_9bed5c4ca3.jpg  \n",
            "  inflating: Images/551403320_dfdcf9fc3b.jpg  \n",
            "  inflating: Images/551664516_78a5131dc4.jpg  \n",
            "  inflating: Images/554526471_a31f8b74ef.jpg  \n",
            "  inflating: Images/55470226_52ff517151.jpg  \n",
            "  inflating: Images/55473406_1d2271c1f2.jpg  \n",
            "  inflating: Images/554774472_b5d165ff69.jpg  \n",
            "  inflating: Images/556568556_bc5124dc8e.jpg  \n",
            "  inflating: Images/557101732_32bbc47c12.jpg  \n",
            "  inflating: Images/557601144_50b8c40393.jpg  \n",
            "  inflating: Images/557721978_dfde31bc02.jpg  \n",
            "  inflating: Images/559102835_472ff702b5.jpg  \n",
            "  inflating: Images/560278886_df4bd2e212.jpg  \n",
            "  inflating: Images/561179884_8b6b925ef9.jpg  \n",
            "  inflating: Images/561179890_af8e31cb2e.jpg  \n",
            "  inflating: Images/561417861_8e25d0c0e8.jpg  \n",
            "  inflating: Images/561940436_64d6fc125d.jpg  \n",
            "  inflating: Images/562588230_edb2c071c8.jpg  \n",
            "  inflating: Images/562928217_21f967a807.jpg  \n",
            "  inflating: Images/56489627_e1de43de34.jpg  \n",
            "  inflating: Images/56494233_1824005879.jpg  \n",
            "  inflating: Images/565605894_8f0bed0438.jpg  \n",
            "  inflating: Images/566384456_97da3c7bd6.jpg  \n",
            "  inflating: Images/566397227_a469e9e415.jpg  \n",
            "  inflating: Images/566446626_9793890f95.jpg  \n",
            "  inflating: Images/566794036_60f7acdf35.jpg  \n",
            "  inflating: Images/566794440_f9ec673a2f.jpg  \n",
            "  inflating: Images/566921157_07c18a41e2.jpg  \n",
            "  inflating: Images/571130875_30051ac02d.jpg  \n",
            "  inflating: Images/571507143_be346225b7.jpg  \n",
            "  inflating: Images/572618443_647483ca82.jpg  \n",
            "  inflating: Images/57417274_d55d34e93e.jpg  \n",
            "  inflating: Images/57422853_b5f6366081.jpg  \n",
            "  inflating: Images/574274795_57e0834e7d.jpg  \n",
            "  inflating: Images/575636303_b0b8fd4eee.jpg  \n",
            "  inflating: Images/576075451_5e0f6facb3.jpg  \n",
            "  inflating: Images/576093768_e78f91c176.jpg  \n",
            "  inflating: Images/576920249_df1bdc2068.jpg  \n",
            "  inflating: Images/578274277_652cae32ba.jpg  \n",
            "  inflating: Images/578644583_da3ff18dd1.jpg  \n",
            "  inflating: Images/581419370_30485f3580.jpg  \n",
            "  inflating: Images/582788646_dc40748639.jpg  \n",
            "  inflating: Images/582899605_d96f9201f1.jpg  \n",
            "  inflating: Images/583087629_a09334e1fb.jpg  \n",
            "  inflating: Images/583174725_6b522b621f.jpg  \n",
            "  inflating: Images/58357057_dea882479e.jpg  \n",
            "  inflating: Images/58363928_6f7074608c.jpg  \n",
            "  inflating: Images/58363930_0544844edd.jpg  \n",
            "  inflating: Images/58368365_03ed3e5bdf.jpg  \n",
            "  inflating: Images/584484388_0eeb36d03d.jpg  \n",
            "  inflating: Images/587604325_af5d6df679.jpg  \n",
            "  inflating: Images/590445887_4d4fa43923.jpg  \n",
            "  inflating: Images/597543181_6a85ef4c17.jpg  \n",
            "  inflating: Images/599366440_a238e805cf.jpg  \n",
            "  inflating: Images/607339469_af851c4119.jpg  \n",
            "  inflating: Images/608257195_6ec6f48e37.jpg  \n",
            "  inflating: Images/609681901_66809d2dc1.jpg  \n",
            "  inflating: Images/610590753_cd69ce081a.jpg  \n",
            "  inflating: Images/611910909_4f8e43e070.jpg  \n",
            "  inflating: Images/61209225_8512e1dad5.jpg  \n",
            "  inflating: Images/613030608_4355e007c7.jpg  \n",
            "  inflating: Images/613900608_2e49415772.jpg  \n",
            "  inflating: Images/615916000_5044047d71.jpg  \n",
            "  inflating: Images/616045808_0286d0574b.jpg  \n",
            "  inflating: Images/616177206_0e16c33f6b.jpg  \n",
            "  inflating: Images/617038406_4092ee91dd.jpg  \n",
            "  inflating: Images/618292739_0fdc2ccab0.jpg  \n",
            "  inflating: Images/618771382_459bb492e4.jpg  \n",
            "  inflating: Images/619169586_0a13ee7c21.jpg  \n",
            "  inflating: Images/621000329_84f48948eb.jpg  \n",
            "  inflating: Images/624058168_f1c5e87e59.jpg  \n",
            "  inflating: Images/624742559_ff467d8ebc.jpg  \n",
            "  inflating: Images/630476551_2ee7399f77.jpg  \n",
            "  inflating: Images/632251903_b36701a5e9.jpg  \n",
            "  inflating: Images/632608471_a70461f123.jpg  \n",
            "  inflating: Images/633456174_b768c1d6cd.jpg  \n",
            "  inflating: Images/634891010_9fa189effb.jpg  \n",
            "  inflating: Images/635444010_bd81c89ab7.jpg  \n",
            "  inflating: Images/636503038_17ca82b50f.jpg  \n",
            "  inflating: Images/637342973_89f6fac1f7.jpg  \n",
            "  inflating: Images/639120223_7db6bdb61f.jpg  \n",
            "  inflating: Images/639865690_d66d480879.jpg  \n",
            "  inflating: Images/640053014_549d2f23d2.jpg  \n",
            "  inflating: Images/640203018_c0e7175831.jpg  \n",
            "  inflating: Images/640409060_6af18fdd54.jpg  \n",
            "  inflating: Images/640506101_ae1145b6d1.jpg  \n",
            "  inflating: Images/641893280_36fd6e886a.jpg  \n",
            "  inflating: Images/642987597_03b21a1437.jpg  \n",
            "  inflating: Images/649596742_5ba84ce946.jpg  \n",
            "  inflating: Images/652542470_60e858da64.jpg  \n",
            "  inflating: Images/654130822_4aeb1f1273.jpg  \n",
            "  inflating: Images/656260720_a7db4ce48b.jpg  \n",
            "  inflating: Images/661546153_9d30db6984.jpg  \n",
            "  inflating: Images/661749711_6f408dad62.jpg  \n",
            "  inflating: Images/661755629_602ea4cf09.jpg  \n",
            "  inflating: Images/661757041_61e131e913.jpg  \n",
            "  inflating: Images/662606040_8cc8cd9f1b.jpg  \n",
            "  inflating: Images/664341930_bd5c8b60ea.jpg  \n",
            "  inflating: Images/664470170_6a1ad20c45.jpg  \n",
            "  inflating: Images/667626_18933d713e.jpg  \n",
            "  inflating: Images/670609997_5c7fdb3f0b.jpg  \n",
            "  inflating: Images/673806038_0a3682a83f.jpg  \n",
            "  inflating: Images/684255145_db3f8e3e46.jpg  \n",
            "  inflating: Images/684375286_09cc1aa778.jpg  \n",
            "  inflating: Images/687513087_413d4a3a3b.jpg  \n",
            "  inflating: Images/688210930_85c5675d5b.jpg  \n",
            "  inflating: Images/688940111_325a74674a.jpg  \n",
            "  inflating: Images/689359034_4a64c24ca4.jpg  \n",
            "  inflating: Images/689776124_07f560a920.jpg  \n",
            "  inflating: Images/691770760_48ce80a674.jpg  \n",
            "  inflating: Images/69189650_6687da7280.jpg  \n",
            "  inflating: Images/693164706_9624582e69.jpg  \n",
            "  inflating: Images/693450725_8ad72389e6.jpg  \n",
            "  inflating: Images/693785581_68bec8312a.jpg  \n",
            "  inflating: Images/694496803_f2a05869cf.jpg  \n",
            "  inflating: Images/696663662_232edd58af.jpg  \n",
            "  inflating: Images/69710411_2cf537f61f.jpg  \n",
            "  inflating: Images/69710415_5c2bfb1058.jpg  \n",
            "  inflating: Images/697490420_67d8d2a859.jpg  \n",
            "  inflating: Images/697582336_601462e052.jpg  \n",
            "  inflating: Images/697778778_b52090709d.jpg  \n",
            "  inflating: Images/698107542_3aa0ba78b4.jpg  \n",
            "  inflating: Images/700884207_d3ec546494.jpg  \n",
            "  inflating: Images/701816897_221bbe761a.jpg  \n",
            "  inflating: Images/707941195_4386109029.jpg  \n",
            "  inflating: Images/707972553_36816e53a2.jpg  \n",
            "  inflating: Images/708860480_1a956ae0f7.jpg  \n",
            "  inflating: Images/708945669_08e7ffb9a7.jpg  \n",
            "  inflating: Images/709373049_15b8b6457a.jpg  \n",
            "  inflating: Images/70995350_75d0698839.jpg  \n",
            "  inflating: Images/710878348_323082babd.jpg  \n",
            "  inflating: Images/716597900_b72c58362c.jpg  \n",
            "  inflating: Images/717673249_ac998cfbe6.jpg  \n",
            "  inflating: Images/719837187_3e7bf1d472.jpg  \n",
            "  inflating: Images/720208977_f44c2bba5b.jpg  \n",
            "  inflating: Images/72218201_e0e9c7d65b.jpg  \n",
            "  inflating: Images/724702877_f2a938766b.jpg  \n",
            "  inflating: Images/72964268_d532bb8ec7.jpg  \n",
            "  inflating: Images/732468337_a37075225e.jpg  \n",
            "  inflating: Images/733172023_5810350af6.jpg  \n",
            "  inflating: Images/733752482_ee01a419e5.jpg  \n",
            "  inflating: Images/733964952_69f011a6c4.jpg  \n",
            "  inflating: Images/733965014_1a0b2b5ee9.jpg  \n",
            "  inflating: Images/735787579_617b047319.jpg  \n",
            "  inflating: Images/742073622_1206be8f7f.jpg  \n",
            "  inflating: Images/743571049_68080e8751.jpg  \n",
            "  inflating: Images/745563422_f4fa7d9157.jpg  \n",
            "  inflating: Images/745880539_cd3f948837.jpg  \n",
            "  inflating: Images/745966757_6d16dfad8f.jpg  \n",
            "  inflating: Images/746787916_ceb103069f.jpg  \n",
            "  inflating: Images/747242766_afdc9cb2ba.jpg  \n",
            "  inflating: Images/747921928_48eb02aab2.jpg  \n",
            "  inflating: Images/749840385_e004bf3b7c.jpg  \n",
            "  inflating: Images/750196276_c3258c6f1b.jpg  \n",
            "  inflating: Images/751074141_feafc7b16c.jpg  \n",
            "  inflating: Images/751109943_2a7f8e117f.jpg  \n",
            "  inflating: Images/751737218_b89839a311.jpg  \n",
            "  inflating: Images/752052256_243d111bf0.jpg  \n",
            "  inflating: Images/753285176_f21a2b984d.jpg  \n",
            "  inflating: Images/753578547_912d2b4048.jpg  \n",
            "  inflating: Images/754852108_72f80d421f.jpg  \n",
            "  inflating: Images/755326139_ee344ece7b.jpg  \n",
            "  inflating: Images/756004341_1a816df714.jpg  \n",
            "  inflating: Images/756521713_5d3da56a54.jpg  \n",
            "  inflating: Images/756909515_a416161656.jpg  \n",
            "  inflating: Images/757046028_ff5999f91b.jpg  \n",
            "  inflating: Images/757133580_ba974ef649.jpg  \n",
            "  inflating: Images/757332692_6866ae545c.jpg  \n",
            "  inflating: Images/758921886_55a351dd67.jpg  \n",
            "  inflating: Images/759015118_4bd3617e60.jpg  \n",
            "  inflating: Images/760138567_762d9022d4.jpg  \n",
            "  inflating: Images/760180310_3c6bd4fd1f.jpg  \n",
            "  inflating: Images/762947607_2001ee4c72.jpg  \n",
            "  inflating: Images/763577068_4b96ed768b.jpg  \n",
            "  inflating: Images/765091078_a8a11c6f9e.jpg  \n",
            "  inflating: Images/765298136_7805fbb079.jpg  \n",
            "  inflating: Images/765929807_de381cc764.jpg  \n",
            "  inflating: Images/766061382_6c7ff514c4.jpg  \n",
            "  inflating: Images/766099402_cdda6964f0.jpg  \n",
            "  inflating: Images/766346887_a9a9d0637a.jpg  \n",
            "  inflating: Images/769260947_02bc973d76.jpg  \n",
            "  inflating: Images/771048251_602e5e8f45.jpg  \n",
            "  inflating: Images/771366843_a66304161b.jpg  \n",
            "  inflating: Images/772212710_f5fc22ed35.jpg  \n",
            "  inflating: Images/772403830_08b72c7da9.jpg  \n",
            "  inflating: Images/774009278_8e75b7d498.jpg  \n",
            "  inflating: Images/775664534_3f6de7d413.jpg  \n",
            "  inflating: Images/778885185_3f6905370b.jpg  \n",
            "  inflating: Images/781118358_19087c9ec0.jpg  \n",
            "  inflating: Images/781387473_208ba152b3.jpg  \n",
            "  inflating: Images/782017931_75d92bb7a4.jpg  \n",
            "  inflating: Images/782401952_5bc5d3413a.jpg  \n",
            "  inflating: Images/783353797_fdf91bdf4c.jpg  \n",
            "  inflating: Images/783994497_4f6885454d.jpg  \n",
            "  inflating: Images/788126442_086334f0cf.jpg  \n",
            "  inflating: Images/78984436_ad96eaa802.jpg  \n",
            "  inflating: Images/791338571_7f38510bf7.jpg  \n",
            "  inflating: Images/792362827_5ab5281b99.jpg  \n",
            "  inflating: Images/795081510_53fd17d101.jpg  \n",
            "  inflating: Images/798343627_7492fe0c12.jpg  \n",
            "  inflating: Images/799199774_142b1c3bb2.jpg  \n",
            "  inflating: Images/799431781_65dc312afc.jpg  \n",
            "  inflating: Images/799486353_f665d7b0f0.jpg  \n",
            "  inflating: Images/801607443_f15956d1ce.jpg  \n",
            "  inflating: Images/802594049_289e3c8420.jpg  \n",
            "  inflating: Images/804087017_330bcc8c56.jpg  \n",
            "  inflating: Images/805682444_90ed9e1ef3.jpg  \n",
            "  inflating: Images/808245064_8a7971fc5b.jpg  \n",
            "  inflating: Images/811662356_f9a632b63c.jpg  \n",
            "  inflating: Images/811663364_4b350a62ce.jpg  \n",
            "  inflating: Images/812196663_0c969970b5.jpg  \n",
            "  inflating: Images/816084977_21c1811c9a.jpg  \n",
            "  inflating: Images/818340833_7b963c0ee3.jpg  \n",
            "  inflating: Images/820169182_f5e78d7d19.jpg  \n",
            "  inflating: Images/822836318_21544f0f78.jpg  \n",
            "  inflating: Images/823675317_b5fbdb17b3.jpg  \n",
            "  inflating: Images/823697339_aadbeef495.jpg  \n",
            "  inflating: Images/824123145_59243e504e.jpg  \n",
            "  inflating: Images/824782868_a8f532f3a6.jpg  \n",
            "  inflating: Images/824923476_d85edce294.jpg  \n",
            "  inflating: Images/825918657_d92f1761f4.jpg  \n",
            "  inflating: Images/827941668_2e4ac6cb39.jpg  \n",
            "  inflating: Images/832128857_1390386ea6.jpg  \n",
            "  inflating: Images/835415474_7b7f2a9768.jpg  \n",
            "  inflating: Images/836768303_d748df5546.jpg  \n",
            "  inflating: Images/836828001_af98d16256.jpg  \n",
            "  inflating: Images/837893113_81854e94e3.jpg  \n",
            "  inflating: Images/837919879_94e3dacd83.jpg  \n",
            "  inflating: Images/838074897_9d6270b3cd.jpg  \n",
            "  inflating: Images/839295615_bb9baf2f95.jpg  \n",
            "  inflating: Images/842960985_91daf0d6ec.jpg  \n",
            "  inflating: Images/842961005_692737888e.jpg  \n",
            "  inflating: Images/843616798_5ab0ecb525.jpg  \n",
            "  inflating: Images/846085364_fc9d23df46.jpg  \n",
            "  inflating: Images/84713990_d3f3cef78b.jpg  \n",
            "  inflating: Images/847782643_57248bbdab.jpg  \n",
            "  inflating: Images/848180689_d67a1361ce.jpg  \n",
            "  inflating: Images/848293676_98e73c52c1.jpg  \n",
            "  inflating: Images/852469220_bc0fee3623.jpg  \n",
            "  inflating: Images/854333409_38bc1da9dc.jpg  \n",
            "  inflating: Images/856985136_649c0a3881.jpg  \n",
            "  inflating: Images/857914283_270d7d1c87.jpg  \n",
            "  inflating: Images/859620561_de417cac1e.jpg  \n",
            "  inflating: Images/860928274_744d14f198.jpg  \n",
            "  inflating: Images/861608773_bdafd5c996.jpg  \n",
            "  inflating: Images/861661418_8a37024ace.jpg  \n",
            "  inflating: Images/861795382_5145ad433d.jpg  \n",
            "  inflating: Images/862054277_34b5a6f401.jpg  \n",
            "  inflating: Images/862156271_3eacea90a8.jpg  \n",
            "  inflating: Images/862177617_c2c0581075.jpg  \n",
            "  inflating: Images/862187579_9faf4a51e0.jpg  \n",
            "  inflating: Images/86412576_c53392ef80.jpg  \n",
            "  inflating: Images/864290968_eccb46d5ab.jpg  \n",
            "  inflating: Images/86542183_5e312ae4d4.jpg  \n",
            "  inflating: Images/866841633_05d273b96d.jpg  \n",
            "  inflating: Images/870710405_51e507b31a.jpg  \n",
            "  inflating: Images/871290646_307cddd4e7.jpg  \n",
            "  inflating: Images/871290666_4877e128c0.jpg  \n",
            "  inflating: Images/872135364_8c1e47d163.jpg  \n",
            "  inflating: Images/872512911_ca383b40e4.jpg  \n",
            "  inflating: Images/872622575_ba1d3632cc.jpg  \n",
            "  inflating: Images/873633312_a756d8b381.jpg  \n",
            "  inflating: Images/874665322_9ad05c4065.jpg  \n",
            "  inflating: Images/875731481_a5a0a09934.jpg  \n",
            "  inflating: Images/878758390_dd2cdc42f6.jpg  \n",
            "  inflating: Images/880220939_0ef1c37f1f.jpg  \n",
            "  inflating: Images/881725588_efabbcd96a.jpg  \n",
            "  inflating: Images/883040210_3c4a10f030.jpg  \n",
            "  inflating: Images/887108308_2da97f15ef.jpg  \n",
            "  inflating: Images/888425986_e4b6c12324.jpg  \n",
            "  inflating: Images/888517718_3d5b4b7b43.jpg  \n",
            "  inflating: Images/890734502_a5ae67beac.jpg  \n",
            "  inflating: Images/892340814_bdd61e10a4.jpg  \n",
            "  inflating: Images/894928353_002a3d5f06.jpg  \n",
            "  inflating: Images/895502702_5170ada2ee.jpg  \n",
            "  inflating: Images/897406883_f09f673d94.jpg  \n",
            "  inflating: Images/897621891_efb1e00d1d.jpg  \n",
            "  inflating: Images/899810584_61e1578d3f.jpg  \n",
            "  inflating: Images/90011335_cfdf9674c2.jpg  \n",
            "  inflating: Images/900144365_03cd1899e3.jpg  \n",
            "  inflating: Images/905355838_3a43fdfd4e.jpg  \n",
            "  inflating: Images/909191414_1cf5d85821.jpg  \n",
            "  inflating: Images/909808296_23c427022d.jpg  \n",
            "  inflating: Images/911527312_f81ee36b97.jpg  \n",
            "  inflating: Images/911795495_342bb15b97.jpg  \n",
            "  inflating: Images/917574521_74fab68514.jpg  \n",
            "  inflating: Images/918886676_3323fb2a01.jpg  \n",
            "  inflating: Images/923550133_ac9d7a2932.jpg  \n",
            "  inflating: Images/925491651_57df3a5b36.jpg  \n",
            "  inflating: Images/927420680_6cba7c040a.jpg  \n",
            "  inflating: Images/929679367_ff8c7df2ee.jpg  \n",
            "  inflating: Images/930126921_1b94605bdc.jpg  \n",
            "  inflating: Images/930748509_8ca5cf5c24.jpg  \n",
            "  inflating: Images/933118213_b35b0b62a7.jpg  \n",
            "  inflating: Images/934375844_dd149fed18.jpg  \n",
            "  inflating: Images/937559727_ae2613cee5.jpg  \n",
            "  inflating: Images/938162709_21443d352f.jpg  \n",
            "  inflating: Images/93922153_8d831f7f01.jpg  \n",
            "  inflating: Images/940973925_a2e6d7951c.jpg  \n",
            "  inflating: Images/94232465_a135df2711.jpg  \n",
            "  inflating: Images/942399470_6132d3e5d2.jpg  \n",
            "  inflating: Images/944374205_fd3e69bfca.jpg  \n",
            "  inflating: Images/944788251_a0bcd4b960.jpg  \n",
            "  inflating: Images/945509052_740bb19bc3.jpg  \n",
            "  inflating: Images/946051430_8db7e4ce09.jpg  \n",
            "  inflating: Images/947664583_7c63172366.jpg  \n",
            "  inflating: Images/947969010_f1ea572e89.jpg  \n",
            "  inflating: Images/948196883_e190a483b1.jpg  \n",
            "  inflating: Images/950273886_88c324e663.jpg  \n",
            "  inflating: Images/950411653_20d0335946.jpg  \n",
            "  inflating: Images/95151149_5ca6747df6.jpg  \n",
            "  inflating: Images/952171414_2db16f846f.jpg  \n",
            "  inflating: Images/953941506_5082c9160c.jpg  \n",
            "  inflating: Images/954987350_a0c608b467.jpg  \n",
            "  inflating: Images/956164675_9ee084364e.jpg  \n",
            "  inflating: Images/957230475_48f4285ffe.jpg  \n",
            "  inflating: Images/95728660_d47de66544.jpg  \n",
            "  inflating: Images/95728664_06c43b90f1.jpg  \n",
            "  inflating: Images/95734035_84732a92c1.jpg  \n",
            "  inflating: Images/95734036_bef6d1a871.jpg  \n",
            "  inflating: Images/95734038_2ab5783da7.jpg  \n",
            "  inflating: Images/957682378_46c3b07bcd.jpg  \n",
            "  inflating: Images/95783195_e1ba3f57ca.jpg  \n",
            "  inflating: Images/958326692_6210150354.jpg  \n",
            "  inflating: Images/961189263_0990f3bcb5.jpg  \n",
            "  inflating: Images/961611340_251081fcb8.jpg  \n",
            "  inflating: Images/963730324_0638534227.jpg  \n",
            "  inflating: Images/96399948_b86c61bfe6.jpg  \n",
            "  inflating: Images/964197865_0133acaeb4.jpg  \n",
            "  inflating: Images/96420612_feb18fc6c6.jpg  \n",
            "  inflating: Images/965444691_fe7e85bf0e.jpg  \n",
            "  inflating: Images/967719295_3257695095.jpg  \n",
            "  inflating: Images/968081289_cdba83ce2e.jpg  \n",
            "  inflating: Images/96973080_783e375945.jpg  \n",
            "  inflating: Images/96978713_775d66a18d.jpg  \n",
            "  inflating: Images/96985174_31d4c6f06d.jpg  \n",
            "  inflating: Images/970641406_9a20ee636a.jpg  \n",
            "  inflating: Images/97105139_fae46fe8ef.jpg  \n",
            "  inflating: Images/972381743_5677b420ab.jpg  \n",
            "  inflating: Images/973827791_467d83986e.jpg  \n",
            "  inflating: Images/97406261_5eea044056.jpg  \n",
            "  inflating: Images/974924582_10bed89b8d.jpg  \n",
            "  inflating: Images/975131015_9acd25db9c.jpg  \n",
            "  inflating: Images/97577988_65e2eae14a.jpg  \n",
            "  inflating: Images/976392326_082dafc3c5.jpg  \n",
            "  inflating: Images/97731718_eb7ba71fd3.jpg  \n",
            "  inflating: Images/977856234_0d9caee7b2.jpg  \n",
            "  inflating: Images/978580450_e862715aba.jpg  \n",
            "  inflating: Images/979201222_75b6456d34.jpg  \n",
            "  inflating: Images/979383193_0a542a059d.jpg  \n",
            "  inflating: Images/98377566_e4674d1ebd.jpg  \n",
            "  inflating: Images/985067019_705fe4a4cc.jpg  \n",
            "  inflating: Images/987907964_5a06a63609.jpg  \n",
            "  inflating: Images/989754491_7e53fb4586.jpg  \n",
            "  inflating: Images/989851184_9ef368e520.jpg  \n",
            "  inflating: Images/990890291_afc72be141.jpg  \n",
            "  inflating: Images/99171998_7cc800ceef.jpg  \n",
            "  inflating: Images/99679241_adc853a5c0.jpg  \n",
            "  inflating: Images/997338199_7343367d7f.jpg  \n",
            "  inflating: Images/997722733_0cb5439472.jpg  \n",
            "  inflating: captions.txt            \n"
          ]
        },
        {
          "output_type": "error",
          "ename": "NameError",
          "evalue": "name 'DataLoader' is not defined",
          "traceback": [
            "\u001b[0;31m---------------------------------------------------------------------------\u001b[0m",
            "\u001b[0;31mNameError\u001b[0m                                 Traceback (most recent call last)",
            "\u001b[0;32m<ipython-input-16-699ecfeb56f7>\u001b[0m in \u001b[0;36m<cell line: 26>\u001b[0;34m()\u001b[0m\n\u001b[1;32m     24\u001b[0m \u001b[0;34m\u001b[0m\u001b[0m\n\u001b[1;32m     25\u001b[0m \u001b[0mflickr_dataset\u001b[0m \u001b[0;34m=\u001b[0m \u001b[0mCLIPDataset\u001b[0m\u001b[0;34m(\u001b[0m\u001b[0mtitles\u001b[0m\u001b[0;34m,\u001b[0m \u001b[0mimage_paths\u001b[0m\u001b[0;34m)\u001b[0m\u001b[0;34m\u001b[0m\u001b[0;34m\u001b[0m\u001b[0m\n\u001b[0;32m---> 26\u001b[0;31m \u001b[0mflickr_dataloader\u001b[0m \u001b[0;34m=\u001b[0m \u001b[0mDataLoader\u001b[0m\u001b[0;34m(\u001b[0m\u001b[0mflickr_dataset\u001b[0m\u001b[0;34m,\u001b[0m \u001b[0mbatch_size\u001b[0m\u001b[0;34m=\u001b[0m\u001b[0;36m32\u001b[0m\u001b[0;34m,\u001b[0m \u001b[0mshuffle\u001b[0m\u001b[0;34m=\u001b[0m\u001b[0;32mTrue\u001b[0m\u001b[0;34m)\u001b[0m\u001b[0;34m\u001b[0m\u001b[0;34m\u001b[0m\u001b[0m\n\u001b[0m",
            "\u001b[0;31mNameError\u001b[0m: name 'DataLoader' is not defined"
          ]
        }
      ]
    },
    {
      "cell_type": "code",
      "source": [
        "import torch\n",
        "import wandb\n",
        "from torch.nn.functional import softmax\n",
        "from torch.utils.data import DataLoader\n",
        "from tqdm import tqdm\n",
        "\n",
        "flickr_dataset = CLIPDataset(titles, image_paths)\n",
        "flickr_dataloader = DataLoader(flickr_dataset, batch_size=32, shuffle=True)\n"
      ],
      "metadata": {
        "id": "9ED7rOtzLQD1"
      },
      "execution_count": 17,
      "outputs": []
    },
    {
      "cell_type": "code",
      "source": [],
      "metadata": {
        "id": "SxKNW_UEDf5k"
      },
      "execution_count": 17,
      "outputs": []
    },
    {
      "cell_type": "markdown",
      "source": [
        "# Training"
      ],
      "metadata": {
        "id": "_Qm2OId3U3I6"
      }
    },
    {
      "cell_type": "code",
      "source": [
        "import torch\n",
        "import wandb\n",
        "from torch.nn.functional import softmax\n",
        "from torch.utils.data import DataLoader\n",
        "from tqdm import tqdm\n",
        "\n",
        "wandb.init(project=\"CLIP\")\n",
        "wandb.config.dataset = \"FlickR\"\n",
        "\n",
        "clip_model = CLIP()\n",
        "\n",
        "optimizer = torch.optim.Adam(clip_model.parameters(), lr=1e-4)\n",
        "# dataloader = DataLoader(dataset, batch_size=32, shuffle=True)\n",
        "dataloader = flickr_dataloader"
      ],
      "metadata": {
        "colab": {
          "base_uri": "https://localhost:8080/",
          "height": 139
        },
        "id": "3on1DeYLUZuy",
        "outputId": "e2e9ac65-52d6-480a-db8b-31518ab82847"
      },
      "execution_count": 18,
      "outputs": [
        {
          "output_type": "display_data",
          "data": {
            "text/plain": [
              "<IPython.core.display.Javascript object>"
            ],
            "application/javascript": [
              "\n",
              "        window._wandbApiKey = new Promise((resolve, reject) => {\n",
              "            function loadScript(url) {\n",
              "            return new Promise(function(resolve, reject) {\n",
              "                let newScript = document.createElement(\"script\");\n",
              "                newScript.onerror = reject;\n",
              "                newScript.onload = resolve;\n",
              "                document.body.appendChild(newScript);\n",
              "                newScript.src = url;\n",
              "            });\n",
              "            }\n",
              "            loadScript(\"https://cdn.jsdelivr.net/npm/postmate/build/postmate.min.js\").then(() => {\n",
              "            const iframe = document.createElement('iframe')\n",
              "            iframe.style.cssText = \"width:0;height:0;border:none\"\n",
              "            document.body.appendChild(iframe)\n",
              "            const handshake = new Postmate({\n",
              "                container: iframe,\n",
              "                url: 'https://wandb.ai/authorize'\n",
              "            });\n",
              "            const timeout = setTimeout(() => reject(\"Couldn't auto authenticate\"), 5000)\n",
              "            handshake.then(function(child) {\n",
              "                child.on('authorize', data => {\n",
              "                    clearTimeout(timeout)\n",
              "                    resolve(data)\n",
              "                });\n",
              "            });\n",
              "            })\n",
              "        });\n",
              "    "
            ]
          },
          "metadata": {}
        },
        {
          "output_type": "stream",
          "name": "stderr",
          "text": [
            "\u001b[34m\u001b[1mwandb\u001b[0m: Appending key for api.wandb.ai to your netrc file: /root/.netrc\n"
          ]
        },
        {
          "output_type": "display_data",
          "data": {
            "text/plain": [
              "<IPython.core.display.HTML object>"
            ],
            "text/html": [
              "Tracking run with wandb version 0.16.6"
            ]
          },
          "metadata": {}
        },
        {
          "output_type": "display_data",
          "data": {
            "text/plain": [
              "<IPython.core.display.HTML object>"
            ],
            "text/html": [
              "Run data is saved locally in <code>/content/wandb/run-20240506_183221-r2r4f7om</code>"
            ]
          },
          "metadata": {}
        },
        {
          "output_type": "display_data",
          "data": {
            "text/plain": [
              "<IPython.core.display.HTML object>"
            ],
            "text/html": [
              "Syncing run <strong><a href='https://wandb.ai/pablosfsanchez/CLIP/runs/r2r4f7om' target=\"_blank\">worldly-capybara-10</a></strong> to <a href='https://wandb.ai/pablosfsanchez/CLIP' target=\"_blank\">Weights & Biases</a> (<a href='https://wandb.me/run' target=\"_blank\">docs</a>)<br/>"
            ]
          },
          "metadata": {}
        },
        {
          "output_type": "display_data",
          "data": {
            "text/plain": [
              "<IPython.core.display.HTML object>"
            ],
            "text/html": [
              " View project at <a href='https://wandb.ai/pablosfsanchez/CLIP' target=\"_blank\">https://wandb.ai/pablosfsanchez/CLIP</a>"
            ]
          },
          "metadata": {}
        },
        {
          "output_type": "display_data",
          "data": {
            "text/plain": [
              "<IPython.core.display.HTML object>"
            ],
            "text/html": [
              " View run at <a href='https://wandb.ai/pablosfsanchez/CLIP/runs/r2r4f7om' target=\"_blank\">https://wandb.ai/pablosfsanchez/CLIP/runs/r2r4f7om</a>"
            ]
          },
          "metadata": {}
        }
      ]
    },
    {
      "cell_type": "code",
      "source": [
        "# Training loop\n",
        "num_epochs = 1\n",
        "for epoch in range(num_epochs):\n",
        "    clip_model.train()\n",
        "    total_loss = 0.0\n",
        "\n",
        "    for batch in tqdm(dataloader, desc=f\"Epoch {epoch+1}/{num_epochs}\"):\n",
        "        optimizer.zero_grad()\n",
        "\n",
        "        # Extract data from batch\n",
        "        c = batch['image'].to(dtype=torch.float32)\n",
        "        ids = batch['input_ids']\n",
        "        attn = batch['attention_mask']\n",
        "\n",
        "        # Forward pass\n",
        "        loss = clip_model(ids, attn, c)\n",
        "\n",
        "        # Backward pass\n",
        "        loss.backward()\n",
        "        optimizer.step()\n",
        "\n",
        "        total_loss += loss.item()\n",
        "        wandb.log({\"Loss\": loss.item()})\n",
        "        print(loss.item())\n",
        "\n",
        "    # Calculate average loss for the epoch\n",
        "    avg_loss = total_loss / len(dataloader)\n",
        "\n",
        "    # Log the loss to wandb\n",
        "    # wandb.log({\" Loss\": avg_loss})\n"
      ],
      "metadata": {
        "colab": {
          "base_uri": "https://localhost:8080/",
          "height": 1000
        },
        "id": "R-6BtiG7UZ1y",
        "outputId": "cc6b25d0-0164-492f-c3fe-5284d4e5cd83"
      },
      "execution_count": 19,
      "outputs": [
        {
          "output_type": "stream",
          "name": "stderr",
          "text": [
            "Epoch 1/1:   0%|          | 1/1188 [00:01<30:03,  1.52s/it]"
          ]
        },
        {
          "output_type": "stream",
          "name": "stdout",
          "text": [
            "14.15172290802002\n"
          ]
        },
        {
          "output_type": "stream",
          "name": "stderr",
          "text": [
            "\rEpoch 1/1:   0%|          | 2/1188 [00:02<26:41,  1.35s/it]"
          ]
        },
        {
          "output_type": "stream",
          "name": "stdout",
          "text": [
            "8.592663764953613\n"
          ]
        },
        {
          "output_type": "stream",
          "name": "stderr",
          "text": [
            "\rEpoch 1/1:   0%|          | 3/1188 [00:03<25:08,  1.27s/it]"
          ]
        },
        {
          "output_type": "stream",
          "name": "stdout",
          "text": [
            "7.075441360473633\n"
          ]
        },
        {
          "output_type": "stream",
          "name": "stderr",
          "text": [
            "\rEpoch 1/1:   0%|          | 4/1188 [00:04<22:47,  1.16s/it]"
          ]
        },
        {
          "output_type": "stream",
          "name": "stdout",
          "text": [
            "8.234642028808594\n"
          ]
        },
        {
          "output_type": "stream",
          "name": "stderr",
          "text": [
            "\rEpoch 1/1:   0%|          | 5/1188 [00:05<20:17,  1.03s/it]"
          ]
        },
        {
          "output_type": "stream",
          "name": "stdout",
          "text": [
            "6.7638936042785645\n"
          ]
        },
        {
          "output_type": "stream",
          "name": "stderr",
          "text": [
            "\rEpoch 1/1:   1%|          | 6/1188 [00:06<18:32,  1.06it/s]"
          ]
        },
        {
          "output_type": "stream",
          "name": "stdout",
          "text": [
            "6.554296016693115\n"
          ]
        },
        {
          "output_type": "stream",
          "name": "stderr",
          "text": [
            "\rEpoch 1/1:   1%|          | 7/1188 [00:07<17:24,  1.13it/s]"
          ]
        },
        {
          "output_type": "stream",
          "name": "stdout",
          "text": [
            "5.978809833526611\n"
          ]
        },
        {
          "output_type": "stream",
          "name": "stderr",
          "text": [
            "\rEpoch 1/1:   1%|          | 8/1188 [00:08<16:46,  1.17it/s]"
          ]
        },
        {
          "output_type": "stream",
          "name": "stdout",
          "text": [
            "6.941947937011719\n"
          ]
        },
        {
          "output_type": "stream",
          "name": "stderr",
          "text": [
            "\rEpoch 1/1:   1%|          | 9/1188 [00:08<16:17,  1.21it/s]"
          ]
        },
        {
          "output_type": "stream",
          "name": "stdout",
          "text": [
            "7.638950824737549\n"
          ]
        },
        {
          "output_type": "stream",
          "name": "stderr",
          "text": [
            "\rEpoch 1/1:   1%|          | 10/1188 [00:09<16:23,  1.20it/s]"
          ]
        },
        {
          "output_type": "stream",
          "name": "stdout",
          "text": [
            "5.78501033782959\n"
          ]
        },
        {
          "output_type": "stream",
          "name": "stderr",
          "text": [
            "\rEpoch 1/1:   1%|          | 11/1188 [00:10<16:53,  1.16it/s]"
          ]
        },
        {
          "output_type": "stream",
          "name": "stdout",
          "text": [
            "6.427818298339844\n"
          ]
        },
        {
          "output_type": "stream",
          "name": "stderr",
          "text": [
            "\rEpoch 1/1:   1%|          | 12/1188 [00:11<17:20,  1.13it/s]"
          ]
        },
        {
          "output_type": "stream",
          "name": "stdout",
          "text": [
            "5.682463645935059\n"
          ]
        },
        {
          "output_type": "stream",
          "name": "stderr",
          "text": [
            "\rEpoch 1/1:   1%|          | 13/1188 [00:12<19:00,  1.03it/s]"
          ]
        },
        {
          "output_type": "stream",
          "name": "stdout",
          "text": [
            "5.89088249206543\n"
          ]
        },
        {
          "output_type": "stream",
          "name": "stderr",
          "text": [
            "\rEpoch 1/1:   1%|          | 14/1188 [00:13<20:13,  1.03s/it]"
          ]
        },
        {
          "output_type": "stream",
          "name": "stdout",
          "text": [
            "6.278946399688721\n"
          ]
        },
        {
          "output_type": "stream",
          "name": "stderr",
          "text": [
            "\rEpoch 1/1:   1%|▏         | 15/1188 [00:15<20:57,  1.07s/it]"
          ]
        },
        {
          "output_type": "stream",
          "name": "stdout",
          "text": [
            "6.0138468742370605\n"
          ]
        },
        {
          "output_type": "stream",
          "name": "stderr",
          "text": [
            "\rEpoch 1/1:   1%|▏         | 16/1188 [00:15<19:30,  1.00it/s]"
          ]
        },
        {
          "output_type": "stream",
          "name": "stdout",
          "text": [
            "5.320374011993408\n"
          ]
        },
        {
          "output_type": "stream",
          "name": "stderr",
          "text": [
            "\rEpoch 1/1:   1%|▏         | 17/1188 [00:16<18:01,  1.08it/s]"
          ]
        },
        {
          "output_type": "stream",
          "name": "stdout",
          "text": [
            "5.768248558044434\n"
          ]
        },
        {
          "output_type": "stream",
          "name": "stderr",
          "text": [
            "\rEpoch 1/1:   2%|▏         | 18/1188 [00:17<16:59,  1.15it/s]"
          ]
        },
        {
          "output_type": "stream",
          "name": "stdout",
          "text": [
            "5.626995086669922\n"
          ]
        },
        {
          "output_type": "stream",
          "name": "stderr",
          "text": [
            "\rEpoch 1/1:   2%|▏         | 19/1188 [00:18<16:19,  1.19it/s]"
          ]
        },
        {
          "output_type": "stream",
          "name": "stdout",
          "text": [
            "5.586958885192871\n"
          ]
        },
        {
          "output_type": "stream",
          "name": "stderr",
          "text": [
            "\rEpoch 1/1:   2%|▏         | 20/1188 [00:18<15:53,  1.22it/s]"
          ]
        },
        {
          "output_type": "stream",
          "name": "stdout",
          "text": [
            "5.401957988739014\n"
          ]
        },
        {
          "output_type": "stream",
          "name": "stderr",
          "text": [
            "\rEpoch 1/1:   2%|▏         | 21/1188 [00:19<15:34,  1.25it/s]"
          ]
        },
        {
          "output_type": "stream",
          "name": "stdout",
          "text": [
            "4.709156036376953\n"
          ]
        },
        {
          "output_type": "stream",
          "name": "stderr",
          "text": [
            "\rEpoch 1/1:   2%|▏         | 22/1188 [00:20<15:19,  1.27it/s]"
          ]
        },
        {
          "output_type": "stream",
          "name": "stdout",
          "text": [
            "5.396722316741943\n"
          ]
        },
        {
          "output_type": "stream",
          "name": "stderr",
          "text": [
            "\rEpoch 1/1:   2%|▏         | 23/1188 [00:21<15:08,  1.28it/s]"
          ]
        },
        {
          "output_type": "stream",
          "name": "stdout",
          "text": [
            "5.060458183288574\n"
          ]
        },
        {
          "output_type": "stream",
          "name": "stderr",
          "text": [
            "\rEpoch 1/1:   2%|▏         | 24/1188 [00:21<14:59,  1.29it/s]"
          ]
        },
        {
          "output_type": "stream",
          "name": "stdout",
          "text": [
            "5.183431625366211\n"
          ]
        },
        {
          "output_type": "stream",
          "name": "stderr",
          "text": [
            "\rEpoch 1/1:   2%|▏         | 25/1188 [00:22<14:55,  1.30it/s]"
          ]
        },
        {
          "output_type": "stream",
          "name": "stdout",
          "text": [
            "5.222698211669922\n"
          ]
        },
        {
          "output_type": "stream",
          "name": "stderr",
          "text": [
            "\rEpoch 1/1:   2%|▏         | 26/1188 [00:23<14:52,  1.30it/s]"
          ]
        },
        {
          "output_type": "stream",
          "name": "stdout",
          "text": [
            "4.748648166656494\n"
          ]
        },
        {
          "output_type": "stream",
          "name": "stderr",
          "text": [
            "\rEpoch 1/1:   2%|▏         | 27/1188 [00:24<14:58,  1.29it/s]"
          ]
        },
        {
          "output_type": "stream",
          "name": "stdout",
          "text": [
            "4.918765544891357\n"
          ]
        },
        {
          "output_type": "stream",
          "name": "stderr",
          "text": [
            "\rEpoch 1/1:   2%|▏         | 28/1188 [00:25<14:57,  1.29it/s]"
          ]
        },
        {
          "output_type": "stream",
          "name": "stdout",
          "text": [
            "5.226055145263672\n"
          ]
        },
        {
          "output_type": "stream",
          "name": "stderr",
          "text": [
            "\rEpoch 1/1:   2%|▏         | 29/1188 [00:25<15:45,  1.23it/s]"
          ]
        },
        {
          "output_type": "stream",
          "name": "stdout",
          "text": [
            "4.780416011810303\n"
          ]
        },
        {
          "output_type": "stream",
          "name": "stderr",
          "text": [
            "\rEpoch 1/1:   3%|▎         | 30/1188 [00:26<16:42,  1.15it/s]"
          ]
        },
        {
          "output_type": "stream",
          "name": "stdout",
          "text": [
            "4.572772979736328\n"
          ]
        },
        {
          "output_type": "stream",
          "name": "stderr",
          "text": [
            "\rEpoch 1/1:   3%|▎         | 31/1188 [00:28<18:42,  1.03it/s]"
          ]
        },
        {
          "output_type": "stream",
          "name": "stdout",
          "text": [
            "4.3651604652404785\n"
          ]
        },
        {
          "output_type": "stream",
          "name": "stderr",
          "text": [
            "\rEpoch 1/1:   3%|▎         | 32/1188 [00:29<20:26,  1.06s/it]"
          ]
        },
        {
          "output_type": "stream",
          "name": "stdout",
          "text": [
            "4.386139869689941\n"
          ]
        },
        {
          "output_type": "stream",
          "name": "stderr",
          "text": [
            "\rEpoch 1/1:   3%|▎         | 33/1188 [00:30<21:50,  1.13s/it]"
          ]
        },
        {
          "output_type": "stream",
          "name": "stdout",
          "text": [
            "4.450840950012207\n"
          ]
        },
        {
          "output_type": "stream",
          "name": "stderr",
          "text": [
            "\rEpoch 1/1:   3%|▎         | 34/1188 [00:31<22:19,  1.16s/it]"
          ]
        },
        {
          "output_type": "stream",
          "name": "stdout",
          "text": [
            "4.375446796417236\n"
          ]
        },
        {
          "output_type": "stream",
          "name": "stderr",
          "text": [
            "\rEpoch 1/1:   3%|▎         | 35/1188 [00:32<20:28,  1.07s/it]"
          ]
        },
        {
          "output_type": "stream",
          "name": "stdout",
          "text": [
            "4.4431071281433105\n"
          ]
        },
        {
          "output_type": "stream",
          "name": "stderr",
          "text": [
            "\rEpoch 1/1:   3%|▎         | 36/1188 [00:33<18:43,  1.03it/s]"
          ]
        },
        {
          "output_type": "stream",
          "name": "stdout",
          "text": [
            "4.352668285369873\n"
          ]
        },
        {
          "output_type": "stream",
          "name": "stderr",
          "text": [
            "\rEpoch 1/1:   3%|▎         | 37/1188 [00:34<17:31,  1.09it/s]"
          ]
        },
        {
          "output_type": "stream",
          "name": "stdout",
          "text": [
            "4.678193092346191\n"
          ]
        },
        {
          "output_type": "stream",
          "name": "stderr",
          "text": [
            "\rEpoch 1/1:   3%|▎         | 38/1188 [00:35<16:33,  1.16it/s]"
          ]
        },
        {
          "output_type": "stream",
          "name": "stdout",
          "text": [
            "4.466831207275391\n"
          ]
        },
        {
          "output_type": "stream",
          "name": "stderr",
          "text": [
            "\rEpoch 1/1:   3%|▎         | 39/1188 [00:35<16:03,  1.19it/s]"
          ]
        },
        {
          "output_type": "stream",
          "name": "stdout",
          "text": [
            "4.158519744873047\n"
          ]
        },
        {
          "output_type": "stream",
          "name": "stderr",
          "text": [
            "\rEpoch 1/1:   3%|▎         | 40/1188 [00:36<15:43,  1.22it/s]"
          ]
        },
        {
          "output_type": "stream",
          "name": "stdout",
          "text": [
            "4.287501811981201\n"
          ]
        },
        {
          "output_type": "stream",
          "name": "stderr",
          "text": [
            "\rEpoch 1/1:   3%|▎         | 41/1188 [00:37<15:16,  1.25it/s]"
          ]
        },
        {
          "output_type": "stream",
          "name": "stdout",
          "text": [
            "4.899750709533691\n"
          ]
        },
        {
          "output_type": "stream",
          "name": "stderr",
          "text": [
            "\rEpoch 1/1:   4%|▎         | 42/1188 [00:38<15:03,  1.27it/s]"
          ]
        },
        {
          "output_type": "stream",
          "name": "stdout",
          "text": [
            "4.491265296936035\n"
          ]
        },
        {
          "output_type": "stream",
          "name": "stderr",
          "text": [
            "\rEpoch 1/1:   4%|▎         | 43/1188 [00:38<14:53,  1.28it/s]"
          ]
        },
        {
          "output_type": "stream",
          "name": "stdout",
          "text": [
            "4.217206001281738\n"
          ]
        },
        {
          "output_type": "stream",
          "name": "stderr",
          "text": [
            "\rEpoch 1/1:   4%|▎         | 44/1188 [00:39<14:50,  1.28it/s]"
          ]
        },
        {
          "output_type": "stream",
          "name": "stdout",
          "text": [
            "4.286674499511719\n"
          ]
        },
        {
          "output_type": "stream",
          "name": "stderr",
          "text": [
            "\rEpoch 1/1:   4%|▍         | 45/1188 [00:40<14:41,  1.30it/s]"
          ]
        },
        {
          "output_type": "stream",
          "name": "stdout",
          "text": [
            "4.167663097381592\n"
          ]
        },
        {
          "output_type": "stream",
          "name": "stderr",
          "text": [
            "\rEpoch 1/1:   4%|▍         | 46/1188 [00:41<14:37,  1.30it/s]"
          ]
        },
        {
          "output_type": "stream",
          "name": "stdout",
          "text": [
            "4.086330413818359\n"
          ]
        },
        {
          "output_type": "stream",
          "name": "stderr",
          "text": [
            "\rEpoch 1/1:   4%|▍         | 47/1188 [00:42<14:59,  1.27it/s]"
          ]
        },
        {
          "output_type": "stream",
          "name": "stdout",
          "text": [
            "4.34482479095459\n"
          ]
        },
        {
          "output_type": "stream",
          "name": "stderr",
          "text": [
            "\rEpoch 1/1:   4%|▍         | 48/1188 [00:43<17:11,  1.11it/s]"
          ]
        },
        {
          "output_type": "stream",
          "name": "stdout",
          "text": [
            "4.236603260040283\n"
          ]
        },
        {
          "output_type": "stream",
          "name": "stderr",
          "text": [
            "\rEpoch 1/1:   4%|▍         | 49/1188 [00:44<18:43,  1.01it/s]"
          ]
        },
        {
          "output_type": "stream",
          "name": "stdout",
          "text": [
            "4.392307281494141\n"
          ]
        },
        {
          "output_type": "stream",
          "name": "stderr",
          "text": [
            "\rEpoch 1/1:   4%|▍         | 50/1188 [00:45<19:54,  1.05s/it]"
          ]
        },
        {
          "output_type": "stream",
          "name": "stdout",
          "text": [
            "4.818636894226074\n"
          ]
        },
        {
          "output_type": "stream",
          "name": "stderr",
          "text": [
            "\rEpoch 1/1:   4%|▍         | 51/1188 [00:46<20:47,  1.10s/it]"
          ]
        },
        {
          "output_type": "stream",
          "name": "stdout",
          "text": [
            "4.098119735717773\n"
          ]
        },
        {
          "output_type": "stream",
          "name": "stderr",
          "text": [
            "\rEpoch 1/1:   4%|▍         | 52/1188 [00:47<19:17,  1.02s/it]"
          ]
        },
        {
          "output_type": "stream",
          "name": "stdout",
          "text": [
            "4.213626384735107\n"
          ]
        },
        {
          "output_type": "stream",
          "name": "stderr",
          "text": [
            "\rEpoch 1/1:   4%|▍         | 53/1188 [00:48<17:48,  1.06it/s]"
          ]
        },
        {
          "output_type": "stream",
          "name": "stdout",
          "text": [
            "4.192771911621094\n"
          ]
        },
        {
          "output_type": "stream",
          "name": "stderr",
          "text": [
            "\rEpoch 1/1:   5%|▍         | 54/1188 [00:49<16:50,  1.12it/s]"
          ]
        },
        {
          "output_type": "stream",
          "name": "stdout",
          "text": [
            "4.107027530670166\n"
          ]
        },
        {
          "output_type": "stream",
          "name": "stderr",
          "text": [
            "\rEpoch 1/1:   5%|▍         | 55/1188 [00:49<16:05,  1.17it/s]"
          ]
        },
        {
          "output_type": "stream",
          "name": "stdout",
          "text": [
            "4.0719828605651855\n"
          ]
        },
        {
          "output_type": "stream",
          "name": "stderr",
          "text": [
            "\rEpoch 1/1:   5%|▍         | 56/1188 [00:50<15:32,  1.21it/s]"
          ]
        },
        {
          "output_type": "stream",
          "name": "stdout",
          "text": [
            "4.32439661026001\n"
          ]
        },
        {
          "output_type": "stream",
          "name": "stderr",
          "text": [
            "\rEpoch 1/1:   5%|▍         | 57/1188 [00:51<15:10,  1.24it/s]"
          ]
        },
        {
          "output_type": "stream",
          "name": "stdout",
          "text": [
            "4.231678485870361\n"
          ]
        },
        {
          "output_type": "stream",
          "name": "stderr",
          "text": [
            "\rEpoch 1/1:   5%|▍         | 58/1188 [00:52<15:06,  1.25it/s]"
          ]
        },
        {
          "output_type": "stream",
          "name": "stdout",
          "text": [
            "4.100907802581787\n"
          ]
        },
        {
          "output_type": "stream",
          "name": "stderr",
          "text": [
            "\rEpoch 1/1:   5%|▍         | 59/1188 [00:52<14:48,  1.27it/s]"
          ]
        },
        {
          "output_type": "stream",
          "name": "stdout",
          "text": [
            "3.937687873840332\n"
          ]
        },
        {
          "output_type": "stream",
          "name": "stderr",
          "text": [
            "\rEpoch 1/1:   5%|▌         | 60/1188 [00:53<14:36,  1.29it/s]"
          ]
        },
        {
          "output_type": "stream",
          "name": "stdout",
          "text": [
            "4.150585174560547\n"
          ]
        },
        {
          "output_type": "stream",
          "name": "stderr",
          "text": [
            "\rEpoch 1/1:   5%|▌         | 61/1188 [00:54<14:43,  1.28it/s]"
          ]
        },
        {
          "output_type": "stream",
          "name": "stdout",
          "text": [
            "4.0083770751953125\n"
          ]
        },
        {
          "output_type": "stream",
          "name": "stderr",
          "text": [
            "\rEpoch 1/1:   5%|▌         | 62/1188 [00:55<14:35,  1.29it/s]"
          ]
        },
        {
          "output_type": "stream",
          "name": "stdout",
          "text": [
            "4.156974792480469\n"
          ]
        },
        {
          "output_type": "stream",
          "name": "stderr",
          "text": [
            "\rEpoch 1/1:   5%|▌         | 63/1188 [00:56<14:36,  1.28it/s]"
          ]
        },
        {
          "output_type": "stream",
          "name": "stdout",
          "text": [
            "4.13377046585083\n"
          ]
        },
        {
          "output_type": "stream",
          "name": "stderr",
          "text": [
            "\rEpoch 1/1:   5%|▌         | 64/1188 [00:56<14:35,  1.28it/s]"
          ]
        },
        {
          "output_type": "stream",
          "name": "stdout",
          "text": [
            "4.100633144378662\n"
          ]
        },
        {
          "output_type": "stream",
          "name": "stderr",
          "text": [
            "\rEpoch 1/1:   5%|▌         | 65/1188 [00:58<16:51,  1.11it/s]"
          ]
        },
        {
          "output_type": "stream",
          "name": "stdout",
          "text": [
            "3.9697158336639404\n"
          ]
        },
        {
          "output_type": "stream",
          "name": "stderr",
          "text": [
            "\rEpoch 1/1:   6%|▌         | 66/1188 [00:59<17:57,  1.04it/s]"
          ]
        },
        {
          "output_type": "stream",
          "name": "stdout",
          "text": [
            "4.172361850738525\n"
          ]
        },
        {
          "output_type": "stream",
          "name": "stderr",
          "text": [
            "\rEpoch 1/1:   6%|▌         | 67/1188 [01:00<19:10,  1.03s/it]"
          ]
        },
        {
          "output_type": "stream",
          "name": "stdout",
          "text": [
            "4.065506458282471\n"
          ]
        },
        {
          "output_type": "stream",
          "name": "stderr",
          "text": [
            "\rEpoch 1/1:   6%|▌         | 68/1188 [01:01<19:57,  1.07s/it]"
          ]
        },
        {
          "output_type": "stream",
          "name": "stdout",
          "text": [
            "4.2181267738342285\n"
          ]
        },
        {
          "output_type": "stream",
          "name": "stderr",
          "text": [
            "\rEpoch 1/1:   6%|▌         | 69/1188 [01:02<19:40,  1.06s/it]"
          ]
        },
        {
          "output_type": "stream",
          "name": "stdout",
          "text": [
            "4.095376491546631\n"
          ]
        },
        {
          "output_type": "stream",
          "name": "stderr",
          "text": [
            "\rEpoch 1/1:   6%|▌         | 70/1188 [01:03<17:55,  1.04it/s]"
          ]
        },
        {
          "output_type": "stream",
          "name": "stdout",
          "text": [
            "4.084994316101074\n"
          ]
        },
        {
          "output_type": "stream",
          "name": "stderr",
          "text": [
            "\rEpoch 1/1:   6%|▌         | 71/1188 [01:03<16:44,  1.11it/s]"
          ]
        },
        {
          "output_type": "stream",
          "name": "stdout",
          "text": [
            "4.101966381072998\n"
          ]
        },
        {
          "output_type": "stream",
          "name": "stderr",
          "text": [
            "\rEpoch 1/1:   6%|▌         | 72/1188 [01:04<16:04,  1.16it/s]"
          ]
        },
        {
          "output_type": "stream",
          "name": "stdout",
          "text": [
            "4.092187404632568\n"
          ]
        },
        {
          "output_type": "stream",
          "name": "stderr",
          "text": [
            "\rEpoch 1/1:   6%|▌         | 73/1188 [01:05<16:15,  1.14it/s]"
          ]
        },
        {
          "output_type": "stream",
          "name": "stdout",
          "text": [
            "3.996055841445923\n"
          ]
        },
        {
          "output_type": "stream",
          "name": "stderr",
          "text": [
            "\rEpoch 1/1:   6%|▌         | 74/1188 [01:06<15:33,  1.19it/s]"
          ]
        },
        {
          "output_type": "stream",
          "name": "stdout",
          "text": [
            "3.9144389629364014\n"
          ]
        },
        {
          "output_type": "stream",
          "name": "stderr",
          "text": [
            "\rEpoch 1/1:   6%|▋         | 75/1188 [01:07<15:04,  1.23it/s]"
          ]
        },
        {
          "output_type": "stream",
          "name": "stdout",
          "text": [
            "4.054765701293945\n"
          ]
        },
        {
          "output_type": "stream",
          "name": "stderr",
          "text": [
            "\rEpoch 1/1:   6%|▋         | 76/1188 [01:07<14:46,  1.25it/s]"
          ]
        },
        {
          "output_type": "stream",
          "name": "stdout",
          "text": [
            "4.074936866760254\n"
          ]
        },
        {
          "output_type": "stream",
          "name": "stderr",
          "text": [
            "\rEpoch 1/1:   6%|▋         | 77/1188 [01:08<14:38,  1.26it/s]"
          ]
        },
        {
          "output_type": "stream",
          "name": "stdout",
          "text": [
            "3.7974486351013184\n"
          ]
        },
        {
          "output_type": "stream",
          "name": "stderr",
          "text": [
            "\rEpoch 1/1:   7%|▋         | 78/1188 [01:09<14:34,  1.27it/s]"
          ]
        },
        {
          "output_type": "stream",
          "name": "stdout",
          "text": [
            "3.926901340484619\n"
          ]
        },
        {
          "output_type": "stream",
          "name": "stderr",
          "text": [
            "\rEpoch 1/1:   7%|▋         | 79/1188 [01:10<14:24,  1.28it/s]"
          ]
        },
        {
          "output_type": "stream",
          "name": "stdout",
          "text": [
            "3.828721523284912\n"
          ]
        },
        {
          "output_type": "stream",
          "name": "stderr",
          "text": [
            "\rEpoch 1/1:   7%|▋         | 80/1188 [01:11<15:01,  1.23it/s]"
          ]
        },
        {
          "output_type": "stream",
          "name": "stdout",
          "text": [
            "3.880131244659424\n"
          ]
        },
        {
          "output_type": "stream",
          "name": "stderr",
          "text": [
            "\rEpoch 1/1:   7%|▋         | 81/1188 [01:12<15:37,  1.18it/s]"
          ]
        },
        {
          "output_type": "stream",
          "name": "stdout",
          "text": [
            "4.014904499053955\n"
          ]
        },
        {
          "output_type": "stream",
          "name": "stderr",
          "text": [
            "\rEpoch 1/1:   7%|▋         | 82/1188 [01:13<17:26,  1.06it/s]"
          ]
        },
        {
          "output_type": "stream",
          "name": "stdout",
          "text": [
            "3.8889615535736084\n"
          ]
        },
        {
          "output_type": "stream",
          "name": "stderr",
          "text": [
            "\rEpoch 1/1:   7%|▋         | 83/1188 [01:14<18:49,  1.02s/it]"
          ]
        },
        {
          "output_type": "stream",
          "name": "stdout",
          "text": [
            "3.8990941047668457\n"
          ]
        },
        {
          "output_type": "stream",
          "name": "stderr",
          "text": [
            "\rEpoch 1/1:   7%|▋         | 84/1188 [01:15<19:47,  1.08s/it]"
          ]
        },
        {
          "output_type": "stream",
          "name": "stdout",
          "text": [
            "3.831362247467041\n"
          ]
        },
        {
          "output_type": "stream",
          "name": "stderr",
          "text": [
            "\rEpoch 1/1:   7%|▋         | 85/1188 [01:16<20:40,  1.13s/it]"
          ]
        },
        {
          "output_type": "stream",
          "name": "stdout",
          "text": [
            "3.8280646800994873\n"
          ]
        },
        {
          "output_type": "stream",
          "name": "stderr",
          "text": [
            "\rEpoch 1/1:   7%|▋         | 86/1188 [01:18<20:52,  1.14s/it]"
          ]
        },
        {
          "output_type": "stream",
          "name": "stdout",
          "text": [
            "3.761613130569458\n"
          ]
        },
        {
          "output_type": "stream",
          "name": "stderr",
          "text": [
            "\rEpoch 1/1:   7%|▋         | 87/1188 [01:18<18:56,  1.03s/it]"
          ]
        },
        {
          "output_type": "stream",
          "name": "stdout",
          "text": [
            "3.8393232822418213\n"
          ]
        },
        {
          "output_type": "stream",
          "name": "stderr",
          "text": [
            "\rEpoch 1/1:   7%|▋         | 88/1188 [01:19<17:32,  1.04it/s]"
          ]
        },
        {
          "output_type": "stream",
          "name": "stdout",
          "text": [
            "3.8391339778900146\n"
          ]
        },
        {
          "output_type": "stream",
          "name": "stderr",
          "text": [
            "\rEpoch 1/1:   7%|▋         | 89/1188 [01:20<16:27,  1.11it/s]"
          ]
        },
        {
          "output_type": "stream",
          "name": "stdout",
          "text": [
            "3.919279098510742\n"
          ]
        },
        {
          "output_type": "stream",
          "name": "stderr",
          "text": [
            "\rEpoch 1/1:   8%|▊         | 90/1188 [01:21<15:46,  1.16it/s]"
          ]
        },
        {
          "output_type": "stream",
          "name": "stdout",
          "text": [
            "3.8019065856933594\n"
          ]
        },
        {
          "output_type": "stream",
          "name": "stderr",
          "text": [
            "\rEpoch 1/1:   8%|▊         | 91/1188 [01:21<15:13,  1.20it/s]"
          ]
        },
        {
          "output_type": "stream",
          "name": "stdout",
          "text": [
            "3.895683526992798\n"
          ]
        },
        {
          "output_type": "stream",
          "name": "stderr",
          "text": [
            "\rEpoch 1/1:   8%|▊         | 92/1188 [01:22<15:36,  1.17it/s]"
          ]
        },
        {
          "output_type": "stream",
          "name": "stdout",
          "text": [
            "4.191860675811768\n"
          ]
        },
        {
          "output_type": "stream",
          "name": "stderr",
          "text": [
            "\rEpoch 1/1:   8%|▊         | 93/1188 [01:23<15:40,  1.16it/s]"
          ]
        },
        {
          "output_type": "stream",
          "name": "stdout",
          "text": [
            "3.8232154846191406\n"
          ]
        },
        {
          "output_type": "stream",
          "name": "stderr",
          "text": [
            "\rEpoch 1/1:   8%|▊         | 94/1188 [01:24<15:25,  1.18it/s]"
          ]
        },
        {
          "output_type": "stream",
          "name": "stdout",
          "text": [
            "3.7175941467285156\n"
          ]
        },
        {
          "output_type": "stream",
          "name": "stderr",
          "text": [
            "\rEpoch 1/1:   8%|▊         | 95/1188 [01:25<15:04,  1.21it/s]"
          ]
        },
        {
          "output_type": "stream",
          "name": "stdout",
          "text": [
            "3.7493507862091064\n"
          ]
        },
        {
          "output_type": "stream",
          "name": "stderr",
          "text": [
            "\rEpoch 1/1:   8%|▊         | 96/1188 [01:26<14:44,  1.23it/s]"
          ]
        },
        {
          "output_type": "stream",
          "name": "stdout",
          "text": [
            "3.88358736038208\n"
          ]
        },
        {
          "output_type": "stream",
          "name": "stderr",
          "text": [
            "\rEpoch 1/1:   8%|▊         | 97/1188 [01:26<14:40,  1.24it/s]"
          ]
        },
        {
          "output_type": "stream",
          "name": "stdout",
          "text": [
            "3.6850476264953613\n"
          ]
        },
        {
          "output_type": "stream",
          "name": "stderr",
          "text": [
            "\rEpoch 1/1:   8%|▊         | 98/1188 [01:27<14:29,  1.25it/s]"
          ]
        },
        {
          "output_type": "stream",
          "name": "stdout",
          "text": [
            "3.8685011863708496\n"
          ]
        },
        {
          "output_type": "stream",
          "name": "stderr",
          "text": [
            "\rEpoch 1/1:   8%|▊         | 99/1188 [01:28<14:41,  1.24it/s]"
          ]
        },
        {
          "output_type": "stream",
          "name": "stdout",
          "text": [
            "3.8414204120635986\n"
          ]
        },
        {
          "output_type": "stream",
          "name": "stderr",
          "text": [
            "\rEpoch 1/1:   8%|▊         | 100/1188 [01:29<15:23,  1.18it/s]"
          ]
        },
        {
          "output_type": "stream",
          "name": "stdout",
          "text": [
            "3.707608699798584\n"
          ]
        },
        {
          "output_type": "stream",
          "name": "stderr",
          "text": [
            "\rEpoch 1/1:   9%|▊         | 101/1188 [01:30<15:45,  1.15it/s]"
          ]
        },
        {
          "output_type": "stream",
          "name": "stdout",
          "text": [
            "3.8036603927612305\n"
          ]
        },
        {
          "output_type": "stream",
          "name": "stderr",
          "text": [
            "\rEpoch 1/1:   9%|▊         | 102/1188 [01:31<17:28,  1.04it/s]"
          ]
        },
        {
          "output_type": "stream",
          "name": "stdout",
          "text": [
            "3.8378119468688965\n"
          ]
        },
        {
          "output_type": "stream",
          "name": "stderr",
          "text": [
            "\rEpoch 1/1:   9%|▊         | 103/1188 [01:32<18:38,  1.03s/it]"
          ]
        },
        {
          "output_type": "stream",
          "name": "stdout",
          "text": [
            "3.734898090362549\n"
          ]
        },
        {
          "output_type": "stream",
          "name": "stderr",
          "text": [
            "\rEpoch 1/1:   9%|▉         | 104/1188 [01:33<19:23,  1.07s/it]"
          ]
        },
        {
          "output_type": "stream",
          "name": "stdout",
          "text": [
            "3.7783432006835938\n"
          ]
        },
        {
          "output_type": "stream",
          "name": "stderr",
          "text": [
            "\rEpoch 1/1:   9%|▉         | 105/1188 [01:34<18:07,  1.00s/it]"
          ]
        },
        {
          "output_type": "stream",
          "name": "stdout",
          "text": [
            "3.769545316696167\n"
          ]
        },
        {
          "output_type": "stream",
          "name": "stderr",
          "text": [
            "\rEpoch 1/1:   9%|▉         | 106/1188 [01:35<16:48,  1.07it/s]"
          ]
        },
        {
          "output_type": "stream",
          "name": "stdout",
          "text": [
            "3.692842483520508\n"
          ]
        },
        {
          "output_type": "stream",
          "name": "stderr",
          "text": [
            "\rEpoch 1/1:   9%|▉         | 107/1188 [01:36<15:58,  1.13it/s]"
          ]
        },
        {
          "output_type": "stream",
          "name": "stdout",
          "text": [
            "3.613919973373413\n"
          ]
        },
        {
          "output_type": "stream",
          "name": "stderr",
          "text": [
            "\rEpoch 1/1:   9%|▉         | 108/1188 [01:37<15:22,  1.17it/s]"
          ]
        },
        {
          "output_type": "stream",
          "name": "stdout",
          "text": [
            "3.7909247875213623\n"
          ]
        },
        {
          "output_type": "stream",
          "name": "stderr",
          "text": [
            "\rEpoch 1/1:   9%|▉         | 109/1188 [01:37<14:58,  1.20it/s]"
          ]
        },
        {
          "output_type": "stream",
          "name": "stdout",
          "text": [
            "3.8994462490081787\n"
          ]
        },
        {
          "output_type": "stream",
          "name": "stderr",
          "text": [
            "\rEpoch 1/1:   9%|▉         | 110/1188 [01:38<14:35,  1.23it/s]"
          ]
        },
        {
          "output_type": "stream",
          "name": "stdout",
          "text": [
            "3.737220525741577\n"
          ]
        },
        {
          "output_type": "stream",
          "name": "stderr",
          "text": [
            "\rEpoch 1/1:   9%|▉         | 111/1188 [01:39<14:17,  1.26it/s]"
          ]
        },
        {
          "output_type": "stream",
          "name": "stdout",
          "text": [
            "3.7971086502075195\n"
          ]
        },
        {
          "output_type": "stream",
          "name": "stderr",
          "text": [
            "\rEpoch 1/1:   9%|▉         | 112/1188 [01:40<14:10,  1.26it/s]"
          ]
        },
        {
          "output_type": "stream",
          "name": "stdout",
          "text": [
            "3.7595014572143555\n"
          ]
        },
        {
          "output_type": "stream",
          "name": "stderr",
          "text": [
            "\rEpoch 1/1:  10%|▉         | 113/1188 [01:40<14:06,  1.27it/s]"
          ]
        },
        {
          "output_type": "stream",
          "name": "stdout",
          "text": [
            "3.6649844646453857\n"
          ]
        },
        {
          "output_type": "stream",
          "name": "stderr",
          "text": [
            "\rEpoch 1/1:  10%|▉         | 114/1188 [01:41<13:56,  1.28it/s]"
          ]
        },
        {
          "output_type": "stream",
          "name": "stdout",
          "text": [
            "3.869159698486328\n"
          ]
        },
        {
          "output_type": "stream",
          "name": "stderr",
          "text": [
            "\rEpoch 1/1:  10%|▉         | 115/1188 [01:42<13:50,  1.29it/s]"
          ]
        },
        {
          "output_type": "stream",
          "name": "stdout",
          "text": [
            "3.639791488647461\n"
          ]
        },
        {
          "output_type": "stream",
          "name": "stderr",
          "text": [
            "\rEpoch 1/1:  10%|▉         | 116/1188 [01:43<13:49,  1.29it/s]"
          ]
        },
        {
          "output_type": "stream",
          "name": "stdout",
          "text": [
            "3.817460775375366\n"
          ]
        },
        {
          "output_type": "stream",
          "name": "stderr",
          "text": [
            "\rEpoch 1/1:  10%|▉         | 117/1188 [01:43<13:46,  1.30it/s]"
          ]
        },
        {
          "output_type": "stream",
          "name": "stdout",
          "text": [
            "3.6752312183380127\n"
          ]
        },
        {
          "output_type": "stream",
          "name": "stderr",
          "text": [
            "\rEpoch 1/1:  10%|▉         | 118/1188 [01:44<14:31,  1.23it/s]"
          ]
        },
        {
          "output_type": "stream",
          "name": "stdout",
          "text": [
            "3.7591564655303955\n"
          ]
        },
        {
          "output_type": "stream",
          "name": "stderr",
          "text": [
            "\rEpoch 1/1:  10%|█         | 119/1188 [01:46<16:23,  1.09it/s]"
          ]
        },
        {
          "output_type": "stream",
          "name": "stdout",
          "text": [
            "3.731492280960083\n"
          ]
        },
        {
          "output_type": "stream",
          "name": "stderr",
          "text": [
            "\rEpoch 1/1:  10%|█         | 120/1188 [01:47<17:46,  1.00it/s]"
          ]
        },
        {
          "output_type": "stream",
          "name": "stdout",
          "text": [
            "3.6859002113342285\n"
          ]
        },
        {
          "output_type": "stream",
          "name": "stderr",
          "text": [
            "\rEpoch 1/1:  10%|█         | 121/1188 [01:48<18:43,  1.05s/it]"
          ]
        },
        {
          "output_type": "stream",
          "name": "stdout",
          "text": [
            "3.740325450897217\n"
          ]
        },
        {
          "output_type": "stream",
          "name": "stderr",
          "text": [
            "\rEpoch 1/1:  10%|█         | 122/1188 [01:49<19:16,  1.08s/it]"
          ]
        },
        {
          "output_type": "stream",
          "name": "stdout",
          "text": [
            "3.704951286315918\n"
          ]
        },
        {
          "output_type": "stream",
          "name": "stderr",
          "text": [
            "\rEpoch 1/1:  10%|█         | 123/1188 [01:50<17:38,  1.01it/s]"
          ]
        },
        {
          "output_type": "stream",
          "name": "stdout",
          "text": [
            "3.6247353553771973\n"
          ]
        },
        {
          "output_type": "stream",
          "name": "stderr",
          "text": [
            "\rEpoch 1/1:  10%|█         | 124/1188 [01:51<16:28,  1.08it/s]"
          ]
        },
        {
          "output_type": "stream",
          "name": "stdout",
          "text": [
            "3.7121360301971436\n"
          ]
        },
        {
          "output_type": "stream",
          "name": "stderr",
          "text": [
            "\rEpoch 1/1:  11%|█         | 125/1188 [01:51<15:35,  1.14it/s]"
          ]
        },
        {
          "output_type": "stream",
          "name": "stdout",
          "text": [
            "3.7461745738983154\n"
          ]
        },
        {
          "output_type": "stream",
          "name": "stderr",
          "text": [
            "\rEpoch 1/1:  11%|█         | 126/1188 [01:52<15:04,  1.17it/s]"
          ]
        },
        {
          "output_type": "stream",
          "name": "stdout",
          "text": [
            "3.6566028594970703\n"
          ]
        },
        {
          "output_type": "stream",
          "name": "stderr",
          "text": [
            "\rEpoch 1/1:  11%|█         | 127/1188 [01:53<14:43,  1.20it/s]"
          ]
        },
        {
          "output_type": "stream",
          "name": "stdout",
          "text": [
            "3.5465102195739746\n"
          ]
        },
        {
          "output_type": "stream",
          "name": "stderr",
          "text": [
            "\rEpoch 1/1:  11%|█         | 128/1188 [01:54<14:18,  1.24it/s]"
          ]
        },
        {
          "output_type": "stream",
          "name": "stdout",
          "text": [
            "3.6039459705352783\n"
          ]
        },
        {
          "output_type": "stream",
          "name": "stderr",
          "text": [
            "\rEpoch 1/1:  11%|█         | 129/1188 [01:55<14:02,  1.26it/s]"
          ]
        },
        {
          "output_type": "stream",
          "name": "stdout",
          "text": [
            "3.7607884407043457\n"
          ]
        },
        {
          "output_type": "stream",
          "name": "stderr",
          "text": [
            "\rEpoch 1/1:  11%|█         | 130/1188 [01:55<13:47,  1.28it/s]"
          ]
        },
        {
          "output_type": "stream",
          "name": "stdout",
          "text": [
            "3.6767194271087646\n"
          ]
        },
        {
          "output_type": "stream",
          "name": "stderr",
          "text": [
            "\rEpoch 1/1:  11%|█         | 131/1188 [01:56<13:41,  1.29it/s]"
          ]
        },
        {
          "output_type": "stream",
          "name": "stdout",
          "text": [
            "3.6709749698638916\n"
          ]
        },
        {
          "output_type": "stream",
          "name": "stderr",
          "text": [
            "\rEpoch 1/1:  11%|█         | 132/1188 [01:57<13:33,  1.30it/s]"
          ]
        },
        {
          "output_type": "stream",
          "name": "stdout",
          "text": [
            "3.789865016937256\n"
          ]
        },
        {
          "output_type": "stream",
          "name": "stderr",
          "text": [
            "\rEpoch 1/1:  11%|█         | 133/1188 [01:58<13:28,  1.30it/s]"
          ]
        },
        {
          "output_type": "stream",
          "name": "stdout",
          "text": [
            "3.7232582569122314\n"
          ]
        },
        {
          "output_type": "stream",
          "name": "stderr",
          "text": [
            "\rEpoch 1/1:  11%|█▏        | 134/1188 [01:58<13:26,  1.31it/s]"
          ]
        },
        {
          "output_type": "stream",
          "name": "stdout",
          "text": [
            "3.6847076416015625\n"
          ]
        },
        {
          "output_type": "stream",
          "name": "stderr",
          "text": [
            "\rEpoch 1/1:  11%|█▏        | 135/1188 [01:59<13:40,  1.28it/s]"
          ]
        },
        {
          "output_type": "stream",
          "name": "stdout",
          "text": [
            "3.6810593605041504\n"
          ]
        },
        {
          "output_type": "stream",
          "name": "stderr",
          "text": [
            "\rEpoch 1/1:  11%|█▏        | 136/1188 [02:00<15:45,  1.11it/s]"
          ]
        },
        {
          "output_type": "stream",
          "name": "stdout",
          "text": [
            "3.7126495838165283\n"
          ]
        },
        {
          "output_type": "stream",
          "name": "stderr",
          "text": [
            "\rEpoch 1/1:  12%|█▏        | 137/1188 [02:01<17:15,  1.01it/s]"
          ]
        },
        {
          "output_type": "stream",
          "name": "stdout",
          "text": [
            "3.5818443298339844\n"
          ]
        },
        {
          "output_type": "stream",
          "name": "stderr",
          "text": [
            "\rEpoch 1/1:  12%|█▏        | 138/1188 [02:03<18:12,  1.04s/it]"
          ]
        },
        {
          "output_type": "stream",
          "name": "stdout",
          "text": [
            "3.703566789627075\n"
          ]
        },
        {
          "output_type": "stream",
          "name": "stderr",
          "text": [
            "\rEpoch 1/1:  12%|█▏        | 139/1188 [02:04<18:51,  1.08s/it]"
          ]
        },
        {
          "output_type": "stream",
          "name": "stdout",
          "text": [
            "3.679987668991089\n"
          ]
        },
        {
          "output_type": "stream",
          "name": "stderr",
          "text": [
            "\rEpoch 1/1:  12%|█▏        | 140/1188 [02:05<17:33,  1.01s/it]"
          ]
        },
        {
          "output_type": "stream",
          "name": "stdout",
          "text": [
            "3.6885457038879395\n"
          ]
        },
        {
          "output_type": "stream",
          "name": "stderr",
          "text": [
            "\rEpoch 1/1:  12%|█▏        | 141/1188 [02:05<16:14,  1.07it/s]"
          ]
        },
        {
          "output_type": "stream",
          "name": "stdout",
          "text": [
            "3.7489476203918457\n"
          ]
        },
        {
          "output_type": "stream",
          "name": "stderr",
          "text": [
            "\rEpoch 1/1:  12%|█▏        | 142/1188 [02:06<15:18,  1.14it/s]"
          ]
        },
        {
          "output_type": "stream",
          "name": "stdout",
          "text": [
            "3.7020623683929443\n"
          ]
        },
        {
          "output_type": "stream",
          "name": "stderr",
          "text": [
            "\rEpoch 1/1:  12%|█▏        | 143/1188 [02:07<14:41,  1.18it/s]"
          ]
        },
        {
          "output_type": "stream",
          "name": "stdout",
          "text": [
            "3.672292947769165\n"
          ]
        },
        {
          "output_type": "stream",
          "name": "stderr",
          "text": [
            "\rEpoch 1/1:  12%|█▏        | 144/1188 [02:08<14:21,  1.21it/s]"
          ]
        },
        {
          "output_type": "stream",
          "name": "stdout",
          "text": [
            "3.6140899658203125\n"
          ]
        },
        {
          "output_type": "stream",
          "name": "stderr",
          "text": [
            "\rEpoch 1/1:  12%|█▏        | 145/1188 [02:09<14:12,  1.22it/s]"
          ]
        },
        {
          "output_type": "stream",
          "name": "stdout",
          "text": [
            "3.6659464836120605\n"
          ]
        },
        {
          "output_type": "stream",
          "name": "stderr",
          "text": [
            "\rEpoch 1/1:  12%|█▏        | 146/1188 [02:09<13:51,  1.25it/s]"
          ]
        },
        {
          "output_type": "stream",
          "name": "stdout",
          "text": [
            "3.6214518547058105\n"
          ]
        },
        {
          "output_type": "stream",
          "name": "stderr",
          "text": [
            "\rEpoch 1/1:  12%|█▏        | 147/1188 [02:10<13:38,  1.27it/s]"
          ]
        },
        {
          "output_type": "stream",
          "name": "stdout",
          "text": [
            "3.5976147651672363\n"
          ]
        },
        {
          "output_type": "stream",
          "name": "stderr",
          "text": [
            "\rEpoch 1/1:  12%|█▏        | 148/1188 [02:11<13:31,  1.28it/s]"
          ]
        },
        {
          "output_type": "stream",
          "name": "stdout",
          "text": [
            "3.6462900638580322\n"
          ]
        },
        {
          "output_type": "stream",
          "name": "stderr",
          "text": [
            "\rEpoch 1/1:  13%|█▎        | 149/1188 [02:12<13:27,  1.29it/s]"
          ]
        },
        {
          "output_type": "stream",
          "name": "stdout",
          "text": [
            "3.6621756553649902\n"
          ]
        },
        {
          "output_type": "stream",
          "name": "stderr",
          "text": [
            "\rEpoch 1/1:  13%|█▎        | 150/1188 [02:12<13:26,  1.29it/s]"
          ]
        },
        {
          "output_type": "stream",
          "name": "stdout",
          "text": [
            "3.691197395324707\n"
          ]
        },
        {
          "output_type": "stream",
          "name": "stderr",
          "text": [
            "\rEpoch 1/1:  13%|█▎        | 151/1188 [02:13<13:19,  1.30it/s]"
          ]
        },
        {
          "output_type": "stream",
          "name": "stdout",
          "text": [
            "3.6813180446624756\n"
          ]
        },
        {
          "output_type": "stream",
          "name": "stderr",
          "text": [
            "\rEpoch 1/1:  13%|█▎        | 152/1188 [02:14<13:13,  1.31it/s]"
          ]
        },
        {
          "output_type": "stream",
          "name": "stdout",
          "text": [
            "3.6678566932678223\n"
          ]
        },
        {
          "output_type": "stream",
          "name": "stderr",
          "text": [
            "\rEpoch 1/1:  13%|█▎        | 153/1188 [02:15<13:54,  1.24it/s]"
          ]
        },
        {
          "output_type": "stream",
          "name": "stdout",
          "text": [
            "3.617182731628418\n"
          ]
        },
        {
          "output_type": "stream",
          "name": "stderr",
          "text": [
            "\rEpoch 1/1:  13%|█▎        | 154/1188 [02:16<14:30,  1.19it/s]"
          ]
        },
        {
          "output_type": "stream",
          "name": "stdout",
          "text": [
            "3.5947115421295166\n"
          ]
        },
        {
          "output_type": "stream",
          "name": "stderr",
          "text": [
            "\rEpoch 1/1:  13%|█▎        | 155/1188 [02:17<16:14,  1.06it/s]"
          ]
        },
        {
          "output_type": "stream",
          "name": "stdout",
          "text": [
            "3.6089377403259277\n"
          ]
        },
        {
          "output_type": "stream",
          "name": "stderr",
          "text": [
            "\rEpoch 1/1:  13%|█▎        | 156/1188 [02:18<17:26,  1.01s/it]"
          ]
        },
        {
          "output_type": "stream",
          "name": "stdout",
          "text": [
            "3.6685266494750977\n"
          ]
        },
        {
          "output_type": "stream",
          "name": "stderr",
          "text": [
            "\rEpoch 1/1:  13%|█▎        | 157/1188 [02:19<18:19,  1.07s/it]"
          ]
        },
        {
          "output_type": "stream",
          "name": "stdout",
          "text": [
            "3.5973823070526123\n"
          ]
        },
        {
          "output_type": "stream",
          "name": "stderr",
          "text": [
            "\rEpoch 1/1:  13%|█▎        | 158/1188 [02:20<17:38,  1.03s/it]"
          ]
        },
        {
          "output_type": "stream",
          "name": "stdout",
          "text": [
            "3.624443292617798\n"
          ]
        },
        {
          "output_type": "stream",
          "name": "stderr",
          "text": [
            "\rEpoch 1/1:  13%|█▎        | 159/1188 [02:21<16:16,  1.05it/s]"
          ]
        },
        {
          "output_type": "stream",
          "name": "stdout",
          "text": [
            "3.699523448944092\n"
          ]
        },
        {
          "output_type": "stream",
          "name": "stderr",
          "text": [
            "\rEpoch 1/1:  13%|█▎        | 160/1188 [02:22<15:21,  1.12it/s]"
          ]
        },
        {
          "output_type": "stream",
          "name": "stdout",
          "text": [
            "3.6899521350860596\n"
          ]
        },
        {
          "output_type": "stream",
          "name": "stderr",
          "text": [
            "\rEpoch 1/1:  14%|█▎        | 161/1188 [02:22<14:46,  1.16it/s]"
          ]
        },
        {
          "output_type": "stream",
          "name": "stdout",
          "text": [
            "3.6060924530029297\n"
          ]
        },
        {
          "output_type": "stream",
          "name": "stderr",
          "text": [
            "\rEpoch 1/1:  14%|█▎        | 162/1188 [02:23<14:14,  1.20it/s]"
          ]
        },
        {
          "output_type": "stream",
          "name": "stdout",
          "text": [
            "3.644658327102661\n"
          ]
        },
        {
          "output_type": "stream",
          "name": "stderr",
          "text": [
            "\rEpoch 1/1:  14%|█▎        | 163/1188 [02:24<13:55,  1.23it/s]"
          ]
        },
        {
          "output_type": "stream",
          "name": "stdout",
          "text": [
            "3.7117786407470703\n"
          ]
        },
        {
          "output_type": "stream",
          "name": "stderr",
          "text": [
            "\rEpoch 1/1:  14%|█▍        | 164/1188 [02:25<13:36,  1.25it/s]"
          ]
        },
        {
          "output_type": "stream",
          "name": "stdout",
          "text": [
            "3.6967105865478516\n"
          ]
        },
        {
          "output_type": "stream",
          "name": "stderr",
          "text": [
            "\rEpoch 1/1:  14%|█▍        | 165/1188 [02:26<13:22,  1.27it/s]"
          ]
        },
        {
          "output_type": "stream",
          "name": "stdout",
          "text": [
            "3.622767925262451\n"
          ]
        },
        {
          "output_type": "stream",
          "name": "stderr",
          "text": [
            "\rEpoch 1/1:  14%|█▍        | 166/1188 [02:26<13:14,  1.29it/s]"
          ]
        },
        {
          "output_type": "stream",
          "name": "stdout",
          "text": [
            "3.643772602081299\n"
          ]
        },
        {
          "output_type": "stream",
          "name": "stderr",
          "text": [
            "\rEpoch 1/1:  14%|█▍        | 167/1188 [02:27<13:13,  1.29it/s]"
          ]
        },
        {
          "output_type": "stream",
          "name": "stdout",
          "text": [
            "3.660825490951538\n"
          ]
        },
        {
          "output_type": "stream",
          "name": "stderr",
          "text": [
            "\rEpoch 1/1:  14%|█▍        | 168/1188 [02:28<13:07,  1.30it/s]"
          ]
        },
        {
          "output_type": "stream",
          "name": "stdout",
          "text": [
            "3.528779983520508\n"
          ]
        },
        {
          "output_type": "stream",
          "name": "stderr",
          "text": [
            "\rEpoch 1/1:  14%|█▍        | 169/1188 [02:29<13:03,  1.30it/s]"
          ]
        },
        {
          "output_type": "stream",
          "name": "stdout",
          "text": [
            "3.591966152191162\n"
          ]
        },
        {
          "output_type": "stream",
          "name": "stderr",
          "text": [
            "\rEpoch 1/1:  14%|█▍        | 170/1188 [02:29<13:11,  1.29it/s]"
          ]
        },
        {
          "output_type": "stream",
          "name": "stdout",
          "text": [
            "3.656038999557495\n"
          ]
        },
        {
          "output_type": "stream",
          "name": "stderr",
          "text": [
            "\rEpoch 1/1:  14%|█▍        | 171/1188 [02:30<13:39,  1.24it/s]"
          ]
        },
        {
          "output_type": "stream",
          "name": "stdout",
          "text": [
            "3.6533093452453613\n"
          ]
        },
        {
          "output_type": "stream",
          "name": "stderr",
          "text": [
            "\rEpoch 1/1:  14%|█▍        | 172/1188 [02:31<14:15,  1.19it/s]"
          ]
        },
        {
          "output_type": "stream",
          "name": "stdout",
          "text": [
            "3.6514883041381836\n"
          ]
        },
        {
          "output_type": "stream",
          "name": "stderr",
          "text": [
            "\rEpoch 1/1:  15%|█▍        | 173/1188 [02:32<14:40,  1.15it/s]"
          ]
        },
        {
          "output_type": "stream",
          "name": "stdout",
          "text": [
            "3.6409671306610107\n"
          ]
        },
        {
          "output_type": "stream",
          "name": "stderr",
          "text": [
            "\rEpoch 1/1:  15%|█▍        | 174/1188 [02:33<16:15,  1.04it/s]"
          ]
        },
        {
          "output_type": "stream",
          "name": "stdout",
          "text": [
            "3.624802827835083\n"
          ]
        },
        {
          "output_type": "stream",
          "name": "stderr",
          "text": [
            "\rEpoch 1/1:  15%|█▍        | 175/1188 [02:34<17:23,  1.03s/it]"
          ]
        },
        {
          "output_type": "stream",
          "name": "stdout",
          "text": [
            "3.5916638374328613\n"
          ]
        },
        {
          "output_type": "stream",
          "name": "stderr",
          "text": [
            "\rEpoch 1/1:  15%|█▍        | 176/1188 [02:36<18:06,  1.07s/it]"
          ]
        },
        {
          "output_type": "stream",
          "name": "stdout",
          "text": [
            "3.526740550994873\n"
          ]
        },
        {
          "output_type": "stream",
          "name": "stderr",
          "text": [
            "\rEpoch 1/1:  15%|█▍        | 177/1188 [02:36<16:37,  1.01it/s]"
          ]
        },
        {
          "output_type": "stream",
          "name": "stdout",
          "text": [
            "3.5935802459716797\n"
          ]
        },
        {
          "output_type": "stream",
          "name": "stderr",
          "text": [
            "\rEpoch 1/1:  15%|█▍        | 178/1188 [02:37<15:27,  1.09it/s]"
          ]
        },
        {
          "output_type": "stream",
          "name": "stdout",
          "text": [
            "3.5875420570373535\n"
          ]
        },
        {
          "output_type": "stream",
          "name": "stderr",
          "text": [
            "\rEpoch 1/1:  15%|█▌        | 179/1188 [02:38<14:40,  1.15it/s]"
          ]
        },
        {
          "output_type": "stream",
          "name": "stdout",
          "text": [
            "3.5761055946350098\n"
          ]
        },
        {
          "output_type": "stream",
          "name": "stderr",
          "text": [
            "\rEpoch 1/1:  15%|█▌        | 180/1188 [02:39<14:12,  1.18it/s]"
          ]
        },
        {
          "output_type": "stream",
          "name": "stdout",
          "text": [
            "3.556699275970459\n"
          ]
        },
        {
          "output_type": "stream",
          "name": "stderr",
          "text": [
            "\rEpoch 1/1:  15%|█▌        | 181/1188 [02:39<13:41,  1.23it/s]"
          ]
        },
        {
          "output_type": "stream",
          "name": "stdout",
          "text": [
            "3.5921096801757812\n"
          ]
        },
        {
          "output_type": "stream",
          "name": "stderr",
          "text": [
            "\rEpoch 1/1:  15%|█▌        | 182/1188 [02:40<13:20,  1.26it/s]"
          ]
        },
        {
          "output_type": "stream",
          "name": "stdout",
          "text": [
            "3.589862585067749\n"
          ]
        },
        {
          "output_type": "stream",
          "name": "stderr",
          "text": [
            "\rEpoch 1/1:  15%|█▌        | 183/1188 [02:41<13:07,  1.28it/s]"
          ]
        },
        {
          "output_type": "stream",
          "name": "stdout",
          "text": [
            "3.5503628253936768\n"
          ]
        },
        {
          "output_type": "stream",
          "name": "stderr",
          "text": [
            "\rEpoch 1/1:  15%|█▌        | 184/1188 [02:42<13:01,  1.29it/s]"
          ]
        },
        {
          "output_type": "stream",
          "name": "stdout",
          "text": [
            "3.617190361022949\n"
          ]
        },
        {
          "output_type": "stream",
          "name": "stderr",
          "text": [
            "\rEpoch 1/1:  16%|█▌        | 185/1188 [02:43<12:53,  1.30it/s]"
          ]
        },
        {
          "output_type": "stream",
          "name": "stdout",
          "text": [
            "3.6440067291259766\n"
          ]
        },
        {
          "output_type": "stream",
          "name": "stderr",
          "text": [
            "\rEpoch 1/1:  16%|█▌        | 186/1188 [02:43<12:48,  1.30it/s]"
          ]
        },
        {
          "output_type": "stream",
          "name": "stdout",
          "text": [
            "3.5553534030914307\n"
          ]
        },
        {
          "output_type": "stream",
          "name": "stderr",
          "text": [
            "\rEpoch 1/1:  16%|█▌        | 187/1188 [02:44<12:48,  1.30it/s]"
          ]
        },
        {
          "output_type": "stream",
          "name": "stdout",
          "text": [
            "3.5918660163879395\n"
          ]
        },
        {
          "output_type": "stream",
          "name": "stderr",
          "text": [
            "\rEpoch 1/1:  16%|█▌        | 188/1188 [02:45<12:57,  1.29it/s]"
          ]
        },
        {
          "output_type": "stream",
          "name": "stdout",
          "text": [
            "3.626140594482422\n"
          ]
        },
        {
          "output_type": "stream",
          "name": "stderr",
          "text": [
            "\rEpoch 1/1:  16%|█▌        | 189/1188 [02:46<12:52,  1.29it/s]"
          ]
        },
        {
          "output_type": "stream",
          "name": "stdout",
          "text": [
            "3.5414814949035645\n"
          ]
        },
        {
          "output_type": "stream",
          "name": "stderr",
          "text": [
            "\rEpoch 1/1:  16%|█▌        | 190/1188 [02:47<14:48,  1.12it/s]"
          ]
        },
        {
          "output_type": "stream",
          "name": "stdout",
          "text": [
            "3.535566568374634\n"
          ]
        },
        {
          "output_type": "stream",
          "name": "stderr",
          "text": [
            "\rEpoch 1/1:  16%|█▌        | 191/1188 [02:48<16:16,  1.02it/s]"
          ]
        },
        {
          "output_type": "stream",
          "name": "stdout",
          "text": [
            "3.587919235229492\n"
          ]
        },
        {
          "output_type": "stream",
          "name": "stderr",
          "text": [
            "\rEpoch 1/1:  16%|█▌        | 192/1188 [02:49<17:16,  1.04s/it]"
          ]
        },
        {
          "output_type": "stream",
          "name": "stdout",
          "text": [
            "3.583509683609009\n"
          ]
        },
        {
          "output_type": "stream",
          "name": "stderr",
          "text": [
            "\rEpoch 1/1:  16%|█▌        | 193/1188 [02:50<17:51,  1.08s/it]"
          ]
        },
        {
          "output_type": "stream",
          "name": "stdout",
          "text": [
            "3.6501030921936035\n"
          ]
        },
        {
          "output_type": "stream",
          "name": "stderr",
          "text": [
            "\rEpoch 1/1:  16%|█▋        | 194/1188 [02:51<17:06,  1.03s/it]"
          ]
        },
        {
          "output_type": "stream",
          "name": "stdout",
          "text": [
            "3.5588889122009277\n"
          ]
        },
        {
          "output_type": "stream",
          "name": "stderr",
          "text": [
            "\rEpoch 1/1:  16%|█▋        | 195/1188 [02:52<16:50,  1.02s/it]"
          ]
        },
        {
          "output_type": "stream",
          "name": "stdout",
          "text": [
            "3.5581233501434326\n"
          ]
        },
        {
          "output_type": "stream",
          "name": "stderr",
          "text": [
            "\rEpoch 1/1:  16%|█▋        | 196/1188 [02:53<16:49,  1.02s/it]"
          ]
        },
        {
          "output_type": "stream",
          "name": "stdout",
          "text": [
            "3.5957775115966797\n"
          ]
        },
        {
          "output_type": "stream",
          "name": "stderr",
          "text": [
            "\rEpoch 1/1:  17%|█▋        | 197/1188 [02:54<15:30,  1.07it/s]"
          ]
        },
        {
          "output_type": "stream",
          "name": "stdout",
          "text": [
            "3.530980348587036\n"
          ]
        },
        {
          "output_type": "stream",
          "name": "stderr",
          "text": [
            "\rEpoch 1/1:  17%|█▋        | 198/1188 [02:55<14:35,  1.13it/s]"
          ]
        },
        {
          "output_type": "stream",
          "name": "stdout",
          "text": [
            "3.543220043182373\n"
          ]
        },
        {
          "output_type": "stream",
          "name": "stderr",
          "text": [
            "\rEpoch 1/1:  17%|█▋        | 199/1188 [02:56<14:03,  1.17it/s]"
          ]
        },
        {
          "output_type": "stream",
          "name": "stdout",
          "text": [
            "3.60811710357666\n"
          ]
        },
        {
          "output_type": "stream",
          "name": "stderr",
          "text": [
            "\rEpoch 1/1:  17%|█▋        | 200/1188 [02:56<13:36,  1.21it/s]"
          ]
        },
        {
          "output_type": "stream",
          "name": "stdout",
          "text": [
            "3.5405449867248535\n"
          ]
        },
        {
          "output_type": "stream",
          "name": "stderr",
          "text": [
            "\rEpoch 1/1:  17%|█▋        | 201/1188 [02:57<13:21,  1.23it/s]"
          ]
        },
        {
          "output_type": "stream",
          "name": "stdout",
          "text": [
            "3.5235519409179688\n"
          ]
        },
        {
          "output_type": "stream",
          "name": "stderr",
          "text": [
            "\rEpoch 1/1:  17%|█▋        | 202/1188 [02:58<13:08,  1.25it/s]"
          ]
        },
        {
          "output_type": "stream",
          "name": "stdout",
          "text": [
            "3.5685386657714844\n"
          ]
        },
        {
          "output_type": "stream",
          "name": "stderr",
          "text": [
            "\rEpoch 1/1:  17%|█▋        | 203/1188 [02:59<12:54,  1.27it/s]"
          ]
        },
        {
          "output_type": "stream",
          "name": "stdout",
          "text": [
            "3.605128288269043\n"
          ]
        },
        {
          "output_type": "stream",
          "name": "stderr",
          "text": [
            "\rEpoch 1/1:  17%|█▋        | 204/1188 [02:59<12:47,  1.28it/s]"
          ]
        },
        {
          "output_type": "stream",
          "name": "stdout",
          "text": [
            "3.616248607635498\n"
          ]
        },
        {
          "output_type": "stream",
          "name": "stderr",
          "text": [
            "\rEpoch 1/1:  17%|█▋        | 205/1188 [03:00<12:38,  1.30it/s]"
          ]
        },
        {
          "output_type": "stream",
          "name": "stdout",
          "text": [
            "3.563462257385254\n"
          ]
        },
        {
          "output_type": "stream",
          "name": "stderr",
          "text": [
            "\rEpoch 1/1:  17%|█▋        | 206/1188 [03:01<12:42,  1.29it/s]"
          ]
        },
        {
          "output_type": "stream",
          "name": "stdout",
          "text": [
            "3.534116268157959\n"
          ]
        },
        {
          "output_type": "stream",
          "name": "stderr",
          "text": [
            "\rEpoch 1/1:  17%|█▋        | 207/1188 [03:02<14:31,  1.13it/s]"
          ]
        },
        {
          "output_type": "stream",
          "name": "stdout",
          "text": [
            "3.599679946899414\n"
          ]
        },
        {
          "output_type": "stream",
          "name": "stderr",
          "text": [
            "\rEpoch 1/1:  18%|█▊        | 208/1188 [03:03<15:57,  1.02it/s]"
          ]
        },
        {
          "output_type": "stream",
          "name": "stdout",
          "text": [
            "3.554130792617798\n"
          ]
        },
        {
          "output_type": "stream",
          "name": "stderr",
          "text": [
            "\rEpoch 1/1:  18%|█▊        | 209/1188 [03:04<16:57,  1.04s/it]"
          ]
        },
        {
          "output_type": "stream",
          "name": "stdout",
          "text": [
            "3.6098382472991943\n"
          ]
        },
        {
          "output_type": "stream",
          "name": "stderr",
          "text": [
            "\rEpoch 1/1:  18%|█▊        | 210/1188 [03:06<17:36,  1.08s/it]"
          ]
        },
        {
          "output_type": "stream",
          "name": "stdout",
          "text": [
            "3.5776960849761963\n"
          ]
        },
        {
          "output_type": "stream",
          "name": "stderr",
          "text": [
            "\rEpoch 1/1:  18%|█▊        | 211/1188 [03:06<16:35,  1.02s/it]"
          ]
        },
        {
          "output_type": "stream",
          "name": "stdout",
          "text": [
            "3.57193922996521\n"
          ]
        },
        {
          "output_type": "stream",
          "name": "stderr",
          "text": [
            "\rEpoch 1/1:  18%|█▊        | 212/1188 [03:07<15:14,  1.07it/s]"
          ]
        },
        {
          "output_type": "stream",
          "name": "stdout",
          "text": [
            "3.5207107067108154\n"
          ]
        },
        {
          "output_type": "stream",
          "name": "stderr",
          "text": [
            "\rEpoch 1/1:  18%|█▊        | 213/1188 [03:08<14:22,  1.13it/s]"
          ]
        },
        {
          "output_type": "stream",
          "name": "stdout",
          "text": [
            "3.5866644382476807\n"
          ]
        },
        {
          "output_type": "stream",
          "name": "stderr",
          "text": [
            "\rEpoch 1/1:  18%|█▊        | 214/1188 [03:09<13:43,  1.18it/s]"
          ]
        },
        {
          "output_type": "stream",
          "name": "stdout",
          "text": [
            "3.5838427543640137\n"
          ]
        },
        {
          "output_type": "stream",
          "name": "stderr",
          "text": [
            "\rEpoch 1/1:  18%|█▊        | 215/1188 [03:09<13:20,  1.22it/s]"
          ]
        },
        {
          "output_type": "stream",
          "name": "stdout",
          "text": [
            "3.601685047149658\n"
          ]
        },
        {
          "output_type": "stream",
          "name": "stderr",
          "text": [
            "\rEpoch 1/1:  18%|█▊        | 216/1188 [03:10<13:05,  1.24it/s]"
          ]
        },
        {
          "output_type": "stream",
          "name": "stdout",
          "text": [
            "3.5445291996002197\n"
          ]
        },
        {
          "output_type": "stream",
          "name": "stderr",
          "text": [
            "\rEpoch 1/1:  18%|█▊        | 217/1188 [03:11<12:55,  1.25it/s]"
          ]
        },
        {
          "output_type": "stream",
          "name": "stdout",
          "text": [
            "3.5832128524780273\n"
          ]
        },
        {
          "output_type": "stream",
          "name": "stderr",
          "text": [
            "\rEpoch 1/1:  18%|█▊        | 218/1188 [03:12<12:44,  1.27it/s]"
          ]
        },
        {
          "output_type": "stream",
          "name": "stdout",
          "text": [
            "3.585855484008789\n"
          ]
        },
        {
          "output_type": "stream",
          "name": "stderr",
          "text": [
            "\rEpoch 1/1:  18%|█▊        | 219/1188 [03:13<12:40,  1.27it/s]"
          ]
        },
        {
          "output_type": "stream",
          "name": "stdout",
          "text": [
            "3.5489892959594727\n"
          ]
        },
        {
          "output_type": "stream",
          "name": "stderr",
          "text": [
            "\rEpoch 1/1:  19%|█▊        | 220/1188 [03:13<12:31,  1.29it/s]"
          ]
        },
        {
          "output_type": "stream",
          "name": "stdout",
          "text": [
            "3.5190536975860596\n"
          ]
        },
        {
          "output_type": "stream",
          "name": "stderr",
          "text": [
            "\rEpoch 1/1:  19%|█▊        | 221/1188 [03:14<12:27,  1.29it/s]"
          ]
        },
        {
          "output_type": "stream",
          "name": "stdout",
          "text": [
            "3.533052682876587\n"
          ]
        },
        {
          "output_type": "stream",
          "name": "stderr",
          "text": [
            "\rEpoch 1/1:  19%|█▊        | 222/1188 [03:15<12:24,  1.30it/s]"
          ]
        },
        {
          "output_type": "stream",
          "name": "stdout",
          "text": [
            "3.520672082901001\n"
          ]
        },
        {
          "output_type": "stream",
          "name": "stderr",
          "text": [
            "\rEpoch 1/1:  19%|█▉        | 223/1188 [03:16<12:14,  1.31it/s]"
          ]
        },
        {
          "output_type": "stream",
          "name": "stdout",
          "text": [
            "3.555288314819336\n"
          ]
        },
        {
          "output_type": "stream",
          "name": "stderr",
          "text": [
            "\rEpoch 1/1:  19%|█▉        | 224/1188 [03:16<12:48,  1.25it/s]"
          ]
        },
        {
          "output_type": "stream",
          "name": "stdout",
          "text": [
            "3.559041738510132\n"
          ]
        },
        {
          "output_type": "stream",
          "name": "stderr",
          "text": [
            "\rEpoch 1/1:  19%|█▉        | 225/1188 [03:18<14:35,  1.10it/s]"
          ]
        },
        {
          "output_type": "stream",
          "name": "stdout",
          "text": [
            "3.6119673252105713\n"
          ]
        },
        {
          "output_type": "stream",
          "name": "stderr",
          "text": [
            "\rEpoch 1/1:  19%|█▉        | 226/1188 [03:19<15:47,  1.01it/s]"
          ]
        },
        {
          "output_type": "stream",
          "name": "stdout",
          "text": [
            "3.5369155406951904\n"
          ]
        },
        {
          "output_type": "stream",
          "name": "stderr",
          "text": [
            "\rEpoch 1/1:  19%|█▉        | 227/1188 [03:20<16:37,  1.04s/it]"
          ]
        },
        {
          "output_type": "stream",
          "name": "stdout",
          "text": [
            "3.6072232723236084\n"
          ]
        },
        {
          "output_type": "stream",
          "name": "stderr",
          "text": [
            "\rEpoch 1/1:  19%|█▉        | 228/1188 [03:21<17:12,  1.08s/it]"
          ]
        },
        {
          "output_type": "stream",
          "name": "stdout",
          "text": [
            "3.535745620727539\n"
          ]
        },
        {
          "output_type": "stream",
          "name": "stderr",
          "text": [
            "\rEpoch 1/1:  19%|█▉        | 229/1188 [03:22<15:47,  1.01it/s]"
          ]
        },
        {
          "output_type": "stream",
          "name": "stdout",
          "text": [
            "3.5708422660827637\n"
          ]
        },
        {
          "output_type": "stream",
          "name": "stderr",
          "text": [
            "\rEpoch 1/1:  19%|█▉        | 230/1188 [03:23<14:44,  1.08it/s]"
          ]
        },
        {
          "output_type": "stream",
          "name": "stdout",
          "text": [
            "3.5448546409606934\n"
          ]
        },
        {
          "output_type": "stream",
          "name": "stderr",
          "text": [
            "\rEpoch 1/1:  19%|█▉        | 231/1188 [03:23<13:55,  1.14it/s]"
          ]
        },
        {
          "output_type": "stream",
          "name": "stdout",
          "text": [
            "3.565401315689087\n"
          ]
        },
        {
          "output_type": "stream",
          "name": "stderr",
          "text": [
            "\rEpoch 1/1:  20%|█▉        | 232/1188 [03:24<13:25,  1.19it/s]"
          ]
        },
        {
          "output_type": "stream",
          "name": "stdout",
          "text": [
            "3.595244884490967\n"
          ]
        },
        {
          "output_type": "stream",
          "name": "stderr",
          "text": [
            "\rEpoch 1/1:  20%|█▉        | 233/1188 [03:25<13:01,  1.22it/s]"
          ]
        },
        {
          "output_type": "stream",
          "name": "stdout",
          "text": [
            "3.5899415016174316\n"
          ]
        },
        {
          "output_type": "stream",
          "name": "stderr",
          "text": [
            "\rEpoch 1/1:  20%|█▉        | 234/1188 [03:26<12:44,  1.25it/s]"
          ]
        },
        {
          "output_type": "stream",
          "name": "stdout",
          "text": [
            "3.5775680541992188\n"
          ]
        },
        {
          "output_type": "stream",
          "name": "stderr",
          "text": [
            "\rEpoch 1/1:  20%|█▉        | 235/1188 [03:27<12:36,  1.26it/s]"
          ]
        },
        {
          "output_type": "stream",
          "name": "stdout",
          "text": [
            "3.5916805267333984\n"
          ]
        },
        {
          "output_type": "stream",
          "name": "stderr",
          "text": [
            "\rEpoch 1/1:  20%|█▉        | 236/1188 [03:27<12:32,  1.27it/s]"
          ]
        },
        {
          "output_type": "stream",
          "name": "stdout",
          "text": [
            "3.600705146789551\n"
          ]
        },
        {
          "output_type": "stream",
          "name": "stderr",
          "text": [
            "\rEpoch 1/1:  20%|█▉        | 237/1188 [03:28<12:25,  1.28it/s]"
          ]
        },
        {
          "output_type": "stream",
          "name": "stdout",
          "text": [
            "3.5687835216522217\n"
          ]
        },
        {
          "output_type": "stream",
          "name": "stderr",
          "text": [
            "\rEpoch 1/1:  20%|██        | 238/1188 [03:29<12:17,  1.29it/s]"
          ]
        },
        {
          "output_type": "stream",
          "name": "stdout",
          "text": [
            "3.5191564559936523\n"
          ]
        },
        {
          "output_type": "stream",
          "name": "stderr",
          "text": [
            "\rEpoch 1/1:  20%|██        | 239/1188 [03:30<12:13,  1.29it/s]"
          ]
        },
        {
          "output_type": "stream",
          "name": "stdout",
          "text": [
            "3.5574212074279785\n"
          ]
        },
        {
          "output_type": "stream",
          "name": "stderr",
          "text": [
            "\rEpoch 1/1:  20%|██        | 240/1188 [03:30<12:12,  1.29it/s]"
          ]
        },
        {
          "output_type": "stream",
          "name": "stdout",
          "text": [
            "3.5593230724334717\n"
          ]
        },
        {
          "output_type": "stream",
          "name": "stderr",
          "text": [
            "\rEpoch 1/1:  20%|██        | 241/1188 [03:31<12:07,  1.30it/s]"
          ]
        },
        {
          "output_type": "stream",
          "name": "stdout",
          "text": [
            "3.5750460624694824\n"
          ]
        },
        {
          "output_type": "stream",
          "name": "stderr",
          "text": [
            "\rEpoch 1/1:  20%|██        | 242/1188 [03:32<12:55,  1.22it/s]"
          ]
        },
        {
          "output_type": "stream",
          "name": "stdout",
          "text": [
            "3.541679620742798\n"
          ]
        },
        {
          "output_type": "stream",
          "name": "stderr",
          "text": [
            "\rEpoch 1/1:  20%|██        | 243/1188 [03:33<13:24,  1.17it/s]"
          ]
        },
        {
          "output_type": "stream",
          "name": "stdout",
          "text": [
            "3.538496971130371\n"
          ]
        },
        {
          "output_type": "stream",
          "name": "stderr",
          "text": [
            "\rEpoch 1/1:  21%|██        | 244/1188 [03:34<14:51,  1.06it/s]"
          ]
        },
        {
          "output_type": "stream",
          "name": "stdout",
          "text": [
            "3.5398378372192383\n"
          ]
        },
        {
          "output_type": "stream",
          "name": "stderr",
          "text": [
            "\rEpoch 1/1:  21%|██        | 245/1188 [03:35<15:56,  1.01s/it]"
          ]
        },
        {
          "output_type": "stream",
          "name": "stdout",
          "text": [
            "3.541649341583252\n"
          ]
        },
        {
          "output_type": "stream",
          "name": "stderr",
          "text": [
            "\rEpoch 1/1:  21%|██        | 246/1188 [03:37<16:37,  1.06s/it]"
          ]
        },
        {
          "output_type": "stream",
          "name": "stdout",
          "text": [
            "3.545027017593384\n"
          ]
        },
        {
          "output_type": "stream",
          "name": "stderr",
          "text": [
            "\rEpoch 1/1:  21%|██        | 247/1188 [03:37<16:14,  1.04s/it]"
          ]
        },
        {
          "output_type": "stream",
          "name": "stdout",
          "text": [
            "3.515300989151001\n"
          ]
        },
        {
          "output_type": "stream",
          "name": "stderr",
          "text": [
            "\rEpoch 1/1:  21%|██        | 248/1188 [03:38<14:56,  1.05it/s]"
          ]
        },
        {
          "output_type": "stream",
          "name": "stdout",
          "text": [
            "3.578261375427246\n"
          ]
        },
        {
          "output_type": "stream",
          "name": "stderr",
          "text": [
            "\rEpoch 1/1:  21%|██        | 249/1188 [03:39<14:00,  1.12it/s]"
          ]
        },
        {
          "output_type": "stream",
          "name": "stdout",
          "text": [
            "3.5164635181427\n"
          ]
        },
        {
          "output_type": "stream",
          "name": "stderr",
          "text": [
            "\rEpoch 1/1:  21%|██        | 250/1188 [03:40<13:24,  1.17it/s]"
          ]
        },
        {
          "output_type": "stream",
          "name": "stdout",
          "text": [
            "3.4912312030792236\n"
          ]
        },
        {
          "output_type": "stream",
          "name": "stderr",
          "text": [
            "\rEpoch 1/1:  21%|██        | 251/1188 [03:41<12:56,  1.21it/s]"
          ]
        },
        {
          "output_type": "stream",
          "name": "stdout",
          "text": [
            "3.500722646713257\n"
          ]
        },
        {
          "output_type": "stream",
          "name": "stderr",
          "text": [
            "\rEpoch 1/1:  21%|██        | 252/1188 [03:41<12:37,  1.24it/s]"
          ]
        },
        {
          "output_type": "stream",
          "name": "stdout",
          "text": [
            "3.521118640899658\n"
          ]
        },
        {
          "output_type": "stream",
          "name": "stderr",
          "text": [
            "\rEpoch 1/1:  21%|██▏       | 253/1188 [03:42<12:26,  1.25it/s]"
          ]
        },
        {
          "output_type": "stream",
          "name": "stdout",
          "text": [
            "3.600005626678467\n"
          ]
        },
        {
          "output_type": "stream",
          "name": "stderr",
          "text": [
            "\rEpoch 1/1:  21%|██▏       | 254/1188 [03:43<12:16,  1.27it/s]"
          ]
        },
        {
          "output_type": "stream",
          "name": "stdout",
          "text": [
            "3.506105422973633\n"
          ]
        },
        {
          "output_type": "stream",
          "name": "stderr",
          "text": [
            "\rEpoch 1/1:  21%|██▏       | 255/1188 [03:44<12:09,  1.28it/s]"
          ]
        },
        {
          "output_type": "stream",
          "name": "stdout",
          "text": [
            "3.585409641265869\n"
          ]
        },
        {
          "output_type": "stream",
          "name": "stderr",
          "text": [
            "\rEpoch 1/1:  22%|██▏       | 256/1188 [03:44<12:02,  1.29it/s]"
          ]
        },
        {
          "output_type": "stream",
          "name": "stdout",
          "text": [
            "3.5350184440612793\n"
          ]
        },
        {
          "output_type": "stream",
          "name": "stderr",
          "text": [
            "\rEpoch 1/1:  22%|██▏       | 257/1188 [03:45<12:01,  1.29it/s]"
          ]
        },
        {
          "output_type": "stream",
          "name": "stdout",
          "text": [
            "3.5240302085876465\n"
          ]
        },
        {
          "output_type": "stream",
          "name": "stderr",
          "text": [
            "\rEpoch 1/1:  22%|██▏       | 258/1188 [03:46<11:57,  1.30it/s]"
          ]
        },
        {
          "output_type": "stream",
          "name": "stdout",
          "text": [
            "3.610624074935913\n"
          ]
        },
        {
          "output_type": "stream",
          "name": "stderr",
          "text": [
            "\rEpoch 1/1:  22%|██▏       | 259/1188 [03:47<11:54,  1.30it/s]"
          ]
        },
        {
          "output_type": "stream",
          "name": "stdout",
          "text": [
            "3.569736957550049\n"
          ]
        },
        {
          "output_type": "stream",
          "name": "stderr",
          "text": [
            "\rEpoch 1/1:  22%|██▏       | 260/1188 [03:48<12:15,  1.26it/s]"
          ]
        },
        {
          "output_type": "stream",
          "name": "stdout",
          "text": [
            "3.556694984436035\n"
          ]
        },
        {
          "output_type": "stream",
          "name": "stderr",
          "text": [
            "\rEpoch 1/1:  22%|██▏       | 261/1188 [03:48<12:50,  1.20it/s]"
          ]
        },
        {
          "output_type": "stream",
          "name": "stdout",
          "text": [
            "3.5844433307647705\n"
          ]
        },
        {
          "output_type": "stream",
          "name": "stderr",
          "text": [
            "\rEpoch 1/1:  22%|██▏       | 262/1188 [03:50<14:22,  1.07it/s]"
          ]
        },
        {
          "output_type": "stream",
          "name": "stdout",
          "text": [
            "3.539067506790161\n"
          ]
        },
        {
          "output_type": "stream",
          "name": "stderr",
          "text": [
            "\rEpoch 1/1:  22%|██▏       | 263/1188 [03:51<15:26,  1.00s/it]"
          ]
        },
        {
          "output_type": "stream",
          "name": "stdout",
          "text": [
            "3.5553698539733887\n"
          ]
        },
        {
          "output_type": "stream",
          "name": "stderr",
          "text": [
            "\rEpoch 1/1:  22%|██▏       | 264/1188 [03:52<16:16,  1.06s/it]"
          ]
        },
        {
          "output_type": "stream",
          "name": "stdout",
          "text": [
            "3.570970296859741\n"
          ]
        },
        {
          "output_type": "stream",
          "name": "stderr",
          "text": [
            "\rEpoch 1/1:  22%|██▏       | 265/1188 [03:53<16:14,  1.06s/it]"
          ]
        },
        {
          "output_type": "stream",
          "name": "stdout",
          "text": [
            "3.538141965866089\n"
          ]
        },
        {
          "output_type": "stream",
          "name": "stderr",
          "text": [
            "\rEpoch 1/1:  22%|██▏       | 266/1188 [03:54<14:55,  1.03it/s]"
          ]
        },
        {
          "output_type": "stream",
          "name": "stdout",
          "text": [
            "3.538879156112671\n"
          ]
        },
        {
          "output_type": "stream",
          "name": "stderr",
          "text": [
            "\rEpoch 1/1:  22%|██▏       | 267/1188 [03:55<13:59,  1.10it/s]"
          ]
        },
        {
          "output_type": "stream",
          "name": "stdout",
          "text": [
            "3.5213232040405273\n"
          ]
        },
        {
          "output_type": "stream",
          "name": "stderr",
          "text": [
            "\rEpoch 1/1:  23%|██▎       | 268/1188 [03:55<13:21,  1.15it/s]"
          ]
        },
        {
          "output_type": "stream",
          "name": "stdout",
          "text": [
            "3.5439746379852295\n"
          ]
        },
        {
          "output_type": "stream",
          "name": "stderr",
          "text": [
            "\rEpoch 1/1:  23%|██▎       | 269/1188 [03:56<12:54,  1.19it/s]"
          ]
        },
        {
          "output_type": "stream",
          "name": "stdout",
          "text": [
            "3.5538761615753174\n"
          ]
        },
        {
          "output_type": "stream",
          "name": "stderr",
          "text": [
            "\rEpoch 1/1:  23%|██▎       | 270/1188 [03:57<12:28,  1.23it/s]"
          ]
        },
        {
          "output_type": "stream",
          "name": "stdout",
          "text": [
            "3.5129058361053467\n"
          ]
        },
        {
          "output_type": "stream",
          "name": "stderr",
          "text": [
            "\rEpoch 1/1:  23%|██▎       | 271/1188 [03:58<12:14,  1.25it/s]"
          ]
        },
        {
          "output_type": "stream",
          "name": "stdout",
          "text": [
            "3.5296335220336914\n"
          ]
        },
        {
          "output_type": "stream",
          "name": "stderr",
          "text": [
            "\rEpoch 1/1:  23%|██▎       | 272/1188 [03:58<12:07,  1.26it/s]"
          ]
        },
        {
          "output_type": "stream",
          "name": "stdout",
          "text": [
            "3.513669013977051\n"
          ]
        },
        {
          "output_type": "stream",
          "name": "stderr",
          "text": [
            "\rEpoch 1/1:  23%|██▎       | 273/1188 [03:59<11:56,  1.28it/s]"
          ]
        },
        {
          "output_type": "stream",
          "name": "stdout",
          "text": [
            "3.544536828994751\n"
          ]
        },
        {
          "output_type": "stream",
          "name": "stderr",
          "text": [
            "\rEpoch 1/1:  23%|██▎       | 274/1188 [04:00<11:51,  1.29it/s]"
          ]
        },
        {
          "output_type": "stream",
          "name": "stdout",
          "text": [
            "3.5380215644836426\n"
          ]
        },
        {
          "output_type": "stream",
          "name": "stderr",
          "text": [
            "\rEpoch 1/1:  23%|██▎       | 275/1188 [04:01<11:52,  1.28it/s]"
          ]
        },
        {
          "output_type": "stream",
          "name": "stdout",
          "text": [
            "3.553368091583252\n"
          ]
        },
        {
          "output_type": "stream",
          "name": "stderr",
          "text": [
            "\rEpoch 1/1:  23%|██▎       | 276/1188 [04:01<11:48,  1.29it/s]"
          ]
        },
        {
          "output_type": "stream",
          "name": "stdout",
          "text": [
            "3.528921127319336\n"
          ]
        },
        {
          "output_type": "stream",
          "name": "stderr",
          "text": [
            "\rEpoch 1/1:  23%|██▎       | 277/1188 [04:02<11:44,  1.29it/s]"
          ]
        },
        {
          "output_type": "stream",
          "name": "stdout",
          "text": [
            "3.4969656467437744\n"
          ]
        },
        {
          "output_type": "stream",
          "name": "stderr",
          "text": [
            "\rEpoch 1/1:  23%|██▎       | 278/1188 [04:03<11:45,  1.29it/s]"
          ]
        },
        {
          "output_type": "stream",
          "name": "stdout",
          "text": [
            "3.4933929443359375\n"
          ]
        },
        {
          "output_type": "stream",
          "name": "stderr",
          "text": [
            "\rEpoch 1/1:  23%|██▎       | 279/1188 [04:04<13:29,  1.12it/s]"
          ]
        },
        {
          "output_type": "stream",
          "name": "stdout",
          "text": [
            "3.542133092880249\n"
          ]
        },
        {
          "output_type": "stream",
          "name": "stderr",
          "text": [
            "\rEpoch 1/1:  24%|██▎       | 280/1188 [04:05<14:50,  1.02it/s]"
          ]
        },
        {
          "output_type": "stream",
          "name": "stdout",
          "text": [
            "3.5450499057769775\n"
          ]
        },
        {
          "output_type": "stream",
          "name": "stderr",
          "text": [
            "\rEpoch 1/1:  24%|██▎       | 281/1188 [04:07<15:47,  1.04s/it]"
          ]
        },
        {
          "output_type": "stream",
          "name": "stdout",
          "text": [
            "3.5478944778442383\n"
          ]
        },
        {
          "output_type": "stream",
          "name": "stderr",
          "text": [
            "\rEpoch 1/1:  24%|██▎       | 282/1188 [04:08<16:21,  1.08s/it]"
          ]
        },
        {
          "output_type": "stream",
          "name": "stdout",
          "text": [
            "3.5199899673461914\n"
          ]
        },
        {
          "output_type": "stream",
          "name": "stderr",
          "text": [
            "\rEpoch 1/1:  24%|██▍       | 283/1188 [04:09<15:12,  1.01s/it]"
          ]
        },
        {
          "output_type": "stream",
          "name": "stdout",
          "text": [
            "3.524390697479248\n"
          ]
        },
        {
          "output_type": "stream",
          "name": "stderr",
          "text": [
            "\rEpoch 1/1:  24%|██▍       | 284/1188 [04:09<14:09,  1.06it/s]"
          ]
        },
        {
          "output_type": "stream",
          "name": "stdout",
          "text": [
            "3.480879545211792\n"
          ]
        },
        {
          "output_type": "stream",
          "name": "stderr",
          "text": [
            "\rEpoch 1/1:  24%|██▍       | 285/1188 [04:10<13:20,  1.13it/s]"
          ]
        },
        {
          "output_type": "stream",
          "name": "stdout",
          "text": [
            "3.500117778778076\n"
          ]
        },
        {
          "output_type": "stream",
          "name": "stderr",
          "text": [
            "\rEpoch 1/1:  24%|██▍       | 286/1188 [04:11<12:47,  1.18it/s]"
          ]
        },
        {
          "output_type": "stream",
          "name": "stdout",
          "text": [
            "3.5041279792785645\n"
          ]
        },
        {
          "output_type": "stream",
          "name": "stderr",
          "text": [
            "\rEpoch 1/1:  24%|██▍       | 287/1188 [04:12<12:22,  1.21it/s]"
          ]
        },
        {
          "output_type": "stream",
          "name": "stdout",
          "text": [
            "3.499494791030884\n"
          ]
        },
        {
          "output_type": "stream",
          "name": "stderr",
          "text": [
            "\rEpoch 1/1:  24%|██▍       | 288/1188 [04:12<12:06,  1.24it/s]"
          ]
        },
        {
          "output_type": "stream",
          "name": "stdout",
          "text": [
            "3.502864122390747\n"
          ]
        },
        {
          "output_type": "stream",
          "name": "stderr",
          "text": [
            "\rEpoch 1/1:  24%|██▍       | 289/1188 [04:13<11:55,  1.26it/s]"
          ]
        },
        {
          "output_type": "stream",
          "name": "stdout",
          "text": [
            "3.519550085067749\n"
          ]
        },
        {
          "output_type": "stream",
          "name": "stderr",
          "text": [
            "\rEpoch 1/1:  24%|██▍       | 290/1188 [04:14<11:46,  1.27it/s]"
          ]
        },
        {
          "output_type": "stream",
          "name": "stdout",
          "text": [
            "3.4967918395996094\n"
          ]
        },
        {
          "output_type": "stream",
          "name": "stderr",
          "text": [
            "\rEpoch 1/1:  24%|██▍       | 291/1188 [04:15<11:39,  1.28it/s]"
          ]
        },
        {
          "output_type": "stream",
          "name": "stdout",
          "text": [
            "3.518571376800537\n"
          ]
        },
        {
          "output_type": "stream",
          "name": "stderr",
          "text": [
            "\rEpoch 1/1:  25%|██▍       | 292/1188 [04:15<11:33,  1.29it/s]"
          ]
        },
        {
          "output_type": "stream",
          "name": "stdout",
          "text": [
            "3.5218539237976074\n"
          ]
        },
        {
          "output_type": "stream",
          "name": "stderr",
          "text": [
            "\rEpoch 1/1:  25%|██▍       | 293/1188 [04:16<11:32,  1.29it/s]"
          ]
        },
        {
          "output_type": "stream",
          "name": "stdout",
          "text": [
            "3.545403003692627\n"
          ]
        },
        {
          "output_type": "stream",
          "name": "stderr",
          "text": [
            "\rEpoch 1/1:  25%|██▍       | 294/1188 [04:17<11:30,  1.29it/s]"
          ]
        },
        {
          "output_type": "stream",
          "name": "stdout",
          "text": [
            "3.5143659114837646\n"
          ]
        },
        {
          "output_type": "stream",
          "name": "stderr",
          "text": [
            "\rEpoch 1/1:  25%|██▍       | 295/1188 [04:18<11:33,  1.29it/s]"
          ]
        },
        {
          "output_type": "stream",
          "name": "stdout",
          "text": [
            "3.5306777954101562\n"
          ]
        },
        {
          "output_type": "stream",
          "name": "stderr",
          "text": [
            "\rEpoch 1/1:  25%|██▍       | 296/1188 [04:19<12:10,  1.22it/s]"
          ]
        },
        {
          "output_type": "stream",
          "name": "stdout",
          "text": [
            "3.5429227352142334\n"
          ]
        },
        {
          "output_type": "stream",
          "name": "stderr",
          "text": [
            "\rEpoch 1/1:  25%|██▌       | 297/1188 [04:20<12:37,  1.18it/s]"
          ]
        },
        {
          "output_type": "stream",
          "name": "stdout",
          "text": [
            "3.5210201740264893\n"
          ]
        },
        {
          "output_type": "stream",
          "name": "stderr",
          "text": [
            "\rEpoch 1/1:  25%|██▌       | 298/1188 [04:21<13:57,  1.06it/s]"
          ]
        },
        {
          "output_type": "stream",
          "name": "stdout",
          "text": [
            "3.5377869606018066\n"
          ]
        },
        {
          "output_type": "stream",
          "name": "stderr",
          "text": [
            "\rEpoch 1/1:  25%|██▌       | 299/1188 [04:22<15:02,  1.02s/it]"
          ]
        },
        {
          "output_type": "stream",
          "name": "stdout",
          "text": [
            "3.5272464752197266\n"
          ]
        },
        {
          "output_type": "stream",
          "name": "stderr",
          "text": [
            "\rEpoch 1/1:  25%|██▌       | 300/1188 [04:23<15:42,  1.06s/it]"
          ]
        },
        {
          "output_type": "stream",
          "name": "stdout",
          "text": [
            "3.5253493785858154\n"
          ]
        },
        {
          "output_type": "stream",
          "name": "stderr",
          "text": [
            "\rEpoch 1/1:  25%|██▌       | 301/1188 [04:24<15:42,  1.06s/it]"
          ]
        },
        {
          "output_type": "stream",
          "name": "stdout",
          "text": [
            "3.514934539794922\n"
          ]
        },
        {
          "output_type": "stream",
          "name": "stderr",
          "text": [
            "\rEpoch 1/1:  25%|██▌       | 302/1188 [04:25<14:26,  1.02it/s]"
          ]
        },
        {
          "output_type": "stream",
          "name": "stdout",
          "text": [
            "3.4963510036468506\n"
          ]
        },
        {
          "output_type": "stream",
          "name": "stderr",
          "text": [
            "\rEpoch 1/1:  26%|██▌       | 303/1188 [04:26<13:25,  1.10it/s]"
          ]
        },
        {
          "output_type": "stream",
          "name": "stdout",
          "text": [
            "3.5201640129089355\n"
          ]
        },
        {
          "output_type": "stream",
          "name": "stderr",
          "text": [
            "\rEpoch 1/1:  26%|██▌       | 304/1188 [04:27<12:52,  1.14it/s]"
          ]
        },
        {
          "output_type": "stream",
          "name": "stdout",
          "text": [
            "3.490997314453125\n"
          ]
        },
        {
          "output_type": "stream",
          "name": "stderr",
          "text": [
            "\rEpoch 1/1:  26%|██▌       | 305/1188 [04:27<12:31,  1.17it/s]"
          ]
        },
        {
          "output_type": "stream",
          "name": "stdout",
          "text": [
            "3.5047764778137207\n"
          ]
        },
        {
          "output_type": "stream",
          "name": "stderr",
          "text": [
            "\rEpoch 1/1:  26%|██▌       | 306/1188 [04:28<12:17,  1.20it/s]"
          ]
        },
        {
          "output_type": "stream",
          "name": "stdout",
          "text": [
            "3.5146350860595703\n"
          ]
        },
        {
          "output_type": "stream",
          "name": "stderr",
          "text": [
            "\rEpoch 1/1:  26%|██▌       | 307/1188 [04:29<11:52,  1.24it/s]"
          ]
        },
        {
          "output_type": "stream",
          "name": "stdout",
          "text": [
            "3.5254135131835938\n"
          ]
        },
        {
          "output_type": "stream",
          "name": "stderr",
          "text": [
            "\rEpoch 1/1:  26%|██▌       | 308/1188 [04:30<11:38,  1.26it/s]"
          ]
        },
        {
          "output_type": "stream",
          "name": "stdout",
          "text": [
            "3.517345428466797\n"
          ]
        },
        {
          "output_type": "stream",
          "name": "stderr",
          "text": [
            "\rEpoch 1/1:  26%|██▌       | 309/1188 [04:30<11:31,  1.27it/s]"
          ]
        },
        {
          "output_type": "stream",
          "name": "stdout",
          "text": [
            "3.4866647720336914\n"
          ]
        },
        {
          "output_type": "stream",
          "name": "stderr",
          "text": [
            "\rEpoch 1/1:  26%|██▌       | 310/1188 [04:31<11:21,  1.29it/s]"
          ]
        },
        {
          "output_type": "stream",
          "name": "stdout",
          "text": [
            "3.526027202606201\n"
          ]
        },
        {
          "output_type": "stream",
          "name": "stderr",
          "text": [
            "\rEpoch 1/1:  26%|██▌       | 311/1188 [04:32<11:15,  1.30it/s]"
          ]
        },
        {
          "output_type": "stream",
          "name": "stdout",
          "text": [
            "3.5105020999908447\n"
          ]
        },
        {
          "output_type": "stream",
          "name": "stderr",
          "text": [
            "\rEpoch 1/1:  26%|██▋       | 312/1188 [04:33<11:21,  1.28it/s]"
          ]
        },
        {
          "output_type": "stream",
          "name": "stdout",
          "text": [
            "3.4577345848083496\n"
          ]
        },
        {
          "output_type": "stream",
          "name": "stderr",
          "text": [
            "\rEpoch 1/1:  26%|██▋       | 313/1188 [04:34<11:20,  1.29it/s]"
          ]
        },
        {
          "output_type": "stream",
          "name": "stdout",
          "text": [
            "3.50528883934021\n"
          ]
        },
        {
          "output_type": "stream",
          "name": "stderr",
          "text": [
            "\rEpoch 1/1:  26%|██▋       | 314/1188 [04:34<11:35,  1.26it/s]"
          ]
        },
        {
          "output_type": "stream",
          "name": "stdout",
          "text": [
            "3.508629083633423\n"
          ]
        },
        {
          "output_type": "stream",
          "name": "stderr",
          "text": [
            "\rEpoch 1/1:  27%|██▋       | 315/1188 [04:35<12:10,  1.20it/s]"
          ]
        },
        {
          "output_type": "stream",
          "name": "stdout",
          "text": [
            "3.53676438331604\n"
          ]
        },
        {
          "output_type": "stream",
          "name": "stderr",
          "text": [
            "\rEpoch 1/1:  27%|██▋       | 316/1188 [04:36<12:35,  1.15it/s]"
          ]
        },
        {
          "output_type": "stream",
          "name": "stdout",
          "text": [
            "3.5580286979675293\n"
          ]
        },
        {
          "output_type": "stream",
          "name": "stderr",
          "text": [
            "\rEpoch 1/1:  27%|██▋       | 317/1188 [04:37<13:54,  1.04it/s]"
          ]
        },
        {
          "output_type": "stream",
          "name": "stdout",
          "text": [
            "3.4899392127990723\n"
          ]
        },
        {
          "output_type": "stream",
          "name": "stderr",
          "text": [
            "\rEpoch 1/1:  27%|██▋       | 318/1188 [04:39<14:48,  1.02s/it]"
          ]
        },
        {
          "output_type": "stream",
          "name": "stdout",
          "text": [
            "3.501835584640503\n"
          ]
        },
        {
          "output_type": "stream",
          "name": "stderr",
          "text": [
            "\rEpoch 1/1:  27%|██▋       | 319/1188 [04:40<15:25,  1.07s/it]"
          ]
        },
        {
          "output_type": "stream",
          "name": "stdout",
          "text": [
            "3.540236473083496\n"
          ]
        },
        {
          "output_type": "stream",
          "name": "stderr",
          "text": [
            "\rEpoch 1/1:  27%|██▋       | 320/1188 [04:41<14:16,  1.01it/s]"
          ]
        },
        {
          "output_type": "stream",
          "name": "stdout",
          "text": [
            "3.5020742416381836\n"
          ]
        },
        {
          "output_type": "stream",
          "name": "stderr",
          "text": [
            "\rEpoch 1/1:  27%|██▋       | 321/1188 [04:41<13:14,  1.09it/s]"
          ]
        },
        {
          "output_type": "stream",
          "name": "stdout",
          "text": [
            "3.5015244483947754\n"
          ]
        },
        {
          "output_type": "stream",
          "name": "stderr",
          "text": [
            "\rEpoch 1/1:  27%|██▋       | 322/1188 [04:42<12:38,  1.14it/s]"
          ]
        },
        {
          "output_type": "stream",
          "name": "stdout",
          "text": [
            "3.504568099975586\n"
          ]
        },
        {
          "output_type": "stream",
          "name": "stderr",
          "text": [
            "\rEpoch 1/1:  27%|██▋       | 323/1188 [04:43<12:12,  1.18it/s]"
          ]
        },
        {
          "output_type": "stream",
          "name": "stdout",
          "text": [
            "3.526853561401367\n"
          ]
        },
        {
          "output_type": "stream",
          "name": "stderr",
          "text": [
            "\rEpoch 1/1:  27%|██▋       | 324/1188 [04:44<11:46,  1.22it/s]"
          ]
        },
        {
          "output_type": "stream",
          "name": "stdout",
          "text": [
            "3.4806153774261475\n"
          ]
        },
        {
          "output_type": "stream",
          "name": "stderr",
          "text": [
            "\rEpoch 1/1:  27%|██▋       | 325/1188 [04:44<11:35,  1.24it/s]"
          ]
        },
        {
          "output_type": "stream",
          "name": "stdout",
          "text": [
            "3.5045318603515625\n"
          ]
        },
        {
          "output_type": "stream",
          "name": "stderr",
          "text": [
            "\rEpoch 1/1:  27%|██▋       | 326/1188 [04:45<11:21,  1.27it/s]"
          ]
        },
        {
          "output_type": "stream",
          "name": "stdout",
          "text": [
            "3.5188026428222656\n"
          ]
        },
        {
          "output_type": "stream",
          "name": "stderr",
          "text": [
            "\rEpoch 1/1:  28%|██▊       | 327/1188 [04:46<11:12,  1.28it/s]"
          ]
        },
        {
          "output_type": "stream",
          "name": "stdout",
          "text": [
            "3.5124127864837646\n"
          ]
        },
        {
          "output_type": "stream",
          "name": "stderr",
          "text": [
            "\rEpoch 1/1:  28%|██▊       | 328/1188 [04:47<11:18,  1.27it/s]"
          ]
        },
        {
          "output_type": "stream",
          "name": "stdout",
          "text": [
            "3.5199921131134033\n"
          ]
        },
        {
          "output_type": "stream",
          "name": "stderr",
          "text": [
            "\rEpoch 1/1:  28%|██▊       | 329/1188 [04:47<11:08,  1.28it/s]"
          ]
        },
        {
          "output_type": "stream",
          "name": "stdout",
          "text": [
            "3.511296510696411\n"
          ]
        },
        {
          "output_type": "stream",
          "name": "stderr",
          "text": [
            "\rEpoch 1/1:  28%|██▊       | 330/1188 [04:48<11:07,  1.29it/s]"
          ]
        },
        {
          "output_type": "stream",
          "name": "stdout",
          "text": [
            "3.543869733810425\n"
          ]
        },
        {
          "output_type": "stream",
          "name": "stderr",
          "text": [
            "\rEpoch 1/1:  28%|██▊       | 331/1188 [04:49<11:06,  1.29it/s]"
          ]
        },
        {
          "output_type": "stream",
          "name": "stdout",
          "text": [
            "3.504319906234741\n"
          ]
        },
        {
          "output_type": "stream",
          "name": "stderr",
          "text": [
            "\rEpoch 1/1:  28%|██▊       | 332/1188 [04:50<10:59,  1.30it/s]"
          ]
        },
        {
          "output_type": "stream",
          "name": "stdout",
          "text": [
            "3.5019960403442383\n"
          ]
        },
        {
          "output_type": "stream",
          "name": "stderr",
          "text": [
            "\rEpoch 1/1:  28%|██▊       | 333/1188 [04:51<11:44,  1.21it/s]"
          ]
        },
        {
          "output_type": "stream",
          "name": "stdout",
          "text": [
            "3.503498077392578\n"
          ]
        },
        {
          "output_type": "stream",
          "name": "stderr",
          "text": [
            "\rEpoch 1/1:  28%|██▊       | 334/1188 [04:52<13:16,  1.07it/s]"
          ]
        },
        {
          "output_type": "stream",
          "name": "stdout",
          "text": [
            "3.486616849899292\n"
          ]
        },
        {
          "output_type": "stream",
          "name": "stderr",
          "text": [
            "\rEpoch 1/1:  28%|██▊       | 335/1188 [04:53<14:15,  1.00s/it]"
          ]
        },
        {
          "output_type": "stream",
          "name": "stdout",
          "text": [
            "3.4954733848571777\n"
          ]
        },
        {
          "output_type": "stream",
          "name": "stderr",
          "text": [
            "\rEpoch 1/1:  28%|██▊       | 336/1188 [04:54<15:07,  1.06s/it]"
          ]
        },
        {
          "output_type": "stream",
          "name": "stdout",
          "text": [
            "3.5092263221740723\n"
          ]
        },
        {
          "output_type": "stream",
          "name": "stderr",
          "text": [
            "\rEpoch 1/1:  28%|██▊       | 337/1188 [04:55<15:13,  1.07s/it]"
          ]
        },
        {
          "output_type": "stream",
          "name": "stdout",
          "text": [
            "3.494415044784546\n"
          ]
        },
        {
          "output_type": "stream",
          "name": "stderr",
          "text": [
            "\rEpoch 1/1:  28%|██▊       | 338/1188 [04:56<13:54,  1.02it/s]"
          ]
        },
        {
          "output_type": "stream",
          "name": "stdout",
          "text": [
            "3.51370906829834\n"
          ]
        },
        {
          "output_type": "stream",
          "name": "stderr",
          "text": [
            "\rEpoch 1/1:  29%|██▊       | 339/1188 [04:57<12:55,  1.09it/s]"
          ]
        },
        {
          "output_type": "stream",
          "name": "stdout",
          "text": [
            "3.4696712493896484\n"
          ]
        },
        {
          "output_type": "stream",
          "name": "stderr",
          "text": [
            "\rEpoch 1/1:  29%|██▊       | 340/1188 [04:58<12:15,  1.15it/s]"
          ]
        },
        {
          "output_type": "stream",
          "name": "stdout",
          "text": [
            "3.511660575866699\n"
          ]
        },
        {
          "output_type": "stream",
          "name": "stderr",
          "text": [
            "\rEpoch 1/1:  29%|██▊       | 341/1188 [04:58<11:52,  1.19it/s]"
          ]
        },
        {
          "output_type": "stream",
          "name": "stdout",
          "text": [
            "3.4997334480285645\n"
          ]
        },
        {
          "output_type": "stream",
          "name": "stderr",
          "text": [
            "\rEpoch 1/1:  29%|██▉       | 342/1188 [04:59<11:28,  1.23it/s]"
          ]
        },
        {
          "output_type": "stream",
          "name": "stdout",
          "text": [
            "3.498338222503662\n"
          ]
        },
        {
          "output_type": "stream",
          "name": "stderr",
          "text": [
            "\rEpoch 1/1:  29%|██▉       | 343/1188 [05:00<11:14,  1.25it/s]"
          ]
        },
        {
          "output_type": "stream",
          "name": "stdout",
          "text": [
            "3.494821071624756\n"
          ]
        },
        {
          "output_type": "stream",
          "name": "stderr",
          "text": [
            "\rEpoch 1/1:  29%|██▉       | 344/1188 [05:01<11:06,  1.27it/s]"
          ]
        },
        {
          "output_type": "stream",
          "name": "stdout",
          "text": [
            "3.5056650638580322\n"
          ]
        },
        {
          "output_type": "stream",
          "name": "stderr",
          "text": [
            "\rEpoch 1/1:  29%|██▉       | 345/1188 [05:01<10:59,  1.28it/s]"
          ]
        },
        {
          "output_type": "stream",
          "name": "stdout",
          "text": [
            "3.5130863189697266\n"
          ]
        },
        {
          "output_type": "stream",
          "name": "stderr",
          "text": [
            "\rEpoch 1/1:  29%|██▉       | 346/1188 [05:02<10:51,  1.29it/s]"
          ]
        },
        {
          "output_type": "stream",
          "name": "stdout",
          "text": [
            "3.4982731342315674\n"
          ]
        },
        {
          "output_type": "stream",
          "name": "stderr",
          "text": [
            "\rEpoch 1/1:  29%|██▉       | 347/1188 [05:03<10:43,  1.31it/s]"
          ]
        },
        {
          "output_type": "stream",
          "name": "stdout",
          "text": [
            "3.4982776641845703\n"
          ]
        },
        {
          "output_type": "stream",
          "name": "stderr",
          "text": [
            "\rEpoch 1/1:  29%|██▉       | 348/1188 [05:04<10:41,  1.31it/s]"
          ]
        },
        {
          "output_type": "stream",
          "name": "stdout",
          "text": [
            "3.512117624282837\n"
          ]
        },
        {
          "output_type": "stream",
          "name": "stderr",
          "text": [
            "\rEpoch 1/1:  29%|██▉       | 349/1188 [05:04<10:42,  1.31it/s]"
          ]
        },
        {
          "output_type": "stream",
          "name": "stdout",
          "text": [
            "3.529212474822998\n"
          ]
        },
        {
          "output_type": "stream",
          "name": "stderr",
          "text": [
            "\rEpoch 1/1:  29%|██▉       | 350/1188 [05:05<10:43,  1.30it/s]"
          ]
        },
        {
          "output_type": "stream",
          "name": "stdout",
          "text": [
            "3.4992713928222656\n"
          ]
        },
        {
          "output_type": "stream",
          "name": "stderr",
          "text": [
            "\rEpoch 1/1:  30%|██▉       | 351/1188 [05:06<11:18,  1.23it/s]"
          ]
        },
        {
          "output_type": "stream",
          "name": "stdout",
          "text": [
            "3.4554872512817383\n"
          ]
        },
        {
          "output_type": "stream",
          "name": "stderr",
          "text": [
            "\rEpoch 1/1:  30%|██▉       | 352/1188 [05:07<11:50,  1.18it/s]"
          ]
        },
        {
          "output_type": "stream",
          "name": "stdout",
          "text": [
            "3.497863292694092\n"
          ]
        },
        {
          "output_type": "stream",
          "name": "stderr",
          "text": [
            "\rEpoch 1/1:  30%|██▉       | 353/1188 [05:08<13:17,  1.05it/s]"
          ]
        },
        {
          "output_type": "stream",
          "name": "stdout",
          "text": [
            "3.5137722492218018\n"
          ]
        },
        {
          "output_type": "stream",
          "name": "stderr",
          "text": [
            "\rEpoch 1/1:  30%|██▉       | 354/1188 [05:10<14:24,  1.04s/it]"
          ]
        },
        {
          "output_type": "stream",
          "name": "stdout",
          "text": [
            "3.48576021194458\n"
          ]
        },
        {
          "output_type": "stream",
          "name": "stderr",
          "text": [
            "\rEpoch 1/1:  30%|██▉       | 355/1188 [05:11<15:28,  1.11s/it]"
          ]
        },
        {
          "output_type": "stream",
          "name": "stdout",
          "text": [
            "3.510118007659912\n"
          ]
        },
        {
          "output_type": "stream",
          "name": "stderr",
          "text": [
            "\rEpoch 1/1:  30%|██▉       | 356/1188 [05:12<15:55,  1.15s/it]"
          ]
        },
        {
          "output_type": "stream",
          "name": "stdout",
          "text": [
            "3.4788057804107666\n"
          ]
        },
        {
          "output_type": "stream",
          "name": "stderr",
          "text": [
            "\rEpoch 1/1:  30%|███       | 357/1188 [05:13<14:25,  1.04s/it]"
          ]
        },
        {
          "output_type": "stream",
          "name": "stdout",
          "text": [
            "3.5128207206726074\n"
          ]
        },
        {
          "output_type": "stream",
          "name": "stderr",
          "text": [
            "\rEpoch 1/1:  30%|███       | 358/1188 [05:14<13:12,  1.05it/s]"
          ]
        },
        {
          "output_type": "stream",
          "name": "stdout",
          "text": [
            "3.5018937587738037\n"
          ]
        },
        {
          "output_type": "stream",
          "name": "stderr",
          "text": [
            "\rEpoch 1/1:  30%|███       | 359/1188 [05:14<12:27,  1.11it/s]"
          ]
        },
        {
          "output_type": "stream",
          "name": "stdout",
          "text": [
            "3.501023769378662\n"
          ]
        },
        {
          "output_type": "stream",
          "name": "stderr",
          "text": [
            "\rEpoch 1/1:  30%|███       | 360/1188 [05:15<11:53,  1.16it/s]"
          ]
        },
        {
          "output_type": "stream",
          "name": "stdout",
          "text": [
            "3.468864917755127\n"
          ]
        },
        {
          "output_type": "stream",
          "name": "stderr",
          "text": [
            "\rEpoch 1/1:  30%|███       | 361/1188 [05:16<11:29,  1.20it/s]"
          ]
        },
        {
          "output_type": "stream",
          "name": "stdout",
          "text": [
            "3.47910213470459\n"
          ]
        },
        {
          "output_type": "stream",
          "name": "stderr",
          "text": [
            "\rEpoch 1/1:  30%|███       | 362/1188 [05:17<11:18,  1.22it/s]"
          ]
        },
        {
          "output_type": "stream",
          "name": "stdout",
          "text": [
            "3.5154292583465576\n"
          ]
        },
        {
          "output_type": "stream",
          "name": "stderr",
          "text": [
            "\rEpoch 1/1:  31%|███       | 363/1188 [05:17<11:03,  1.24it/s]"
          ]
        },
        {
          "output_type": "stream",
          "name": "stdout",
          "text": [
            "3.5016815662384033\n"
          ]
        },
        {
          "output_type": "stream",
          "name": "stderr",
          "text": [
            "\rEpoch 1/1:  31%|███       | 364/1188 [05:18<10:57,  1.25it/s]"
          ]
        },
        {
          "output_type": "stream",
          "name": "stdout",
          "text": [
            "3.4896788597106934\n"
          ]
        },
        {
          "output_type": "stream",
          "name": "stderr",
          "text": [
            "\rEpoch 1/1:  31%|███       | 365/1188 [05:19<10:49,  1.27it/s]"
          ]
        },
        {
          "output_type": "stream",
          "name": "stdout",
          "text": [
            "3.5026824474334717\n"
          ]
        },
        {
          "output_type": "stream",
          "name": "stderr",
          "text": [
            "\rEpoch 1/1:  31%|███       | 366/1188 [05:20<10:41,  1.28it/s]"
          ]
        },
        {
          "output_type": "stream",
          "name": "stdout",
          "text": [
            "3.4790353775024414\n"
          ]
        },
        {
          "output_type": "stream",
          "name": "stderr",
          "text": [
            "\rEpoch 1/1:  31%|███       | 367/1188 [05:21<10:34,  1.29it/s]"
          ]
        },
        {
          "output_type": "stream",
          "name": "stdout",
          "text": [
            "3.5005507469177246\n"
          ]
        },
        {
          "output_type": "stream",
          "name": "stderr",
          "text": [
            "\rEpoch 1/1:  31%|███       | 368/1188 [05:21<10:42,  1.28it/s]"
          ]
        },
        {
          "output_type": "stream",
          "name": "stdout",
          "text": [
            "3.4931466579437256\n"
          ]
        },
        {
          "output_type": "stream",
          "name": "stderr",
          "text": [
            "\rEpoch 1/1:  31%|███       | 369/1188 [05:22<10:53,  1.25it/s]"
          ]
        },
        {
          "output_type": "stream",
          "name": "stdout",
          "text": [
            "3.5124471187591553\n"
          ]
        },
        {
          "output_type": "stream",
          "name": "stderr",
          "text": [
            "\rEpoch 1/1:  31%|███       | 370/1188 [05:23<11:23,  1.20it/s]"
          ]
        },
        {
          "output_type": "stream",
          "name": "stdout",
          "text": [
            "3.4553489685058594\n"
          ]
        },
        {
          "output_type": "stream",
          "name": "stderr",
          "text": [
            "\rEpoch 1/1:  31%|███       | 371/1188 [05:24<11:48,  1.15it/s]"
          ]
        },
        {
          "output_type": "stream",
          "name": "stdout",
          "text": [
            "3.4583723545074463\n"
          ]
        },
        {
          "output_type": "stream",
          "name": "stderr",
          "text": [
            "\rEpoch 1/1:  31%|███▏      | 372/1188 [05:25<13:08,  1.03it/s]"
          ]
        },
        {
          "output_type": "stream",
          "name": "stdout",
          "text": [
            "3.4926156997680664\n"
          ]
        },
        {
          "output_type": "stream",
          "name": "stderr",
          "text": [
            "\rEpoch 1/1:  31%|███▏      | 373/1188 [05:26<14:00,  1.03s/it]"
          ]
        },
        {
          "output_type": "stream",
          "name": "stdout",
          "text": [
            "3.5136759281158447\n"
          ]
        },
        {
          "output_type": "stream",
          "name": "stderr",
          "text": [
            "\rEpoch 1/1:  31%|███▏      | 374/1188 [05:28<14:43,  1.09s/it]"
          ]
        },
        {
          "output_type": "stream",
          "name": "stdout",
          "text": [
            "3.5045201778411865\n"
          ]
        },
        {
          "output_type": "stream",
          "name": "stderr",
          "text": [
            "\rEpoch 1/1:  32%|███▏      | 375/1188 [05:29<13:46,  1.02s/it]"
          ]
        },
        {
          "output_type": "stream",
          "name": "stdout",
          "text": [
            "3.499011993408203\n"
          ]
        },
        {
          "output_type": "stream",
          "name": "stderr",
          "text": [
            "\rEpoch 1/1:  32%|███▏      | 376/1188 [05:29<12:46,  1.06it/s]"
          ]
        },
        {
          "output_type": "stream",
          "name": "stdout",
          "text": [
            "3.50290846824646\n"
          ]
        },
        {
          "output_type": "stream",
          "name": "stderr",
          "text": [
            "\rEpoch 1/1:  32%|███▏      | 377/1188 [05:30<12:00,  1.13it/s]"
          ]
        },
        {
          "output_type": "stream",
          "name": "stdout",
          "text": [
            "3.544386863708496\n"
          ]
        },
        {
          "output_type": "stream",
          "name": "stderr",
          "text": [
            "\rEpoch 1/1:  32%|███▏      | 378/1188 [05:31<11:31,  1.17it/s]"
          ]
        },
        {
          "output_type": "stream",
          "name": "stdout",
          "text": [
            "3.4985830783843994\n"
          ]
        },
        {
          "output_type": "stream",
          "name": "stderr",
          "text": [
            "\rEpoch 1/1:  32%|███▏      | 379/1188 [05:32<11:10,  1.21it/s]"
          ]
        },
        {
          "output_type": "stream",
          "name": "stdout",
          "text": [
            "3.534907341003418\n"
          ]
        },
        {
          "output_type": "stream",
          "name": "stderr",
          "text": [
            "\rEpoch 1/1:  32%|███▏      | 380/1188 [05:32<10:55,  1.23it/s]"
          ]
        },
        {
          "output_type": "stream",
          "name": "stdout",
          "text": [
            "3.5079140663146973\n"
          ]
        },
        {
          "output_type": "stream",
          "name": "stderr",
          "text": [
            "\rEpoch 1/1:  32%|███▏      | 381/1188 [05:33<10:42,  1.26it/s]"
          ]
        },
        {
          "output_type": "stream",
          "name": "stdout",
          "text": [
            "3.5069727897644043\n"
          ]
        },
        {
          "output_type": "stream",
          "name": "stderr",
          "text": [
            "\rEpoch 1/1:  32%|███▏      | 382/1188 [05:34<10:33,  1.27it/s]"
          ]
        },
        {
          "output_type": "stream",
          "name": "stdout",
          "text": [
            "3.4769248962402344\n"
          ]
        },
        {
          "output_type": "stream",
          "name": "stderr",
          "text": [
            "\rEpoch 1/1:  32%|███▏      | 383/1188 [05:35<10:35,  1.27it/s]"
          ]
        },
        {
          "output_type": "stream",
          "name": "stdout",
          "text": [
            "3.48004150390625\n"
          ]
        },
        {
          "output_type": "stream",
          "name": "stderr",
          "text": [
            "\rEpoch 1/1:  32%|███▏      | 384/1188 [05:35<10:30,  1.28it/s]"
          ]
        },
        {
          "output_type": "stream",
          "name": "stdout",
          "text": [
            "3.504525899887085\n"
          ]
        },
        {
          "output_type": "stream",
          "name": "stderr",
          "text": [
            "\rEpoch 1/1:  32%|███▏      | 385/1188 [05:36<10:26,  1.28it/s]"
          ]
        },
        {
          "output_type": "stream",
          "name": "stdout",
          "text": [
            "3.509011745452881\n"
          ]
        },
        {
          "output_type": "stream",
          "name": "stderr",
          "text": [
            "\rEpoch 1/1:  32%|███▏      | 386/1188 [05:37<10:25,  1.28it/s]"
          ]
        },
        {
          "output_type": "stream",
          "name": "stdout",
          "text": [
            "3.4802284240722656\n"
          ]
        },
        {
          "output_type": "stream",
          "name": "stderr",
          "text": [
            "\rEpoch 1/1:  33%|███▎      | 387/1188 [05:38<10:21,  1.29it/s]"
          ]
        },
        {
          "output_type": "stream",
          "name": "stdout",
          "text": [
            "3.499159336090088\n"
          ]
        },
        {
          "output_type": "stream",
          "name": "stderr",
          "text": [
            "\rEpoch 1/1:  33%|███▎      | 388/1188 [05:39<11:01,  1.21it/s]"
          ]
        },
        {
          "output_type": "stream",
          "name": "stdout",
          "text": [
            "3.470416307449341\n"
          ]
        },
        {
          "output_type": "stream",
          "name": "stderr",
          "text": [
            "\rEpoch 1/1:  33%|███▎      | 389/1188 [05:40<12:25,  1.07it/s]"
          ]
        },
        {
          "output_type": "stream",
          "name": "stdout",
          "text": [
            "3.448796033859253\n"
          ]
        },
        {
          "output_type": "stream",
          "name": "stderr",
          "text": [
            "\rEpoch 1/1:  33%|███▎      | 390/1188 [05:41<13:21,  1.00s/it]"
          ]
        },
        {
          "output_type": "stream",
          "name": "stdout",
          "text": [
            "3.4920852184295654\n"
          ]
        },
        {
          "output_type": "stream",
          "name": "stderr",
          "text": [
            "\rEpoch 1/1:  33%|███▎      | 391/1188 [05:42<14:01,  1.06s/it]"
          ]
        },
        {
          "output_type": "stream",
          "name": "stdout",
          "text": [
            "3.512911081314087\n"
          ]
        },
        {
          "output_type": "stream",
          "name": "stderr",
          "text": [
            "\rEpoch 1/1:  33%|███▎      | 392/1188 [05:43<14:29,  1.09s/it]"
          ]
        },
        {
          "output_type": "stream",
          "name": "stdout",
          "text": [
            "3.5248541831970215\n"
          ]
        },
        {
          "output_type": "stream",
          "name": "stderr",
          "text": [
            "\rEpoch 1/1:  33%|███▎      | 393/1188 [05:44<13:15,  1.00s/it]"
          ]
        },
        {
          "output_type": "stream",
          "name": "stdout",
          "text": [
            "3.5566868782043457\n"
          ]
        },
        {
          "output_type": "stream",
          "name": "stderr",
          "text": [
            "\rEpoch 1/1:  33%|███▎      | 394/1188 [05:45<12:20,  1.07it/s]"
          ]
        },
        {
          "output_type": "stream",
          "name": "stdout",
          "text": [
            "3.496631145477295\n"
          ]
        },
        {
          "output_type": "stream",
          "name": "stderr",
          "text": [
            "\rEpoch 1/1:  33%|███▎      | 395/1188 [05:46<11:35,  1.14it/s]"
          ]
        },
        {
          "output_type": "stream",
          "name": "stdout",
          "text": [
            "3.51808762550354\n"
          ]
        },
        {
          "output_type": "stream",
          "name": "stderr",
          "text": [
            "\rEpoch 1/1:  33%|███▎      | 396/1188 [05:46<11:06,  1.19it/s]"
          ]
        },
        {
          "output_type": "stream",
          "name": "stdout",
          "text": [
            "3.523171901702881\n"
          ]
        },
        {
          "output_type": "stream",
          "name": "stderr",
          "text": [
            "\rEpoch 1/1:  33%|███▎      | 397/1188 [05:47<10:45,  1.22it/s]"
          ]
        },
        {
          "output_type": "stream",
          "name": "stdout",
          "text": [
            "3.5356523990631104\n"
          ]
        },
        {
          "output_type": "stream",
          "name": "stderr",
          "text": [
            "\rEpoch 1/1:  34%|███▎      | 398/1188 [05:48<10:33,  1.25it/s]"
          ]
        },
        {
          "output_type": "stream",
          "name": "stdout",
          "text": [
            "3.48648738861084\n"
          ]
        },
        {
          "output_type": "stream",
          "name": "stderr",
          "text": [
            "\rEpoch 1/1:  34%|███▎      | 399/1188 [05:49<10:19,  1.27it/s]"
          ]
        },
        {
          "output_type": "stream",
          "name": "stdout",
          "text": [
            "3.490781784057617\n"
          ]
        },
        {
          "output_type": "stream",
          "name": "stderr",
          "text": [
            "\rEpoch 1/1:  34%|███▎      | 400/1188 [05:50<10:13,  1.28it/s]"
          ]
        },
        {
          "output_type": "stream",
          "name": "stdout",
          "text": [
            "3.523503541946411\n"
          ]
        },
        {
          "output_type": "stream",
          "name": "stderr",
          "text": [
            "\rEpoch 1/1:  34%|███▍      | 401/1188 [05:50<10:13,  1.28it/s]"
          ]
        },
        {
          "output_type": "stream",
          "name": "stdout",
          "text": [
            "3.5020182132720947\n"
          ]
        },
        {
          "output_type": "stream",
          "name": "stderr",
          "text": [
            "\rEpoch 1/1:  34%|███▍      | 402/1188 [05:51<10:08,  1.29it/s]"
          ]
        },
        {
          "output_type": "stream",
          "name": "stdout",
          "text": [
            "3.5110421180725098\n"
          ]
        },
        {
          "output_type": "stream",
          "name": "stderr",
          "text": [
            "\rEpoch 1/1:  34%|███▍      | 403/1188 [05:52<10:04,  1.30it/s]"
          ]
        },
        {
          "output_type": "stream",
          "name": "stdout",
          "text": [
            "3.4714789390563965\n"
          ]
        },
        {
          "output_type": "stream",
          "name": "stderr",
          "text": [
            "\rEpoch 1/1:  34%|███▍      | 404/1188 [05:53<10:01,  1.30it/s]"
          ]
        },
        {
          "output_type": "stream",
          "name": "stdout",
          "text": [
            "3.4971892833709717\n"
          ]
        },
        {
          "output_type": "stream",
          "name": "stderr",
          "text": [
            "\rEpoch 1/1:  34%|███▍      | 405/1188 [05:53<10:01,  1.30it/s]"
          ]
        },
        {
          "output_type": "stream",
          "name": "stdout",
          "text": [
            "3.482564926147461\n"
          ]
        },
        {
          "output_type": "stream",
          "name": "stderr",
          "text": [
            "\rEpoch 1/1:  34%|███▍      | 406/1188 [05:54<11:25,  1.14it/s]"
          ]
        },
        {
          "output_type": "stream",
          "name": "stdout",
          "text": [
            "3.4596574306488037\n"
          ]
        },
        {
          "output_type": "stream",
          "name": "stderr",
          "text": [
            "\rEpoch 1/1:  34%|███▍      | 407/1188 [05:56<12:34,  1.03it/s]"
          ]
        },
        {
          "output_type": "stream",
          "name": "stdout",
          "text": [
            "3.4983444213867188\n"
          ]
        },
        {
          "output_type": "stream",
          "name": "stderr",
          "text": [
            "\rEpoch 1/1:  34%|███▍      | 408/1188 [05:57<13:21,  1.03s/it]"
          ]
        },
        {
          "output_type": "stream",
          "name": "stdout",
          "text": [
            "3.4656662940979004\n"
          ]
        },
        {
          "output_type": "stream",
          "name": "stderr",
          "text": [
            "\rEpoch 1/1:  34%|███▍      | 409/1188 [05:58<13:52,  1.07s/it]"
          ]
        },
        {
          "output_type": "stream",
          "name": "stdout",
          "text": [
            "3.484930992126465\n"
          ]
        },
        {
          "output_type": "stream",
          "name": "stderr",
          "text": [
            "\rEpoch 1/1:  35%|███▍      | 410/1188 [05:59<13:33,  1.05s/it]"
          ]
        },
        {
          "output_type": "stream",
          "name": "stdout",
          "text": [
            "3.517019510269165\n"
          ]
        },
        {
          "output_type": "stream",
          "name": "stderr",
          "text": [
            "\rEpoch 1/1:  35%|███▍      | 411/1188 [06:00<12:26,  1.04it/s]"
          ]
        },
        {
          "output_type": "stream",
          "name": "stdout",
          "text": [
            "3.494440793991089\n"
          ]
        },
        {
          "output_type": "stream",
          "name": "stderr",
          "text": [
            "\rEpoch 1/1:  35%|███▍      | 412/1188 [06:01<11:41,  1.11it/s]"
          ]
        },
        {
          "output_type": "stream",
          "name": "stdout",
          "text": [
            "3.488081455230713\n"
          ]
        },
        {
          "output_type": "stream",
          "name": "stderr",
          "text": [
            "\rEpoch 1/1:  35%|███▍      | 413/1188 [06:01<11:06,  1.16it/s]"
          ]
        },
        {
          "output_type": "stream",
          "name": "stdout",
          "text": [
            "3.5038697719573975\n"
          ]
        },
        {
          "output_type": "stream",
          "name": "stderr",
          "text": [
            "\rEpoch 1/1:  35%|███▍      | 414/1188 [06:02<10:44,  1.20it/s]"
          ]
        },
        {
          "output_type": "stream",
          "name": "stdout",
          "text": [
            "3.5009713172912598\n"
          ]
        },
        {
          "output_type": "stream",
          "name": "stderr",
          "text": [
            "\rEpoch 1/1:  35%|███▍      | 415/1188 [06:03<10:28,  1.23it/s]"
          ]
        },
        {
          "output_type": "stream",
          "name": "stdout",
          "text": [
            "3.4325945377349854\n"
          ]
        },
        {
          "output_type": "stream",
          "name": "stderr",
          "text": [
            "\rEpoch 1/1:  35%|███▌      | 416/1188 [06:04<10:16,  1.25it/s]"
          ]
        },
        {
          "output_type": "stream",
          "name": "stdout",
          "text": [
            "3.4821953773498535\n"
          ]
        },
        {
          "output_type": "stream",
          "name": "stderr",
          "text": [
            "\rEpoch 1/1:  35%|███▌      | 417/1188 [06:04<10:07,  1.27it/s]"
          ]
        },
        {
          "output_type": "stream",
          "name": "stdout",
          "text": [
            "3.4757909774780273\n"
          ]
        },
        {
          "output_type": "stream",
          "name": "stderr",
          "text": [
            "\rEpoch 1/1:  35%|███▌      | 418/1188 [06:05<10:00,  1.28it/s]"
          ]
        },
        {
          "output_type": "stream",
          "name": "stdout",
          "text": [
            "3.4770984649658203\n"
          ]
        },
        {
          "output_type": "stream",
          "name": "stderr",
          "text": [
            "\rEpoch 1/1:  35%|███▌      | 419/1188 [06:06<10:01,  1.28it/s]"
          ]
        },
        {
          "output_type": "stream",
          "name": "stdout",
          "text": [
            "3.4355902671813965\n"
          ]
        },
        {
          "output_type": "stream",
          "name": "stderr",
          "text": [
            "\rEpoch 1/1:  35%|███▌      | 420/1188 [06:07<10:00,  1.28it/s]"
          ]
        },
        {
          "output_type": "stream",
          "name": "stdout",
          "text": [
            "3.4311418533325195\n"
          ]
        },
        {
          "output_type": "stream",
          "name": "stderr",
          "text": [
            "\rEpoch 1/1:  35%|███▌      | 421/1188 [06:07<09:53,  1.29it/s]"
          ]
        },
        {
          "output_type": "stream",
          "name": "stdout",
          "text": [
            "3.5121963024139404\n"
          ]
        },
        {
          "output_type": "stream",
          "name": "stderr",
          "text": [
            "\rEpoch 1/1:  36%|███▌      | 422/1188 [06:08<09:50,  1.30it/s]"
          ]
        },
        {
          "output_type": "stream",
          "name": "stdout",
          "text": [
            "3.4689865112304688\n"
          ]
        },
        {
          "output_type": "stream",
          "name": "stderr",
          "text": [
            "\rEpoch 1/1:  36%|███▌      | 423/1188 [06:09<10:07,  1.26it/s]"
          ]
        },
        {
          "output_type": "stream",
          "name": "stdout",
          "text": [
            "3.454798698425293\n"
          ]
        },
        {
          "output_type": "stream",
          "name": "stderr",
          "text": [
            "\rEpoch 1/1:  36%|███▌      | 424/1188 [06:10<11:31,  1.10it/s]"
          ]
        },
        {
          "output_type": "stream",
          "name": "stdout",
          "text": [
            "3.493772029876709\n"
          ]
        },
        {
          "output_type": "stream",
          "name": "stderr",
          "text": [
            "\rEpoch 1/1:  36%|███▌      | 425/1188 [06:11<12:33,  1.01it/s]"
          ]
        },
        {
          "output_type": "stream",
          "name": "stdout",
          "text": [
            "3.5449166297912598\n"
          ]
        },
        {
          "output_type": "stream",
          "name": "stderr",
          "text": [
            "\rEpoch 1/1:  36%|███▌      | 426/1188 [06:13<13:21,  1.05s/it]"
          ]
        },
        {
          "output_type": "stream",
          "name": "stdout",
          "text": [
            "3.541538953781128\n"
          ]
        },
        {
          "output_type": "stream",
          "name": "stderr",
          "text": [
            "\rEpoch 1/1:  36%|███▌      | 427/1188 [06:14<13:45,  1.09s/it]"
          ]
        },
        {
          "output_type": "stream",
          "name": "stdout",
          "text": [
            "3.481353282928467\n"
          ]
        },
        {
          "output_type": "stream",
          "name": "stderr",
          "text": [
            "\rEpoch 1/1:  36%|███▌      | 428/1188 [06:15<12:37,  1.00it/s]"
          ]
        },
        {
          "output_type": "stream",
          "name": "stdout",
          "text": [
            "3.510260820388794\n"
          ]
        },
        {
          "output_type": "stream",
          "name": "stderr",
          "text": [
            "\rEpoch 1/1:  36%|███▌      | 429/1188 [06:15<11:43,  1.08it/s]"
          ]
        },
        {
          "output_type": "stream",
          "name": "stdout",
          "text": [
            "3.511119842529297\n"
          ]
        },
        {
          "output_type": "stream",
          "name": "stderr",
          "text": [
            "\rEpoch 1/1:  36%|███▌      | 430/1188 [06:16<11:07,  1.14it/s]"
          ]
        },
        {
          "output_type": "stream",
          "name": "stdout",
          "text": [
            "3.4481849670410156\n"
          ]
        },
        {
          "output_type": "stream",
          "name": "stderr",
          "text": [
            "\rEpoch 1/1:  36%|███▋      | 431/1188 [06:17<10:36,  1.19it/s]"
          ]
        },
        {
          "output_type": "stream",
          "name": "stdout",
          "text": [
            "3.4745020866394043\n"
          ]
        },
        {
          "output_type": "stream",
          "name": "stderr",
          "text": [
            "\rEpoch 1/1:  36%|███▋      | 432/1188 [06:18<10:17,  1.22it/s]"
          ]
        },
        {
          "output_type": "stream",
          "name": "stdout",
          "text": [
            "3.477522373199463\n"
          ]
        },
        {
          "output_type": "stream",
          "name": "stderr",
          "text": [
            "\rEpoch 1/1:  36%|███▋      | 433/1188 [06:18<10:06,  1.25it/s]"
          ]
        },
        {
          "output_type": "stream",
          "name": "stdout",
          "text": [
            "3.414132595062256\n"
          ]
        },
        {
          "output_type": "stream",
          "name": "stderr",
          "text": [
            "\rEpoch 1/1:  37%|███▋      | 434/1188 [06:19<09:56,  1.27it/s]"
          ]
        },
        {
          "output_type": "stream",
          "name": "stdout",
          "text": [
            "3.5311996936798096\n"
          ]
        },
        {
          "output_type": "stream",
          "name": "stderr",
          "text": [
            "\rEpoch 1/1:  37%|███▋      | 435/1188 [06:20<09:47,  1.28it/s]"
          ]
        },
        {
          "output_type": "stream",
          "name": "stdout",
          "text": [
            "3.372978687286377\n"
          ]
        },
        {
          "output_type": "stream",
          "name": "stderr",
          "text": [
            "\rEpoch 1/1:  37%|███▋      | 436/1188 [06:21<09:39,  1.30it/s]"
          ]
        },
        {
          "output_type": "stream",
          "name": "stdout",
          "text": [
            "3.4786272048950195\n"
          ]
        },
        {
          "output_type": "stream",
          "name": "stderr",
          "text": [
            "\rEpoch 1/1:  37%|███▋      | 437/1188 [06:21<09:36,  1.30it/s]"
          ]
        },
        {
          "output_type": "stream",
          "name": "stdout",
          "text": [
            "3.4524738788604736\n"
          ]
        },
        {
          "output_type": "stream",
          "name": "stderr",
          "text": [
            "\rEpoch 1/1:  37%|███▋      | 438/1188 [06:22<09:35,  1.30it/s]"
          ]
        },
        {
          "output_type": "stream",
          "name": "stdout",
          "text": [
            "3.5049846172332764\n"
          ]
        },
        {
          "output_type": "stream",
          "name": "stderr",
          "text": [
            "\rEpoch 1/1:  37%|███▋      | 439/1188 [06:23<09:30,  1.31it/s]"
          ]
        },
        {
          "output_type": "stream",
          "name": "stdout",
          "text": [
            "3.4793972969055176\n"
          ]
        },
        {
          "output_type": "stream",
          "name": "stderr",
          "text": [
            "\rEpoch 1/1:  37%|███▋      | 440/1188 [06:24<09:30,  1.31it/s]"
          ]
        },
        {
          "output_type": "stream",
          "name": "stdout",
          "text": [
            "3.4283130168914795\n"
          ]
        },
        {
          "output_type": "stream",
          "name": "stderr",
          "text": [
            "\rEpoch 1/1:  37%|███▋      | 441/1188 [06:25<10:12,  1.22it/s]"
          ]
        },
        {
          "output_type": "stream",
          "name": "stdout",
          "text": [
            "3.4401872158050537\n"
          ]
        },
        {
          "output_type": "stream",
          "name": "stderr",
          "text": [
            "\rEpoch 1/1:  37%|███▋      | 442/1188 [06:26<11:26,  1.09it/s]"
          ]
        },
        {
          "output_type": "stream",
          "name": "stdout",
          "text": [
            "3.4736697673797607\n"
          ]
        },
        {
          "output_type": "stream",
          "name": "stderr",
          "text": [
            "\rEpoch 1/1:  37%|███▋      | 443/1188 [06:27<12:19,  1.01it/s]"
          ]
        },
        {
          "output_type": "stream",
          "name": "stdout",
          "text": [
            "3.459735155105591\n"
          ]
        },
        {
          "output_type": "stream",
          "name": "stderr",
          "text": [
            "\rEpoch 1/1:  37%|███▋      | 444/1188 [06:28<13:04,  1.05s/it]"
          ]
        },
        {
          "output_type": "stream",
          "name": "stdout",
          "text": [
            "3.5032365322113037\n"
          ]
        },
        {
          "output_type": "stream",
          "name": "stderr",
          "text": [
            "\rEpoch 1/1:  37%|███▋      | 445/1188 [06:29<13:21,  1.08s/it]"
          ]
        },
        {
          "output_type": "stream",
          "name": "stdout",
          "text": [
            "3.4443790912628174\n"
          ]
        },
        {
          "output_type": "stream",
          "name": "stderr",
          "text": [
            "\rEpoch 1/1:  38%|███▊      | 446/1188 [06:30<12:08,  1.02it/s]"
          ]
        },
        {
          "output_type": "stream",
          "name": "stdout",
          "text": [
            "3.454957962036133\n"
          ]
        },
        {
          "output_type": "stream",
          "name": "stderr",
          "text": [
            "\rEpoch 1/1:  38%|███▊      | 447/1188 [06:31<11:19,  1.09it/s]"
          ]
        },
        {
          "output_type": "stream",
          "name": "stdout",
          "text": [
            "3.4215171337127686\n"
          ]
        },
        {
          "output_type": "stream",
          "name": "stderr",
          "text": [
            "\rEpoch 1/1:  38%|███▊      | 448/1188 [06:32<10:39,  1.16it/s]"
          ]
        },
        {
          "output_type": "stream",
          "name": "stdout",
          "text": [
            "3.577664375305176\n"
          ]
        },
        {
          "output_type": "stream",
          "name": "stderr",
          "text": [
            "\rEpoch 1/1:  38%|███▊      | 449/1188 [06:32<10:20,  1.19it/s]"
          ]
        },
        {
          "output_type": "stream",
          "name": "stdout",
          "text": [
            "3.5573225021362305\n"
          ]
        },
        {
          "output_type": "stream",
          "name": "stderr",
          "text": [
            "\rEpoch 1/1:  38%|███▊      | 450/1188 [06:33<10:03,  1.22it/s]"
          ]
        },
        {
          "output_type": "stream",
          "name": "stdout",
          "text": [
            "3.484008550643921\n"
          ]
        },
        {
          "output_type": "stream",
          "name": "stderr",
          "text": [
            "\rEpoch 1/1:  38%|███▊      | 451/1188 [06:34<09:50,  1.25it/s]"
          ]
        },
        {
          "output_type": "stream",
          "name": "stdout",
          "text": [
            "3.5277717113494873\n"
          ]
        },
        {
          "output_type": "stream",
          "name": "stderr",
          "text": [
            "\rEpoch 1/1:  38%|███▊      | 452/1188 [06:35<09:38,  1.27it/s]"
          ]
        },
        {
          "output_type": "stream",
          "name": "stdout",
          "text": [
            "3.494459390640259\n"
          ]
        },
        {
          "output_type": "stream",
          "name": "stderr",
          "text": [
            "\rEpoch 1/1:  38%|███▊      | 453/1188 [06:35<09:30,  1.29it/s]"
          ]
        },
        {
          "output_type": "stream",
          "name": "stdout",
          "text": [
            "3.5164389610290527\n"
          ]
        },
        {
          "output_type": "stream",
          "name": "stderr",
          "text": [
            "\rEpoch 1/1:  38%|███▊      | 454/1188 [06:36<09:29,  1.29it/s]"
          ]
        },
        {
          "output_type": "stream",
          "name": "stdout",
          "text": [
            "3.4120912551879883\n"
          ]
        },
        {
          "output_type": "stream",
          "name": "stderr",
          "text": [
            "\rEpoch 1/1:  38%|███▊      | 455/1188 [06:37<09:27,  1.29it/s]"
          ]
        },
        {
          "output_type": "stream",
          "name": "stdout",
          "text": [
            "3.499048948287964\n"
          ]
        },
        {
          "output_type": "stream",
          "name": "stderr",
          "text": [
            "\rEpoch 1/1:  38%|███▊      | 456/1188 [06:38<09:29,  1.29it/s]"
          ]
        },
        {
          "output_type": "stream",
          "name": "stdout",
          "text": [
            "3.514305353164673\n"
          ]
        },
        {
          "output_type": "stream",
          "name": "stderr",
          "text": [
            "\rEpoch 1/1:  38%|███▊      | 457/1188 [06:38<09:24,  1.29it/s]"
          ]
        },
        {
          "output_type": "stream",
          "name": "stdout",
          "text": [
            "3.481315851211548\n"
          ]
        },
        {
          "output_type": "stream",
          "name": "stderr",
          "text": [
            "\rEpoch 1/1:  39%|███▊      | 458/1188 [06:39<09:25,  1.29it/s]"
          ]
        },
        {
          "output_type": "stream",
          "name": "stdout",
          "text": [
            "3.4291672706604004\n"
          ]
        },
        {
          "output_type": "stream",
          "name": "stderr",
          "text": [
            "\rEpoch 1/1:  39%|███▊      | 459/1188 [06:40<10:50,  1.12it/s]"
          ]
        },
        {
          "output_type": "stream",
          "name": "stdout",
          "text": [
            "3.483193874359131\n"
          ]
        },
        {
          "output_type": "stream",
          "name": "stderr",
          "text": [
            "\rEpoch 1/1:  39%|███▊      | 460/1188 [06:42<11:55,  1.02it/s]"
          ]
        },
        {
          "output_type": "stream",
          "name": "stdout",
          "text": [
            "3.5145833492279053\n"
          ]
        },
        {
          "output_type": "stream",
          "name": "stderr",
          "text": [
            "\rEpoch 1/1:  39%|███▉      | 461/1188 [06:43<12:34,  1.04s/it]"
          ]
        },
        {
          "output_type": "stream",
          "name": "stdout",
          "text": [
            "3.4810752868652344\n"
          ]
        },
        {
          "output_type": "stream",
          "name": "stderr",
          "text": [
            "\rEpoch 1/1:  39%|███▉      | 462/1188 [06:44<12:58,  1.07s/it]"
          ]
        },
        {
          "output_type": "stream",
          "name": "stdout",
          "text": [
            "3.500743865966797\n"
          ]
        },
        {
          "output_type": "stream",
          "name": "stderr",
          "text": [
            "\rEpoch 1/1:  39%|███▉      | 463/1188 [06:45<12:03,  1.00it/s]"
          ]
        },
        {
          "output_type": "stream",
          "name": "stdout",
          "text": [
            "3.4084346294403076\n"
          ]
        },
        {
          "output_type": "stream",
          "name": "stderr",
          "text": [
            "\rEpoch 1/1:  39%|███▉      | 464/1188 [06:45<11:10,  1.08it/s]"
          ]
        },
        {
          "output_type": "stream",
          "name": "stdout",
          "text": [
            "3.4883322715759277\n"
          ]
        },
        {
          "output_type": "stream",
          "name": "stderr",
          "text": [
            "\rEpoch 1/1:  39%|███▉      | 465/1188 [06:46<10:38,  1.13it/s]"
          ]
        },
        {
          "output_type": "stream",
          "name": "stdout",
          "text": [
            "3.457918882369995\n"
          ]
        },
        {
          "output_type": "stream",
          "name": "stderr",
          "text": [
            "\rEpoch 1/1:  39%|███▉      | 466/1188 [06:47<10:09,  1.18it/s]"
          ]
        },
        {
          "output_type": "stream",
          "name": "stdout",
          "text": [
            "3.4990503787994385\n"
          ]
        },
        {
          "output_type": "stream",
          "name": "stderr",
          "text": [
            "\rEpoch 1/1:  39%|███▉      | 467/1188 [06:48<09:52,  1.22it/s]"
          ]
        },
        {
          "output_type": "stream",
          "name": "stdout",
          "text": [
            "3.4438512325286865\n"
          ]
        },
        {
          "output_type": "stream",
          "name": "stderr",
          "text": [
            "\rEpoch 1/1:  39%|███▉      | 468/1188 [06:49<09:40,  1.24it/s]"
          ]
        },
        {
          "output_type": "stream",
          "name": "stdout",
          "text": [
            "3.4894626140594482\n"
          ]
        },
        {
          "output_type": "stream",
          "name": "stderr",
          "text": [
            "\rEpoch 1/1:  39%|███▉      | 469/1188 [06:49<09:30,  1.26it/s]"
          ]
        },
        {
          "output_type": "stream",
          "name": "stdout",
          "text": [
            "3.4654626846313477\n"
          ]
        },
        {
          "output_type": "stream",
          "name": "stderr",
          "text": [
            "\rEpoch 1/1:  40%|███▉      | 470/1188 [06:50<09:20,  1.28it/s]"
          ]
        },
        {
          "output_type": "stream",
          "name": "stdout",
          "text": [
            "3.477525234222412\n"
          ]
        },
        {
          "output_type": "stream",
          "name": "stderr",
          "text": [
            "\rEpoch 1/1:  40%|███▉      | 471/1188 [06:51<09:15,  1.29it/s]"
          ]
        },
        {
          "output_type": "stream",
          "name": "stdout",
          "text": [
            "3.3952274322509766\n"
          ]
        },
        {
          "output_type": "stream",
          "name": "stderr",
          "text": [
            "\rEpoch 1/1:  40%|███▉      | 472/1188 [06:52<09:10,  1.30it/s]"
          ]
        },
        {
          "output_type": "stream",
          "name": "stdout",
          "text": [
            "3.524179220199585\n"
          ]
        },
        {
          "output_type": "stream",
          "name": "stderr",
          "text": [
            "\rEpoch 1/1:  40%|███▉      | 473/1188 [06:52<09:08,  1.30it/s]"
          ]
        },
        {
          "output_type": "stream",
          "name": "stdout",
          "text": [
            "3.5286529064178467\n"
          ]
        },
        {
          "output_type": "stream",
          "name": "stderr",
          "text": [
            "\rEpoch 1/1:  40%|███▉      | 474/1188 [06:53<09:03,  1.31it/s]"
          ]
        },
        {
          "output_type": "stream",
          "name": "stdout",
          "text": [
            "3.4824962615966797\n"
          ]
        },
        {
          "output_type": "stream",
          "name": "stderr",
          "text": [
            "\rEpoch 1/1:  40%|███▉      | 475/1188 [06:54<09:12,  1.29it/s]"
          ]
        },
        {
          "output_type": "stream",
          "name": "stdout",
          "text": [
            "3.431931734085083\n"
          ]
        },
        {
          "output_type": "stream",
          "name": "stderr",
          "text": [
            "\rEpoch 1/1:  40%|████      | 476/1188 [06:55<09:42,  1.22it/s]"
          ]
        },
        {
          "output_type": "stream",
          "name": "stdout",
          "text": [
            "3.4761435985565186\n"
          ]
        },
        {
          "output_type": "stream",
          "name": "stderr",
          "text": [
            "\rEpoch 1/1:  40%|████      | 477/1188 [06:56<10:03,  1.18it/s]"
          ]
        },
        {
          "output_type": "stream",
          "name": "stdout",
          "text": [
            "3.4594814777374268\n"
          ]
        },
        {
          "output_type": "stream",
          "name": "stderr",
          "text": [
            "\rEpoch 1/1:  40%|████      | 478/1188 [06:57<11:10,  1.06it/s]"
          ]
        },
        {
          "output_type": "stream",
          "name": "stdout",
          "text": [
            "3.4546666145324707\n"
          ]
        },
        {
          "output_type": "stream",
          "name": "stderr",
          "text": [
            "\rEpoch 1/1:  40%|████      | 479/1188 [06:58<11:57,  1.01s/it]"
          ]
        },
        {
          "output_type": "stream",
          "name": "stdout",
          "text": [
            "3.452341318130493\n"
          ]
        },
        {
          "output_type": "stream",
          "name": "stderr",
          "text": [
            "\rEpoch 1/1:  40%|████      | 480/1188 [06:59<12:31,  1.06s/it]"
          ]
        },
        {
          "output_type": "stream",
          "name": "stdout",
          "text": [
            "3.492131233215332\n"
          ]
        },
        {
          "output_type": "stream",
          "name": "stderr",
          "text": [
            "\rEpoch 1/1:  40%|████      | 481/1188 [07:00<12:06,  1.03s/it]"
          ]
        },
        {
          "output_type": "stream",
          "name": "stdout",
          "text": [
            "3.517106056213379\n"
          ]
        },
        {
          "output_type": "stream",
          "name": "stderr",
          "text": [
            "\rEpoch 1/1:  41%|████      | 482/1188 [07:01<11:07,  1.06it/s]"
          ]
        },
        {
          "output_type": "stream",
          "name": "stdout",
          "text": [
            "3.523860454559326\n"
          ]
        },
        {
          "output_type": "stream",
          "name": "stderr",
          "text": [
            "\rEpoch 1/1:  41%|████      | 483/1188 [07:02<10:26,  1.12it/s]"
          ]
        },
        {
          "output_type": "stream",
          "name": "stdout",
          "text": [
            "3.485067844390869\n"
          ]
        },
        {
          "output_type": "stream",
          "name": "stderr",
          "text": [
            "\rEpoch 1/1:  41%|████      | 484/1188 [07:02<09:57,  1.18it/s]"
          ]
        },
        {
          "output_type": "stream",
          "name": "stdout",
          "text": [
            "3.4373178482055664\n"
          ]
        },
        {
          "output_type": "stream",
          "name": "stderr",
          "text": [
            "\rEpoch 1/1:  41%|████      | 485/1188 [07:03<09:38,  1.21it/s]"
          ]
        },
        {
          "output_type": "stream",
          "name": "stdout",
          "text": [
            "3.4759490489959717\n"
          ]
        },
        {
          "output_type": "stream",
          "name": "stderr",
          "text": [
            "\rEpoch 1/1:  41%|████      | 486/1188 [07:04<09:27,  1.24it/s]"
          ]
        },
        {
          "output_type": "stream",
          "name": "stdout",
          "text": [
            "3.464965343475342\n"
          ]
        },
        {
          "output_type": "stream",
          "name": "stderr",
          "text": [
            "\rEpoch 1/1:  41%|████      | 487/1188 [07:05<09:17,  1.26it/s]"
          ]
        },
        {
          "output_type": "stream",
          "name": "stdout",
          "text": [
            "3.4770729541778564\n"
          ]
        },
        {
          "output_type": "stream",
          "name": "stderr",
          "text": [
            "\rEpoch 1/1:  41%|████      | 488/1188 [07:06<09:11,  1.27it/s]"
          ]
        },
        {
          "output_type": "stream",
          "name": "stdout",
          "text": [
            "3.4099347591400146\n"
          ]
        },
        {
          "output_type": "stream",
          "name": "stderr",
          "text": [
            "\rEpoch 1/1:  41%|████      | 489/1188 [07:06<09:20,  1.25it/s]"
          ]
        },
        {
          "output_type": "stream",
          "name": "stdout",
          "text": [
            "3.5383670330047607\n"
          ]
        },
        {
          "output_type": "stream",
          "name": "stderr",
          "text": [
            "\rEpoch 1/1:  41%|████      | 490/1188 [07:07<09:11,  1.26it/s]"
          ]
        },
        {
          "output_type": "stream",
          "name": "stdout",
          "text": [
            "3.491039752960205\n"
          ]
        },
        {
          "output_type": "stream",
          "name": "stderr",
          "text": [
            "\rEpoch 1/1:  41%|████▏     | 491/1188 [07:08<09:08,  1.27it/s]"
          ]
        },
        {
          "output_type": "stream",
          "name": "stdout",
          "text": [
            "3.5166866779327393\n"
          ]
        },
        {
          "output_type": "stream",
          "name": "stderr",
          "text": [
            "\rEpoch 1/1:  41%|████▏     | 492/1188 [07:09<09:02,  1.28it/s]"
          ]
        },
        {
          "output_type": "stream",
          "name": "stdout",
          "text": [
            "3.3947157859802246\n"
          ]
        },
        {
          "output_type": "stream",
          "name": "stderr",
          "text": [
            "\rEpoch 1/1:  41%|████▏     | 493/1188 [07:09<09:01,  1.28it/s]"
          ]
        },
        {
          "output_type": "stream",
          "name": "stdout",
          "text": [
            "3.4656424522399902\n"
          ]
        },
        {
          "output_type": "stream",
          "name": "stderr",
          "text": [
            "\rEpoch 1/1:  42%|████▏     | 494/1188 [07:10<09:26,  1.23it/s]"
          ]
        },
        {
          "output_type": "stream",
          "name": "stdout",
          "text": [
            "3.462728500366211\n"
          ]
        },
        {
          "output_type": "stream",
          "name": "stderr",
          "text": [
            "\rEpoch 1/1:  42%|████▏     | 495/1188 [07:11<09:52,  1.17it/s]"
          ]
        },
        {
          "output_type": "stream",
          "name": "stdout",
          "text": [
            "3.491490364074707\n"
          ]
        },
        {
          "output_type": "stream",
          "name": "stderr",
          "text": [
            "\rEpoch 1/1:  42%|████▏     | 496/1188 [07:12<10:12,  1.13it/s]"
          ]
        },
        {
          "output_type": "stream",
          "name": "stdout",
          "text": [
            "3.422135829925537\n"
          ]
        },
        {
          "output_type": "stream",
          "name": "stderr",
          "text": [
            "\rEpoch 1/1:  42%|████▏     | 497/1188 [07:13<11:18,  1.02it/s]"
          ]
        },
        {
          "output_type": "stream",
          "name": "stdout",
          "text": [
            "3.4967331886291504\n"
          ]
        },
        {
          "output_type": "stream",
          "name": "stderr",
          "text": [
            "\rEpoch 1/1:  42%|████▏     | 498/1188 [07:15<11:54,  1.04s/it]"
          ]
        },
        {
          "output_type": "stream",
          "name": "stdout",
          "text": [
            "3.494072437286377\n"
          ]
        },
        {
          "output_type": "stream",
          "name": "stderr",
          "text": [
            "\rEpoch 1/1:  42%|████▏     | 499/1188 [07:16<12:18,  1.07s/it]"
          ]
        },
        {
          "output_type": "stream",
          "name": "stdout",
          "text": [
            "3.4233691692352295\n"
          ]
        },
        {
          "output_type": "stream",
          "name": "stderr",
          "text": [
            "\rEpoch 1/1:  42%|████▏     | 500/1188 [07:17<11:23,  1.01it/s]"
          ]
        },
        {
          "output_type": "stream",
          "name": "stdout",
          "text": [
            "3.5039420127868652\n"
          ]
        },
        {
          "output_type": "stream",
          "name": "stderr",
          "text": [
            "\rEpoch 1/1:  42%|████▏     | 501/1188 [07:17<10:36,  1.08it/s]"
          ]
        },
        {
          "output_type": "stream",
          "name": "stdout",
          "text": [
            "3.348456382751465\n"
          ]
        },
        {
          "output_type": "stream",
          "name": "stderr",
          "text": [
            "\rEpoch 1/1:  42%|████▏     | 502/1188 [07:18<10:05,  1.13it/s]"
          ]
        },
        {
          "output_type": "stream",
          "name": "stdout",
          "text": [
            "3.5142383575439453\n"
          ]
        },
        {
          "output_type": "stream",
          "name": "stderr",
          "text": [
            "\rEpoch 1/1:  42%|████▏     | 503/1188 [07:19<09:39,  1.18it/s]"
          ]
        },
        {
          "output_type": "stream",
          "name": "stdout",
          "text": [
            "3.480952262878418\n"
          ]
        },
        {
          "output_type": "stream",
          "name": "stderr",
          "text": [
            "\rEpoch 1/1:  42%|████▏     | 504/1188 [07:20<09:22,  1.22it/s]"
          ]
        },
        {
          "output_type": "stream",
          "name": "stdout",
          "text": [
            "3.4700393676757812\n"
          ]
        },
        {
          "output_type": "stream",
          "name": "stderr",
          "text": [
            "\rEpoch 1/1:  43%|████▎     | 505/1188 [07:20<09:13,  1.23it/s]"
          ]
        },
        {
          "output_type": "stream",
          "name": "stdout",
          "text": [
            "3.4741551876068115\n"
          ]
        },
        {
          "output_type": "stream",
          "name": "stderr",
          "text": [
            "\rEpoch 1/1:  43%|████▎     | 506/1188 [07:21<09:01,  1.26it/s]"
          ]
        },
        {
          "output_type": "stream",
          "name": "stdout",
          "text": [
            "3.562222957611084\n"
          ]
        },
        {
          "output_type": "stream",
          "name": "stderr",
          "text": [
            "\rEpoch 1/1:  43%|████▎     | 507/1188 [07:22<08:53,  1.28it/s]"
          ]
        },
        {
          "output_type": "stream",
          "name": "stdout",
          "text": [
            "3.5402591228485107\n"
          ]
        },
        {
          "output_type": "stream",
          "name": "stderr",
          "text": [
            "\rEpoch 1/1:  43%|████▎     | 508/1188 [07:23<08:50,  1.28it/s]"
          ]
        },
        {
          "output_type": "stream",
          "name": "stdout",
          "text": [
            "3.4969029426574707\n"
          ]
        },
        {
          "output_type": "stream",
          "name": "stderr",
          "text": [
            "\rEpoch 1/1:  43%|████▎     | 509/1188 [07:24<08:46,  1.29it/s]"
          ]
        },
        {
          "output_type": "stream",
          "name": "stdout",
          "text": [
            "3.444841146469116\n"
          ]
        },
        {
          "output_type": "stream",
          "name": "stderr",
          "text": [
            "\rEpoch 1/1:  43%|████▎     | 510/1188 [07:24<08:42,  1.30it/s]"
          ]
        },
        {
          "output_type": "stream",
          "name": "stdout",
          "text": [
            "3.4943995475769043\n"
          ]
        },
        {
          "output_type": "stream",
          "name": "stderr",
          "text": [
            "\rEpoch 1/1:  43%|████▎     | 511/1188 [07:25<08:39,  1.30it/s]"
          ]
        },
        {
          "output_type": "stream",
          "name": "stdout",
          "text": [
            "3.468088388442993\n"
          ]
        },
        {
          "output_type": "stream",
          "name": "stderr",
          "text": [
            "\rEpoch 1/1:  43%|████▎     | 512/1188 [07:26<08:36,  1.31it/s]"
          ]
        },
        {
          "output_type": "stream",
          "name": "stdout",
          "text": [
            "3.475116014480591\n"
          ]
        },
        {
          "output_type": "stream",
          "name": "stderr",
          "text": [
            "\rEpoch 1/1:  43%|████▎     | 513/1188 [07:27<09:06,  1.24it/s]"
          ]
        },
        {
          "output_type": "stream",
          "name": "stdout",
          "text": [
            "3.5071494579315186\n"
          ]
        },
        {
          "output_type": "stream",
          "name": "stderr",
          "text": [
            "\rEpoch 1/1:  43%|████▎     | 514/1188 [07:28<09:31,  1.18it/s]"
          ]
        },
        {
          "output_type": "stream",
          "name": "stdout",
          "text": [
            "3.4793429374694824\n"
          ]
        },
        {
          "output_type": "stream",
          "name": "stderr",
          "text": [
            "\rEpoch 1/1:  43%|████▎     | 515/1188 [07:29<10:37,  1.06it/s]"
          ]
        },
        {
          "output_type": "stream",
          "name": "stdout",
          "text": [
            "3.4166507720947266\n"
          ]
        },
        {
          "output_type": "stream",
          "name": "stderr",
          "text": [
            "\rEpoch 1/1:  43%|████▎     | 516/1188 [07:30<11:19,  1.01s/it]"
          ]
        },
        {
          "output_type": "stream",
          "name": "stdout",
          "text": [
            "3.4700303077697754\n"
          ]
        },
        {
          "output_type": "stream",
          "name": "stderr",
          "text": [
            "\rEpoch 1/1:  44%|████▎     | 517/1188 [07:31<11:51,  1.06s/it]"
          ]
        },
        {
          "output_type": "stream",
          "name": "stdout",
          "text": [
            "3.490847587585449\n"
          ]
        },
        {
          "output_type": "stream",
          "name": "stderr",
          "text": [
            "\rEpoch 1/1:  44%|████▎     | 518/1188 [07:32<11:23,  1.02s/it]"
          ]
        },
        {
          "output_type": "stream",
          "name": "stdout",
          "text": [
            "3.468959093093872\n"
          ]
        },
        {
          "output_type": "stream",
          "name": "stderr",
          "text": [
            "\rEpoch 1/1:  44%|████▎     | 519/1188 [07:33<10:34,  1.05it/s]"
          ]
        },
        {
          "output_type": "stream",
          "name": "stdout",
          "text": [
            "3.422842502593994\n"
          ]
        },
        {
          "output_type": "stream",
          "name": "stderr",
          "text": [
            "\rEpoch 1/1:  44%|████▍     | 520/1188 [07:34<09:55,  1.12it/s]"
          ]
        },
        {
          "output_type": "stream",
          "name": "stdout",
          "text": [
            "3.471158981323242\n"
          ]
        },
        {
          "output_type": "stream",
          "name": "stderr",
          "text": [
            "\rEpoch 1/1:  44%|████▍     | 521/1188 [07:34<09:31,  1.17it/s]"
          ]
        },
        {
          "output_type": "stream",
          "name": "stdout",
          "text": [
            "3.4124770164489746\n"
          ]
        },
        {
          "output_type": "stream",
          "name": "stderr",
          "text": [
            "\rEpoch 1/1:  44%|████▍     | 522/1188 [07:35<09:11,  1.21it/s]"
          ]
        },
        {
          "output_type": "stream",
          "name": "stdout",
          "text": [
            "3.4794278144836426\n"
          ]
        },
        {
          "output_type": "stream",
          "name": "stderr",
          "text": [
            "\rEpoch 1/1:  44%|████▍     | 523/1188 [07:36<08:55,  1.24it/s]"
          ]
        },
        {
          "output_type": "stream",
          "name": "stdout",
          "text": [
            "3.458280563354492\n"
          ]
        },
        {
          "output_type": "stream",
          "name": "stderr",
          "text": [
            "\rEpoch 1/1:  44%|████▍     | 524/1188 [07:37<08:44,  1.27it/s]"
          ]
        },
        {
          "output_type": "stream",
          "name": "stdout",
          "text": [
            "3.430979013442993\n"
          ]
        },
        {
          "output_type": "stream",
          "name": "stderr",
          "text": [
            "\rEpoch 1/1:  44%|████▍     | 525/1188 [07:37<08:39,  1.28it/s]"
          ]
        },
        {
          "output_type": "stream",
          "name": "stdout",
          "text": [
            "3.4715232849121094\n"
          ]
        },
        {
          "output_type": "stream",
          "name": "stderr",
          "text": [
            "\rEpoch 1/1:  44%|████▍     | 526/1188 [07:38<08:37,  1.28it/s]"
          ]
        },
        {
          "output_type": "stream",
          "name": "stdout",
          "text": [
            "3.5356850624084473\n"
          ]
        },
        {
          "output_type": "stream",
          "name": "stderr",
          "text": [
            "\rEpoch 1/1:  44%|████▍     | 527/1188 [07:39<08:30,  1.30it/s]"
          ]
        },
        {
          "output_type": "stream",
          "name": "stdout",
          "text": [
            "3.4987564086914062\n"
          ]
        },
        {
          "output_type": "stream",
          "name": "stderr",
          "text": [
            "\rEpoch 1/1:  44%|████▍     | 528/1188 [07:40<08:27,  1.30it/s]"
          ]
        },
        {
          "output_type": "stream",
          "name": "stdout",
          "text": [
            "3.4322097301483154\n"
          ]
        },
        {
          "output_type": "stream",
          "name": "stderr",
          "text": [
            "\rEpoch 1/1:  45%|████▍     | 529/1188 [07:40<08:25,  1.30it/s]"
          ]
        },
        {
          "output_type": "stream",
          "name": "stdout",
          "text": [
            "3.3936984539031982\n"
          ]
        },
        {
          "output_type": "stream",
          "name": "stderr",
          "text": [
            "\rEpoch 1/1:  45%|████▍     | 530/1188 [07:41<08:24,  1.30it/s]"
          ]
        },
        {
          "output_type": "stream",
          "name": "stdout",
          "text": [
            "3.4945931434631348\n"
          ]
        },
        {
          "output_type": "stream",
          "name": "stderr",
          "text": [
            "\rEpoch 1/1:  45%|████▍     | 531/1188 [07:42<08:29,  1.29it/s]"
          ]
        },
        {
          "output_type": "stream",
          "name": "stdout",
          "text": [
            "3.453057050704956\n"
          ]
        },
        {
          "output_type": "stream",
          "name": "stderr",
          "text": [
            "\rEpoch 1/1:  45%|████▍     | 532/1188 [07:43<09:02,  1.21it/s]"
          ]
        },
        {
          "output_type": "stream",
          "name": "stdout",
          "text": [
            "3.5434017181396484\n"
          ]
        },
        {
          "output_type": "stream",
          "name": "stderr",
          "text": [
            "\rEpoch 1/1:  45%|████▍     | 533/1188 [07:44<09:20,  1.17it/s]"
          ]
        },
        {
          "output_type": "stream",
          "name": "stdout",
          "text": [
            "3.38421893119812\n"
          ]
        },
        {
          "output_type": "stream",
          "name": "stderr",
          "text": [
            "\rEpoch 1/1:  45%|████▍     | 534/1188 [07:45<10:23,  1.05it/s]"
          ]
        },
        {
          "output_type": "stream",
          "name": "stdout",
          "text": [
            "3.4108965396881104\n"
          ]
        },
        {
          "output_type": "stream",
          "name": "stderr",
          "text": [
            "\rEpoch 1/1:  45%|████▌     | 535/1188 [07:46<11:07,  1.02s/it]"
          ]
        },
        {
          "output_type": "stream",
          "name": "stdout",
          "text": [
            "3.5509562492370605\n"
          ]
        },
        {
          "output_type": "stream",
          "name": "stderr",
          "text": [
            "\rEpoch 1/1:  45%|████▌     | 536/1188 [07:47<11:40,  1.07s/it]"
          ]
        },
        {
          "output_type": "stream",
          "name": "stdout",
          "text": [
            "3.42124342918396\n"
          ]
        },
        {
          "output_type": "stream",
          "name": "stderr",
          "text": [
            "\rEpoch 1/1:  45%|████▌     | 537/1188 [07:48<10:56,  1.01s/it]"
          ]
        },
        {
          "output_type": "stream",
          "name": "stdout",
          "text": [
            "3.369540214538574\n"
          ]
        },
        {
          "output_type": "stream",
          "name": "stderr",
          "text": [
            "\rEpoch 1/1:  45%|████▌     | 538/1188 [07:49<10:05,  1.07it/s]"
          ]
        },
        {
          "output_type": "stream",
          "name": "stdout",
          "text": [
            "3.4502856731414795\n"
          ]
        },
        {
          "output_type": "stream",
          "name": "stderr",
          "text": [
            "\rEpoch 1/1:  45%|████▌     | 539/1188 [07:50<09:31,  1.14it/s]"
          ]
        },
        {
          "output_type": "stream",
          "name": "stdout",
          "text": [
            "3.5659103393554688\n"
          ]
        },
        {
          "output_type": "stream",
          "name": "stderr",
          "text": [
            "\rEpoch 1/1:  45%|████▌     | 540/1188 [07:51<09:09,  1.18it/s]"
          ]
        },
        {
          "output_type": "stream",
          "name": "stdout",
          "text": [
            "3.4541003704071045\n"
          ]
        },
        {
          "output_type": "stream",
          "name": "stderr",
          "text": [
            "\rEpoch 1/1:  46%|████▌     | 541/1188 [07:51<08:50,  1.22it/s]"
          ]
        },
        {
          "output_type": "stream",
          "name": "stdout",
          "text": [
            "3.438713788986206\n"
          ]
        },
        {
          "output_type": "stream",
          "name": "stderr",
          "text": [
            "\rEpoch 1/1:  46%|████▌     | 542/1188 [07:52<08:39,  1.24it/s]"
          ]
        },
        {
          "output_type": "stream",
          "name": "stdout",
          "text": [
            "3.3814661502838135\n"
          ]
        },
        {
          "output_type": "stream",
          "name": "stderr",
          "text": [
            "\rEpoch 1/1:  46%|████▌     | 543/1188 [07:53<08:32,  1.26it/s]"
          ]
        },
        {
          "output_type": "stream",
          "name": "stdout",
          "text": [
            "3.5015361309051514\n"
          ]
        },
        {
          "output_type": "stream",
          "name": "stderr",
          "text": [
            "\rEpoch 1/1:  46%|████▌     | 544/1188 [07:54<08:35,  1.25it/s]"
          ]
        },
        {
          "output_type": "stream",
          "name": "stdout",
          "text": [
            "3.496427059173584\n"
          ]
        },
        {
          "output_type": "stream",
          "name": "stderr",
          "text": [
            "\rEpoch 1/1:  46%|████▌     | 545/1188 [07:54<08:27,  1.27it/s]"
          ]
        },
        {
          "output_type": "stream",
          "name": "stdout",
          "text": [
            "3.511695623397827\n"
          ]
        },
        {
          "output_type": "stream",
          "name": "stderr",
          "text": [
            "\rEpoch 1/1:  46%|████▌     | 546/1188 [07:55<08:21,  1.28it/s]"
          ]
        },
        {
          "output_type": "stream",
          "name": "stdout",
          "text": [
            "3.4483654499053955\n"
          ]
        },
        {
          "output_type": "stream",
          "name": "stderr",
          "text": [
            "\rEpoch 1/1:  46%|████▌     | 547/1188 [07:56<08:19,  1.28it/s]"
          ]
        },
        {
          "output_type": "stream",
          "name": "stdout",
          "text": [
            "3.4970664978027344\n"
          ]
        },
        {
          "output_type": "stream",
          "name": "stderr",
          "text": [
            "\rEpoch 1/1:  46%|████▌     | 548/1188 [07:57<08:15,  1.29it/s]"
          ]
        },
        {
          "output_type": "stream",
          "name": "stdout",
          "text": [
            "3.5090174674987793\n"
          ]
        },
        {
          "output_type": "stream",
          "name": "stderr",
          "text": [
            "\rEpoch 1/1:  46%|████▌     | 549/1188 [07:58<08:11,  1.30it/s]"
          ]
        },
        {
          "output_type": "stream",
          "name": "stdout",
          "text": [
            "3.4503538608551025\n"
          ]
        },
        {
          "output_type": "stream",
          "name": "stderr",
          "text": [
            "\rEpoch 1/1:  46%|████▋     | 550/1188 [07:58<08:38,  1.23it/s]"
          ]
        },
        {
          "output_type": "stream",
          "name": "stdout",
          "text": [
            "3.3695554733276367\n"
          ]
        },
        {
          "output_type": "stream",
          "name": "stderr",
          "text": [
            "\rEpoch 1/1:  46%|████▋     | 551/1188 [07:59<08:59,  1.18it/s]"
          ]
        },
        {
          "output_type": "stream",
          "name": "stdout",
          "text": [
            "3.4700658321380615\n"
          ]
        },
        {
          "output_type": "stream",
          "name": "stderr",
          "text": [
            "\rEpoch 1/1:  46%|████▋     | 552/1188 [08:01<09:57,  1.06it/s]"
          ]
        },
        {
          "output_type": "stream",
          "name": "stdout",
          "text": [
            "3.4969000816345215\n"
          ]
        },
        {
          "output_type": "stream",
          "name": "stderr",
          "text": [
            "\rEpoch 1/1:  47%|████▋     | 553/1188 [08:02<10:41,  1.01s/it]"
          ]
        },
        {
          "output_type": "stream",
          "name": "stdout",
          "text": [
            "3.5203757286071777\n"
          ]
        },
        {
          "output_type": "stream",
          "name": "stderr",
          "text": [
            "\rEpoch 1/1:  47%|████▋     | 554/1188 [08:03<11:10,  1.06s/it]"
          ]
        },
        {
          "output_type": "stream",
          "name": "stdout",
          "text": [
            "3.4519429206848145\n"
          ]
        },
        {
          "output_type": "stream",
          "name": "stderr",
          "text": [
            "\rEpoch 1/1:  47%|████▋     | 555/1188 [08:04<10:40,  1.01s/it]"
          ]
        },
        {
          "output_type": "stream",
          "name": "stdout",
          "text": [
            "3.5174241065979004\n"
          ]
        },
        {
          "output_type": "stream",
          "name": "stderr",
          "text": [
            "\rEpoch 1/1:  47%|████▋     | 556/1188 [08:05<09:53,  1.06it/s]"
          ]
        },
        {
          "output_type": "stream",
          "name": "stdout",
          "text": [
            "3.4708220958709717\n"
          ]
        },
        {
          "output_type": "stream",
          "name": "stderr",
          "text": [
            "\rEpoch 1/1:  47%|████▋     | 557/1188 [08:05<09:18,  1.13it/s]"
          ]
        },
        {
          "output_type": "stream",
          "name": "stdout",
          "text": [
            "3.479748249053955\n"
          ]
        },
        {
          "output_type": "stream",
          "name": "stderr",
          "text": [
            "\rEpoch 1/1:  47%|████▋     | 558/1188 [08:06<08:57,  1.17it/s]"
          ]
        },
        {
          "output_type": "stream",
          "name": "stdout",
          "text": [
            "3.4545466899871826\n"
          ]
        },
        {
          "output_type": "stream",
          "name": "stderr",
          "text": [
            "\rEpoch 1/1:  47%|████▋     | 559/1188 [08:07<08:40,  1.21it/s]"
          ]
        },
        {
          "output_type": "stream",
          "name": "stdout",
          "text": [
            "3.4683334827423096\n"
          ]
        },
        {
          "output_type": "stream",
          "name": "stderr",
          "text": [
            "\rEpoch 1/1:  47%|████▋     | 560/1188 [08:08<08:25,  1.24it/s]"
          ]
        },
        {
          "output_type": "stream",
          "name": "stdout",
          "text": [
            "3.470932722091675\n"
          ]
        },
        {
          "output_type": "stream",
          "name": "stderr",
          "text": [
            "\rEpoch 1/1:  47%|████▋     | 561/1188 [08:08<08:20,  1.25it/s]"
          ]
        },
        {
          "output_type": "stream",
          "name": "stdout",
          "text": [
            "3.4778411388397217\n"
          ]
        },
        {
          "output_type": "stream",
          "name": "stderr",
          "text": [
            "\rEpoch 1/1:  47%|████▋     | 562/1188 [08:09<08:13,  1.27it/s]"
          ]
        },
        {
          "output_type": "stream",
          "name": "stdout",
          "text": [
            "3.489905595779419\n"
          ]
        },
        {
          "output_type": "stream",
          "name": "stderr",
          "text": [
            "\rEpoch 1/1:  47%|████▋     | 563/1188 [08:10<08:05,  1.29it/s]"
          ]
        },
        {
          "output_type": "stream",
          "name": "stdout",
          "text": [
            "3.506838321685791\n"
          ]
        },
        {
          "output_type": "stream",
          "name": "stderr",
          "text": [
            "\rEpoch 1/1:  47%|████▋     | 564/1188 [08:11<08:01,  1.30it/s]"
          ]
        },
        {
          "output_type": "stream",
          "name": "stdout",
          "text": [
            "3.506743907928467\n"
          ]
        },
        {
          "output_type": "stream",
          "name": "stderr",
          "text": [
            "\rEpoch 1/1:  48%|████▊     | 565/1188 [08:11<07:59,  1.30it/s]"
          ]
        },
        {
          "output_type": "stream",
          "name": "stdout",
          "text": [
            "3.4632725715637207\n"
          ]
        },
        {
          "output_type": "stream",
          "name": "stderr",
          "text": [
            "\rEpoch 1/1:  48%|████▊     | 566/1188 [08:12<07:58,  1.30it/s]"
          ]
        },
        {
          "output_type": "stream",
          "name": "stdout",
          "text": [
            "3.410548210144043\n"
          ]
        },
        {
          "output_type": "stream",
          "name": "stderr",
          "text": [
            "\rEpoch 1/1:  48%|████▊     | 567/1188 [08:13<07:55,  1.30it/s]"
          ]
        },
        {
          "output_type": "stream",
          "name": "stdout",
          "text": [
            "3.4864962100982666\n"
          ]
        },
        {
          "output_type": "stream",
          "name": "stderr",
          "text": [
            "\rEpoch 1/1:  48%|████▊     | 568/1188 [08:14<08:03,  1.28it/s]"
          ]
        },
        {
          "output_type": "stream",
          "name": "stdout",
          "text": [
            "3.5218687057495117\n"
          ]
        },
        {
          "output_type": "stream",
          "name": "stderr",
          "text": [
            "\rEpoch 1/1:  48%|████▊     | 569/1188 [08:15<09:16,  1.11it/s]"
          ]
        },
        {
          "output_type": "stream",
          "name": "stdout",
          "text": [
            "3.5315475463867188\n"
          ]
        },
        {
          "output_type": "stream",
          "name": "stderr",
          "text": [
            "\rEpoch 1/1:  48%|████▊     | 570/1188 [08:16<10:06,  1.02it/s]"
          ]
        },
        {
          "output_type": "stream",
          "name": "stdout",
          "text": [
            "3.4634151458740234\n"
          ]
        },
        {
          "output_type": "stream",
          "name": "stderr",
          "text": [
            "\rEpoch 1/1:  48%|████▊     | 571/1188 [08:17<10:42,  1.04s/it]"
          ]
        },
        {
          "output_type": "stream",
          "name": "stdout",
          "text": [
            "3.53019380569458\n"
          ]
        },
        {
          "output_type": "stream",
          "name": "stderr",
          "text": [
            "\rEpoch 1/1:  48%|████▊     | 572/1188 [08:18<11:09,  1.09s/it]"
          ]
        },
        {
          "output_type": "stream",
          "name": "stdout",
          "text": [
            "3.412130355834961\n"
          ]
        },
        {
          "output_type": "stream",
          "name": "stderr",
          "text": [
            "\rEpoch 1/1:  48%|████▊     | 573/1188 [08:19<10:11,  1.01it/s]"
          ]
        },
        {
          "output_type": "stream",
          "name": "stdout",
          "text": [
            "3.426745653152466\n"
          ]
        },
        {
          "output_type": "stream",
          "name": "stderr",
          "text": [
            "\rEpoch 1/1:  48%|████▊     | 574/1188 [08:20<09:24,  1.09it/s]"
          ]
        },
        {
          "output_type": "stream",
          "name": "stdout",
          "text": [
            "3.4904048442840576\n"
          ]
        },
        {
          "output_type": "stream",
          "name": "stderr",
          "text": [
            "\rEpoch 1/1:  48%|████▊     | 575/1188 [08:21<08:55,  1.14it/s]"
          ]
        },
        {
          "output_type": "stream",
          "name": "stdout",
          "text": [
            "3.4696121215820312\n"
          ]
        },
        {
          "output_type": "stream",
          "name": "stderr",
          "text": [
            "\rEpoch 1/1:  48%|████▊     | 576/1188 [08:22<08:32,  1.19it/s]"
          ]
        },
        {
          "output_type": "stream",
          "name": "stdout",
          "text": [
            "3.417483329772949\n"
          ]
        },
        {
          "output_type": "stream",
          "name": "stderr",
          "text": [
            "\rEpoch 1/1:  49%|████▊     | 577/1188 [08:22<08:20,  1.22it/s]"
          ]
        },
        {
          "output_type": "stream",
          "name": "stdout",
          "text": [
            "3.484555244445801\n"
          ]
        },
        {
          "output_type": "stream",
          "name": "stderr",
          "text": [
            "\rEpoch 1/1:  49%|████▊     | 578/1188 [08:23<08:09,  1.25it/s]"
          ]
        },
        {
          "output_type": "stream",
          "name": "stdout",
          "text": [
            "3.408079147338867\n"
          ]
        },
        {
          "output_type": "stream",
          "name": "stderr",
          "text": [
            "\rEpoch 1/1:  49%|████▊     | 579/1188 [08:24<08:01,  1.27it/s]"
          ]
        },
        {
          "output_type": "stream",
          "name": "stdout",
          "text": [
            "3.449112892150879\n"
          ]
        },
        {
          "output_type": "stream",
          "name": "stderr",
          "text": [
            "\rEpoch 1/1:  49%|████▉     | 580/1188 [08:25<07:59,  1.27it/s]"
          ]
        },
        {
          "output_type": "stream",
          "name": "stdout",
          "text": [
            "3.4459683895111084\n"
          ]
        },
        {
          "output_type": "stream",
          "name": "stderr",
          "text": [
            "\rEpoch 1/1:  49%|████▉     | 581/1188 [08:25<07:53,  1.28it/s]"
          ]
        },
        {
          "output_type": "stream",
          "name": "stdout",
          "text": [
            "3.550835609436035\n"
          ]
        },
        {
          "output_type": "stream",
          "name": "stderr",
          "text": [
            "\rEpoch 1/1:  49%|████▉     | 582/1188 [08:26<07:50,  1.29it/s]"
          ]
        },
        {
          "output_type": "stream",
          "name": "stdout",
          "text": [
            "3.470202922821045\n"
          ]
        },
        {
          "output_type": "stream",
          "name": "stderr",
          "text": [
            "\rEpoch 1/1:  49%|████▉     | 583/1188 [08:27<07:49,  1.29it/s]"
          ]
        },
        {
          "output_type": "stream",
          "name": "stdout",
          "text": [
            "3.4624521732330322\n"
          ]
        },
        {
          "output_type": "stream",
          "name": "stderr",
          "text": [
            "\rEpoch 1/1:  49%|████▉     | 584/1188 [08:28<07:50,  1.28it/s]"
          ]
        },
        {
          "output_type": "stream",
          "name": "stdout",
          "text": [
            "3.435171604156494\n"
          ]
        },
        {
          "output_type": "stream",
          "name": "stderr",
          "text": [
            "\rEpoch 1/1:  49%|████▉     | 585/1188 [08:28<07:47,  1.29it/s]"
          ]
        },
        {
          "output_type": "stream",
          "name": "stdout",
          "text": [
            "3.505262851715088\n"
          ]
        },
        {
          "output_type": "stream",
          "name": "stderr",
          "text": [
            "\rEpoch 1/1:  49%|████▉     | 586/1188 [08:29<08:18,  1.21it/s]"
          ]
        },
        {
          "output_type": "stream",
          "name": "stdout",
          "text": [
            "3.433773994445801\n"
          ]
        },
        {
          "output_type": "stream",
          "name": "stderr",
          "text": [
            "\rEpoch 1/1:  49%|████▉     | 587/1188 [08:30<08:56,  1.12it/s]"
          ]
        },
        {
          "output_type": "stream",
          "name": "stdout",
          "text": [
            "3.535076856613159\n"
          ]
        },
        {
          "output_type": "stream",
          "name": "stderr",
          "text": [
            "\rEpoch 1/1:  49%|████▉     | 588/1188 [08:32<09:47,  1.02it/s]"
          ]
        },
        {
          "output_type": "stream",
          "name": "stdout",
          "text": [
            "3.4337568283081055\n"
          ]
        },
        {
          "output_type": "stream",
          "name": "stderr",
          "text": [
            "\rEpoch 1/1:  50%|████▉     | 589/1188 [08:33<10:21,  1.04s/it]"
          ]
        },
        {
          "output_type": "stream",
          "name": "stdout",
          "text": [
            "3.4269914627075195\n"
          ]
        },
        {
          "output_type": "stream",
          "name": "stderr",
          "text": [
            "\rEpoch 1/1:  50%|████▉     | 590/1188 [08:34<10:46,  1.08s/it]"
          ]
        },
        {
          "output_type": "stream",
          "name": "stdout",
          "text": [
            "3.497992753982544\n"
          ]
        },
        {
          "output_type": "stream",
          "name": "stderr",
          "text": [
            "\rEpoch 1/1:  50%|████▉     | 591/1188 [08:35<10:00,  1.01s/it]"
          ]
        },
        {
          "output_type": "stream",
          "name": "stdout",
          "text": [
            "3.5599727630615234\n"
          ]
        },
        {
          "output_type": "stream",
          "name": "stderr",
          "text": [
            "\rEpoch 1/1:  50%|████▉     | 592/1188 [08:36<09:17,  1.07it/s]"
          ]
        },
        {
          "output_type": "stream",
          "name": "stdout",
          "text": [
            "3.5074501037597656\n"
          ]
        },
        {
          "output_type": "stream",
          "name": "stderr",
          "text": [
            "\rEpoch 1/1:  50%|████▉     | 593/1188 [08:36<08:49,  1.12it/s]"
          ]
        },
        {
          "output_type": "stream",
          "name": "stdout",
          "text": [
            "3.5256423950195312\n"
          ]
        },
        {
          "output_type": "stream",
          "name": "stderr",
          "text": [
            "\rEpoch 1/1:  50%|█████     | 594/1188 [08:37<08:27,  1.17it/s]"
          ]
        },
        {
          "output_type": "stream",
          "name": "stdout",
          "text": [
            "3.482900619506836\n"
          ]
        },
        {
          "output_type": "stream",
          "name": "stderr",
          "text": [
            "\rEpoch 1/1:  50%|█████     | 595/1188 [08:38<08:12,  1.20it/s]"
          ]
        },
        {
          "output_type": "stream",
          "name": "stdout",
          "text": [
            "3.517232894897461\n"
          ]
        },
        {
          "output_type": "stream",
          "name": "stderr",
          "text": [
            "\rEpoch 1/1:  50%|█████     | 596/1188 [08:39<08:02,  1.23it/s]"
          ]
        },
        {
          "output_type": "stream",
          "name": "stdout",
          "text": [
            "3.4845786094665527\n"
          ]
        },
        {
          "output_type": "stream",
          "name": "stderr",
          "text": [
            "\rEpoch 1/1:  50%|█████     | 597/1188 [08:39<07:53,  1.25it/s]"
          ]
        },
        {
          "output_type": "stream",
          "name": "stdout",
          "text": [
            "3.4938979148864746\n"
          ]
        },
        {
          "output_type": "stream",
          "name": "stderr",
          "text": [
            "\rEpoch 1/1:  50%|█████     | 598/1188 [08:40<07:46,  1.26it/s]"
          ]
        },
        {
          "output_type": "stream",
          "name": "stdout",
          "text": [
            "3.449436902999878\n"
          ]
        },
        {
          "output_type": "stream",
          "name": "stderr",
          "text": [
            "\rEpoch 1/1:  50%|█████     | 599/1188 [08:41<07:39,  1.28it/s]"
          ]
        },
        {
          "output_type": "stream",
          "name": "stdout",
          "text": [
            "3.4831018447875977\n"
          ]
        },
        {
          "output_type": "stream",
          "name": "stderr",
          "text": [
            "\rEpoch 1/1:  51%|█████     | 600/1188 [08:42<07:42,  1.27it/s]"
          ]
        },
        {
          "output_type": "stream",
          "name": "stdout",
          "text": [
            "3.509120225906372\n"
          ]
        },
        {
          "output_type": "stream",
          "name": "stderr",
          "text": [
            "\rEpoch 1/1:  51%|█████     | 601/1188 [08:43<07:43,  1.27it/s]"
          ]
        },
        {
          "output_type": "stream",
          "name": "stdout",
          "text": [
            "3.4541969299316406\n"
          ]
        },
        {
          "output_type": "stream",
          "name": "stderr",
          "text": [
            "\rEpoch 1/1:  51%|█████     | 602/1188 [08:43<07:36,  1.28it/s]"
          ]
        },
        {
          "output_type": "stream",
          "name": "stdout",
          "text": [
            "3.406121253967285\n"
          ]
        },
        {
          "output_type": "stream",
          "name": "stderr",
          "text": [
            "\rEpoch 1/1:  51%|█████     | 603/1188 [08:44<07:30,  1.30it/s]"
          ]
        },
        {
          "output_type": "stream",
          "name": "stdout",
          "text": [
            "3.462387800216675\n"
          ]
        },
        {
          "output_type": "stream",
          "name": "stderr",
          "text": [
            "\rEpoch 1/1:  51%|█████     | 604/1188 [08:45<07:56,  1.22it/s]"
          ]
        },
        {
          "output_type": "stream",
          "name": "stdout",
          "text": [
            "3.4586021900177\n"
          ]
        },
        {
          "output_type": "stream",
          "name": "stderr",
          "text": [
            "\rEpoch 1/1:  51%|█████     | 605/1188 [08:46<09:00,  1.08it/s]"
          ]
        },
        {
          "output_type": "stream",
          "name": "stdout",
          "text": [
            "3.4994003772735596\n"
          ]
        },
        {
          "output_type": "stream",
          "name": "stderr",
          "text": [
            "\rEpoch 1/1:  51%|█████     | 606/1188 [08:47<09:41,  1.00it/s]"
          ]
        },
        {
          "output_type": "stream",
          "name": "stdout",
          "text": [
            "3.4955263137817383\n"
          ]
        },
        {
          "output_type": "stream",
          "name": "stderr",
          "text": [
            "\rEpoch 1/1:  51%|█████     | 607/1188 [08:49<10:11,  1.05s/it]"
          ]
        },
        {
          "output_type": "stream",
          "name": "stdout",
          "text": [
            "3.471475839614868\n"
          ]
        },
        {
          "output_type": "stream",
          "name": "stderr",
          "text": [
            "\rEpoch 1/1:  51%|█████     | 608/1188 [08:50<10:19,  1.07s/it]"
          ]
        },
        {
          "output_type": "stream",
          "name": "stdout",
          "text": [
            "3.486445426940918\n"
          ]
        },
        {
          "output_type": "stream",
          "name": "stderr",
          "text": [
            "\rEpoch 1/1:  51%|█████▏    | 609/1188 [08:50<09:27,  1.02it/s]"
          ]
        },
        {
          "output_type": "stream",
          "name": "stdout",
          "text": [
            "3.446692705154419\n"
          ]
        },
        {
          "output_type": "stream",
          "name": "stderr",
          "text": [
            "\rEpoch 1/1:  51%|█████▏    | 610/1188 [08:51<08:48,  1.09it/s]"
          ]
        },
        {
          "output_type": "stream",
          "name": "stdout",
          "text": [
            "3.447246551513672\n"
          ]
        },
        {
          "output_type": "stream",
          "name": "stderr",
          "text": [
            "\rEpoch 1/1:  51%|█████▏    | 611/1188 [08:52<08:22,  1.15it/s]"
          ]
        },
        {
          "output_type": "stream",
          "name": "stdout",
          "text": [
            "3.380164384841919\n"
          ]
        },
        {
          "output_type": "stream",
          "name": "stderr",
          "text": [
            "\rEpoch 1/1:  52%|█████▏    | 612/1188 [08:53<08:03,  1.19it/s]"
          ]
        },
        {
          "output_type": "stream",
          "name": "stdout",
          "text": [
            "3.485405445098877\n"
          ]
        },
        {
          "output_type": "stream",
          "name": "stderr",
          "text": [
            "\rEpoch 1/1:  52%|█████▏    | 613/1188 [08:54<07:50,  1.22it/s]"
          ]
        },
        {
          "output_type": "stream",
          "name": "stdout",
          "text": [
            "3.4715614318847656\n"
          ]
        },
        {
          "output_type": "stream",
          "name": "stderr",
          "text": [
            "\rEpoch 1/1:  52%|█████▏    | 614/1188 [08:54<07:39,  1.25it/s]"
          ]
        },
        {
          "output_type": "stream",
          "name": "stdout",
          "text": [
            "3.4078707695007324\n"
          ]
        },
        {
          "output_type": "stream",
          "name": "stderr",
          "text": [
            "\rEpoch 1/1:  52%|█████▏    | 615/1188 [08:55<07:37,  1.25it/s]"
          ]
        },
        {
          "output_type": "stream",
          "name": "stdout",
          "text": [
            "3.4648399353027344\n"
          ]
        },
        {
          "output_type": "stream",
          "name": "stderr",
          "text": [
            "\rEpoch 1/1:  52%|█████▏    | 616/1188 [08:56<07:29,  1.27it/s]"
          ]
        },
        {
          "output_type": "stream",
          "name": "stdout",
          "text": [
            "3.4564921855926514\n"
          ]
        },
        {
          "output_type": "stream",
          "name": "stderr",
          "text": [
            "\rEpoch 1/1:  52%|█████▏    | 617/1188 [08:57<07:24,  1.28it/s]"
          ]
        },
        {
          "output_type": "stream",
          "name": "stdout",
          "text": [
            "3.37617826461792\n"
          ]
        },
        {
          "output_type": "stream",
          "name": "stderr",
          "text": [
            "\rEpoch 1/1:  52%|█████▏    | 618/1188 [08:57<07:26,  1.28it/s]"
          ]
        },
        {
          "output_type": "stream",
          "name": "stdout",
          "text": [
            "3.48976731300354\n"
          ]
        },
        {
          "output_type": "stream",
          "name": "stderr",
          "text": [
            "\rEpoch 1/1:  52%|█████▏    | 619/1188 [08:58<07:21,  1.29it/s]"
          ]
        },
        {
          "output_type": "stream",
          "name": "stdout",
          "text": [
            "3.3642866611480713\n"
          ]
        },
        {
          "output_type": "stream",
          "name": "stderr",
          "text": [
            "\rEpoch 1/1:  52%|█████▏    | 620/1188 [08:59<07:18,  1.29it/s]"
          ]
        },
        {
          "output_type": "stream",
          "name": "stdout",
          "text": [
            "3.424433708190918\n"
          ]
        },
        {
          "output_type": "stream",
          "name": "stderr",
          "text": [
            "\rEpoch 1/1:  52%|█████▏    | 621/1188 [09:00<07:25,  1.27it/s]"
          ]
        },
        {
          "output_type": "stream",
          "name": "stdout",
          "text": [
            "3.4372944831848145\n"
          ]
        },
        {
          "output_type": "stream",
          "name": "stderr",
          "text": [
            "\rEpoch 1/1:  52%|█████▏    | 622/1188 [09:01<07:54,  1.19it/s]"
          ]
        },
        {
          "output_type": "stream",
          "name": "stdout",
          "text": [
            "3.3923263549804688\n"
          ]
        },
        {
          "output_type": "stream",
          "name": "stderr",
          "text": [
            "\rEpoch 1/1:  52%|█████▏    | 623/1188 [09:02<08:51,  1.06it/s]"
          ]
        },
        {
          "output_type": "stream",
          "name": "stdout",
          "text": [
            "3.3683271408081055\n"
          ]
        },
        {
          "output_type": "stream",
          "name": "stderr",
          "text": [
            "\rEpoch 1/1:  53%|█████▎    | 624/1188 [09:03<09:31,  1.01s/it]"
          ]
        },
        {
          "output_type": "stream",
          "name": "stdout",
          "text": [
            "3.388132333755493\n"
          ]
        },
        {
          "output_type": "stream",
          "name": "stderr",
          "text": [
            "\rEpoch 1/1:  53%|█████▎    | 625/1188 [09:04<09:58,  1.06s/it]"
          ]
        },
        {
          "output_type": "stream",
          "name": "stdout",
          "text": [
            "3.6315436363220215\n"
          ]
        },
        {
          "output_type": "stream",
          "name": "stderr",
          "text": [
            "\rEpoch 1/1:  53%|█████▎    | 626/1188 [09:05<09:53,  1.06s/it]"
          ]
        },
        {
          "output_type": "stream",
          "name": "stdout",
          "text": [
            "3.4841537475585938\n"
          ]
        },
        {
          "output_type": "stream",
          "name": "stderr",
          "text": [
            "\rEpoch 1/1:  53%|█████▎    | 627/1188 [09:06<09:03,  1.03it/s]"
          ]
        },
        {
          "output_type": "stream",
          "name": "stdout",
          "text": [
            "3.3547184467315674\n"
          ]
        },
        {
          "output_type": "stream",
          "name": "stderr",
          "text": [
            "\rEpoch 1/1:  53%|█████▎    | 628/1188 [09:07<08:26,  1.11it/s]"
          ]
        },
        {
          "output_type": "stream",
          "name": "stdout",
          "text": [
            "3.4832921028137207\n"
          ]
        },
        {
          "output_type": "stream",
          "name": "stderr",
          "text": [
            "\rEpoch 1/1:  53%|█████▎    | 629/1188 [09:08<08:04,  1.15it/s]"
          ]
        },
        {
          "output_type": "stream",
          "name": "stdout",
          "text": [
            "3.52166485786438\n"
          ]
        },
        {
          "output_type": "stream",
          "name": "stderr",
          "text": [
            "\rEpoch 1/1:  53%|█████▎    | 630/1188 [09:08<07:46,  1.20it/s]"
          ]
        },
        {
          "output_type": "stream",
          "name": "stdout",
          "text": [
            "3.517043113708496\n"
          ]
        },
        {
          "output_type": "stream",
          "name": "stderr",
          "text": [
            "\rEpoch 1/1:  53%|█████▎    | 631/1188 [09:09<07:33,  1.23it/s]"
          ]
        },
        {
          "output_type": "stream",
          "name": "stdout",
          "text": [
            "3.4588961601257324\n"
          ]
        },
        {
          "output_type": "stream",
          "name": "stderr",
          "text": [
            "\rEpoch 1/1:  53%|█████▎    | 632/1188 [09:10<07:23,  1.25it/s]"
          ]
        },
        {
          "output_type": "stream",
          "name": "stdout",
          "text": [
            "3.473611831665039\n"
          ]
        },
        {
          "output_type": "stream",
          "name": "stderr",
          "text": [
            "\rEpoch 1/1:  53%|█████▎    | 633/1188 [09:11<07:17,  1.27it/s]"
          ]
        },
        {
          "output_type": "stream",
          "name": "stdout",
          "text": [
            "3.5111656188964844\n"
          ]
        },
        {
          "output_type": "stream",
          "name": "stderr",
          "text": [
            "\rEpoch 1/1:  53%|█████▎    | 634/1188 [09:11<07:13,  1.28it/s]"
          ]
        },
        {
          "output_type": "stream",
          "name": "stdout",
          "text": [
            "3.441098928451538\n"
          ]
        },
        {
          "output_type": "stream",
          "name": "stderr",
          "text": [
            "\rEpoch 1/1:  53%|█████▎    | 635/1188 [09:12<07:10,  1.28it/s]"
          ]
        },
        {
          "output_type": "stream",
          "name": "stdout",
          "text": [
            "3.4579737186431885\n"
          ]
        },
        {
          "output_type": "stream",
          "name": "stderr",
          "text": [
            "\rEpoch 1/1:  54%|█████▎    | 636/1188 [09:13<07:06,  1.29it/s]"
          ]
        },
        {
          "output_type": "stream",
          "name": "stdout",
          "text": [
            "3.4801130294799805\n"
          ]
        },
        {
          "output_type": "stream",
          "name": "stderr",
          "text": [
            "Epoch 1/1:  54%|█████▎    | 637/1188 [09:14<07:59,  1.15it/s]"
          ]
        },
        {
          "output_type": "stream",
          "name": "stdout",
          "text": [
            "3.524878978729248\n"
          ]
        },
        {
          "output_type": "stream",
          "name": "stderr",
          "text": [
            "\n"
          ]
        },
        {
          "output_type": "error",
          "ename": "KeyboardInterrupt",
          "evalue": "",
          "traceback": [
            "\u001b[0;31m---------------------------------------------------------------------------\u001b[0m",
            "\u001b[0;31mKeyboardInterrupt\u001b[0m                         Traceback (most recent call last)",
            "\u001b[0;32m<ipython-input-19-55d22ea10797>\u001b[0m in \u001b[0;36m<cell line: 3>\u001b[0;34m()\u001b[0m\n\u001b[1;32m     14\u001b[0m \u001b[0;34m\u001b[0m\u001b[0m\n\u001b[1;32m     15\u001b[0m         \u001b[0;31m# Forward pass\u001b[0m\u001b[0;34m\u001b[0m\u001b[0;34m\u001b[0m\u001b[0m\n\u001b[0;32m---> 16\u001b[0;31m         \u001b[0mloss\u001b[0m \u001b[0;34m=\u001b[0m \u001b[0mclip_model\u001b[0m\u001b[0;34m(\u001b[0m\u001b[0mids\u001b[0m\u001b[0;34m,\u001b[0m \u001b[0mattn\u001b[0m\u001b[0;34m,\u001b[0m \u001b[0mc\u001b[0m\u001b[0;34m)\u001b[0m\u001b[0;34m\u001b[0m\u001b[0;34m\u001b[0m\u001b[0m\n\u001b[0m\u001b[1;32m     17\u001b[0m \u001b[0;34m\u001b[0m\u001b[0m\n\u001b[1;32m     18\u001b[0m         \u001b[0;31m# Backward pass\u001b[0m\u001b[0;34m\u001b[0m\u001b[0;34m\u001b[0m\u001b[0m\n",
            "\u001b[0;32m/usr/local/lib/python3.10/dist-packages/torch/nn/modules/module.py\u001b[0m in \u001b[0;36m_wrapped_call_impl\u001b[0;34m(self, *args, **kwargs)\u001b[0m\n\u001b[1;32m   1509\u001b[0m             \u001b[0;32mreturn\u001b[0m \u001b[0mself\u001b[0m\u001b[0;34m.\u001b[0m\u001b[0m_compiled_call_impl\u001b[0m\u001b[0;34m(\u001b[0m\u001b[0;34m*\u001b[0m\u001b[0margs\u001b[0m\u001b[0;34m,\u001b[0m \u001b[0;34m**\u001b[0m\u001b[0mkwargs\u001b[0m\u001b[0;34m)\u001b[0m  \u001b[0;31m# type: ignore[misc]\u001b[0m\u001b[0;34m\u001b[0m\u001b[0;34m\u001b[0m\u001b[0m\n\u001b[1;32m   1510\u001b[0m         \u001b[0;32melse\u001b[0m\u001b[0;34m:\u001b[0m\u001b[0;34m\u001b[0m\u001b[0;34m\u001b[0m\u001b[0m\n\u001b[0;32m-> 1511\u001b[0;31m             \u001b[0;32mreturn\u001b[0m \u001b[0mself\u001b[0m\u001b[0;34m.\u001b[0m\u001b[0m_call_impl\u001b[0m\u001b[0;34m(\u001b[0m\u001b[0;34m*\u001b[0m\u001b[0margs\u001b[0m\u001b[0;34m,\u001b[0m \u001b[0;34m**\u001b[0m\u001b[0mkwargs\u001b[0m\u001b[0;34m)\u001b[0m\u001b[0;34m\u001b[0m\u001b[0;34m\u001b[0m\u001b[0m\n\u001b[0m\u001b[1;32m   1512\u001b[0m \u001b[0;34m\u001b[0m\u001b[0m\n\u001b[1;32m   1513\u001b[0m     \u001b[0;32mdef\u001b[0m \u001b[0m_call_impl\u001b[0m\u001b[0;34m(\u001b[0m\u001b[0mself\u001b[0m\u001b[0;34m,\u001b[0m \u001b[0;34m*\u001b[0m\u001b[0margs\u001b[0m\u001b[0;34m,\u001b[0m \u001b[0;34m**\u001b[0m\u001b[0mkwargs\u001b[0m\u001b[0;34m)\u001b[0m\u001b[0;34m:\u001b[0m\u001b[0;34m\u001b[0m\u001b[0;34m\u001b[0m\u001b[0m\n",
            "\u001b[0;32m/usr/local/lib/python3.10/dist-packages/torch/nn/modules/module.py\u001b[0m in \u001b[0;36m_call_impl\u001b[0;34m(self, *args, **kwargs)\u001b[0m\n\u001b[1;32m   1518\u001b[0m                 \u001b[0;32mor\u001b[0m \u001b[0m_global_backward_pre_hooks\u001b[0m \u001b[0;32mor\u001b[0m \u001b[0m_global_backward_hooks\u001b[0m\u001b[0;34m\u001b[0m\u001b[0;34m\u001b[0m\u001b[0m\n\u001b[1;32m   1519\u001b[0m                 or _global_forward_hooks or _global_forward_pre_hooks):\n\u001b[0;32m-> 1520\u001b[0;31m             \u001b[0;32mreturn\u001b[0m \u001b[0mforward_call\u001b[0m\u001b[0;34m(\u001b[0m\u001b[0;34m*\u001b[0m\u001b[0margs\u001b[0m\u001b[0;34m,\u001b[0m \u001b[0;34m**\u001b[0m\u001b[0mkwargs\u001b[0m\u001b[0;34m)\u001b[0m\u001b[0;34m\u001b[0m\u001b[0;34m\u001b[0m\u001b[0m\n\u001b[0m\u001b[1;32m   1521\u001b[0m \u001b[0;34m\u001b[0m\u001b[0m\n\u001b[1;32m   1522\u001b[0m         \u001b[0;32mtry\u001b[0m\u001b[0;34m:\u001b[0m\u001b[0;34m\u001b[0m\u001b[0;34m\u001b[0m\u001b[0m\n",
            "\u001b[0;32m<ipython-input-12-5c5384b26b44>\u001b[0m in \u001b[0;36mforward\u001b[0;34m(self, ids, attn, c)\u001b[0m\n\u001b[1;32m     25\u001b[0m   \u001b[0;32mdef\u001b[0m \u001b[0mforward\u001b[0m\u001b[0;34m(\u001b[0m\u001b[0mself\u001b[0m\u001b[0;34m,\u001b[0m \u001b[0mids\u001b[0m\u001b[0;34m,\u001b[0m \u001b[0mattn\u001b[0m\u001b[0;34m,\u001b[0m \u001b[0mc\u001b[0m\u001b[0;34m)\u001b[0m\u001b[0;34m:\u001b[0m\u001b[0;34m\u001b[0m\u001b[0;34m\u001b[0m\u001b[0m\n\u001b[1;32m     26\u001b[0m \u001b[0;34m\u001b[0m\u001b[0m\n\u001b[0;32m---> 27\u001b[0;31m     \u001b[0mtext_embedding\u001b[0m \u001b[0;34m=\u001b[0m \u001b[0mself\u001b[0m\u001b[0;34m.\u001b[0m\u001b[0mtext_encoder\u001b[0m\u001b[0;34m(\u001b[0m\u001b[0mids\u001b[0m\u001b[0;34m,\u001b[0m \u001b[0mattn\u001b[0m\u001b[0;34m)\u001b[0m\u001b[0;34m\u001b[0m\u001b[0;34m\u001b[0m\u001b[0m\n\u001b[0m\u001b[1;32m     28\u001b[0m     \u001b[0mvision_embedding\u001b[0m \u001b[0;34m=\u001b[0m \u001b[0mself\u001b[0m\u001b[0;34m.\u001b[0m\u001b[0mimage_encoder\u001b[0m\u001b[0;34m(\u001b[0m\u001b[0mc\u001b[0m\u001b[0;34m)\u001b[0m\u001b[0;34m\u001b[0m\u001b[0;34m\u001b[0m\u001b[0m\n\u001b[1;32m     29\u001b[0m     \u001b[0mtext_multi\u001b[0m \u001b[0;34m=\u001b[0m \u001b[0mself\u001b[0m\u001b[0;34m.\u001b[0m\u001b[0mtext_projection\u001b[0m\u001b[0;34m(\u001b[0m\u001b[0mtext_embedding\u001b[0m\u001b[0;34m)\u001b[0m\u001b[0;34m\u001b[0m\u001b[0;34m\u001b[0m\u001b[0m\n",
            "\u001b[0;32m/usr/local/lib/python3.10/dist-packages/torch/nn/modules/module.py\u001b[0m in \u001b[0;36m_wrapped_call_impl\u001b[0;34m(self, *args, **kwargs)\u001b[0m\n\u001b[1;32m   1509\u001b[0m             \u001b[0;32mreturn\u001b[0m \u001b[0mself\u001b[0m\u001b[0;34m.\u001b[0m\u001b[0m_compiled_call_impl\u001b[0m\u001b[0;34m(\u001b[0m\u001b[0;34m*\u001b[0m\u001b[0margs\u001b[0m\u001b[0;34m,\u001b[0m \u001b[0;34m**\u001b[0m\u001b[0mkwargs\u001b[0m\u001b[0;34m)\u001b[0m  \u001b[0;31m# type: ignore[misc]\u001b[0m\u001b[0;34m\u001b[0m\u001b[0;34m\u001b[0m\u001b[0m\n\u001b[1;32m   1510\u001b[0m         \u001b[0;32melse\u001b[0m\u001b[0;34m:\u001b[0m\u001b[0;34m\u001b[0m\u001b[0;34m\u001b[0m\u001b[0m\n\u001b[0;32m-> 1511\u001b[0;31m             \u001b[0;32mreturn\u001b[0m \u001b[0mself\u001b[0m\u001b[0;34m.\u001b[0m\u001b[0m_call_impl\u001b[0m\u001b[0;34m(\u001b[0m\u001b[0;34m*\u001b[0m\u001b[0margs\u001b[0m\u001b[0;34m,\u001b[0m \u001b[0;34m**\u001b[0m\u001b[0mkwargs\u001b[0m\u001b[0;34m)\u001b[0m\u001b[0;34m\u001b[0m\u001b[0;34m\u001b[0m\u001b[0m\n\u001b[0m\u001b[1;32m   1512\u001b[0m \u001b[0;34m\u001b[0m\u001b[0m\n\u001b[1;32m   1513\u001b[0m     \u001b[0;32mdef\u001b[0m \u001b[0m_call_impl\u001b[0m\u001b[0;34m(\u001b[0m\u001b[0mself\u001b[0m\u001b[0;34m,\u001b[0m \u001b[0;34m*\u001b[0m\u001b[0margs\u001b[0m\u001b[0;34m,\u001b[0m \u001b[0;34m**\u001b[0m\u001b[0mkwargs\u001b[0m\u001b[0;34m)\u001b[0m\u001b[0;34m:\u001b[0m\u001b[0;34m\u001b[0m\u001b[0;34m\u001b[0m\u001b[0m\n",
            "\u001b[0;32m/usr/local/lib/python3.10/dist-packages/torch/nn/modules/module.py\u001b[0m in \u001b[0;36m_call_impl\u001b[0;34m(self, *args, **kwargs)\u001b[0m\n\u001b[1;32m   1518\u001b[0m                 \u001b[0;32mor\u001b[0m \u001b[0m_global_backward_pre_hooks\u001b[0m \u001b[0;32mor\u001b[0m \u001b[0m_global_backward_hooks\u001b[0m\u001b[0;34m\u001b[0m\u001b[0;34m\u001b[0m\u001b[0m\n\u001b[1;32m   1519\u001b[0m                 or _global_forward_hooks or _global_forward_pre_hooks):\n\u001b[0;32m-> 1520\u001b[0;31m             \u001b[0;32mreturn\u001b[0m \u001b[0mforward_call\u001b[0m\u001b[0;34m(\u001b[0m\u001b[0;34m*\u001b[0m\u001b[0margs\u001b[0m\u001b[0;34m,\u001b[0m \u001b[0;34m**\u001b[0m\u001b[0mkwargs\u001b[0m\u001b[0;34m)\u001b[0m\u001b[0;34m\u001b[0m\u001b[0;34m\u001b[0m\u001b[0m\n\u001b[0m\u001b[1;32m   1521\u001b[0m \u001b[0;34m\u001b[0m\u001b[0m\n\u001b[1;32m   1522\u001b[0m         \u001b[0;32mtry\u001b[0m\u001b[0;34m:\u001b[0m\u001b[0;34m\u001b[0m\u001b[0;34m\u001b[0m\u001b[0m\n",
            "\u001b[0;32m<ipython-input-10-213322743b5b>\u001b[0m in \u001b[0;36mforward\u001b[0;34m(self, input_ids, attention_mask)\u001b[0m\n\u001b[1;32m     15\u001b[0m \u001b[0;34m\u001b[0m\u001b[0m\n\u001b[1;32m     16\u001b[0m     \u001b[0;32mdef\u001b[0m \u001b[0mforward\u001b[0m\u001b[0;34m(\u001b[0m\u001b[0mself\u001b[0m\u001b[0;34m,\u001b[0m \u001b[0minput_ids\u001b[0m\u001b[0;34m,\u001b[0m \u001b[0mattention_mask\u001b[0m\u001b[0;34m)\u001b[0m\u001b[0;34m:\u001b[0m\u001b[0;34m\u001b[0m\u001b[0;34m\u001b[0m\u001b[0m\n\u001b[0;32m---> 17\u001b[0;31m         \u001b[0moutput\u001b[0m \u001b[0;34m=\u001b[0m \u001b[0mself\u001b[0m\u001b[0;34m.\u001b[0m\u001b[0mmodel\u001b[0m\u001b[0;34m(\u001b[0m\u001b[0minput_ids\u001b[0m\u001b[0;34m=\u001b[0m\u001b[0minput_ids\u001b[0m\u001b[0;34m,\u001b[0m \u001b[0mattention_mask\u001b[0m\u001b[0;34m=\u001b[0m\u001b[0mattention_mask\u001b[0m\u001b[0;34m)\u001b[0m\u001b[0;34m\u001b[0m\u001b[0;34m\u001b[0m\u001b[0m\n\u001b[0m\u001b[1;32m     18\u001b[0m         \u001b[0mlast_hidden_state\u001b[0m \u001b[0;34m=\u001b[0m \u001b[0moutput\u001b[0m\u001b[0;34m.\u001b[0m\u001b[0mlast_hidden_state\u001b[0m\u001b[0;34m\u001b[0m\u001b[0;34m\u001b[0m\u001b[0m\n\u001b[1;32m     19\u001b[0m         \u001b[0;32mreturn\u001b[0m \u001b[0mlast_hidden_state\u001b[0m\u001b[0;34m[\u001b[0m\u001b[0;34m:\u001b[0m\u001b[0;34m,\u001b[0m \u001b[0mself\u001b[0m\u001b[0;34m.\u001b[0m\u001b[0mtarget_token_idx\u001b[0m\u001b[0;34m,\u001b[0m \u001b[0;34m:\u001b[0m\u001b[0;34m]\u001b[0m\u001b[0;34m\u001b[0m\u001b[0;34m\u001b[0m\u001b[0m\n",
            "\u001b[0;32m/usr/local/lib/python3.10/dist-packages/torch/nn/modules/module.py\u001b[0m in \u001b[0;36m_wrapped_call_impl\u001b[0;34m(self, *args, **kwargs)\u001b[0m\n\u001b[1;32m   1509\u001b[0m             \u001b[0;32mreturn\u001b[0m \u001b[0mself\u001b[0m\u001b[0;34m.\u001b[0m\u001b[0m_compiled_call_impl\u001b[0m\u001b[0;34m(\u001b[0m\u001b[0;34m*\u001b[0m\u001b[0margs\u001b[0m\u001b[0;34m,\u001b[0m \u001b[0;34m**\u001b[0m\u001b[0mkwargs\u001b[0m\u001b[0;34m)\u001b[0m  \u001b[0;31m# type: ignore[misc]\u001b[0m\u001b[0;34m\u001b[0m\u001b[0;34m\u001b[0m\u001b[0m\n\u001b[1;32m   1510\u001b[0m         \u001b[0;32melse\u001b[0m\u001b[0;34m:\u001b[0m\u001b[0;34m\u001b[0m\u001b[0;34m\u001b[0m\u001b[0m\n\u001b[0;32m-> 1511\u001b[0;31m             \u001b[0;32mreturn\u001b[0m \u001b[0mself\u001b[0m\u001b[0;34m.\u001b[0m\u001b[0m_call_impl\u001b[0m\u001b[0;34m(\u001b[0m\u001b[0;34m*\u001b[0m\u001b[0margs\u001b[0m\u001b[0;34m,\u001b[0m \u001b[0;34m**\u001b[0m\u001b[0mkwargs\u001b[0m\u001b[0;34m)\u001b[0m\u001b[0;34m\u001b[0m\u001b[0;34m\u001b[0m\u001b[0m\n\u001b[0m\u001b[1;32m   1512\u001b[0m \u001b[0;34m\u001b[0m\u001b[0m\n\u001b[1;32m   1513\u001b[0m     \u001b[0;32mdef\u001b[0m \u001b[0m_call_impl\u001b[0m\u001b[0;34m(\u001b[0m\u001b[0mself\u001b[0m\u001b[0;34m,\u001b[0m \u001b[0;34m*\u001b[0m\u001b[0margs\u001b[0m\u001b[0;34m,\u001b[0m \u001b[0;34m**\u001b[0m\u001b[0mkwargs\u001b[0m\u001b[0;34m)\u001b[0m\u001b[0;34m:\u001b[0m\u001b[0;34m\u001b[0m\u001b[0;34m\u001b[0m\u001b[0m\n",
            "\u001b[0;32m/usr/local/lib/python3.10/dist-packages/torch/nn/modules/module.py\u001b[0m in \u001b[0;36m_call_impl\u001b[0;34m(self, *args, **kwargs)\u001b[0m\n\u001b[1;32m   1518\u001b[0m                 \u001b[0;32mor\u001b[0m \u001b[0m_global_backward_pre_hooks\u001b[0m \u001b[0;32mor\u001b[0m \u001b[0m_global_backward_hooks\u001b[0m\u001b[0;34m\u001b[0m\u001b[0;34m\u001b[0m\u001b[0m\n\u001b[1;32m   1519\u001b[0m                 or _global_forward_hooks or _global_forward_pre_hooks):\n\u001b[0;32m-> 1520\u001b[0;31m             \u001b[0;32mreturn\u001b[0m \u001b[0mforward_call\u001b[0m\u001b[0;34m(\u001b[0m\u001b[0;34m*\u001b[0m\u001b[0margs\u001b[0m\u001b[0;34m,\u001b[0m \u001b[0;34m**\u001b[0m\u001b[0mkwargs\u001b[0m\u001b[0;34m)\u001b[0m\u001b[0;34m\u001b[0m\u001b[0;34m\u001b[0m\u001b[0m\n\u001b[0m\u001b[1;32m   1521\u001b[0m \u001b[0;34m\u001b[0m\u001b[0m\n\u001b[1;32m   1522\u001b[0m         \u001b[0;32mtry\u001b[0m\u001b[0;34m:\u001b[0m\u001b[0;34m\u001b[0m\u001b[0;34m\u001b[0m\u001b[0m\n",
            "\u001b[0;32m/usr/local/lib/python3.10/dist-packages/transformers/models/distilbert/modeling_distilbert.py\u001b[0m in \u001b[0;36mforward\u001b[0;34m(self, input_ids, attention_mask, head_mask, inputs_embeds, output_attentions, output_hidden_states, return_dict)\u001b[0m\n\u001b[1;32m    812\u001b[0m                 \u001b[0mattention_mask\u001b[0m \u001b[0;34m=\u001b[0m \u001b[0mtorch\u001b[0m\u001b[0;34m.\u001b[0m\u001b[0mones\u001b[0m\u001b[0;34m(\u001b[0m\u001b[0minput_shape\u001b[0m\u001b[0;34m,\u001b[0m \u001b[0mdevice\u001b[0m\u001b[0;34m=\u001b[0m\u001b[0mdevice\u001b[0m\u001b[0;34m)\u001b[0m  \u001b[0;31m# (bs, seq_length)\u001b[0m\u001b[0;34m\u001b[0m\u001b[0;34m\u001b[0m\u001b[0m\n\u001b[1;32m    813\u001b[0m \u001b[0;34m\u001b[0m\u001b[0m\n\u001b[0;32m--> 814\u001b[0;31m         return self.transformer(\n\u001b[0m\u001b[1;32m    815\u001b[0m             \u001b[0mx\u001b[0m\u001b[0;34m=\u001b[0m\u001b[0membeddings\u001b[0m\u001b[0;34m,\u001b[0m\u001b[0;34m\u001b[0m\u001b[0;34m\u001b[0m\u001b[0m\n\u001b[1;32m    816\u001b[0m             \u001b[0mattn_mask\u001b[0m\u001b[0;34m=\u001b[0m\u001b[0mattention_mask\u001b[0m\u001b[0;34m,\u001b[0m\u001b[0;34m\u001b[0m\u001b[0;34m\u001b[0m\u001b[0m\n",
            "\u001b[0;32m/usr/local/lib/python3.10/dist-packages/torch/nn/modules/module.py\u001b[0m in \u001b[0;36m_wrapped_call_impl\u001b[0;34m(self, *args, **kwargs)\u001b[0m\n\u001b[1;32m   1509\u001b[0m             \u001b[0;32mreturn\u001b[0m \u001b[0mself\u001b[0m\u001b[0;34m.\u001b[0m\u001b[0m_compiled_call_impl\u001b[0m\u001b[0;34m(\u001b[0m\u001b[0;34m*\u001b[0m\u001b[0margs\u001b[0m\u001b[0;34m,\u001b[0m \u001b[0;34m**\u001b[0m\u001b[0mkwargs\u001b[0m\u001b[0;34m)\u001b[0m  \u001b[0;31m# type: ignore[misc]\u001b[0m\u001b[0;34m\u001b[0m\u001b[0;34m\u001b[0m\u001b[0m\n\u001b[1;32m   1510\u001b[0m         \u001b[0;32melse\u001b[0m\u001b[0;34m:\u001b[0m\u001b[0;34m\u001b[0m\u001b[0;34m\u001b[0m\u001b[0m\n\u001b[0;32m-> 1511\u001b[0;31m             \u001b[0;32mreturn\u001b[0m \u001b[0mself\u001b[0m\u001b[0;34m.\u001b[0m\u001b[0m_call_impl\u001b[0m\u001b[0;34m(\u001b[0m\u001b[0;34m*\u001b[0m\u001b[0margs\u001b[0m\u001b[0;34m,\u001b[0m \u001b[0;34m**\u001b[0m\u001b[0mkwargs\u001b[0m\u001b[0;34m)\u001b[0m\u001b[0;34m\u001b[0m\u001b[0;34m\u001b[0m\u001b[0m\n\u001b[0m\u001b[1;32m   1512\u001b[0m \u001b[0;34m\u001b[0m\u001b[0m\n\u001b[1;32m   1513\u001b[0m     \u001b[0;32mdef\u001b[0m \u001b[0m_call_impl\u001b[0m\u001b[0;34m(\u001b[0m\u001b[0mself\u001b[0m\u001b[0;34m,\u001b[0m \u001b[0;34m*\u001b[0m\u001b[0margs\u001b[0m\u001b[0;34m,\u001b[0m \u001b[0;34m**\u001b[0m\u001b[0mkwargs\u001b[0m\u001b[0;34m)\u001b[0m\u001b[0;34m:\u001b[0m\u001b[0;34m\u001b[0m\u001b[0;34m\u001b[0m\u001b[0m\n",
            "\u001b[0;32m/usr/local/lib/python3.10/dist-packages/torch/nn/modules/module.py\u001b[0m in \u001b[0;36m_call_impl\u001b[0;34m(self, *args, **kwargs)\u001b[0m\n\u001b[1;32m   1518\u001b[0m                 \u001b[0;32mor\u001b[0m \u001b[0m_global_backward_pre_hooks\u001b[0m \u001b[0;32mor\u001b[0m \u001b[0m_global_backward_hooks\u001b[0m\u001b[0;34m\u001b[0m\u001b[0;34m\u001b[0m\u001b[0m\n\u001b[1;32m   1519\u001b[0m                 or _global_forward_hooks or _global_forward_pre_hooks):\n\u001b[0;32m-> 1520\u001b[0;31m             \u001b[0;32mreturn\u001b[0m \u001b[0mforward_call\u001b[0m\u001b[0;34m(\u001b[0m\u001b[0;34m*\u001b[0m\u001b[0margs\u001b[0m\u001b[0;34m,\u001b[0m \u001b[0;34m**\u001b[0m\u001b[0mkwargs\u001b[0m\u001b[0;34m)\u001b[0m\u001b[0;34m\u001b[0m\u001b[0;34m\u001b[0m\u001b[0m\n\u001b[0m\u001b[1;32m   1521\u001b[0m \u001b[0;34m\u001b[0m\u001b[0m\n\u001b[1;32m   1522\u001b[0m         \u001b[0;32mtry\u001b[0m\u001b[0;34m:\u001b[0m\u001b[0;34m\u001b[0m\u001b[0;34m\u001b[0m\u001b[0m\n",
            "\u001b[0;32m/usr/local/lib/python3.10/dist-packages/transformers/models/distilbert/modeling_distilbert.py\u001b[0m in \u001b[0;36mforward\u001b[0;34m(self, x, attn_mask, head_mask, output_attentions, output_hidden_states, return_dict)\u001b[0m\n\u001b[1;32m    573\u001b[0m                 )\n\u001b[1;32m    574\u001b[0m             \u001b[0;32melse\u001b[0m\u001b[0;34m:\u001b[0m\u001b[0;34m\u001b[0m\u001b[0;34m\u001b[0m\u001b[0m\n\u001b[0;32m--> 575\u001b[0;31m                 layer_outputs = layer_module(\n\u001b[0m\u001b[1;32m    576\u001b[0m                     \u001b[0mhidden_state\u001b[0m\u001b[0;34m,\u001b[0m\u001b[0;34m\u001b[0m\u001b[0;34m\u001b[0m\u001b[0m\n\u001b[1;32m    577\u001b[0m                     \u001b[0mattn_mask\u001b[0m\u001b[0;34m,\u001b[0m\u001b[0;34m\u001b[0m\u001b[0;34m\u001b[0m\u001b[0m\n",
            "\u001b[0;32m/usr/local/lib/python3.10/dist-packages/torch/nn/modules/module.py\u001b[0m in \u001b[0;36m_wrapped_call_impl\u001b[0;34m(self, *args, **kwargs)\u001b[0m\n\u001b[1;32m   1509\u001b[0m             \u001b[0;32mreturn\u001b[0m \u001b[0mself\u001b[0m\u001b[0;34m.\u001b[0m\u001b[0m_compiled_call_impl\u001b[0m\u001b[0;34m(\u001b[0m\u001b[0;34m*\u001b[0m\u001b[0margs\u001b[0m\u001b[0;34m,\u001b[0m \u001b[0;34m**\u001b[0m\u001b[0mkwargs\u001b[0m\u001b[0;34m)\u001b[0m  \u001b[0;31m# type: ignore[misc]\u001b[0m\u001b[0;34m\u001b[0m\u001b[0;34m\u001b[0m\u001b[0m\n\u001b[1;32m   1510\u001b[0m         \u001b[0;32melse\u001b[0m\u001b[0;34m:\u001b[0m\u001b[0;34m\u001b[0m\u001b[0;34m\u001b[0m\u001b[0m\n\u001b[0;32m-> 1511\u001b[0;31m             \u001b[0;32mreturn\u001b[0m \u001b[0mself\u001b[0m\u001b[0;34m.\u001b[0m\u001b[0m_call_impl\u001b[0m\u001b[0;34m(\u001b[0m\u001b[0;34m*\u001b[0m\u001b[0margs\u001b[0m\u001b[0;34m,\u001b[0m \u001b[0;34m**\u001b[0m\u001b[0mkwargs\u001b[0m\u001b[0;34m)\u001b[0m\u001b[0;34m\u001b[0m\u001b[0;34m\u001b[0m\u001b[0m\n\u001b[0m\u001b[1;32m   1512\u001b[0m \u001b[0;34m\u001b[0m\u001b[0m\n\u001b[1;32m   1513\u001b[0m     \u001b[0;32mdef\u001b[0m \u001b[0m_call_impl\u001b[0m\u001b[0;34m(\u001b[0m\u001b[0mself\u001b[0m\u001b[0;34m,\u001b[0m \u001b[0;34m*\u001b[0m\u001b[0margs\u001b[0m\u001b[0;34m,\u001b[0m \u001b[0;34m**\u001b[0m\u001b[0mkwargs\u001b[0m\u001b[0;34m)\u001b[0m\u001b[0;34m:\u001b[0m\u001b[0;34m\u001b[0m\u001b[0;34m\u001b[0m\u001b[0m\n",
            "\u001b[0;32m/usr/local/lib/python3.10/dist-packages/torch/nn/modules/module.py\u001b[0m in \u001b[0;36m_call_impl\u001b[0;34m(self, *args, **kwargs)\u001b[0m\n\u001b[1;32m   1518\u001b[0m                 \u001b[0;32mor\u001b[0m \u001b[0m_global_backward_pre_hooks\u001b[0m \u001b[0;32mor\u001b[0m \u001b[0m_global_backward_hooks\u001b[0m\u001b[0;34m\u001b[0m\u001b[0;34m\u001b[0m\u001b[0m\n\u001b[1;32m   1519\u001b[0m                 or _global_forward_hooks or _global_forward_pre_hooks):\n\u001b[0;32m-> 1520\u001b[0;31m             \u001b[0;32mreturn\u001b[0m \u001b[0mforward_call\u001b[0m\u001b[0;34m(\u001b[0m\u001b[0;34m*\u001b[0m\u001b[0margs\u001b[0m\u001b[0;34m,\u001b[0m \u001b[0;34m**\u001b[0m\u001b[0mkwargs\u001b[0m\u001b[0;34m)\u001b[0m\u001b[0;34m\u001b[0m\u001b[0;34m\u001b[0m\u001b[0m\n\u001b[0m\u001b[1;32m   1521\u001b[0m \u001b[0;34m\u001b[0m\u001b[0m\n\u001b[1;32m   1522\u001b[0m         \u001b[0;32mtry\u001b[0m\u001b[0;34m:\u001b[0m\u001b[0;34m\u001b[0m\u001b[0;34m\u001b[0m\u001b[0m\n",
            "\u001b[0;32m/usr/local/lib/python3.10/dist-packages/transformers/models/distilbert/modeling_distilbert.py\u001b[0m in \u001b[0;36mforward\u001b[0;34m(self, x, attn_mask, head_mask, output_attentions)\u001b[0m\n\u001b[1;32m    517\u001b[0m \u001b[0;34m\u001b[0m\u001b[0m\n\u001b[1;32m    518\u001b[0m         \u001b[0;31m# Feed Forward Network\u001b[0m\u001b[0;34m\u001b[0m\u001b[0;34m\u001b[0m\u001b[0m\n\u001b[0;32m--> 519\u001b[0;31m         \u001b[0mffn_output\u001b[0m \u001b[0;34m=\u001b[0m \u001b[0mself\u001b[0m\u001b[0;34m.\u001b[0m\u001b[0mffn\u001b[0m\u001b[0;34m(\u001b[0m\u001b[0msa_output\u001b[0m\u001b[0;34m)\u001b[0m  \u001b[0;31m# (bs, seq_length, dim)\u001b[0m\u001b[0;34m\u001b[0m\u001b[0;34m\u001b[0m\u001b[0m\n\u001b[0m\u001b[1;32m    520\u001b[0m         \u001b[0mffn_output\u001b[0m\u001b[0;34m:\u001b[0m \u001b[0mtorch\u001b[0m\u001b[0;34m.\u001b[0m\u001b[0mTensor\u001b[0m \u001b[0;34m=\u001b[0m \u001b[0mself\u001b[0m\u001b[0;34m.\u001b[0m\u001b[0moutput_layer_norm\u001b[0m\u001b[0;34m(\u001b[0m\u001b[0mffn_output\u001b[0m \u001b[0;34m+\u001b[0m \u001b[0msa_output\u001b[0m\u001b[0;34m)\u001b[0m  \u001b[0;31m# (bs, seq_length, dim)\u001b[0m\u001b[0;34m\u001b[0m\u001b[0;34m\u001b[0m\u001b[0m\n\u001b[1;32m    521\u001b[0m \u001b[0;34m\u001b[0m\u001b[0m\n",
            "\u001b[0;32m/usr/local/lib/python3.10/dist-packages/torch/nn/modules/module.py\u001b[0m in \u001b[0;36m_wrapped_call_impl\u001b[0;34m(self, *args, **kwargs)\u001b[0m\n\u001b[1;32m   1509\u001b[0m             \u001b[0;32mreturn\u001b[0m \u001b[0mself\u001b[0m\u001b[0;34m.\u001b[0m\u001b[0m_compiled_call_impl\u001b[0m\u001b[0;34m(\u001b[0m\u001b[0;34m*\u001b[0m\u001b[0margs\u001b[0m\u001b[0;34m,\u001b[0m \u001b[0;34m**\u001b[0m\u001b[0mkwargs\u001b[0m\u001b[0;34m)\u001b[0m  \u001b[0;31m# type: ignore[misc]\u001b[0m\u001b[0;34m\u001b[0m\u001b[0;34m\u001b[0m\u001b[0m\n\u001b[1;32m   1510\u001b[0m         \u001b[0;32melse\u001b[0m\u001b[0;34m:\u001b[0m\u001b[0;34m\u001b[0m\u001b[0;34m\u001b[0m\u001b[0m\n\u001b[0;32m-> 1511\u001b[0;31m             \u001b[0;32mreturn\u001b[0m \u001b[0mself\u001b[0m\u001b[0;34m.\u001b[0m\u001b[0m_call_impl\u001b[0m\u001b[0;34m(\u001b[0m\u001b[0;34m*\u001b[0m\u001b[0margs\u001b[0m\u001b[0;34m,\u001b[0m \u001b[0;34m**\u001b[0m\u001b[0mkwargs\u001b[0m\u001b[0;34m)\u001b[0m\u001b[0;34m\u001b[0m\u001b[0;34m\u001b[0m\u001b[0m\n\u001b[0m\u001b[1;32m   1512\u001b[0m \u001b[0;34m\u001b[0m\u001b[0m\n\u001b[1;32m   1513\u001b[0m     \u001b[0;32mdef\u001b[0m \u001b[0m_call_impl\u001b[0m\u001b[0;34m(\u001b[0m\u001b[0mself\u001b[0m\u001b[0;34m,\u001b[0m \u001b[0;34m*\u001b[0m\u001b[0margs\u001b[0m\u001b[0;34m,\u001b[0m \u001b[0;34m**\u001b[0m\u001b[0mkwargs\u001b[0m\u001b[0;34m)\u001b[0m\u001b[0;34m:\u001b[0m\u001b[0;34m\u001b[0m\u001b[0;34m\u001b[0m\u001b[0m\n",
            "\u001b[0;32m/usr/local/lib/python3.10/dist-packages/torch/nn/modules/module.py\u001b[0m in \u001b[0;36m_call_impl\u001b[0;34m(self, *args, **kwargs)\u001b[0m\n\u001b[1;32m   1518\u001b[0m                 \u001b[0;32mor\u001b[0m \u001b[0m_global_backward_pre_hooks\u001b[0m \u001b[0;32mor\u001b[0m \u001b[0m_global_backward_hooks\u001b[0m\u001b[0;34m\u001b[0m\u001b[0;34m\u001b[0m\u001b[0m\n\u001b[1;32m   1519\u001b[0m                 or _global_forward_hooks or _global_forward_pre_hooks):\n\u001b[0;32m-> 1520\u001b[0;31m             \u001b[0;32mreturn\u001b[0m \u001b[0mforward_call\u001b[0m\u001b[0;34m(\u001b[0m\u001b[0;34m*\u001b[0m\u001b[0margs\u001b[0m\u001b[0;34m,\u001b[0m \u001b[0;34m**\u001b[0m\u001b[0mkwargs\u001b[0m\u001b[0;34m)\u001b[0m\u001b[0;34m\u001b[0m\u001b[0;34m\u001b[0m\u001b[0m\n\u001b[0m\u001b[1;32m   1521\u001b[0m \u001b[0;34m\u001b[0m\u001b[0m\n\u001b[1;32m   1522\u001b[0m         \u001b[0;32mtry\u001b[0m\u001b[0;34m:\u001b[0m\u001b[0;34m\u001b[0m\u001b[0;34m\u001b[0m\u001b[0m\n",
            "\u001b[0;32m/usr/local/lib/python3.10/dist-packages/transformers/models/distilbert/modeling_distilbert.py\u001b[0m in \u001b[0;36mforward\u001b[0;34m(self, input)\u001b[0m\n\u001b[1;32m    452\u001b[0m \u001b[0;34m\u001b[0m\u001b[0m\n\u001b[1;32m    453\u001b[0m     \u001b[0;32mdef\u001b[0m \u001b[0mforward\u001b[0m\u001b[0;34m(\u001b[0m\u001b[0mself\u001b[0m\u001b[0;34m,\u001b[0m \u001b[0minput\u001b[0m\u001b[0;34m:\u001b[0m \u001b[0mtorch\u001b[0m\u001b[0;34m.\u001b[0m\u001b[0mTensor\u001b[0m\u001b[0;34m)\u001b[0m \u001b[0;34m->\u001b[0m \u001b[0mtorch\u001b[0m\u001b[0;34m.\u001b[0m\u001b[0mTensor\u001b[0m\u001b[0;34m:\u001b[0m\u001b[0;34m\u001b[0m\u001b[0;34m\u001b[0m\u001b[0m\n\u001b[0;32m--> 454\u001b[0;31m         \u001b[0;32mreturn\u001b[0m \u001b[0mapply_chunking_to_forward\u001b[0m\u001b[0;34m(\u001b[0m\u001b[0mself\u001b[0m\u001b[0;34m.\u001b[0m\u001b[0mff_chunk\u001b[0m\u001b[0;34m,\u001b[0m \u001b[0mself\u001b[0m\u001b[0;34m.\u001b[0m\u001b[0mchunk_size_feed_forward\u001b[0m\u001b[0;34m,\u001b[0m \u001b[0mself\u001b[0m\u001b[0;34m.\u001b[0m\u001b[0mseq_len_dim\u001b[0m\u001b[0;34m,\u001b[0m \u001b[0minput\u001b[0m\u001b[0;34m)\u001b[0m\u001b[0;34m\u001b[0m\u001b[0;34m\u001b[0m\u001b[0m\n\u001b[0m\u001b[1;32m    455\u001b[0m \u001b[0;34m\u001b[0m\u001b[0m\n\u001b[1;32m    456\u001b[0m     \u001b[0;32mdef\u001b[0m \u001b[0mff_chunk\u001b[0m\u001b[0;34m(\u001b[0m\u001b[0mself\u001b[0m\u001b[0;34m,\u001b[0m \u001b[0minput\u001b[0m\u001b[0;34m:\u001b[0m \u001b[0mtorch\u001b[0m\u001b[0;34m.\u001b[0m\u001b[0mTensor\u001b[0m\u001b[0;34m)\u001b[0m \u001b[0;34m->\u001b[0m \u001b[0mtorch\u001b[0m\u001b[0;34m.\u001b[0m\u001b[0mTensor\u001b[0m\u001b[0;34m:\u001b[0m\u001b[0;34m\u001b[0m\u001b[0;34m\u001b[0m\u001b[0m\n",
            "\u001b[0;32m/usr/local/lib/python3.10/dist-packages/transformers/pytorch_utils.py\u001b[0m in \u001b[0;36mapply_chunking_to_forward\u001b[0;34m(forward_fn, chunk_size, chunk_dim, *input_tensors)\u001b[0m\n\u001b[1;32m    235\u001b[0m         \u001b[0;32mreturn\u001b[0m \u001b[0mtorch\u001b[0m\u001b[0;34m.\u001b[0m\u001b[0mcat\u001b[0m\u001b[0;34m(\u001b[0m\u001b[0moutput_chunks\u001b[0m\u001b[0;34m,\u001b[0m \u001b[0mdim\u001b[0m\u001b[0;34m=\u001b[0m\u001b[0mchunk_dim\u001b[0m\u001b[0;34m)\u001b[0m\u001b[0;34m\u001b[0m\u001b[0;34m\u001b[0m\u001b[0m\n\u001b[1;32m    236\u001b[0m \u001b[0;34m\u001b[0m\u001b[0m\n\u001b[0;32m--> 237\u001b[0;31m     \u001b[0;32mreturn\u001b[0m \u001b[0mforward_fn\u001b[0m\u001b[0;34m(\u001b[0m\u001b[0;34m*\u001b[0m\u001b[0minput_tensors\u001b[0m\u001b[0;34m)\u001b[0m\u001b[0;34m\u001b[0m\u001b[0;34m\u001b[0m\u001b[0m\n\u001b[0m\u001b[1;32m    238\u001b[0m \u001b[0;34m\u001b[0m\u001b[0m\n\u001b[1;32m    239\u001b[0m \u001b[0;34m\u001b[0m\u001b[0m\n",
            "\u001b[0;32m/usr/local/lib/python3.10/dist-packages/transformers/models/distilbert/modeling_distilbert.py\u001b[0m in \u001b[0;36mff_chunk\u001b[0;34m(self, input)\u001b[0m\n\u001b[1;32m    455\u001b[0m \u001b[0;34m\u001b[0m\u001b[0m\n\u001b[1;32m    456\u001b[0m     \u001b[0;32mdef\u001b[0m \u001b[0mff_chunk\u001b[0m\u001b[0;34m(\u001b[0m\u001b[0mself\u001b[0m\u001b[0;34m,\u001b[0m \u001b[0minput\u001b[0m\u001b[0;34m:\u001b[0m \u001b[0mtorch\u001b[0m\u001b[0;34m.\u001b[0m\u001b[0mTensor\u001b[0m\u001b[0;34m)\u001b[0m \u001b[0;34m->\u001b[0m \u001b[0mtorch\u001b[0m\u001b[0;34m.\u001b[0m\u001b[0mTensor\u001b[0m\u001b[0;34m:\u001b[0m\u001b[0;34m\u001b[0m\u001b[0;34m\u001b[0m\u001b[0m\n\u001b[0;32m--> 457\u001b[0;31m         \u001b[0mx\u001b[0m \u001b[0;34m=\u001b[0m \u001b[0mself\u001b[0m\u001b[0;34m.\u001b[0m\u001b[0mlin1\u001b[0m\u001b[0;34m(\u001b[0m\u001b[0minput\u001b[0m\u001b[0;34m)\u001b[0m\u001b[0;34m\u001b[0m\u001b[0;34m\u001b[0m\u001b[0m\n\u001b[0m\u001b[1;32m    458\u001b[0m         \u001b[0mx\u001b[0m \u001b[0;34m=\u001b[0m \u001b[0mself\u001b[0m\u001b[0;34m.\u001b[0m\u001b[0mactivation\u001b[0m\u001b[0;34m(\u001b[0m\u001b[0mx\u001b[0m\u001b[0;34m)\u001b[0m\u001b[0;34m\u001b[0m\u001b[0;34m\u001b[0m\u001b[0m\n\u001b[1;32m    459\u001b[0m         \u001b[0mx\u001b[0m \u001b[0;34m=\u001b[0m \u001b[0mself\u001b[0m\u001b[0;34m.\u001b[0m\u001b[0mlin2\u001b[0m\u001b[0;34m(\u001b[0m\u001b[0mx\u001b[0m\u001b[0;34m)\u001b[0m\u001b[0;34m\u001b[0m\u001b[0;34m\u001b[0m\u001b[0m\n",
            "\u001b[0;32m/usr/local/lib/python3.10/dist-packages/torch/nn/modules/module.py\u001b[0m in \u001b[0;36m_wrapped_call_impl\u001b[0;34m(self, *args, **kwargs)\u001b[0m\n\u001b[1;32m   1509\u001b[0m             \u001b[0;32mreturn\u001b[0m \u001b[0mself\u001b[0m\u001b[0;34m.\u001b[0m\u001b[0m_compiled_call_impl\u001b[0m\u001b[0;34m(\u001b[0m\u001b[0;34m*\u001b[0m\u001b[0margs\u001b[0m\u001b[0;34m,\u001b[0m \u001b[0;34m**\u001b[0m\u001b[0mkwargs\u001b[0m\u001b[0;34m)\u001b[0m  \u001b[0;31m# type: ignore[misc]\u001b[0m\u001b[0;34m\u001b[0m\u001b[0;34m\u001b[0m\u001b[0m\n\u001b[1;32m   1510\u001b[0m         \u001b[0;32melse\u001b[0m\u001b[0;34m:\u001b[0m\u001b[0;34m\u001b[0m\u001b[0;34m\u001b[0m\u001b[0m\n\u001b[0;32m-> 1511\u001b[0;31m             \u001b[0;32mreturn\u001b[0m \u001b[0mself\u001b[0m\u001b[0;34m.\u001b[0m\u001b[0m_call_impl\u001b[0m\u001b[0;34m(\u001b[0m\u001b[0;34m*\u001b[0m\u001b[0margs\u001b[0m\u001b[0;34m,\u001b[0m \u001b[0;34m**\u001b[0m\u001b[0mkwargs\u001b[0m\u001b[0;34m)\u001b[0m\u001b[0;34m\u001b[0m\u001b[0;34m\u001b[0m\u001b[0m\n\u001b[0m\u001b[1;32m   1512\u001b[0m \u001b[0;34m\u001b[0m\u001b[0m\n\u001b[1;32m   1513\u001b[0m     \u001b[0;32mdef\u001b[0m \u001b[0m_call_impl\u001b[0m\u001b[0;34m(\u001b[0m\u001b[0mself\u001b[0m\u001b[0;34m,\u001b[0m \u001b[0;34m*\u001b[0m\u001b[0margs\u001b[0m\u001b[0;34m,\u001b[0m \u001b[0;34m**\u001b[0m\u001b[0mkwargs\u001b[0m\u001b[0;34m)\u001b[0m\u001b[0;34m:\u001b[0m\u001b[0;34m\u001b[0m\u001b[0;34m\u001b[0m\u001b[0m\n",
            "\u001b[0;32m/usr/local/lib/python3.10/dist-packages/torch/nn/modules/module.py\u001b[0m in \u001b[0;36m_call_impl\u001b[0;34m(self, *args, **kwargs)\u001b[0m\n\u001b[1;32m   1518\u001b[0m                 \u001b[0;32mor\u001b[0m \u001b[0m_global_backward_pre_hooks\u001b[0m \u001b[0;32mor\u001b[0m \u001b[0m_global_backward_hooks\u001b[0m\u001b[0;34m\u001b[0m\u001b[0;34m\u001b[0m\u001b[0m\n\u001b[1;32m   1519\u001b[0m                 or _global_forward_hooks or _global_forward_pre_hooks):\n\u001b[0;32m-> 1520\u001b[0;31m             \u001b[0;32mreturn\u001b[0m \u001b[0mforward_call\u001b[0m\u001b[0;34m(\u001b[0m\u001b[0;34m*\u001b[0m\u001b[0margs\u001b[0m\u001b[0;34m,\u001b[0m \u001b[0;34m**\u001b[0m\u001b[0mkwargs\u001b[0m\u001b[0;34m)\u001b[0m\u001b[0;34m\u001b[0m\u001b[0;34m\u001b[0m\u001b[0m\n\u001b[0m\u001b[1;32m   1521\u001b[0m \u001b[0;34m\u001b[0m\u001b[0m\n\u001b[1;32m   1522\u001b[0m         \u001b[0;32mtry\u001b[0m\u001b[0;34m:\u001b[0m\u001b[0;34m\u001b[0m\u001b[0;34m\u001b[0m\u001b[0m\n",
            "\u001b[0;32m/usr/local/lib/python3.10/dist-packages/torch/nn/modules/linear.py\u001b[0m in \u001b[0;36mforward\u001b[0;34m(self, input)\u001b[0m\n\u001b[1;32m    114\u001b[0m \u001b[0;34m\u001b[0m\u001b[0m\n\u001b[1;32m    115\u001b[0m     \u001b[0;32mdef\u001b[0m \u001b[0mforward\u001b[0m\u001b[0;34m(\u001b[0m\u001b[0mself\u001b[0m\u001b[0;34m,\u001b[0m \u001b[0minput\u001b[0m\u001b[0;34m:\u001b[0m \u001b[0mTensor\u001b[0m\u001b[0;34m)\u001b[0m \u001b[0;34m->\u001b[0m \u001b[0mTensor\u001b[0m\u001b[0;34m:\u001b[0m\u001b[0;34m\u001b[0m\u001b[0;34m\u001b[0m\u001b[0m\n\u001b[0;32m--> 116\u001b[0;31m         \u001b[0;32mreturn\u001b[0m \u001b[0mF\u001b[0m\u001b[0;34m.\u001b[0m\u001b[0mlinear\u001b[0m\u001b[0;34m(\u001b[0m\u001b[0minput\u001b[0m\u001b[0;34m,\u001b[0m \u001b[0mself\u001b[0m\u001b[0;34m.\u001b[0m\u001b[0mweight\u001b[0m\u001b[0;34m,\u001b[0m \u001b[0mself\u001b[0m\u001b[0;34m.\u001b[0m\u001b[0mbias\u001b[0m\u001b[0;34m)\u001b[0m\u001b[0;34m\u001b[0m\u001b[0;34m\u001b[0m\u001b[0m\n\u001b[0m\u001b[1;32m    117\u001b[0m \u001b[0;34m\u001b[0m\u001b[0m\n\u001b[1;32m    118\u001b[0m     \u001b[0;32mdef\u001b[0m \u001b[0mextra_repr\u001b[0m\u001b[0;34m(\u001b[0m\u001b[0mself\u001b[0m\u001b[0;34m)\u001b[0m \u001b[0;34m->\u001b[0m \u001b[0mstr\u001b[0m\u001b[0;34m:\u001b[0m\u001b[0;34m\u001b[0m\u001b[0;34m\u001b[0m\u001b[0m\n",
            "\u001b[0;31mKeyboardInterrupt\u001b[0m: "
          ]
        }
      ]
    },
    {
      "cell_type": "code",
      "source": [],
      "metadata": {
        "id": "ctdvBCDdUZ3_"
      },
      "execution_count": null,
      "outputs": []
    },
    {
      "cell_type": "code",
      "source": [
        "flick_data = list(flickr_dataset)\n",
        "\n"
      ],
      "metadata": {
        "id": "TLWsy6zjY-oB",
        "colab": {
          "base_uri": "https://localhost:8080/",
          "height": 391
        },
        "outputId": "ee29057b-8ebe-4179-f3b7-720b76d5a49f"
      },
      "execution_count": 32,
      "outputs": [
        {
          "output_type": "error",
          "ename": "KeyboardInterrupt",
          "evalue": "",
          "traceback": [
            "\u001b[0;31m---------------------------------------------------------------------------\u001b[0m",
            "\u001b[0;31mKeyboardInterrupt\u001b[0m                         Traceback (most recent call last)",
            "    \u001b[0;31m[... skipping hidden 1 frame]\u001b[0m\n",
            "\u001b[0;32m<ipython-input-32-cda23d1b5b68>\u001b[0m in \u001b[0;36m<cell line: 1>\u001b[0;34m()\u001b[0m\n\u001b[0;32m----> 1\u001b[0;31m \u001b[0mflick_data\u001b[0m \u001b[0;34m=\u001b[0m \u001b[0mlist\u001b[0m\u001b[0;34m(\u001b[0m\u001b[0mflickr_dataset\u001b[0m\u001b[0;34m)\u001b[0m\u001b[0;34m\u001b[0m\u001b[0;34m\u001b[0m\u001b[0m\n\u001b[0m\u001b[1;32m      2\u001b[0m \u001b[0;34m\u001b[0m\u001b[0m\n",
            "\u001b[0;32m<ipython-input-8-cf31e843dacb>\u001b[0m in \u001b[0;36m__getitem__\u001b[0;34m(self, idx)\u001b[0m\n\u001b[1;32m     32\u001b[0m     \u001b[0mtitle\u001b[0m\u001b[0;34m,\u001b[0m \u001b[0mpath\u001b[0m \u001b[0;34m=\u001b[0m \u001b[0mself\u001b[0m\u001b[0;34m.\u001b[0m\u001b[0mtitles\u001b[0m\u001b[0;34m[\u001b[0m\u001b[0midx\u001b[0m\u001b[0;34m]\u001b[0m\u001b[0;34m,\u001b[0m \u001b[0mself\u001b[0m\u001b[0;34m.\u001b[0m\u001b[0mpaths\u001b[0m\u001b[0;34m[\u001b[0m\u001b[0midx\u001b[0m\u001b[0;34m]\u001b[0m\u001b[0;34m\u001b[0m\u001b[0;34m\u001b[0m\u001b[0m\n\u001b[0;32m---> 33\u001b[0;31m     \u001b[0mimg\u001b[0m \u001b[0;34m=\u001b[0m \u001b[0mself\u001b[0m\u001b[0;34m.\u001b[0m\u001b[0mtransform\u001b[0m\u001b[0;34m(\u001b[0m\u001b[0mread_image\u001b[0m\u001b[0;34m(\u001b[0m\u001b[0mpath\u001b[0m\u001b[0;34m)\u001b[0m\u001b[0;34m)\u001b[0m\u001b[0;34m\u001b[0m\u001b[0;34m\u001b[0m\u001b[0m\n\u001b[0m\u001b[1;32m     34\u001b[0m \u001b[0;34m\u001b[0m\u001b[0m\n",
            "\u001b[0;32m/usr/local/lib/python3.10/dist-packages/torchvision/io/image.py\u001b[0m in \u001b[0;36mread_image\u001b[0;34m(path, mode)\u001b[0m\n\u001b[1;32m    258\u001b[0m     \u001b[0mdata\u001b[0m \u001b[0;34m=\u001b[0m \u001b[0mread_file\u001b[0m\u001b[0;34m(\u001b[0m\u001b[0mpath\u001b[0m\u001b[0;34m)\u001b[0m\u001b[0;34m\u001b[0m\u001b[0;34m\u001b[0m\u001b[0m\n\u001b[0;32m--> 259\u001b[0;31m     \u001b[0;32mreturn\u001b[0m \u001b[0mdecode_image\u001b[0m\u001b[0;34m(\u001b[0m\u001b[0mdata\u001b[0m\u001b[0;34m,\u001b[0m \u001b[0mmode\u001b[0m\u001b[0;34m)\u001b[0m\u001b[0;34m\u001b[0m\u001b[0;34m\u001b[0m\u001b[0m\n\u001b[0m\u001b[1;32m    260\u001b[0m \u001b[0;34m\u001b[0m\u001b[0m\n",
            "\u001b[0;32m/usr/local/lib/python3.10/dist-packages/torchvision/io/image.py\u001b[0m in \u001b[0;36mdecode_image\u001b[0;34m(input, mode)\u001b[0m\n\u001b[1;32m    235\u001b[0m         \u001b[0m_log_api_usage_once\u001b[0m\u001b[0;34m(\u001b[0m\u001b[0mdecode_image\u001b[0m\u001b[0;34m)\u001b[0m\u001b[0;34m\u001b[0m\u001b[0;34m\u001b[0m\u001b[0m\n\u001b[0;32m--> 236\u001b[0;31m     \u001b[0moutput\u001b[0m \u001b[0;34m=\u001b[0m \u001b[0mtorch\u001b[0m\u001b[0;34m.\u001b[0m\u001b[0mops\u001b[0m\u001b[0;34m.\u001b[0m\u001b[0mimage\u001b[0m\u001b[0;34m.\u001b[0m\u001b[0mdecode_image\u001b[0m\u001b[0;34m(\u001b[0m\u001b[0minput\u001b[0m\u001b[0;34m,\u001b[0m \u001b[0mmode\u001b[0m\u001b[0;34m.\u001b[0m\u001b[0mvalue\u001b[0m\u001b[0;34m)\u001b[0m\u001b[0;34m\u001b[0m\u001b[0;34m\u001b[0m\u001b[0m\n\u001b[0m\u001b[1;32m    237\u001b[0m     \u001b[0;32mreturn\u001b[0m \u001b[0moutput\u001b[0m\u001b[0;34m\u001b[0m\u001b[0;34m\u001b[0m\u001b[0m\n",
            "\u001b[0;32m/usr/local/lib/python3.10/dist-packages/torch/_ops.py\u001b[0m in \u001b[0;36m__call__\u001b[0;34m(self, *args, **kwargs)\u001b[0m\n\u001b[1;32m    754\u001b[0m         \u001b[0;31m# OpOverloadPacket to access it here.\u001b[0m\u001b[0;34m\u001b[0m\u001b[0;34m\u001b[0m\u001b[0m\n\u001b[0;32m--> 755\u001b[0;31m         \u001b[0;32mreturn\u001b[0m \u001b[0mself\u001b[0m\u001b[0;34m.\u001b[0m\u001b[0m_op\u001b[0m\u001b[0;34m(\u001b[0m\u001b[0;34m*\u001b[0m\u001b[0margs\u001b[0m\u001b[0;34m,\u001b[0m \u001b[0;34m**\u001b[0m\u001b[0;34m(\u001b[0m\u001b[0mkwargs\u001b[0m \u001b[0;32mor\u001b[0m \u001b[0;34m{\u001b[0m\u001b[0;34m}\u001b[0m\u001b[0;34m)\u001b[0m\u001b[0;34m)\u001b[0m\u001b[0;34m\u001b[0m\u001b[0;34m\u001b[0m\u001b[0m\n\u001b[0m\u001b[1;32m    756\u001b[0m \u001b[0;34m\u001b[0m\u001b[0m\n",
            "\u001b[0;31mKeyboardInterrupt\u001b[0m: ",
            "\nDuring handling of the above exception, another exception occurred:\n",
            "\u001b[0;31mKeyboardInterrupt\u001b[0m                         Traceback (most recent call last)",
            "\u001b[0;31mKeyboardInterrupt\u001b[0m: "
          ]
        }
      ]
    },
    {
      "cell_type": "code",
      "source": [
        "data[0].keys()"
      ],
      "metadata": {
        "colab": {
          "base_uri": "https://localhost:8080/"
        },
        "id": "URRZQLQbODat",
        "outputId": "21ffaef5-61ed-4f18-c6ad-7d009665239d"
      },
      "execution_count": 35,
      "outputs": [
        {
          "output_type": "execute_result",
          "data": {
            "text/plain": [
              "dict_keys(['input_ids', 'attention_mask', 'image'])"
            ]
          },
          "metadata": {},
          "execution_count": 35
        }
      ]
    },
    {
      "cell_type": "code",
      "source": [],
      "metadata": {
        "id": "_uqDfQIlOppG"
      },
      "execution_count": 38,
      "outputs": []
    },
    {
      "cell_type": "code",
      "source": [
        "len(text), len(images)"
      ],
      "metadata": {
        "colab": {
          "base_uri": "https://localhost:8080/"
        },
        "id": "3KSu0VLbOyK-",
        "outputId": "6d44feb4-6b55-4853-dd83-f5c8464556a3"
      },
      "execution_count": 39,
      "outputs": [
        {
          "output_type": "execute_result",
          "data": {
            "text/plain": [
              "(480, 480)"
            ]
          },
          "metadata": {},
          "execution_count": 39
        }
      ]
    },
    {
      "cell_type": "code",
      "source": [
        "data = []\n",
        "x = 0\n",
        "for i in flickr_dataloader:\n",
        "  data.append(i)\n",
        "  x+=1\n",
        "  print(x)\n",
        "  if (x>1000):\n",
        "    break\n",
        "\n",
        "  # break\n",
        "\n",
        "# data = flickr_dataloader"
      ],
      "metadata": {
        "colab": {
          "base_uri": "https://localhost:8080/",
          "height": 1000
        },
        "id": "J2Z2tUywN_sL",
        "outputId": "bf4bce40-2454-4101-911f-d17c9ba17731"
      },
      "execution_count": 37,
      "outputs": [
        {
          "output_type": "stream",
          "name": "stdout",
          "text": [
            "1\n",
            "2\n",
            "3\n",
            "4\n",
            "5\n",
            "6\n",
            "7\n",
            "8\n",
            "9\n",
            "10\n",
            "11\n",
            "12\n",
            "13\n",
            "14\n",
            "15\n",
            "16\n",
            "17\n",
            "18\n",
            "19\n",
            "20\n",
            "21\n",
            "22\n",
            "23\n",
            "24\n",
            "25\n",
            "26\n",
            "27\n",
            "28\n",
            "29\n",
            "30\n",
            "31\n",
            "32\n",
            "33\n",
            "34\n",
            "35\n",
            "36\n",
            "37\n",
            "38\n",
            "39\n",
            "40\n",
            "41\n",
            "42\n",
            "43\n",
            "44\n",
            "45\n",
            "46\n",
            "47\n",
            "48\n",
            "49\n",
            "50\n",
            "51\n",
            "52\n",
            "53\n",
            "54\n",
            "55\n",
            "56\n",
            "57\n",
            "58\n",
            "59\n",
            "60\n",
            "61\n",
            "62\n",
            "63\n",
            "64\n",
            "65\n",
            "66\n",
            "67\n",
            "68\n",
            "69\n",
            "70\n",
            "71\n",
            "72\n",
            "73\n",
            "74\n",
            "75\n",
            "76\n",
            "77\n",
            "78\n",
            "79\n",
            "80\n",
            "81\n",
            "82\n",
            "83\n",
            "84\n",
            "85\n",
            "86\n",
            "87\n",
            "88\n",
            "89\n",
            "90\n",
            "91\n",
            "92\n",
            "93\n",
            "94\n",
            "95\n",
            "96\n",
            "97\n",
            "98\n",
            "99\n",
            "100\n",
            "101\n",
            "102\n",
            "103\n",
            "104\n",
            "105\n",
            "106\n",
            "107\n",
            "108\n",
            "109\n",
            "110\n",
            "111\n",
            "112\n",
            "113\n",
            "114\n",
            "115\n",
            "116\n",
            "117\n",
            "118\n",
            "119\n",
            "120\n",
            "121\n",
            "122\n",
            "123\n",
            "124\n",
            "125\n",
            "126\n",
            "127\n",
            "128\n",
            "129\n",
            "130\n",
            "131\n",
            "132\n",
            "133\n",
            "134\n",
            "135\n",
            "136\n",
            "137\n",
            "138\n",
            "139\n",
            "140\n",
            "141\n",
            "142\n",
            "143\n",
            "144\n",
            "145\n",
            "146\n",
            "147\n",
            "148\n",
            "149\n",
            "150\n",
            "151\n",
            "152\n",
            "153\n",
            "154\n",
            "155\n",
            "156\n",
            "157\n",
            "158\n",
            "159\n",
            "160\n",
            "161\n",
            "162\n",
            "163\n",
            "164\n",
            "165\n",
            "166\n",
            "167\n",
            "168\n",
            "169\n",
            "170\n",
            "171\n",
            "172\n",
            "173\n",
            "174\n",
            "175\n",
            "176\n",
            "177\n",
            "178\n",
            "179\n",
            "180\n",
            "181\n",
            "182\n",
            "183\n",
            "184\n",
            "185\n",
            "186\n",
            "187\n",
            "188\n",
            "189\n",
            "190\n",
            "191\n",
            "192\n",
            "193\n",
            "194\n",
            "195\n",
            "196\n",
            "197\n",
            "198\n",
            "199\n",
            "200\n",
            "201\n",
            "202\n",
            "203\n",
            "204\n",
            "205\n",
            "206\n",
            "207\n",
            "208\n",
            "209\n",
            "210\n",
            "211\n",
            "212\n",
            "213\n",
            "214\n",
            "215\n",
            "216\n",
            "217\n",
            "218\n",
            "219\n",
            "220\n",
            "221\n",
            "222\n",
            "223\n",
            "224\n",
            "225\n",
            "226\n",
            "227\n",
            "228\n",
            "229\n",
            "230\n",
            "231\n",
            "232\n",
            "233\n",
            "234\n",
            "235\n",
            "236\n",
            "237\n",
            "238\n",
            "239\n",
            "240\n",
            "241\n",
            "242\n",
            "243\n",
            "244\n",
            "245\n",
            "246\n",
            "247\n",
            "248\n",
            "249\n",
            "250\n",
            "251\n",
            "252\n",
            "253\n",
            "254\n",
            "255\n",
            "256\n",
            "257\n",
            "258\n",
            "259\n",
            "260\n",
            "261\n",
            "262\n",
            "263\n",
            "264\n",
            "265\n",
            "266\n",
            "267\n",
            "268\n",
            "269\n",
            "270\n",
            "271\n",
            "272\n",
            "273\n",
            "274\n",
            "275\n",
            "276\n",
            "277\n",
            "278\n",
            "279\n",
            "280\n",
            "281\n",
            "282\n",
            "283\n",
            "284\n",
            "285\n",
            "286\n",
            "287\n",
            "288\n",
            "289\n",
            "290\n",
            "291\n",
            "292\n",
            "293\n",
            "294\n",
            "295\n",
            "296\n",
            "297\n",
            "298\n",
            "299\n",
            "300\n",
            "301\n",
            "302\n",
            "303\n",
            "304\n",
            "305\n",
            "306\n",
            "307\n",
            "308\n",
            "309\n",
            "310\n",
            "311\n",
            "312\n",
            "313\n",
            "314\n",
            "315\n",
            "316\n",
            "317\n",
            "318\n",
            "319\n",
            "320\n",
            "321\n",
            "322\n",
            "323\n",
            "324\n",
            "325\n",
            "326\n",
            "327\n",
            "328\n",
            "329\n",
            "330\n",
            "331\n",
            "332\n",
            "333\n",
            "334\n",
            "335\n",
            "336\n",
            "337\n",
            "338\n",
            "339\n",
            "340\n",
            "341\n",
            "342\n",
            "343\n",
            "344\n",
            "345\n",
            "346\n",
            "347\n",
            "348\n",
            "349\n",
            "350\n",
            "351\n",
            "352\n",
            "353\n",
            "354\n",
            "355\n",
            "356\n",
            "357\n",
            "358\n",
            "359\n",
            "360\n",
            "361\n",
            "362\n",
            "363\n",
            "364\n",
            "365\n",
            "366\n",
            "367\n",
            "368\n",
            "369\n",
            "370\n",
            "371\n",
            "372\n",
            "373\n",
            "374\n",
            "375\n",
            "376\n",
            "377\n",
            "378\n",
            "379\n",
            "380\n",
            "381\n",
            "382\n",
            "383\n",
            "384\n",
            "385\n",
            "386\n",
            "387\n",
            "388\n",
            "389\n",
            "390\n",
            "391\n",
            "392\n",
            "393\n",
            "394\n",
            "395\n",
            "396\n",
            "397\n",
            "398\n",
            "399\n",
            "400\n",
            "401\n",
            "402\n",
            "403\n",
            "404\n",
            "405\n",
            "406\n",
            "407\n",
            "408\n",
            "409\n",
            "410\n",
            "411\n",
            "412\n",
            "413\n",
            "414\n",
            "415\n",
            "416\n",
            "417\n",
            "418\n",
            "419\n",
            "420\n",
            "421\n",
            "422\n",
            "423\n",
            "424\n",
            "425\n",
            "426\n",
            "427\n",
            "428\n",
            "429\n",
            "430\n",
            "431\n",
            "432\n",
            "433\n",
            "434\n",
            "435\n",
            "436\n",
            "437\n",
            "438\n",
            "439\n",
            "440\n",
            "441\n",
            "442\n",
            "443\n",
            "444\n",
            "445\n",
            "446\n",
            "447\n",
            "448\n",
            "449\n",
            "450\n",
            "451\n",
            "452\n",
            "453\n",
            "454\n",
            "455\n",
            "456\n",
            "457\n",
            "458\n",
            "459\n",
            "460\n",
            "461\n",
            "462\n",
            "463\n",
            "464\n",
            "465\n",
            "466\n",
            "467\n",
            "468\n",
            "469\n",
            "470\n",
            "471\n",
            "472\n",
            "473\n",
            "474\n",
            "475\n",
            "476\n",
            "477\n",
            "478\n",
            "479\n",
            "480\n"
          ]
        },
        {
          "output_type": "error",
          "ename": "KeyboardInterrupt",
          "evalue": "",
          "traceback": [
            "\u001b[0;31m---------------------------------------------------------------------------\u001b[0m",
            "\u001b[0;31mKeyboardInterrupt\u001b[0m                         Traceback (most recent call last)",
            "\u001b[0;32m<ipython-input-37-3599c4324847>\u001b[0m in \u001b[0;36m<cell line: 3>\u001b[0;34m()\u001b[0m\n\u001b[1;32m      1\u001b[0m \u001b[0mdata\u001b[0m \u001b[0;34m=\u001b[0m \u001b[0;34m[\u001b[0m\u001b[0;34m]\u001b[0m\u001b[0;34m\u001b[0m\u001b[0;34m\u001b[0m\u001b[0m\n\u001b[1;32m      2\u001b[0m \u001b[0mx\u001b[0m \u001b[0;34m=\u001b[0m \u001b[0;36m0\u001b[0m\u001b[0;34m\u001b[0m\u001b[0;34m\u001b[0m\u001b[0m\n\u001b[0;32m----> 3\u001b[0;31m \u001b[0;32mfor\u001b[0m \u001b[0mi\u001b[0m \u001b[0;32min\u001b[0m \u001b[0mflickr_dataloader\u001b[0m\u001b[0;34m:\u001b[0m\u001b[0;34m\u001b[0m\u001b[0;34m\u001b[0m\u001b[0m\n\u001b[0m\u001b[1;32m      4\u001b[0m   \u001b[0mdata\u001b[0m\u001b[0;34m.\u001b[0m\u001b[0mappend\u001b[0m\u001b[0;34m(\u001b[0m\u001b[0mi\u001b[0m\u001b[0;34m)\u001b[0m\u001b[0;34m\u001b[0m\u001b[0;34m\u001b[0m\u001b[0m\n\u001b[1;32m      5\u001b[0m   \u001b[0mx\u001b[0m\u001b[0;34m+=\u001b[0m\u001b[0;36m1\u001b[0m\u001b[0;34m\u001b[0m\u001b[0;34m\u001b[0m\u001b[0m\n",
            "\u001b[0;32m/usr/local/lib/python3.10/dist-packages/torch/utils/data/dataloader.py\u001b[0m in \u001b[0;36m__next__\u001b[0;34m(self)\u001b[0m\n\u001b[1;32m    629\u001b[0m                 \u001b[0;31m# TODO(https://github.com/pytorch/pytorch/issues/76750)\u001b[0m\u001b[0;34m\u001b[0m\u001b[0;34m\u001b[0m\u001b[0m\n\u001b[1;32m    630\u001b[0m                 \u001b[0mself\u001b[0m\u001b[0;34m.\u001b[0m\u001b[0m_reset\u001b[0m\u001b[0;34m(\u001b[0m\u001b[0;34m)\u001b[0m  \u001b[0;31m# type: ignore[call-arg]\u001b[0m\u001b[0;34m\u001b[0m\u001b[0;34m\u001b[0m\u001b[0m\n\u001b[0;32m--> 631\u001b[0;31m             \u001b[0mdata\u001b[0m \u001b[0;34m=\u001b[0m \u001b[0mself\u001b[0m\u001b[0;34m.\u001b[0m\u001b[0m_next_data\u001b[0m\u001b[0;34m(\u001b[0m\u001b[0;34m)\u001b[0m\u001b[0;34m\u001b[0m\u001b[0;34m\u001b[0m\u001b[0m\n\u001b[0m\u001b[1;32m    632\u001b[0m             \u001b[0mself\u001b[0m\u001b[0;34m.\u001b[0m\u001b[0m_num_yielded\u001b[0m \u001b[0;34m+=\u001b[0m \u001b[0;36m1\u001b[0m\u001b[0;34m\u001b[0m\u001b[0;34m\u001b[0m\u001b[0m\n\u001b[1;32m    633\u001b[0m             \u001b[0;32mif\u001b[0m \u001b[0mself\u001b[0m\u001b[0;34m.\u001b[0m\u001b[0m_dataset_kind\u001b[0m \u001b[0;34m==\u001b[0m \u001b[0m_DatasetKind\u001b[0m\u001b[0;34m.\u001b[0m\u001b[0mIterable\u001b[0m \u001b[0;32mand\u001b[0m\u001b[0;31m \u001b[0m\u001b[0;31m\\\u001b[0m\u001b[0;34m\u001b[0m\u001b[0;34m\u001b[0m\u001b[0m\n",
            "\u001b[0;32m/usr/local/lib/python3.10/dist-packages/torch/utils/data/dataloader.py\u001b[0m in \u001b[0;36m_next_data\u001b[0;34m(self)\u001b[0m\n\u001b[1;32m    673\u001b[0m     \u001b[0;32mdef\u001b[0m \u001b[0m_next_data\u001b[0m\u001b[0;34m(\u001b[0m\u001b[0mself\u001b[0m\u001b[0;34m)\u001b[0m\u001b[0;34m:\u001b[0m\u001b[0;34m\u001b[0m\u001b[0;34m\u001b[0m\u001b[0m\n\u001b[1;32m    674\u001b[0m         \u001b[0mindex\u001b[0m \u001b[0;34m=\u001b[0m \u001b[0mself\u001b[0m\u001b[0;34m.\u001b[0m\u001b[0m_next_index\u001b[0m\u001b[0;34m(\u001b[0m\u001b[0;34m)\u001b[0m  \u001b[0;31m# may raise StopIteration\u001b[0m\u001b[0;34m\u001b[0m\u001b[0;34m\u001b[0m\u001b[0m\n\u001b[0;32m--> 675\u001b[0;31m         \u001b[0mdata\u001b[0m \u001b[0;34m=\u001b[0m \u001b[0mself\u001b[0m\u001b[0;34m.\u001b[0m\u001b[0m_dataset_fetcher\u001b[0m\u001b[0;34m.\u001b[0m\u001b[0mfetch\u001b[0m\u001b[0;34m(\u001b[0m\u001b[0mindex\u001b[0m\u001b[0;34m)\u001b[0m  \u001b[0;31m# may raise StopIteration\u001b[0m\u001b[0;34m\u001b[0m\u001b[0;34m\u001b[0m\u001b[0m\n\u001b[0m\u001b[1;32m    676\u001b[0m         \u001b[0;32mif\u001b[0m \u001b[0mself\u001b[0m\u001b[0;34m.\u001b[0m\u001b[0m_pin_memory\u001b[0m\u001b[0;34m:\u001b[0m\u001b[0;34m\u001b[0m\u001b[0;34m\u001b[0m\u001b[0m\n\u001b[1;32m    677\u001b[0m             \u001b[0mdata\u001b[0m \u001b[0;34m=\u001b[0m \u001b[0m_utils\u001b[0m\u001b[0;34m.\u001b[0m\u001b[0mpin_memory\u001b[0m\u001b[0;34m.\u001b[0m\u001b[0mpin_memory\u001b[0m\u001b[0;34m(\u001b[0m\u001b[0mdata\u001b[0m\u001b[0;34m,\u001b[0m \u001b[0mself\u001b[0m\u001b[0;34m.\u001b[0m\u001b[0m_pin_memory_device\u001b[0m\u001b[0;34m)\u001b[0m\u001b[0;34m\u001b[0m\u001b[0;34m\u001b[0m\u001b[0m\n",
            "\u001b[0;32m/usr/local/lib/python3.10/dist-packages/torch/utils/data/_utils/fetch.py\u001b[0m in \u001b[0;36mfetch\u001b[0;34m(self, possibly_batched_index)\u001b[0m\n\u001b[1;32m     49\u001b[0m                 \u001b[0mdata\u001b[0m \u001b[0;34m=\u001b[0m \u001b[0mself\u001b[0m\u001b[0;34m.\u001b[0m\u001b[0mdataset\u001b[0m\u001b[0;34m.\u001b[0m\u001b[0m__getitems__\u001b[0m\u001b[0;34m(\u001b[0m\u001b[0mpossibly_batched_index\u001b[0m\u001b[0;34m)\u001b[0m\u001b[0;34m\u001b[0m\u001b[0;34m\u001b[0m\u001b[0m\n\u001b[1;32m     50\u001b[0m             \u001b[0;32melse\u001b[0m\u001b[0;34m:\u001b[0m\u001b[0;34m\u001b[0m\u001b[0;34m\u001b[0m\u001b[0m\n\u001b[0;32m---> 51\u001b[0;31m                 \u001b[0mdata\u001b[0m \u001b[0;34m=\u001b[0m \u001b[0;34m[\u001b[0m\u001b[0mself\u001b[0m\u001b[0;34m.\u001b[0m\u001b[0mdataset\u001b[0m\u001b[0;34m[\u001b[0m\u001b[0midx\u001b[0m\u001b[0;34m]\u001b[0m \u001b[0;32mfor\u001b[0m \u001b[0midx\u001b[0m \u001b[0;32min\u001b[0m \u001b[0mpossibly_batched_index\u001b[0m\u001b[0;34m]\u001b[0m\u001b[0;34m\u001b[0m\u001b[0;34m\u001b[0m\u001b[0m\n\u001b[0m\u001b[1;32m     52\u001b[0m         \u001b[0;32melse\u001b[0m\u001b[0;34m:\u001b[0m\u001b[0;34m\u001b[0m\u001b[0;34m\u001b[0m\u001b[0m\n\u001b[1;32m     53\u001b[0m             \u001b[0mdata\u001b[0m \u001b[0;34m=\u001b[0m \u001b[0mself\u001b[0m\u001b[0;34m.\u001b[0m\u001b[0mdataset\u001b[0m\u001b[0;34m[\u001b[0m\u001b[0mpossibly_batched_index\u001b[0m\u001b[0;34m]\u001b[0m\u001b[0;34m\u001b[0m\u001b[0;34m\u001b[0m\u001b[0m\n",
            "\u001b[0;32m/usr/local/lib/python3.10/dist-packages/torch/utils/data/_utils/fetch.py\u001b[0m in \u001b[0;36m<listcomp>\u001b[0;34m(.0)\u001b[0m\n\u001b[1;32m     49\u001b[0m                 \u001b[0mdata\u001b[0m \u001b[0;34m=\u001b[0m \u001b[0mself\u001b[0m\u001b[0;34m.\u001b[0m\u001b[0mdataset\u001b[0m\u001b[0;34m.\u001b[0m\u001b[0m__getitems__\u001b[0m\u001b[0;34m(\u001b[0m\u001b[0mpossibly_batched_index\u001b[0m\u001b[0;34m)\u001b[0m\u001b[0;34m\u001b[0m\u001b[0;34m\u001b[0m\u001b[0m\n\u001b[1;32m     50\u001b[0m             \u001b[0;32melse\u001b[0m\u001b[0;34m:\u001b[0m\u001b[0;34m\u001b[0m\u001b[0;34m\u001b[0m\u001b[0m\n\u001b[0;32m---> 51\u001b[0;31m                 \u001b[0mdata\u001b[0m \u001b[0;34m=\u001b[0m \u001b[0;34m[\u001b[0m\u001b[0mself\u001b[0m\u001b[0;34m.\u001b[0m\u001b[0mdataset\u001b[0m\u001b[0;34m[\u001b[0m\u001b[0midx\u001b[0m\u001b[0;34m]\u001b[0m \u001b[0;32mfor\u001b[0m \u001b[0midx\u001b[0m \u001b[0;32min\u001b[0m \u001b[0mpossibly_batched_index\u001b[0m\u001b[0;34m]\u001b[0m\u001b[0;34m\u001b[0m\u001b[0;34m\u001b[0m\u001b[0m\n\u001b[0m\u001b[1;32m     52\u001b[0m         \u001b[0;32melse\u001b[0m\u001b[0;34m:\u001b[0m\u001b[0;34m\u001b[0m\u001b[0;34m\u001b[0m\u001b[0m\n\u001b[1;32m     53\u001b[0m             \u001b[0mdata\u001b[0m \u001b[0;34m=\u001b[0m \u001b[0mself\u001b[0m\u001b[0;34m.\u001b[0m\u001b[0mdataset\u001b[0m\u001b[0;34m[\u001b[0m\u001b[0mpossibly_batched_index\u001b[0m\u001b[0;34m]\u001b[0m\u001b[0;34m\u001b[0m\u001b[0;34m\u001b[0m\u001b[0m\n",
            "\u001b[0;32m<ipython-input-8-cf31e843dacb>\u001b[0m in \u001b[0;36m__getitem__\u001b[0;34m(self, idx)\u001b[0m\n\u001b[1;32m     31\u001b[0m   \u001b[0;32mdef\u001b[0m \u001b[0m__getitem__\u001b[0m\u001b[0;34m(\u001b[0m\u001b[0mself\u001b[0m\u001b[0;34m,\u001b[0m \u001b[0midx\u001b[0m\u001b[0;34m)\u001b[0m\u001b[0;34m:\u001b[0m\u001b[0;34m\u001b[0m\u001b[0;34m\u001b[0m\u001b[0m\n\u001b[1;32m     32\u001b[0m     \u001b[0mtitle\u001b[0m\u001b[0;34m,\u001b[0m \u001b[0mpath\u001b[0m \u001b[0;34m=\u001b[0m \u001b[0mself\u001b[0m\u001b[0;34m.\u001b[0m\u001b[0mtitles\u001b[0m\u001b[0;34m[\u001b[0m\u001b[0midx\u001b[0m\u001b[0;34m]\u001b[0m\u001b[0;34m,\u001b[0m \u001b[0mself\u001b[0m\u001b[0;34m.\u001b[0m\u001b[0mpaths\u001b[0m\u001b[0;34m[\u001b[0m\u001b[0midx\u001b[0m\u001b[0;34m]\u001b[0m\u001b[0;34m\u001b[0m\u001b[0;34m\u001b[0m\u001b[0m\n\u001b[0;32m---> 33\u001b[0;31m     \u001b[0mimg\u001b[0m \u001b[0;34m=\u001b[0m \u001b[0mself\u001b[0m\u001b[0;34m.\u001b[0m\u001b[0mtransform\u001b[0m\u001b[0;34m(\u001b[0m\u001b[0mread_image\u001b[0m\u001b[0;34m(\u001b[0m\u001b[0mpath\u001b[0m\u001b[0;34m)\u001b[0m\u001b[0;34m)\u001b[0m\u001b[0;34m\u001b[0m\u001b[0;34m\u001b[0m\u001b[0m\n\u001b[0m\u001b[1;32m     34\u001b[0m \u001b[0;34m\u001b[0m\u001b[0m\n\u001b[1;32m     35\u001b[0m     item = {\n",
            "\u001b[0;32m/usr/local/lib/python3.10/dist-packages/torchvision/io/image.py\u001b[0m in \u001b[0;36mread_image\u001b[0;34m(path, mode)\u001b[0m\n\u001b[1;32m    256\u001b[0m     \u001b[0;32mif\u001b[0m \u001b[0;32mnot\u001b[0m \u001b[0mtorch\u001b[0m\u001b[0;34m.\u001b[0m\u001b[0mjit\u001b[0m\u001b[0;34m.\u001b[0m\u001b[0mis_scripting\u001b[0m\u001b[0;34m(\u001b[0m\u001b[0;34m)\u001b[0m \u001b[0;32mand\u001b[0m \u001b[0;32mnot\u001b[0m \u001b[0mtorch\u001b[0m\u001b[0;34m.\u001b[0m\u001b[0mjit\u001b[0m\u001b[0;34m.\u001b[0m\u001b[0mis_tracing\u001b[0m\u001b[0;34m(\u001b[0m\u001b[0;34m)\u001b[0m\u001b[0;34m:\u001b[0m\u001b[0;34m\u001b[0m\u001b[0;34m\u001b[0m\u001b[0m\n\u001b[1;32m    257\u001b[0m         \u001b[0m_log_api_usage_once\u001b[0m\u001b[0;34m(\u001b[0m\u001b[0mread_image\u001b[0m\u001b[0;34m)\u001b[0m\u001b[0;34m\u001b[0m\u001b[0;34m\u001b[0m\u001b[0m\n\u001b[0;32m--> 258\u001b[0;31m     \u001b[0mdata\u001b[0m \u001b[0;34m=\u001b[0m \u001b[0mread_file\u001b[0m\u001b[0;34m(\u001b[0m\u001b[0mpath\u001b[0m\u001b[0;34m)\u001b[0m\u001b[0;34m\u001b[0m\u001b[0;34m\u001b[0m\u001b[0m\n\u001b[0m\u001b[1;32m    259\u001b[0m     \u001b[0;32mreturn\u001b[0m \u001b[0mdecode_image\u001b[0m\u001b[0;34m(\u001b[0m\u001b[0mdata\u001b[0m\u001b[0;34m,\u001b[0m \u001b[0mmode\u001b[0m\u001b[0;34m)\u001b[0m\u001b[0;34m\u001b[0m\u001b[0;34m\u001b[0m\u001b[0m\n\u001b[1;32m    260\u001b[0m \u001b[0;34m\u001b[0m\u001b[0m\n",
            "\u001b[0;32m/usr/local/lib/python3.10/dist-packages/torchvision/io/image.py\u001b[0m in \u001b[0;36mread_file\u001b[0;34m(path)\u001b[0m\n\u001b[1;32m     50\u001b[0m     \u001b[0;32mif\u001b[0m \u001b[0;32mnot\u001b[0m \u001b[0mtorch\u001b[0m\u001b[0;34m.\u001b[0m\u001b[0mjit\u001b[0m\u001b[0;34m.\u001b[0m\u001b[0mis_scripting\u001b[0m\u001b[0;34m(\u001b[0m\u001b[0;34m)\u001b[0m \u001b[0;32mand\u001b[0m \u001b[0;32mnot\u001b[0m \u001b[0mtorch\u001b[0m\u001b[0;34m.\u001b[0m\u001b[0mjit\u001b[0m\u001b[0;34m.\u001b[0m\u001b[0mis_tracing\u001b[0m\u001b[0;34m(\u001b[0m\u001b[0;34m)\u001b[0m\u001b[0;34m:\u001b[0m\u001b[0;34m\u001b[0m\u001b[0;34m\u001b[0m\u001b[0m\n\u001b[1;32m     51\u001b[0m         \u001b[0m_log_api_usage_once\u001b[0m\u001b[0;34m(\u001b[0m\u001b[0mread_file\u001b[0m\u001b[0;34m)\u001b[0m\u001b[0;34m\u001b[0m\u001b[0;34m\u001b[0m\u001b[0m\n\u001b[0;32m---> 52\u001b[0;31m     \u001b[0mdata\u001b[0m \u001b[0;34m=\u001b[0m \u001b[0mtorch\u001b[0m\u001b[0;34m.\u001b[0m\u001b[0mops\u001b[0m\u001b[0;34m.\u001b[0m\u001b[0mimage\u001b[0m\u001b[0;34m.\u001b[0m\u001b[0mread_file\u001b[0m\u001b[0;34m(\u001b[0m\u001b[0mpath\u001b[0m\u001b[0;34m)\u001b[0m\u001b[0;34m\u001b[0m\u001b[0;34m\u001b[0m\u001b[0m\n\u001b[0m\u001b[1;32m     53\u001b[0m     \u001b[0;32mreturn\u001b[0m \u001b[0mdata\u001b[0m\u001b[0;34m\u001b[0m\u001b[0;34m\u001b[0m\u001b[0m\n\u001b[1;32m     54\u001b[0m \u001b[0;34m\u001b[0m\u001b[0m\n",
            "\u001b[0;32m/usr/local/lib/python3.10/dist-packages/torch/_ops.py\u001b[0m in \u001b[0;36m__call__\u001b[0;34m(self, *args, **kwargs)\u001b[0m\n\u001b[1;32m    753\u001b[0m         \u001b[0;31m# We save the function ptr as the `op` attribute on\u001b[0m\u001b[0;34m\u001b[0m\u001b[0;34m\u001b[0m\u001b[0m\n\u001b[1;32m    754\u001b[0m         \u001b[0;31m# OpOverloadPacket to access it here.\u001b[0m\u001b[0;34m\u001b[0m\u001b[0;34m\u001b[0m\u001b[0m\n\u001b[0;32m--> 755\u001b[0;31m         \u001b[0;32mreturn\u001b[0m \u001b[0mself\u001b[0m\u001b[0;34m.\u001b[0m\u001b[0m_op\u001b[0m\u001b[0;34m(\u001b[0m\u001b[0;34m*\u001b[0m\u001b[0margs\u001b[0m\u001b[0;34m,\u001b[0m \u001b[0;34m**\u001b[0m\u001b[0;34m(\u001b[0m\u001b[0mkwargs\u001b[0m \u001b[0;32mor\u001b[0m \u001b[0;34m{\u001b[0m\u001b[0;34m}\u001b[0m\u001b[0;34m)\u001b[0m\u001b[0;34m)\u001b[0m\u001b[0;34m\u001b[0m\u001b[0;34m\u001b[0m\u001b[0m\n\u001b[0m\u001b[1;32m    756\u001b[0m \u001b[0;34m\u001b[0m\u001b[0m\n\u001b[1;32m    757\u001b[0m     \u001b[0;31m# TODO: use this to make a __dir__\u001b[0m\u001b[0;34m\u001b[0m\u001b[0;34m\u001b[0m\u001b[0m\n",
            "\u001b[0;31mKeyboardInterrupt\u001b[0m: "
          ]
        }
      ]
    },
    {
      "cell_type": "code",
      "source": [
        "def text_embedding(ids, attn):\n",
        "  text_embedding = text_encoder(ids, attn)\n",
        "  return text_projection(text_embedding)\n",
        "\n",
        "def image_embedding(img):\n",
        "  vision_embedding = image_encoder(img)\n",
        "  return vision_projection(vision_embedding)"
      ],
      "metadata": {
        "id": "Qf9y6vhlN1zC"
      },
      "execution_count": 44,
      "outputs": []
    },
    {
      "cell_type": "code",
      "source": [
        "text = [(datum['input_ids'], datum['attention_mask']) for datum in data]\n",
        "images = [ datum['image'] for datum in data]\n",
        "\n",
        "\n"
      ],
      "metadata": {
        "colab": {
          "base_uri": "https://localhost:8080/",
          "height": 193
        },
        "id": "fRZSPPdCO0Qs",
        "outputId": "6c822aef-8aad-4767-a5f0-f60d35b4dc50"
      },
      "execution_count": 3,
      "outputs": [
        {
          "output_type": "error",
          "ename": "NameError",
          "evalue": "name 'data' is not defined",
          "traceback": [
            "\u001b[0;31m---------------------------------------------------------------------------\u001b[0m",
            "\u001b[0;31mNameError\u001b[0m                                 Traceback (most recent call last)",
            "\u001b[0;32m<ipython-input-3-d7abc63659c5>\u001b[0m in \u001b[0;36m<cell line: 1>\u001b[0;34m()\u001b[0m\n\u001b[0;32m----> 1\u001b[0;31m \u001b[0mtext\u001b[0m \u001b[0;34m=\u001b[0m \u001b[0;34m[\u001b[0m\u001b[0;34m(\u001b[0m\u001b[0mdatum\u001b[0m\u001b[0;34m[\u001b[0m\u001b[0;34m'input_ids'\u001b[0m\u001b[0;34m]\u001b[0m\u001b[0;34m,\u001b[0m \u001b[0mdatum\u001b[0m\u001b[0;34m[\u001b[0m\u001b[0;34m'attention_mask'\u001b[0m\u001b[0;34m]\u001b[0m\u001b[0;34m)\u001b[0m \u001b[0;32mfor\u001b[0m \u001b[0mdatum\u001b[0m \u001b[0;32min\u001b[0m \u001b[0mdata\u001b[0m\u001b[0;34m]\u001b[0m\u001b[0;34m\u001b[0m\u001b[0;34m\u001b[0m\u001b[0m\n\u001b[0m\u001b[1;32m      2\u001b[0m \u001b[0mimages\u001b[0m \u001b[0;34m=\u001b[0m \u001b[0;34m[\u001b[0m \u001b[0mdatum\u001b[0m\u001b[0;34m[\u001b[0m\u001b[0;34m'image'\u001b[0m\u001b[0;34m]\u001b[0m \u001b[0;32mfor\u001b[0m \u001b[0mdatum\u001b[0m \u001b[0;32min\u001b[0m \u001b[0mdata\u001b[0m\u001b[0;34m]\u001b[0m\u001b[0;34m\u001b[0m\u001b[0;34m\u001b[0m\u001b[0m\n\u001b[1;32m      3\u001b[0m \u001b[0;34m\u001b[0m\u001b[0m\n\u001b[1;32m      4\u001b[0m \u001b[0;34m\u001b[0m\u001b[0m\n",
            "\u001b[0;31mNameError\u001b[0m: name 'data' is not defined"
          ]
        }
      ]
    },
    {
      "cell_type": "code",
      "source": [],
      "metadata": {
        "id": "IoN1JPEcPU-K"
      },
      "execution_count": null,
      "outputs": []
    },
    {
      "cell_type": "code",
      "source": [
        "from tqdm import tqdm\n",
        "image_embeddings = []\n",
        "\n",
        "for image in tqdm(images):\n",
        "  image_embeddings.apend(image_embedding(image.to(dtype=torch.float32)))\n",
        "\n",
        "    # image_embeddings[image] =\n"
      ],
      "metadata": {
        "colab": {
          "base_uri": "https://localhost:8080/",
          "height": 211
        },
        "id": "WxT46a6aO0TE",
        "outputId": "520cd8ed-cce1-41e1-c63e-05ab3bdbe3ad"
      },
      "execution_count": 2,
      "outputs": [
        {
          "output_type": "error",
          "ename": "NameError",
          "evalue": "name 'images' is not defined",
          "traceback": [
            "\u001b[0;31m---------------------------------------------------------------------------\u001b[0m",
            "\u001b[0;31mNameError\u001b[0m                                 Traceback (most recent call last)",
            "\u001b[0;32m<ipython-input-2-7f5fef00da75>\u001b[0m in \u001b[0;36m<cell line: 4>\u001b[0;34m()\u001b[0m\n\u001b[1;32m      2\u001b[0m \u001b[0mimage_embeddings\u001b[0m \u001b[0;34m=\u001b[0m \u001b[0;34m[\u001b[0m\u001b[0;34m]\u001b[0m\u001b[0;34m\u001b[0m\u001b[0;34m\u001b[0m\u001b[0m\n\u001b[1;32m      3\u001b[0m \u001b[0;34m\u001b[0m\u001b[0m\n\u001b[0;32m----> 4\u001b[0;31m \u001b[0;32mfor\u001b[0m \u001b[0mimage\u001b[0m \u001b[0;32min\u001b[0m \u001b[0mtqdm\u001b[0m\u001b[0;34m(\u001b[0m\u001b[0mimages\u001b[0m\u001b[0;34m)\u001b[0m\u001b[0;34m:\u001b[0m\u001b[0;34m\u001b[0m\u001b[0;34m\u001b[0m\u001b[0m\n\u001b[0m\u001b[1;32m      5\u001b[0m   \u001b[0mimage_embeddings\u001b[0m\u001b[0;34m.\u001b[0m\u001b[0mapend\u001b[0m\u001b[0;34m(\u001b[0m\u001b[0mimage_embedding\u001b[0m\u001b[0;34m(\u001b[0m\u001b[0mimage\u001b[0m\u001b[0;34m.\u001b[0m\u001b[0mto\u001b[0m\u001b[0;34m(\u001b[0m\u001b[0mdtype\u001b[0m\u001b[0;34m=\u001b[0m\u001b[0mtorch\u001b[0m\u001b[0;34m.\u001b[0m\u001b[0mfloat32\u001b[0m\u001b[0;34m)\u001b[0m\u001b[0;34m)\u001b[0m\u001b[0;34m)\u001b[0m\u001b[0;34m\u001b[0m\u001b[0;34m\u001b[0m\u001b[0m\n\u001b[1;32m      6\u001b[0m     \u001b[0;31m# image_embeddings[image] =\u001b[0m\u001b[0;34m\u001b[0m\u001b[0;34m\u001b[0m\u001b[0m\n",
            "\u001b[0;31mNameError\u001b[0m: name 'images' is not defined"
          ]
        }
      ]
    },
    {
      "cell_type": "code",
      "source": [
        "def find_closest_embeddings(embeddings, input_embedding, n):\n",
        "    # Calculate cosine similarity between input embedding and all embeddings\n",
        "    similarities = cosine_similarity(input_embedding.reshape(1, -1), embeddings)\n",
        "\n",
        "    # Sort the embeddings based on cosine similarity in descending order\n",
        "    sorted_indices = np.argsort(similarities)[0][::-1]\n",
        "\n",
        "    # Take the top N embeddings\n",
        "    top_n_indices = sorted_indices[:n]\n",
        "\n",
        "    # Retrieve the cosine similarities of the top N embeddings\n",
        "    top_n_similarities = similarities[0][top_n_indices]\n",
        "\n",
        "    # Log the cosine similarities of the top N embeddings\n",
        "    for i, (index, similarity) in enumerate(zip(top_n_indices, top_n_similarities), 1):\n",
        "        print(f\"Top {i}: Index={index}, Cosine Similarity={similarity}\")\n",
        "\n",
        "    return top_n_indices\n",
        "\n",
        "\n",
        "\n",
        "idx = 0\n",
        "def get_closest(idx):\n",
        "  # Gets closest images given an index for the  input\n",
        "  print(tokenizer.decode(text[idx]['input_ids']))\n",
        "  embedding = text_embedding(text[idx]['input_ids'], text[idx]['attention_mask'])\n",
        "  indices = find_closest_embeddings(image_embeddings, embedding, 5)\n",
        "  return indices"
      ],
      "metadata": {
        "id": "nNwwDISuPg9z"
      },
      "execution_count": null,
      "outputs": []
    },
    {
      "cell_type": "code",
      "source": [
        "get_closest(idx)\n"
      ],
      "metadata": {
        "id": "Pp60v2QwPRKJ"
      },
      "execution_count": null,
      "outputs": []
    },
    {
      "cell_type": "code",
      "source": [],
      "metadata": {
        "id": "5Z4kpIwsN11J"
      },
      "execution_count": null,
      "outputs": []
    },
    {
      "cell_type": "markdown",
      "source": [
        "# Evaluating Trained Model with embeddings"
      ],
      "metadata": {
        "id": "eii1a5lSY--v"
      }
    },
    {
      "cell_type": "code",
      "source": [
        "iteration = iter(flickr_dataloader)\n",
        "# ne = next(iteration)\n"
      ],
      "metadata": {
        "id": "vQbQpFVfH7fJ"
      },
      "execution_count": 20,
      "outputs": []
    },
    {
      "cell_type": "code",
      "source": [
        "text_encoder =    clip_model.text_encoder\n",
        "image_encoder =    clip_model.image_encoder\n",
        "\n",
        "\n",
        "text_projection=    clip_model.text_projection\n",
        "vision_projection =  clip_model.vision_projection\n"
      ],
      "metadata": {
        "id": "ynBdni23UZ6W"
      },
      "execution_count": 21,
      "outputs": []
    },
    {
      "cell_type": "code",
      "source": [
        "ne = None\n",
        "for batch in iteration:\n",
        "  ne = batch\n",
        "  break\n",
        "\n",
        "\n",
        "c = ne['image'].to(dtype=torch.float32)\n",
        "ids = ne['input_ids']\n",
        "attn = ne['attention_mask']\n"
      ],
      "metadata": {
        "id": "H7C4eQyVKg4K"
      },
      "execution_count": 22,
      "outputs": []
    },
    {
      "cell_type": "code",
      "source": [
        "tokenizer.decode(ids[0])\n"
      ],
      "metadata": {
        "colab": {
          "base_uri": "https://localhost:8080/",
          "height": 70
        },
        "id": "srB_z-MOHizZ",
        "outputId": "fab528f4-dcf6-4872-c16f-866c0990c419"
      },
      "execution_count": 23,
      "outputs": [
        {
          "output_type": "execute_result",
          "data": {
            "text/plain": [
              "'[CLS] two dogs playing in the snow. [SEP] [PAD] [PAD] [PAD] [PAD] [PAD] [PAD] [PAD] [PAD] [PAD] [PAD] [PAD] [PAD] [PAD] [PAD] [PAD] [PAD] [PAD] [PAD] [PAD] [PAD] [PAD] [PAD] [PAD] [PAD] [PAD] [PAD] [PAD] [PAD] [PAD] [PAD]'"
            ],
            "application/vnd.google.colaboratory.intrinsic+json": {
              "type": "string"
            }
          },
          "metadata": {},
          "execution_count": 23
        }
      ]
    },
    {
      "cell_type": "code",
      "source": [
        "tokenizer.decode(ids[1])\n"
      ],
      "metadata": {
        "colab": {
          "base_uri": "https://localhost:8080/",
          "height": 70
        },
        "id": "i0VYiQz7HpTc",
        "outputId": "cc0cef14-6114-478c-ad5d-31a7e1f2d3ac"
      },
      "execution_count": 24,
      "outputs": [
        {
          "output_type": "execute_result",
          "data": {
            "text/plain": [
              "'[CLS] several cyclists wearing different colors riding bikes on pavement. [SEP] [PAD] [PAD] [PAD] [PAD] [PAD] [PAD] [PAD] [PAD] [PAD] [PAD] [PAD] [PAD] [PAD] [PAD] [PAD] [PAD] [PAD] [PAD] [PAD] [PAD] [PAD] [PAD] [PAD] [PAD] [PAD] [PAD] [PAD]'"
            ],
            "application/vnd.google.colaboratory.intrinsic+json": {
              "type": "string"
            }
          },
          "metadata": {},
          "execution_count": 24
        }
      ]
    },
    {
      "cell_type": "code",
      "source": [
        "text_embedding = text_encoder(ids, attn)\n",
        "vision_embedding = image_encoder(c)\n"
      ],
      "metadata": {
        "id": "NdjQ56aqYadq"
      },
      "execution_count": 25,
      "outputs": []
    },
    {
      "cell_type": "code",
      "source": [],
      "metadata": {
        "id": "xs0wYd5iORAD"
      },
      "execution_count": null,
      "outputs": []
    },
    {
      "cell_type": "code",
      "source": [
        "text_multi = text_projection(text_embedding)\n",
        "vision_multi = vision_projection(vision_embedding)\n"
      ],
      "metadata": {
        "id": "JRMGfzJws0my"
      },
      "execution_count": 29,
      "outputs": []
    },
    {
      "cell_type": "code",
      "source": [],
      "metadata": {
        "id": "3cg0Lo6MJ0dj"
      },
      "execution_count": 26,
      "outputs": []
    },
    {
      "cell_type": "code",
      "source": [
        "image"
      ],
      "metadata": {
        "id": "35L0GV0cNwPu"
      },
      "execution_count": null,
      "outputs": []
    },
    {
      "cell_type": "code",
      "source": [],
      "metadata": {
        "id": "yp71h6SVIq_N"
      },
      "execution_count": 27,
      "outputs": []
    },
    {
      "cell_type": "code",
      "source": [
        "import torch\n",
        "import torch.nn.functional as F\n",
        "import matplotlib.pyplot as plt\n",
        "\n",
        "\n",
        "\n",
        "# Compute the cosine similarity matrix\n",
        "similarity_matrix = F.cosine_similarity(vision_multi.unsqueeze(1), text_multi.unsqueeze(0), dim=2)\n",
        "\n",
        "\n",
        "\n",
        "# Plot the similarity matrix\n",
        "plt.figure(figsize=(8, 8))\n",
        "plt.imshow(similarity_matrix.detach().numpy(), cmap='viridis')\n",
        "plt.colorbar(label='Cosine Similarity')\n",
        "plt.xlabel('Tensor 2 Samples')\n",
        "plt.ylabel('Tensor 1 Samples')\n",
        "plt.title('Cosine Similarity Matrix')\n",
        "plt.tight_layout()\n",
        "plt.show()\n"
      ],
      "metadata": {
        "colab": {
          "base_uri": "https://localhost:8080/",
          "height": 807
        },
        "id": "TWZRcArf0H8v",
        "outputId": "13272abe-43e3-4307-b33d-39bd2864c113"
      },
      "execution_count": 30,
      "outputs": [
        {
          "output_type": "display_data",
          "data": {
            "text/plain": [
              "<Figure size 800x800 with 2 Axes>"
            ],
            "image/png": "[encoded data removed]"
          },
          "metadata": {}
        }
      ]
    },
    {
      "cell_type": "code",
      "source": [],
      "metadata": {
        "id": "2Q5eeKBP0H_t"
      },
      "execution_count": null,
      "outputs": []
    },
    {
      "cell_type": "code",
      "source": [
        "ids.shape"
      ],
      "metadata": {
        "id": "qk_r4nzWxohb"
      },
      "execution_count": null,
      "outputs": []
    },
    {
      "cell_type": "code",
      "source": [
        "\n"
      ],
      "metadata": {
        "id": "BfFeppS3tUqI"
      },
      "execution_count": null,
      "outputs": []
    },
    {
      "cell_type": "code",
      "source": [
        "output = model(c)"
      ],
      "metadata": {
        "id": "Rqb58WkateWD"
      },
      "execution_count": null,
      "outputs": []
    },
    {
      "cell_type": "code",
      "source": [],
      "metadata": {
        "id": "nbXUnsgCteQs"
      },
      "execution_count": null,
      "outputs": []
    }
  ]
}